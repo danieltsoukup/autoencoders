{
 "cells": [
  {
   "cell_type": "markdown",
   "metadata": {},
   "source": [
    "# Semi-supervised learning with autoencoders"
   ]
  },
  {
   "cell_type": "code",
   "execution_count": 81,
   "metadata": {},
   "outputs": [],
   "source": [
    "import numpy as np\n",
    "import pandas as pd\n",
    "import tensorflow as tf\n",
    "from tensorflow import keras\n",
    "from tensorflow.keras import layers\n",
    "\n",
    "import matplotlib.pyplot as plt\n",
    "import seaborn as sns"
   ]
  },
  {
   "cell_type": "markdown",
   "metadata": {},
   "source": [
    "## Data "
   ]
  },
  {
   "cell_type": "markdown",
   "metadata": {},
   "source": [
    "We will work with credit card data from [Wordline & ULB](https://www.kaggle.com/mlg-ulb/creditcardfraud)."
   ]
  },
  {
   "cell_type": "code",
   "execution_count": 2,
   "metadata": {},
   "outputs": [
    {
     "data": {
      "text/html": [
       "<div>\n",
       "<style scoped>\n",
       "    .dataframe tbody tr th:only-of-type {\n",
       "        vertical-align: middle;\n",
       "    }\n",
       "\n",
       "    .dataframe tbody tr th {\n",
       "        vertical-align: top;\n",
       "    }\n",
       "\n",
       "    .dataframe thead th {\n",
       "        text-align: right;\n",
       "    }\n",
       "</style>\n",
       "<table border=\"1\" class=\"dataframe\">\n",
       "  <thead>\n",
       "    <tr style=\"text-align: right;\">\n",
       "      <th></th>\n",
       "      <th>Time</th>\n",
       "      <th>V1</th>\n",
       "      <th>V2</th>\n",
       "      <th>V3</th>\n",
       "      <th>V4</th>\n",
       "      <th>V5</th>\n",
       "      <th>V6</th>\n",
       "      <th>V7</th>\n",
       "      <th>V8</th>\n",
       "      <th>V9</th>\n",
       "      <th>...</th>\n",
       "      <th>V21</th>\n",
       "      <th>V22</th>\n",
       "      <th>V23</th>\n",
       "      <th>V24</th>\n",
       "      <th>V25</th>\n",
       "      <th>V26</th>\n",
       "      <th>V27</th>\n",
       "      <th>V28</th>\n",
       "      <th>Amount</th>\n",
       "      <th>Class</th>\n",
       "    </tr>\n",
       "  </thead>\n",
       "  <tbody>\n",
       "    <tr>\n",
       "      <th>0</th>\n",
       "      <td>0.0</td>\n",
       "      <td>-1.359807</td>\n",
       "      <td>-0.072781</td>\n",
       "      <td>2.536347</td>\n",
       "      <td>1.378155</td>\n",
       "      <td>-0.338321</td>\n",
       "      <td>0.462388</td>\n",
       "      <td>0.239599</td>\n",
       "      <td>0.098698</td>\n",
       "      <td>0.363787</td>\n",
       "      <td>...</td>\n",
       "      <td>-0.018307</td>\n",
       "      <td>0.277838</td>\n",
       "      <td>-0.110474</td>\n",
       "      <td>0.066928</td>\n",
       "      <td>0.128539</td>\n",
       "      <td>-0.189115</td>\n",
       "      <td>0.133558</td>\n",
       "      <td>-0.021053</td>\n",
       "      <td>149.62</td>\n",
       "      <td>0</td>\n",
       "    </tr>\n",
       "    <tr>\n",
       "      <th>1</th>\n",
       "      <td>0.0</td>\n",
       "      <td>1.191857</td>\n",
       "      <td>0.266151</td>\n",
       "      <td>0.166480</td>\n",
       "      <td>0.448154</td>\n",
       "      <td>0.060018</td>\n",
       "      <td>-0.082361</td>\n",
       "      <td>-0.078803</td>\n",
       "      <td>0.085102</td>\n",
       "      <td>-0.255425</td>\n",
       "      <td>...</td>\n",
       "      <td>-0.225775</td>\n",
       "      <td>-0.638672</td>\n",
       "      <td>0.101288</td>\n",
       "      <td>-0.339846</td>\n",
       "      <td>0.167170</td>\n",
       "      <td>0.125895</td>\n",
       "      <td>-0.008983</td>\n",
       "      <td>0.014724</td>\n",
       "      <td>2.69</td>\n",
       "      <td>0</td>\n",
       "    </tr>\n",
       "    <tr>\n",
       "      <th>2</th>\n",
       "      <td>1.0</td>\n",
       "      <td>-1.358354</td>\n",
       "      <td>-1.340163</td>\n",
       "      <td>1.773209</td>\n",
       "      <td>0.379780</td>\n",
       "      <td>-0.503198</td>\n",
       "      <td>1.800499</td>\n",
       "      <td>0.791461</td>\n",
       "      <td>0.247676</td>\n",
       "      <td>-1.514654</td>\n",
       "      <td>...</td>\n",
       "      <td>0.247998</td>\n",
       "      <td>0.771679</td>\n",
       "      <td>0.909412</td>\n",
       "      <td>-0.689281</td>\n",
       "      <td>-0.327642</td>\n",
       "      <td>-0.139097</td>\n",
       "      <td>-0.055353</td>\n",
       "      <td>-0.059752</td>\n",
       "      <td>378.66</td>\n",
       "      <td>0</td>\n",
       "    </tr>\n",
       "    <tr>\n",
       "      <th>3</th>\n",
       "      <td>1.0</td>\n",
       "      <td>-0.966272</td>\n",
       "      <td>-0.185226</td>\n",
       "      <td>1.792993</td>\n",
       "      <td>-0.863291</td>\n",
       "      <td>-0.010309</td>\n",
       "      <td>1.247203</td>\n",
       "      <td>0.237609</td>\n",
       "      <td>0.377436</td>\n",
       "      <td>-1.387024</td>\n",
       "      <td>...</td>\n",
       "      <td>-0.108300</td>\n",
       "      <td>0.005274</td>\n",
       "      <td>-0.190321</td>\n",
       "      <td>-1.175575</td>\n",
       "      <td>0.647376</td>\n",
       "      <td>-0.221929</td>\n",
       "      <td>0.062723</td>\n",
       "      <td>0.061458</td>\n",
       "      <td>123.50</td>\n",
       "      <td>0</td>\n",
       "    </tr>\n",
       "    <tr>\n",
       "      <th>4</th>\n",
       "      <td>2.0</td>\n",
       "      <td>-1.158233</td>\n",
       "      <td>0.877737</td>\n",
       "      <td>1.548718</td>\n",
       "      <td>0.403034</td>\n",
       "      <td>-0.407193</td>\n",
       "      <td>0.095921</td>\n",
       "      <td>0.592941</td>\n",
       "      <td>-0.270533</td>\n",
       "      <td>0.817739</td>\n",
       "      <td>...</td>\n",
       "      <td>-0.009431</td>\n",
       "      <td>0.798278</td>\n",
       "      <td>-0.137458</td>\n",
       "      <td>0.141267</td>\n",
       "      <td>-0.206010</td>\n",
       "      <td>0.502292</td>\n",
       "      <td>0.219422</td>\n",
       "      <td>0.215153</td>\n",
       "      <td>69.99</td>\n",
       "      <td>0</td>\n",
       "    </tr>\n",
       "  </tbody>\n",
       "</table>\n",
       "<p>5 rows × 31 columns</p>\n",
       "</div>"
      ],
      "text/plain": [
       "   Time        V1        V2        V3        V4        V5        V6        V7  \\\n",
       "0   0.0 -1.359807 -0.072781  2.536347  1.378155 -0.338321  0.462388  0.239599   \n",
       "1   0.0  1.191857  0.266151  0.166480  0.448154  0.060018 -0.082361 -0.078803   \n",
       "2   1.0 -1.358354 -1.340163  1.773209  0.379780 -0.503198  1.800499  0.791461   \n",
       "3   1.0 -0.966272 -0.185226  1.792993 -0.863291 -0.010309  1.247203  0.237609   \n",
       "4   2.0 -1.158233  0.877737  1.548718  0.403034 -0.407193  0.095921  0.592941   \n",
       "\n",
       "         V8        V9  ...       V21       V22       V23       V24       V25  \\\n",
       "0  0.098698  0.363787  ... -0.018307  0.277838 -0.110474  0.066928  0.128539   \n",
       "1  0.085102 -0.255425  ... -0.225775 -0.638672  0.101288 -0.339846  0.167170   \n",
       "2  0.247676 -1.514654  ...  0.247998  0.771679  0.909412 -0.689281 -0.327642   \n",
       "3  0.377436 -1.387024  ... -0.108300  0.005274 -0.190321 -1.175575  0.647376   \n",
       "4 -0.270533  0.817739  ... -0.009431  0.798278 -0.137458  0.141267 -0.206010   \n",
       "\n",
       "        V26       V27       V28  Amount  Class  \n",
       "0 -0.189115  0.133558 -0.021053  149.62      0  \n",
       "1  0.125895 -0.008983  0.014724    2.69      0  \n",
       "2 -0.139097 -0.055353 -0.059752  378.66      0  \n",
       "3 -0.221929  0.062723  0.061458  123.50      0  \n",
       "4  0.502292  0.219422  0.215153   69.99      0  \n",
       "\n",
       "[5 rows x 31 columns]"
      ]
     },
     "execution_count": 2,
     "metadata": {},
     "output_type": "execute_result"
    }
   ],
   "source": [
    "data = pd.read_csv(\"data/creditcard.csv\")\n",
    "data.head()"
   ]
  },
  {
   "cell_type": "code",
   "execution_count": 3,
   "metadata": {},
   "outputs": [
    {
     "data": {
      "text/plain": [
       "(284807, 31)"
      ]
     },
     "execution_count": 3,
     "metadata": {},
     "output_type": "execute_result"
    }
   ],
   "source": [
    "data.shape"
   ]
  },
  {
   "cell_type": "code",
   "execution_count": 4,
   "metadata": {},
   "outputs": [],
   "source": [
    "X = data.drop([\"Time\", \"Class\"], axis=1).values\n",
    "y = data[\"Class\"].values"
   ]
  },
  {
   "cell_type": "raw",
   "metadata": {},
   "source": [
    "We are dealing with an extremely unbalanced data set:"
   ]
  },
  {
   "cell_type": "code",
   "execution_count": 5,
   "metadata": {},
   "outputs": [
    {
     "data": {
      "text/plain": [
       "0.001727485630620034"
      ]
     },
     "execution_count": 5,
     "metadata": {},
     "output_type": "execute_result"
    }
   ],
   "source": [
    "y.mean()"
   ]
  },
  {
   "cell_type": "markdown",
   "metadata": {},
   "source": [
    "We will do just very basic preprocessing:"
   ]
  },
  {
   "cell_type": "code",
   "execution_count": 44,
   "metadata": {},
   "outputs": [],
   "source": [
    "from sklearn.preprocessing import StandardScaler\n",
    "from sklearn.model_selection import train_test_split\n",
    "\n",
    "X_train, X_test, y_train, y_test = train_test_split(X, y, test_size=0.2, stratify=y)\n",
    "X_train, X_val, y_train, y_val = train_test_split(X_train, y_train, test_size=0.2, stratify=y_train)\n",
    "\n",
    "scaler = StandardScaler()\n",
    "X_train = scaler.fit_transform(X_train)\n",
    "X_val = scaler.transform(X_val)\n",
    "X_test = scaler.transform(X_test)\n",
    "\n",
    "y_train = y_train.reshape(-1, 1)\n",
    "y_val = y_val.reshape(-1, 1)\n",
    "y_test = y_test.reshape(-1, 1)"
   ]
  },
  {
   "cell_type": "code",
   "execution_count": 64,
   "metadata": {},
   "outputs": [
    {
     "data": {
      "text/plain": [
       "((182276, 29), (182276, 1), (45569, 29), (45569, 1), (56962, 29), (56962, 1))"
      ]
     },
     "execution_count": 64,
     "metadata": {},
     "output_type": "execute_result"
    }
   ],
   "source": [
    "X_train.shape, y_train.shape, X_val.shape, y_val.shape, X_test.shape, y_test.shape"
   ]
  },
  {
   "cell_type": "code",
   "execution_count": 47,
   "metadata": {},
   "outputs": [
    {
     "data": {
      "text/plain": [
       "(315, 79, 98)"
      ]
     },
     "execution_count": 47,
     "metadata": {},
     "output_type": "execute_result"
    }
   ],
   "source": [
    "y_train.sum(), y_val.sum(), y_test.sum()"
   ]
  },
  {
   "cell_type": "markdown",
   "metadata": {},
   "source": [
    "Before the modeling, we can visualize our data:"
   ]
  },
  {
   "cell_type": "code",
   "execution_count": 113,
   "metadata": {},
   "outputs": [],
   "source": [
    "from sklearn.manifold import TSNE\n",
    "\n",
    "tsne = TSNE(n_components=2)\n",
    "tsne_data = tsne.fit_transform(X_test[:10000])"
   ]
  },
  {
   "cell_type": "code",
   "execution_count": 128,
   "metadata": {},
   "outputs": [
    {
     "data": {
      "image/png": "[encoded data removed]",
      "text/plain": [
       "<Figure size 432x288 with 1 Axes>"
      ]
     },
     "metadata": {
      "needs_background": "light"
     },
     "output_type": "display_data"
    }
   ],
   "source": [
    "labels = y_test[:10000].reshape(-1)\n",
    "\n",
    "plt.figure()\n",
    "plt.scatter(tsne_data[labels == 0, 0], \n",
    "            tsne_data[labels == 0, 1], c=\"grey\", alpha=0.1, label=\"legit\")\n",
    "plt.scatter(tsne_data[labels == 1, 0], \n",
    "            tsne_data[labels == 1, 1], c=\"crimson\", alpha=1, label=\"fraud\")\n",
    "plt.legend()\n",
    "sns.despine()\n",
    "plt.title(\"Fraudulent and legit transactions\")\n",
    "plt.show()"
   ]
  },
  {
   "cell_type": "markdown",
   "metadata": {},
   "source": [
    "## Baseline MLP classifier\n",
    "\n",
    "We will train a baseline model to detect fraud."
   ]
  },
  {
   "cell_type": "code",
   "execution_count": 101,
   "metadata": {},
   "outputs": [
    {
     "name": "stdout",
     "output_type": "stream",
     "text": [
      "Epoch 1/10\n",
      "1425/1425 [==============================] - 8s 6ms/step - loss: 0.0145 - precision_14: 0.8761 - recall_14: 0.3143 - auc_14: 0.8708 - val_loss: 0.0031 - val_precision_14: 0.8250 - val_recall_14: 0.8354 - val_auc_14: 0.9542\n",
      "Epoch 2/10\n",
      "1425/1425 [==============================] - 8s 5ms/step - loss: 0.0033 - precision_14: 0.8646 - recall_14: 0.7905 - auc_14: 0.9451 - val_loss: 0.0029 - val_precision_14: 0.8272 - val_recall_14: 0.8481 - val_auc_14: 0.9485\n",
      "Epoch 3/10\n",
      "1425/1425 [==============================] - 8s 5ms/step - loss: 0.0029 - precision_14: 0.8676 - recall_14: 0.7905 - auc_14: 0.9516 - val_loss: 0.0027 - val_precision_14: 0.8228 - val_recall_14: 0.8228 - val_auc_14: 0.9552\n",
      "Epoch 4/10\n",
      "1425/1425 [==============================] - 7s 5ms/step - loss: 0.0026 - precision_14: 0.8625 - recall_14: 0.7968 - auc_14: 0.9565 - val_loss: 0.0026 - val_precision_14: 0.8272 - val_recall_14: 0.8481 - val_auc_14: 0.9549\n",
      "Epoch 5/10\n",
      "1425/1425 [==============================] - 8s 5ms/step - loss: 0.0025 - precision_14: 0.8869 - recall_14: 0.7968 - auc_14: 0.9566 - val_loss: 0.0025 - val_precision_14: 0.8272 - val_recall_14: 0.8481 - val_auc_14: 0.9488\n",
      "Epoch 6/10\n",
      "1425/1425 [==============================] - 8s 6ms/step - loss: 0.0022 - precision_14: 0.8678 - recall_14: 0.8127 - auc_14: 0.9678 - val_loss: 0.0028 - val_precision_14: 0.8272 - val_recall_14: 0.8481 - val_auc_14: 0.9488\n",
      "Epoch 7/10\n",
      "1425/1425 [==============================] - 8s 5ms/step - loss: 0.0021 - precision_14: 0.8767 - recall_14: 0.8127 - auc_14: 0.9662 - val_loss: 0.0026 - val_precision_14: 0.8421 - val_recall_14: 0.8101 - val_auc_14: 0.9489\n",
      "Epoch 8/10\n",
      "1425/1425 [==============================] - 8s 5ms/step - loss: 0.0019 - precision_14: 0.8847 - recall_14: 0.8286 - auc_14: 0.9742 - val_loss: 0.0025 - val_precision_14: 0.8272 - val_recall_14: 0.8481 - val_auc_14: 0.9616\n",
      "Epoch 9/10\n",
      "1425/1425 [==============================] - 8s 5ms/step - loss: 0.0019 - precision_14: 0.8800 - recall_14: 0.8381 - auc_14: 0.9758 - val_loss: 0.0026 - val_precision_14: 0.8272 - val_recall_14: 0.8481 - val_auc_14: 0.9552\n",
      "Epoch 10/10\n",
      "1425/1425 [==============================] - 8s 6ms/step - loss: 0.0018 - precision_14: 0.8908 - recall_14: 0.8286 - auc_14: 0.9774 - val_loss: 0.0025 - val_precision_14: 0.8375 - val_recall_14: 0.8481 - val_auc_14: 0.9551\n"
     ]
    },
    {
     "data": {
      "text/plain": [
       "<tensorflow.python.keras.callbacks.History at 0x7f95a0325fd0>"
      ]
     },
     "execution_count": 101,
     "metadata": {},
     "output_type": "execute_result"
    }
   ],
   "source": [
    "base_model = keras.Sequential(\n",
    "    [layers.Dense(29, activation=\"relu\"),\n",
    "    layers.Dense(16, activation=\"relu\"),\n",
    "    layers.Dense(8, activation=\"relu\"),\n",
    "    layers.Dense(1, activation=\"sigmoid\")]\n",
    ")\n",
    "\n",
    "precision = tf.keras.metrics.Precision()\n",
    "recall = tf.keras.metrics.Recall()\n",
    "auc = tf.keras.metrics.AUC()\n",
    "\n",
    "base_model.compile(optimizer=\"adam\", loss=\"binary_crossentropy\",\n",
    "                  metrics=[precision, recall, auc]\n",
    "                  )\n",
    "\n",
    "base_model.fit(x=X_train, \n",
    "               y=y_train,\n",
    "               epochs=10,\n",
    "               batch_size=128,\n",
    "               validation_data=(X_val, y_val)\n",
    "          )"
   ]
  },
  {
   "cell_type": "code",
   "execution_count": 107,
   "metadata": {},
   "outputs": [
    {
     "name": "stdout",
     "output_type": "stream",
     "text": [
      "Model: \"sequential_20\"\n",
      "_________________________________________________________________\n",
      "Layer (type)                 Output Shape              Param #   \n",
      "=================================================================\n",
      "dense_57 (Dense)             (None, 29)                870       \n",
      "_________________________________________________________________\n",
      "dense_58 (Dense)             (None, 16)                480       \n",
      "_________________________________________________________________\n",
      "dense_59 (Dense)             (None, 8)                 136       \n",
      "_________________________________________________________________\n",
      "dense_60 (Dense)             (None, 1)                 9         \n",
      "=================================================================\n",
      "Total params: 1,495\n",
      "Trainable params: 1,495\n",
      "Non-trainable params: 0\n",
      "_________________________________________________________________\n"
     ]
    }
   ],
   "source": [
    "base_model.summary()"
   ]
  },
  {
   "cell_type": "code",
   "execution_count": 102,
   "metadata": {},
   "outputs": [
    {
     "name": "stdout",
     "output_type": "stream",
     "text": [
      "              precision    recall  f1-score   support\n",
      "\n",
      "           0       1.00      1.00      1.00     56864\n",
      "           1       0.85      0.74      0.79        98\n",
      "\n",
      "    accuracy                           1.00     56962\n",
      "   macro avg       0.92      0.87      0.90     56962\n",
      "weighted avg       1.00      1.00      1.00     56962\n",
      "\n"
     ]
    },
    {
     "data": {
      "image/png": "[encoded data removed]",
      "text/plain": [
       "<Figure size 432x288 with 1 Axes>"
      ]
     },
     "metadata": {
      "needs_background": "light"
     },
     "output_type": "display_data"
    }
   ],
   "source": [
    "y_pred_prob = base_model.predict(X_test)\n",
    "y_pred = np.where(y_pred_prob > 0.5, 1, 0)\n",
    "\n",
    "from sklearn.metrics import classification_report, roc_curve, roc_auc_score\n",
    "\n",
    "cr = classification_report(y_test, y_pred)\n",
    "print(cr)\n",
    "\n",
    "fpr, tpr, thresholds = roc_curve(y_test, y_pred_prob)\n",
    "rocauc = roc_auc_score(y_test, y_pred_prob)\n",
    "\n",
    "plt.figure()\n",
    "plt.plot(fpr, tpr, label=\"ROC-AUC curve\")\n",
    "plt.legend()\n",
    "plt.title(f\"ROC-AUC score {np.round(rocauc, 2)}\")\n",
    "sns.despine()\n",
    "plt.show()"
   ]
  },
  {
   "cell_type": "markdown",
   "metadata": {},
   "source": [
    "## Autoencoder pretraining "
   ]
  },
  {
   "cell_type": "code",
   "execution_count": 131,
   "metadata": {},
   "outputs": [],
   "source": [
    "encoder = keras.Sequential(\n",
    "    [layers.Dense(29, activation=\"relu\"),\n",
    "    layers.Dense(16, activation=\"relu\"),]\n",
    ")\n",
    "\n",
    "decoder = keras.Sequential(\n",
    "    [layers.Dense(29, activation=\"linear\")]\n",
    ")\n",
    "\n",
    "ae_model = keras.Sequential(\n",
    "    [encoder, decoder]\n",
    ")"
   ]
  },
  {
   "cell_type": "code",
   "execution_count": 132,
   "metadata": {},
   "outputs": [
    {
     "name": "stdout",
     "output_type": "stream",
     "text": [
      "Epoch 1/10\n",
      "1425/1425 [==============================] - 4s 3ms/step - loss: 0.5891 - mse: 0.5891 - val_loss: 0.4394 - val_mse: 0.4394\n",
      "Epoch 2/10\n",
      "1425/1425 [==============================] - 4s 3ms/step - loss: 0.4263 - mse: 0.4263 - val_loss: 0.4232 - val_mse: 0.4232\n",
      "Epoch 3/10\n",
      "1425/1425 [==============================] - 5s 4ms/step - loss: 0.4195 - mse: 0.4195 - val_loss: 0.4207 - val_mse: 0.4207\n",
      "Epoch 4/10\n",
      "1425/1425 [==============================] - 5s 4ms/step - loss: 0.4186 - mse: 0.4186 - val_loss: 0.4207 - val_mse: 0.4207\n",
      "Epoch 5/10\n",
      "1425/1425 [==============================] - 5s 4ms/step - loss: 0.4180 - mse: 0.4180 - val_loss: 0.4238 - val_mse: 0.4238\n",
      "Epoch 6/10\n",
      "1425/1425 [==============================] - 5s 4ms/step - loss: 0.4184 - mse: 0.4184 - val_loss: 0.4219 - val_mse: 0.4219\n",
      "Epoch 7/10\n",
      "1425/1425 [==============================] - 5s 4ms/step - loss: 0.4174 - mse: 0.4174 - val_loss: 0.4218 - val_mse: 0.4218\n",
      "Epoch 8/10\n",
      "1425/1425 [==============================] - 5s 4ms/step - loss: 0.4176 - mse: 0.4176 - val_loss: 0.4214 - val_mse: 0.4214\n",
      "Epoch 9/10\n",
      "1425/1425 [==============================] - 5s 4ms/step - loss: 0.4173 - mse: 0.4173 - val_loss: 0.4221 - val_mse: 0.4221\n",
      "Epoch 10/10\n",
      "1425/1425 [==============================] - 5s 4ms/step - loss: 0.4165 - mse: 0.4165 - val_loss: 0.4505 - val_mse: 0.4505\n"
     ]
    },
    {
     "data": {
      "text/plain": [
       "<tensorflow.python.keras.callbacks.History at 0x7f957acbe990>"
      ]
     },
     "execution_count": 132,
     "metadata": {},
     "output_type": "execute_result"
    }
   ],
   "source": [
    "ae_model.compile(optimizer=\"adam\", loss=keras.losses.MeanSquaredError(),\n",
    "                  metrics=[\"mse\"]\n",
    "                  )\n",
    "\n",
    "ae_model.fit(x=X_train, \n",
    "             y=X_train,\n",
    "             epochs=10,\n",
    "             batch_size=128,\n",
    "             validation_data=(X_val, X_val)\n",
    "          )"
   ]
  },
  {
   "cell_type": "code",
   "execution_count": 133,
   "metadata": {},
   "outputs": [],
   "source": [
    "latent_data = encoder.predict(X_test[:10000])\n",
    "\n",
    "tsne = TSNE(n_components=2)\n",
    "tsne_data = tsne.fit_transform(latent_data)"
   ]
  },
  {
   "cell_type": "code",
   "execution_count": 134,
   "metadata": {},
   "outputs": [
    {
     "data": {
      "image/png": "[encoded data removed]",
      "text/plain": [
       "<Figure size 432x288 with 1 Axes>"
      ]
     },
     "metadata": {
      "needs_background": "light"
     },
     "output_type": "display_data"
    }
   ],
   "source": [
    "labels = y_test[:10000].reshape(-1)\n",
    "\n",
    "plt.figure()\n",
    "plt.scatter(tsne_data[labels == 0, 0], \n",
    "            tsne_data[labels == 0, 1], c=\"grey\", alpha=0.1, label=\"legit\")\n",
    "plt.scatter(tsne_data[labels == 1, 0], \n",
    "            tsne_data[labels == 1, 1], c=\"crimson\", alpha=1, label=\"fraud\")\n",
    "plt.legend()\n",
    "sns.despine()\n",
    "plt.title(\"Latent representation of fraudulent claims\")\n",
    "plt.show()"
   ]
  },
  {
   "cell_type": "markdown",
   "metadata": {},
   "source": [
    "## Using the pretrained model to boost preformance"
   ]
  },
  {
   "cell_type": "code",
   "execution_count": 110,
   "metadata": {},
   "outputs": [
    {
     "name": "stdout",
     "output_type": "stream",
     "text": [
      "Epoch 1/10\n",
      "1425/1425 [==============================] - 7s 5ms/step - loss: 0.0766 - precision_14: 0.0317 - recall_14: 0.2386 - auc_14: 0.6939 - val_loss: 0.0049 - val_precision_14: 0.8095 - val_recall_14: 0.6456 - val_auc_14: 0.9091\n",
      "Epoch 2/10\n",
      "1425/1425 [==============================] - 5s 4ms/step - loss: 0.0053 - precision_14: 0.8718 - recall_14: 0.5397 - auc_14: 0.8997 - val_loss: 0.0044 - val_precision_14: 0.8387 - val_recall_14: 0.6582 - val_auc_14: 0.9228\n",
      "Epoch 3/10\n",
      "1425/1425 [==============================] - 7s 5ms/step - loss: 0.0049 - precision_14: 0.8517 - recall_14: 0.5651 - auc_14: 0.8984 - val_loss: 0.0053 - val_precision_14: 0.7632 - val_recall_14: 0.7342 - val_auc_14: 0.9268\n",
      "Epoch 4/10\n",
      "1425/1425 [==============================] - 7s 5ms/step - loss: 0.0047 - precision_14: 0.8832 - recall_14: 0.6000 - auc_14: 0.8982 - val_loss: 0.0044 - val_precision_14: 0.8182 - val_recall_14: 0.6835 - val_auc_14: 0.9287\n",
      "Epoch 5/10\n",
      "1425/1425 [==============================] - 8s 5ms/step - loss: 0.0045 - precision_14: 0.8744 - recall_14: 0.6190 - auc_14: 0.9031 - val_loss: 0.0043 - val_precision_14: 0.8182 - val_recall_14: 0.6835 - val_auc_14: 0.9105\n",
      "Epoch 6/10\n",
      "1425/1425 [==============================] - 8s 5ms/step - loss: 0.0044 - precision_14: 0.8684 - recall_14: 0.6286 - auc_14: 0.9063 - val_loss: 0.0042 - val_precision_14: 0.8235 - val_recall_14: 0.7089 - val_auc_14: 0.9290\n",
      "Epoch 7/10\n",
      "1425/1425 [==============================] - 8s 5ms/step - loss: 0.0043 - precision_14: 0.8675 - recall_14: 0.6444 - auc_14: 0.9062 - val_loss: 0.0045 - val_precision_14: 0.7534 - val_recall_14: 0.6962 - val_auc_14: 0.9278\n",
      "Epoch 8/10\n",
      "1425/1425 [==============================] - 8s 5ms/step - loss: 0.0042 - precision_14: 0.8542 - recall_14: 0.6508 - auc_14: 0.9095 - val_loss: 0.0044 - val_precision_14: 0.8261 - val_recall_14: 0.7215 - val_auc_14: 0.9277\n",
      "Epoch 9/10\n",
      "1425/1425 [==============================] - 8s 5ms/step - loss: 0.0042 - precision_14: 0.8661 - recall_14: 0.6571 - auc_14: 0.9080 - val_loss: 0.0042 - val_precision_14: 0.7857 - val_recall_14: 0.6962 - val_auc_14: 0.9101\n",
      "Epoch 10/10\n",
      "1425/1425 [==============================] - 8s 5ms/step - loss: 0.0041 - precision_14: 0.8655 - recall_14: 0.6540 - auc_14: 0.9222 - val_loss: 0.0043 - val_precision_14: 0.8235 - val_recall_14: 0.7089 - val_auc_14: 0.9108\n"
     ]
    },
    {
     "data": {
      "text/plain": [
       "<tensorflow.python.keras.callbacks.History at 0x7f958b776f90>"
      ]
     },
     "execution_count": 110,
     "metadata": {},
     "output_type": "execute_result"
    }
   ],
   "source": [
    "# copy encoder\n",
    "pretrained_encoder = tf.keras.models.clone_model(encoder)\n",
    "\n",
    "# freeze encoder layers -> we use the latent representations only \n",
    "for layer in pretrained_encoder.layers:\n",
    "    layer.trainable = False\n",
    "\n",
    "# add the same type of model and match the number of trainable parameters\n",
    "pretrained_model = keras.Sequential(\n",
    "    [pretrained_encoder, \n",
    "     layers.Dense(32, activation=\"relu\"),\n",
    "     layers.Dense(16, activation=\"relu\"),\n",
    "     layers.Dense(8, activation=\"relu\"),\n",
    "     layers.Dense(1, activation=\"sigmoid\")]\n",
    ")\n",
    "\n",
    "pretrained_model.compile(optimizer=keras.optimizers.Adam(learning_rate=0.001),\n",
    "                   loss=\"binary_crossentropy\",\n",
    "                   metrics=[precision, recall, auc]\n",
    "                  )\n",
    "\n",
    "pretrained_model.fit(x=X_train, \n",
    "                     y=y_train,\n",
    "                     epochs=10,\n",
    "                     batch_size=128,\n",
    "                     validation_data=(X_val, y_val)\n",
    "          )"
   ]
  },
  {
   "cell_type": "code",
   "execution_count": 111,
   "metadata": {},
   "outputs": [
    {
     "name": "stdout",
     "output_type": "stream",
     "text": [
      "Model: \"sequential_23\"\n",
      "_________________________________________________________________\n",
      "Layer (type)                 Output Shape              Param #   \n",
      "=================================================================\n",
      "sequential_14 (Sequential)   (None, 8)                 1486      \n",
      "_________________________________________________________________\n",
      "dense_66 (Dense)             (None, 32)                288       \n",
      "_________________________________________________________________\n",
      "dense_67 (Dense)             (None, 16)                528       \n",
      "_________________________________________________________________\n",
      "dense_68 (Dense)             (None, 8)                 136       \n",
      "_________________________________________________________________\n",
      "dense_69 (Dense)             (None, 1)                 9         \n",
      "=================================================================\n",
      "Total params: 2,447\n",
      "Trainable params: 961\n",
      "Non-trainable params: 1,486\n",
      "_________________________________________________________________\n"
     ]
    }
   ],
   "source": [
    "pretrained_model.summary()"
   ]
  },
  {
   "cell_type": "code",
   "execution_count": 112,
   "metadata": {},
   "outputs": [
    {
     "name": "stdout",
     "output_type": "stream",
     "text": [
      "              precision    recall  f1-score   support\n",
      "\n",
      "           0       1.00      1.00      1.00     56864\n",
      "           1       0.82      0.60      0.69        98\n",
      "\n",
      "    accuracy                           1.00     56962\n",
      "   macro avg       0.91      0.80      0.85     56962\n",
      "weighted avg       1.00      1.00      1.00     56962\n",
      "\n"
     ]
    },
    {
     "data": {
      "image/png": "[encoded data removed]",
      "text/plain": [
       "<Figure size 432x288 with 1 Axes>"
      ]
     },
     "metadata": {
      "needs_background": "light"
     },
     "output_type": "display_data"
    }
   ],
   "source": [
    "y_pred_prob = pretrained_model.predict(X_test)\n",
    "y_pred = np.where(y_pred_prob > 0.5, 1, 0)\n",
    "\n",
    "cr = classification_report(y_test, y_pred)\n",
    "print(cr)\n",
    "\n",
    "fpr, tpr, thresholds = roc_curve(y_test, y_pred_prob)\n",
    "rocauc = roc_auc_score(y_test, y_pred_prob)\n",
    "\n",
    "plt.figure()\n",
    "plt.plot(fpr, tpr, label=\"ROC-AUC curve\")\n",
    "plt.legend()\n",
    "plt.title(f\"ROC-AUC score {np.round(rocauc, 2)}\")\n",
    "sns.despine()\n",
    "plt.show()"
   ]
  },
  {
   "cell_type": "markdown",
   "metadata": {},
   "source": [
    "## Setup with insufficient labeled data"
   ]
  },
  {
   "cell_type": "code",
   "execution_count": 2,
   "metadata": {},
   "outputs": [],
   "source": [
    "from sklearn.model_selection import train_test_split"
   ]
  },
  {
   "cell_type": "code",
   "execution_count": 8,
   "metadata": {},
   "outputs": [],
   "source": [
    "(x_train, y_train), (x_test, y_test) = keras.datasets.mnist.load_data()"
   ]
  },
  {
   "cell_type": "code",
   "execution_count": 9,
   "metadata": {},
   "outputs": [],
   "source": [
    "# data spec\n",
    "labeled_size = 1000\n",
    "unlabeled_size = 10_000 \n",
    "test_sample_size = 10_000\n",
    "\n",
    "x_labeled = x_train[:labeled_size]\n",
    "y_labeled = y_train[:labeled_size]\n",
    "\n",
    "x_unlabeled = x_train[labeled_size:labeled_size+unlabeled_size]\n",
    "\n",
    "x_test_sample = x_test[:test_sample_size]\n",
    "y_test_sample = y_test[:test_sample_size]\n",
    "\n",
    "x_labeled = np.expand_dims(x_labeled, -1).astype(\"float32\") / 255\n",
    "x_unlabeled = np.expand_dims(x_unlabeled, -1).astype(\"float32\") / 255\n",
    "x_test_sample = np.expand_dims(x_test_sample, -1).astype(\"float32\") / 255"
   ]
  },
  {
   "cell_type": "markdown",
   "metadata": {},
   "source": [
    "## Model construction "
   ]
  },
  {
   "cell_type": "code",
   "execution_count": 10,
   "metadata": {},
   "outputs": [
    {
     "name": "stdout",
     "output_type": "stream",
     "text": [
      "Model: \"encoder\"\n",
      "_________________________________________________________________\n",
      "Layer (type)                 Output Shape              Param #   \n",
      "=================================================================\n",
      "input_3 (InputLayer)         [(None, 28, 28, 1)]       0         \n",
      "_________________________________________________________________\n",
      "conv2d_2 (Conv2D)            (None, 14, 14, 32)        320       \n",
      "_________________________________________________________________\n",
      "conv2d_3 (Conv2D)            (None, 7, 7, 64)          18496     \n",
      "_________________________________________________________________\n",
      "flatten_1 (Flatten)          (None, 3136)              0         \n",
      "_________________________________________________________________\n",
      "dense_2 (Dense)              (None, 16)                50192     \n",
      "=================================================================\n",
      "Total params: 69,008\n",
      "Trainable params: 69,008\n",
      "Non-trainable params: 0\n",
      "_________________________________________________________________\n"
     ]
    }
   ],
   "source": [
    "latent_dim = 16\n",
    "\n",
    "encoder_inputs = keras.Input(shape=(28, 28, 1))\n",
    "\n",
    "x = layers.Conv2D(32, 3, activation=\"relu\", strides=2, padding=\"same\")(encoder_inputs)\n",
    "x = layers.Conv2D(64, 3, activation=\"relu\", strides=2, padding=\"same\")(x)\n",
    "x = layers.Flatten()(x)\n",
    "z = layers.Dense(latent_dim, activation=\"relu\")(x)\n",
    "\n",
    "encoder = keras.Model(encoder_inputs, z, name=\"encoder\")\n",
    "encoder.summary()"
   ]
  },
  {
   "cell_type": "code",
   "execution_count": 11,
   "metadata": {},
   "outputs": [
    {
     "name": "stdout",
     "output_type": "stream",
     "text": [
      "Model: \"decoder\"\n",
      "_________________________________________________________________\n",
      "Layer (type)                 Output Shape              Param #   \n",
      "=================================================================\n",
      "input_4 (InputLayer)         [(None, 16)]              0         \n",
      "_________________________________________________________________\n",
      "dense_3 (Dense)              (None, 3136)              53312     \n",
      "_________________________________________________________________\n",
      "reshape_1 (Reshape)          (None, 7, 7, 64)          0         \n",
      "_________________________________________________________________\n",
      "conv2d_transpose_3 (Conv2DTr (None, 14, 14, 64)        36928     \n",
      "_________________________________________________________________\n",
      "conv2d_transpose_4 (Conv2DTr (None, 28, 28, 32)        18464     \n",
      "_________________________________________________________________\n",
      "conv2d_transpose_5 (Conv2DTr (None, 28, 28, 1)         289       \n",
      "=================================================================\n",
      "Total params: 108,993\n",
      "Trainable params: 108,993\n",
      "Non-trainable params: 0\n",
      "_________________________________________________________________\n"
     ]
    }
   ],
   "source": [
    "latent_inputs = keras.Input(shape=(latent_dim,))\n",
    "\n",
    "x = layers.Dense(7 * 7 * 64, activation=\"relu\")(latent_inputs)\n",
    "x = layers.Reshape((7, 7, 64))(x)\n",
    "x = layers.Conv2DTranspose(64, 3, activation=\"relu\", strides=2, padding=\"same\")(x)\n",
    "x = layers.Conv2DTranspose(32, 3, activation=\"relu\", strides=2, padding=\"same\")(x)\n",
    "decoder_outputs = layers.Conv2DTranspose(1, 3, activation=\"sigmoid\", padding=\"same\")(x)\n",
    "\n",
    "decoder = keras.Model(latent_inputs, decoder_outputs, name=\"decoder\")\n",
    "\n",
    "decoder.summary()"
   ]
  },
  {
   "cell_type": "code",
   "execution_count": 12,
   "metadata": {},
   "outputs": [],
   "source": [
    "ae_model = keras.Sequential()\n",
    "ae_model.add(encoder)\n",
    "ae_model.add(decoder)"
   ]
  },
  {
   "cell_type": "code",
   "execution_count": 13,
   "metadata": {},
   "outputs": [
    {
     "data": {
      "text/plain": [
       "<tensorflow.python.keras.engine.sequential.Sequential at 0x7fac97d22310>"
      ]
     },
     "execution_count": 13,
     "metadata": {},
     "output_type": "execute_result"
    }
   ],
   "source": [
    "ae_model"
   ]
  },
  {
   "cell_type": "code",
   "execution_count": 14,
   "metadata": {},
   "outputs": [],
   "source": [
    "ae_model.compile(loss=\"mean_squared_error\", \n",
    "                 optimizer=\"adam\", \n",
    "                 metrics=[\"mean_squared_error\"])"
   ]
  },
  {
   "cell_type": "code",
   "execution_count": 15,
   "metadata": {},
   "outputs": [
    {
     "name": "stdout",
     "output_type": "stream",
     "text": [
      "Epoch 1/10\n",
      "86/86 [==============================] - 30s 354ms/step - loss: 0.1051 - mean_squared_error: 0.1051\n",
      "Epoch 2/10\n",
      "86/86 [==============================] - 32s 375ms/step - loss: 0.0520 - mean_squared_error: 0.0520\n",
      "Epoch 3/10\n",
      "86/86 [==============================] - 30s 355ms/step - loss: 0.0276 - mean_squared_error: 0.0276\n",
      "Epoch 4/10\n",
      "86/86 [==============================] - 35s 406ms/step - loss: 0.0208 - mean_squared_error: 0.0208\n",
      "Epoch 5/10\n",
      "86/86 [==============================] - 33s 381ms/step - loss: 0.0184 - mean_squared_error: 0.0184\n",
      "Epoch 6/10\n",
      "86/86 [==============================] - 29s 341ms/step - loss: 0.0168 - mean_squared_error: 0.0168\n",
      "Epoch 7/10\n",
      "86/86 [==============================] - 26s 302ms/step - loss: 0.0158 - mean_squared_error: 0.0158\n",
      "Epoch 8/10\n",
      "86/86 [==============================] - 24s 283ms/step - loss: 0.0150 - mean_squared_error: 0.0150\n",
      "Epoch 9/10\n",
      "86/86 [==============================] - 25s 287ms/step - loss: 0.0144 - mean_squared_error: 0.0144\n",
      "Epoch 10/10\n",
      "86/86 [==============================] - 24s 275ms/step - loss: 0.0139 - mean_squared_error: 0.0139\n"
     ]
    },
    {
     "data": {
      "text/plain": [
       "<tensorflow.python.keras.callbacks.History at 0x7fac91930350>"
      ]
     },
     "execution_count": 15,
     "metadata": {},
     "output_type": "execute_result"
    }
   ],
   "source": [
    "all_train = np.concatenate([x_labeled, x_unlabeled])\n",
    "\n",
    "ae_model.fit(all_train, all_train,\n",
    "             batch_size=128,\n",
    "             epochs = 10)"
   ]
  },
  {
   "cell_type": "markdown",
   "metadata": {},
   "source": [
    "## Freeze the embedding and supervised train"
   ]
  },
  {
   "cell_type": "code",
   "execution_count": 18,
   "metadata": {},
   "outputs": [],
   "source": [
    "for layer in encoder.layers:\n",
    "    layer.trainable = False"
   ]
  },
  {
   "cell_type": "code",
   "execution_count": 19,
   "metadata": {},
   "outputs": [],
   "source": [
    "classifier = keras.Sequential(\n",
    "    [encoder,\n",
    "    layers.Dense(16, activation=\"relu\"),\n",
    "    layers.Dense(16, activation=\"relu\"),\n",
    "    layers.Dense(10, activation=\"softmax\")]\n",
    ")"
   ]
  },
  {
   "cell_type": "code",
   "execution_count": 20,
   "metadata": {},
   "outputs": [
    {
     "name": "stdout",
     "output_type": "stream",
     "text": [
      "Model: \"sequential_3\"\n",
      "_________________________________________________________________\n",
      "Layer (type)                 Output Shape              Param #   \n",
      "=================================================================\n",
      "encoder (Functional)         (None, 16)                69008     \n",
      "_________________________________________________________________\n",
      "dense_7 (Dense)              (None, 16)                272       \n",
      "_________________________________________________________________\n",
      "dense_8 (Dense)              (None, 16)                272       \n",
      "_________________________________________________________________\n",
      "dense_9 (Dense)              (None, 10)                170       \n",
      "=================================================================\n",
      "Total params: 69,722\n",
      "Trainable params: 714\n",
      "Non-trainable params: 69,008\n",
      "_________________________________________________________________\n"
     ]
    }
   ],
   "source": [
    "classifier.summary()"
   ]
  },
  {
   "cell_type": "code",
   "execution_count": 21,
   "metadata": {},
   "outputs": [
    {
     "name": "stdout",
     "output_type": "stream",
     "text": [
      "Epoch 1/30\n",
      "32/32 [==============================] - 0s 7ms/step - loss: 3.7001 - accuracy: 0.1590\n",
      "Epoch 2/30\n",
      "32/32 [==============================] - 0s 7ms/step - loss: 2.5707 - accuracy: 0.2170\n",
      "Epoch 3/30\n",
      "32/32 [==============================] - 0s 8ms/step - loss: 2.1503 - accuracy: 0.2640\n",
      "Epoch 4/30\n",
      "32/32 [==============================] - 0s 7ms/step - loss: 1.9163 - accuracy: 0.3260\n",
      "Epoch 5/30\n",
      "32/32 [==============================] - 0s 7ms/step - loss: 1.7331 - accuracy: 0.3980\n",
      "Epoch 6/30\n",
      "32/32 [==============================] - 0s 7ms/step - loss: 1.5747 - accuracy: 0.4810\n",
      "Epoch 7/30\n",
      "32/32 [==============================] - 0s 9ms/step - loss: 1.4386 - accuracy: 0.5390\n",
      "Epoch 8/30\n",
      "32/32 [==============================] - 0s 9ms/step - loss: 1.3075 - accuracy: 0.5870\n",
      "Epoch 9/30\n",
      "32/32 [==============================] - 0s 9ms/step - loss: 1.1912 - accuracy: 0.6380\n",
      "Epoch 10/30\n",
      "32/32 [==============================] - 0s 8ms/step - loss: 1.0864 - accuracy: 0.6700\n",
      "Epoch 11/30\n",
      "32/32 [==============================] - 0s 9ms/step - loss: 0.9927 - accuracy: 0.6950\n",
      "Epoch 12/30\n",
      "32/32 [==============================] - 0s 8ms/step - loss: 0.9228 - accuracy: 0.7080\n",
      "Epoch 13/30\n",
      "32/32 [==============================] - 0s 8ms/step - loss: 0.8635 - accuracy: 0.7380\n",
      "Epoch 14/30\n",
      "32/32 [==============================] - 0s 8ms/step - loss: 0.8125 - accuracy: 0.7500\n",
      "Epoch 15/30\n",
      "32/32 [==============================] - 0s 8ms/step - loss: 0.7722 - accuracy: 0.7640\n",
      "Epoch 16/30\n",
      "32/32 [==============================] - 0s 8ms/step - loss: 0.7365 - accuracy: 0.7730\n",
      "Epoch 17/30\n",
      "32/32 [==============================] - 0s 8ms/step - loss: 0.7116 - accuracy: 0.7800\n",
      "Epoch 18/30\n",
      "32/32 [==============================] - 0s 8ms/step - loss: 0.6708 - accuracy: 0.8090\n",
      "Epoch 19/30\n",
      "32/32 [==============================] - 0s 8ms/step - loss: 0.6556 - accuracy: 0.7890\n",
      "Epoch 20/30\n",
      "32/32 [==============================] - 0s 8ms/step - loss: 0.6377 - accuracy: 0.7970\n",
      "Epoch 21/30\n",
      "32/32 [==============================] - 0s 8ms/step - loss: 0.6105 - accuracy: 0.8100\n",
      "Epoch 22/30\n",
      "32/32 [==============================] - 0s 8ms/step - loss: 0.5916 - accuracy: 0.8240\n",
      "Epoch 23/30\n",
      "32/32 [==============================] - 0s 8ms/step - loss: 0.5786 - accuracy: 0.8210\n",
      "Epoch 24/30\n",
      "32/32 [==============================] - 0s 8ms/step - loss: 0.5647 - accuracy: 0.8220\n",
      "Epoch 25/30\n",
      "32/32 [==============================] - 0s 8ms/step - loss: 0.5435 - accuracy: 0.8340\n",
      "Epoch 26/30\n",
      "32/32 [==============================] - 0s 8ms/step - loss: 0.5251 - accuracy: 0.8320\n",
      "Epoch 27/30\n",
      "32/32 [==============================] - 0s 8ms/step - loss: 0.5177 - accuracy: 0.8330\n",
      "Epoch 28/30\n",
      "32/32 [==============================] - 0s 8ms/step - loss: 0.5035 - accuracy: 0.8450\n",
      "Epoch 29/30\n",
      "32/32 [==============================] - 0s 9ms/step - loss: 0.4893 - accuracy: 0.8410\n",
      "Epoch 30/30\n",
      "32/32 [==============================] - 0s 9ms/step - loss: 0.4822 - accuracy: 0.8450\n"
     ]
    },
    {
     "data": {
      "text/plain": [
       "<tensorflow.python.keras.callbacks.History at 0x7fac90055a50>"
      ]
     },
     "execution_count": 21,
     "metadata": {},
     "output_type": "execute_result"
    }
   ],
   "source": [
    "classifier.compile(loss=\"sparse_categorical_crossentropy\", \n",
    "                 optimizer=\"adam\", \n",
    "                 metrics=[\"accuracy\"])\n",
    "\n",
    "classifier.fit(x_labeled, y_labeled, batch_size=32, epochs=30, verbose=1)"
   ]
  },
  {
   "cell_type": "code",
   "execution_count": 22,
   "metadata": {},
   "outputs": [],
   "source": [
    "y_pred = classifier.predict(x_test_sample)"
   ]
  },
  {
   "cell_type": "code",
   "execution_count": 23,
   "metadata": {},
   "outputs": [
    {
     "data": {
      "text/plain": [
       "(10000, 10)"
      ]
     },
     "execution_count": 23,
     "metadata": {},
     "output_type": "execute_result"
    }
   ],
   "source": [
    "y_pred.shape"
   ]
  },
  {
   "cell_type": "code",
   "execution_count": 24,
   "metadata": {},
   "outputs": [
    {
     "name": "stdout",
     "output_type": "stream",
     "text": [
      "              precision    recall  f1-score   support\n",
      "\n",
      "           0       0.90      0.93      0.92       980\n",
      "           1       0.93      0.97      0.95      1135\n",
      "           2       0.81      0.88      0.85      1032\n",
      "           3       0.82      0.74      0.78      1010\n",
      "           4       0.85      0.75      0.80       982\n",
      "           5       0.73      0.73      0.73       892\n",
      "           6       0.90      0.87      0.88       958\n",
      "           7       0.86      0.84      0.85      1028\n",
      "           8       0.84      0.75      0.79       974\n",
      "           9       0.70      0.84      0.76      1009\n",
      "\n",
      "    accuracy                           0.83     10000\n",
      "   macro avg       0.83      0.83      0.83     10000\n",
      "weighted avg       0.84      0.83      0.83     10000\n",
      "\n"
     ]
    }
   ],
   "source": [
    "from sklearn.metrics import classification_report\n",
    "\n",
    "report = classification_report(y_test_sample, np.argmax(y_pred, axis=1))\n",
    "print(report)"
   ]
  },
  {
   "cell_type": "markdown",
   "metadata": {},
   "source": [
    "## Comparison with only supervised training "
   ]
  },
  {
   "cell_type": "code",
   "execution_count": 25,
   "metadata": {},
   "outputs": [],
   "source": [
    "encoder_inputs = keras.Input(shape=(28, 28, 1))\n",
    "\n",
    "x = layers.Conv2D(32, 3, activation=\"relu\", strides=2, padding=\"same\")(encoder_inputs)\n",
    "x = layers.Conv2D(64, 3, activation=\"relu\", strides=2, padding=\"same\")(x)\n",
    "x = layers.Flatten()(x)\n",
    "z = layers.Dense(latent_dim, activation=\"relu\")(x)\n",
    "\n",
    "encoder = keras.Model(encoder_inputs, z, name=\"encoder\")\n",
    "\n",
    "base_classifier = keras.Sequential(\n",
    "    [encoder,\n",
    "    layers.Dense(16, activation=\"relu\"),\n",
    "    layers.Dense(16, activation=\"relu\"),\n",
    "    layers.Dense(10, activation=\"softmax\")]\n",
    ")"
   ]
  },
  {
   "cell_type": "code",
   "execution_count": 26,
   "metadata": {},
   "outputs": [
    {
     "name": "stdout",
     "output_type": "stream",
     "text": [
      "Epoch 1/30\n",
      "32/32 [==============================] - 1s 17ms/step - loss: 2.2036 - accuracy: 0.2060\n",
      "Epoch 2/30\n",
      "32/32 [==============================] - 1s 20ms/step - loss: 1.7128 - accuracy: 0.3770\n",
      "Epoch 3/30\n",
      "32/32 [==============================] - 1s 17ms/step - loss: 1.1058 - accuracy: 0.6340\n",
      "Epoch 4/30\n",
      "32/32 [==============================] - 1s 16ms/step - loss: 0.7696 - accuracy: 0.7310\n",
      "Epoch 5/30\n",
      "32/32 [==============================] - 1s 19ms/step - loss: 0.5729 - accuracy: 0.8210\n",
      "Epoch 6/30\n",
      "32/32 [==============================] - 0s 15ms/step - loss: 0.4356 - accuracy: 0.8800\n",
      "Epoch 7/30\n",
      "32/32 [==============================] - 0s 15ms/step - loss: 0.3331 - accuracy: 0.9090\n",
      "Epoch 8/30\n",
      "32/32 [==============================] - 0s 15ms/step - loss: 0.2705 - accuracy: 0.9290\n",
      "Epoch 9/30\n",
      "32/32 [==============================] - 1s 20ms/step - loss: 0.2526 - accuracy: 0.9280\n",
      "Epoch 10/30\n",
      "32/32 [==============================] - 1s 19ms/step - loss: 0.2211 - accuracy: 0.9450\n",
      "Epoch 11/30\n",
      "32/32 [==============================] - 0s 15ms/step - loss: 0.1765 - accuracy: 0.9530\n",
      "Epoch 12/30\n",
      "32/32 [==============================] - 1s 16ms/step - loss: 0.1675 - accuracy: 0.9560\n",
      "Epoch 13/30\n",
      "32/32 [==============================] - 1s 21ms/step - loss: 0.1380 - accuracy: 0.9600\n",
      "Epoch 14/30\n",
      "32/32 [==============================] - 1s 20ms/step - loss: 0.1047 - accuracy: 0.9700\n",
      "Epoch 15/30\n",
      "32/32 [==============================] - 1s 20ms/step - loss: 0.0969 - accuracy: 0.9720\n",
      "Epoch 16/30\n",
      "32/32 [==============================] - 1s 20ms/step - loss: 0.0692 - accuracy: 0.9850\n",
      "Epoch 17/30\n",
      "32/32 [==============================] - 1s 18ms/step - loss: 0.0664 - accuracy: 0.9800\n",
      "Epoch 18/30\n",
      "32/32 [==============================] - 1s 18ms/step - loss: 0.0585 - accuracy: 0.9840\n",
      "Epoch 19/30\n",
      "32/32 [==============================] - 1s 22ms/step - loss: 0.0508 - accuracy: 0.9860\n",
      "Epoch 20/30\n",
      "32/32 [==============================] - 1s 19ms/step - loss: 0.0282 - accuracy: 0.9970\n",
      "Epoch 21/30\n",
      "32/32 [==============================] - 1s 18ms/step - loss: 0.0227 - accuracy: 0.9970\n",
      "Epoch 22/30\n",
      "32/32 [==============================] - 1s 21ms/step - loss: 0.0167 - accuracy: 0.9970\n",
      "Epoch 23/30\n",
      "32/32 [==============================] - 1s 20ms/step - loss: 0.0141 - accuracy: 0.9990\n",
      "Epoch 24/30\n",
      "32/32 [==============================] - 1s 20ms/step - loss: 0.0127 - accuracy: 0.9990\n",
      "Epoch 25/30\n",
      "32/32 [==============================] - 1s 22ms/step - loss: 0.0109 - accuracy: 0.9990\n",
      "Epoch 26/30\n",
      "32/32 [==============================] - 1s 21ms/step - loss: 0.0095 - accuracy: 0.9990\n",
      "Epoch 27/30\n",
      "32/32 [==============================] - 1s 18ms/step - loss: 0.0087 - accuracy: 0.9990\n",
      "Epoch 28/30\n",
      "32/32 [==============================] - 1s 21ms/step - loss: 0.0084 - accuracy: 0.9990\n",
      "Epoch 29/30\n",
      "32/32 [==============================] - 1s 18ms/step - loss: 0.0074 - accuracy: 0.9990\n",
      "Epoch 30/30\n",
      "32/32 [==============================] - 1s 19ms/step - loss: 0.0082 - accuracy: 0.9990\n"
     ]
    },
    {
     "data": {
      "text/plain": [
       "<tensorflow.python.keras.callbacks.History at 0x7fac686ad9d0>"
      ]
     },
     "execution_count": 26,
     "metadata": {},
     "output_type": "execute_result"
    }
   ],
   "source": [
    "base_classifier.compile(loss=\"sparse_categorical_crossentropy\", \n",
    "                 optimizer=\"adam\", \n",
    "                 metrics=[\"accuracy\"])\n",
    "\n",
    "base_classifier.fit(x_labeled, y_labeled, batch_size=32, epochs=30, verbose=1)"
   ]
  },
  {
   "cell_type": "code",
   "execution_count": 27,
   "metadata": {},
   "outputs": [
    {
     "name": "stdout",
     "output_type": "stream",
     "text": [
      "              precision    recall  f1-score   support\n",
      "\n",
      "           0       0.95      0.95      0.95       980\n",
      "           1       0.95      0.97      0.96      1135\n",
      "           2       0.90      0.87      0.88      1032\n",
      "           3       0.86      0.83      0.84      1010\n",
      "           4       0.92      0.90      0.91       982\n",
      "           5       0.80      0.88      0.84       892\n",
      "           6       0.94      0.91      0.92       958\n",
      "           7       0.84      0.90      0.87      1028\n",
      "           8       0.88      0.78      0.83       974\n",
      "           9       0.83      0.87      0.85      1009\n",
      "\n",
      "    accuracy                           0.89     10000\n",
      "   macro avg       0.89      0.89      0.89     10000\n",
      "weighted avg       0.89      0.89      0.89     10000\n",
      "\n"
     ]
    }
   ],
   "source": [
    "y_pred = base_classifier.predict(x_test_sample)\n",
    "\n",
    "report = classification_report(y_test_sample, np.argmax(y_pred, axis=1))\n",
    "print(report)"
   ]
  },
  {
   "cell_type": "code",
   "execution_count": null,
   "metadata": {},
   "outputs": [],
   "source": []
  }
 ],
 "metadata": {
  "kernelspec": {
   "display_name": "Python [conda env:deeplearning]",
   "language": "python",
   "name": "conda-env-deeplearning-py"
  },
  "language_info": {
   "codemirror_mode": {
    "name": "ipython",
    "version": 3
   },
   "file_extension": ".py",
   "mimetype": "text/x-python",
   "name": "python",
   "nbconvert_exporter": "python",
   "pygments_lexer": "ipython3",
   "version": "3.7.7"
  }
 },
 "nbformat": 4,
 "nbformat_minor": 4
}
