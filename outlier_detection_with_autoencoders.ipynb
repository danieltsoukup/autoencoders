{
 "cells": [
  {
   "cell_type": "markdown",
   "metadata": {},
   "source": [
    "# Randomized Autoencoder Ensembles for Outlier Detection"
   ]
  },
  {
   "cell_type": "code",
   "execution_count": 96,
   "metadata": {},
   "outputs": [],
   "source": [
    "import numpy as np\n",
    "import pandas as pd\n",
    "\n",
    "import tensorflow as tf\n",
    "from tensorflow import keras\n",
    "from tensorflow.keras import layers\n",
    "\n",
    "import matplotlib.pyplot as plt\n",
    "import seaborn as sns\n",
    "\n",
    "from sklearn.preprocessing import RobustScaler, StandardScaler, MinMaxScaler\n",
    "from sklearn.pipeline import Pipeline\n",
    "from sklearn.model_selection import train_test_split\n",
    "from sklearn.metrics import classification_report, roc_curve, roc_auc_score"
   ]
  },
  {
   "cell_type": "markdown",
   "metadata": {},
   "source": [
    "Our plan is to look into using autoencoders for outlier detection and in particular, test randomized autoencoder ensembles against some standard methods (Elliptic Envelopes, LOF and Isolation Forests). The autoencoder model will be based on [Jinghui Chen, Saket Sathe, Charu Aggarwal, Deepak Turaga. Outlier Detection with Autoencoder Ensembles. SIAM SDM, 2017](https://saketsathe.net/downloads/autoencode.pdf):\n",
    "\n",
    "- we will fit autoencoders and measure the degree of outlier-ness by the reconstruction loss;\n",
    "- the autoencoders are fit on random samples of the data and connections in the neural nets are dropped randomly to increase diversity;\n",
    "- we train the models using adaptive sampling, using more and more data as the training progresses;\n",
    "- we score each data point by the median reconstruction loss of our ensemble."
   ]
  },
  {
   "cell_type": "markdown",
   "metadata": {},
   "source": [
    "## Data - ALOI"
   ]
  },
  {
   "cell_type": "markdown",
   "metadata": {},
   "source": [
    "[ALOI data set](https://www.dbs.ifi.lmu.de/research/outlier-evaluation/DAMI/literature/ALOI/) for outlier detection downloaded from [here](https://dataverse.harvard.edu/dataset.xhtml?persistentId=doi:10.7910/DVN/OPQMVF). "
   ]
  },
  {
   "cell_type": "code",
   "execution_count": 151,
   "metadata": {},
   "outputs": [
    {
     "data": {
      "text/html": [
       "<div>\n",
       "<style scoped>\n",
       "    .dataframe tbody tr th:only-of-type {\n",
       "        vertical-align: middle;\n",
       "    }\n",
       "\n",
       "    .dataframe tbody tr th {\n",
       "        vertical-align: top;\n",
       "    }\n",
       "\n",
       "    .dataframe thead th {\n",
       "        text-align: right;\n",
       "    }\n",
       "</style>\n",
       "<table border=\"1\" class=\"dataframe\">\n",
       "  <thead>\n",
       "    <tr style=\"text-align: right;\">\n",
       "      <th></th>\n",
       "      <th>feature_0</th>\n",
       "      <th>feature_1</th>\n",
       "      <th>feature_2</th>\n",
       "      <th>feature_3</th>\n",
       "      <th>feature_4</th>\n",
       "      <th>feature_5</th>\n",
       "      <th>feature_6</th>\n",
       "      <th>feature_7</th>\n",
       "      <th>feature_8</th>\n",
       "      <th>feature_9</th>\n",
       "      <th>...</th>\n",
       "      <th>feature_18</th>\n",
       "      <th>feature_19</th>\n",
       "      <th>feature_20</th>\n",
       "      <th>feature_21</th>\n",
       "      <th>feature_22</th>\n",
       "      <th>feature_23</th>\n",
       "      <th>feature_24</th>\n",
       "      <th>feature_25</th>\n",
       "      <th>feature_26</th>\n",
       "      <th>outlier</th>\n",
       "    </tr>\n",
       "  </thead>\n",
       "  <tbody>\n",
       "    <tr>\n",
       "      <th>0</th>\n",
       "      <td>0.872812</td>\n",
       "      <td>0.000005</td>\n",
       "      <td>0.0</td>\n",
       "      <td>0.000036</td>\n",
       "      <td>0.0</td>\n",
       "      <td>0.0</td>\n",
       "      <td>0.0</td>\n",
       "      <td>0.0</td>\n",
       "      <td>0.0</td>\n",
       "      <td>0.050327</td>\n",
       "      <td>...</td>\n",
       "      <td>0.014212</td>\n",
       "      <td>0.000104</td>\n",
       "      <td>0.0</td>\n",
       "      <td>0.025490</td>\n",
       "      <td>0.004937</td>\n",
       "      <td>0.000011</td>\n",
       "      <td>0.000054</td>\n",
       "      <td>0.006804</td>\n",
       "      <td>0.015385</td>\n",
       "      <td>1</td>\n",
       "    </tr>\n",
       "    <tr>\n",
       "      <th>1</th>\n",
       "      <td>0.975206</td>\n",
       "      <td>0.000000</td>\n",
       "      <td>0.0</td>\n",
       "      <td>0.000651</td>\n",
       "      <td>0.0</td>\n",
       "      <td>0.0</td>\n",
       "      <td>0.0</td>\n",
       "      <td>0.0</td>\n",
       "      <td>0.0</td>\n",
       "      <td>0.007039</td>\n",
       "      <td>...</td>\n",
       "      <td>0.000000</td>\n",
       "      <td>0.000000</td>\n",
       "      <td>0.0</td>\n",
       "      <td>0.004853</td>\n",
       "      <td>0.001582</td>\n",
       "      <td>0.000000</td>\n",
       "      <td>0.000000</td>\n",
       "      <td>0.000201</td>\n",
       "      <td>0.000000</td>\n",
       "      <td>1</td>\n",
       "    </tr>\n",
       "    <tr>\n",
       "      <th>2</th>\n",
       "      <td>0.963777</td>\n",
       "      <td>0.000000</td>\n",
       "      <td>0.0</td>\n",
       "      <td>0.002005</td>\n",
       "      <td>0.0</td>\n",
       "      <td>0.0</td>\n",
       "      <td>0.0</td>\n",
       "      <td>0.0</td>\n",
       "      <td>0.0</td>\n",
       "      <td>0.006642</td>\n",
       "      <td>...</td>\n",
       "      <td>0.000000</td>\n",
       "      <td>0.000000</td>\n",
       "      <td>0.0</td>\n",
       "      <td>0.007828</td>\n",
       "      <td>0.002523</td>\n",
       "      <td>0.000000</td>\n",
       "      <td>0.000393</td>\n",
       "      <td>0.003800</td>\n",
       "      <td>0.000000</td>\n",
       "      <td>1</td>\n",
       "    </tr>\n",
       "    <tr>\n",
       "      <th>3</th>\n",
       "      <td>0.973246</td>\n",
       "      <td>0.000000</td>\n",
       "      <td>0.0</td>\n",
       "      <td>0.000556</td>\n",
       "      <td>0.0</td>\n",
       "      <td>0.0</td>\n",
       "      <td>0.0</td>\n",
       "      <td>0.0</td>\n",
       "      <td>0.0</td>\n",
       "      <td>0.008979</td>\n",
       "      <td>...</td>\n",
       "      <td>0.000000</td>\n",
       "      <td>0.000000</td>\n",
       "      <td>0.0</td>\n",
       "      <td>0.004392</td>\n",
       "      <td>0.000170</td>\n",
       "      <td>0.000000</td>\n",
       "      <td>0.000000</td>\n",
       "      <td>0.000007</td>\n",
       "      <td>0.000000</td>\n",
       "      <td>1</td>\n",
       "    </tr>\n",
       "    <tr>\n",
       "      <th>4</th>\n",
       "      <td>0.960720</td>\n",
       "      <td>0.000000</td>\n",
       "      <td>0.0</td>\n",
       "      <td>0.000656</td>\n",
       "      <td>0.0</td>\n",
       "      <td>0.0</td>\n",
       "      <td>0.0</td>\n",
       "      <td>0.0</td>\n",
       "      <td>0.0</td>\n",
       "      <td>0.013319</td>\n",
       "      <td>...</td>\n",
       "      <td>0.000000</td>\n",
       "      <td>0.000000</td>\n",
       "      <td>0.0</td>\n",
       "      <td>0.010299</td>\n",
       "      <td>0.000561</td>\n",
       "      <td>0.000000</td>\n",
       "      <td>0.000084</td>\n",
       "      <td>0.000264</td>\n",
       "      <td>0.000000</td>\n",
       "      <td>1</td>\n",
       "    </tr>\n",
       "  </tbody>\n",
       "</table>\n",
       "<p>5 rows × 28 columns</p>\n",
       "</div>"
      ],
      "text/plain": [
       "   feature_0  feature_1  feature_2  feature_3  feature_4  feature_5  \\\n",
       "0   0.872812   0.000005        0.0   0.000036        0.0        0.0   \n",
       "1   0.975206   0.000000        0.0   0.000651        0.0        0.0   \n",
       "2   0.963777   0.000000        0.0   0.002005        0.0        0.0   \n",
       "3   0.973246   0.000000        0.0   0.000556        0.0        0.0   \n",
       "4   0.960720   0.000000        0.0   0.000656        0.0        0.0   \n",
       "\n",
       "   feature_6  feature_7  feature_8  feature_9  ...  feature_18  feature_19  \\\n",
       "0        0.0        0.0        0.0   0.050327  ...    0.014212    0.000104   \n",
       "1        0.0        0.0        0.0   0.007039  ...    0.000000    0.000000   \n",
       "2        0.0        0.0        0.0   0.006642  ...    0.000000    0.000000   \n",
       "3        0.0        0.0        0.0   0.008979  ...    0.000000    0.000000   \n",
       "4        0.0        0.0        0.0   0.013319  ...    0.000000    0.000000   \n",
       "\n",
       "   feature_20  feature_21  feature_22  feature_23  feature_24  feature_25  \\\n",
       "0         0.0    0.025490    0.004937    0.000011    0.000054    0.006804   \n",
       "1         0.0    0.004853    0.001582    0.000000    0.000000    0.000201   \n",
       "2         0.0    0.007828    0.002523    0.000000    0.000393    0.003800   \n",
       "3         0.0    0.004392    0.000170    0.000000    0.000000    0.000007   \n",
       "4         0.0    0.010299    0.000561    0.000000    0.000084    0.000264   \n",
       "\n",
       "   feature_26  outlier  \n",
       "0    0.015385        1  \n",
       "1    0.000000        1  \n",
       "2    0.000000        1  \n",
       "3    0.000000        1  \n",
       "4    0.000000        1  \n",
       "\n",
       "[5 rows x 28 columns]"
      ]
     },
     "execution_count": 151,
     "metadata": {},
     "output_type": "execute_result"
    }
   ],
   "source": [
    "data = pd.read_csv(\"data/aloi-unsupervised-ad.csv\", header=None)\n",
    "\n",
    "data.columns = [f\"feature_{i}\" for i in range(data.shape[1]-1)] + [\"outlier\"]\n",
    "data[\"outlier\"] = np.where(data.outlier == \"n\", 0, 1)\n",
    "\n",
    "data.head()"
   ]
  },
  {
   "cell_type": "code",
   "execution_count": 54,
   "metadata": {},
   "outputs": [
    {
     "data": {
      "text/plain": [
       "0.03016"
      ]
     },
     "execution_count": 54,
     "metadata": {},
     "output_type": "execute_result"
    }
   ],
   "source": [
    "X = data.drop(\"outlier\", axis=1)\n",
    "y = data.outlier\n",
    "\n",
    "y.mean()"
   ]
  },
  {
   "cell_type": "code",
   "execution_count": 122,
   "metadata": {},
   "outputs": [],
   "source": [
    "feature_cols = [col_name for col_name in data.columns if col_name.startswith(\"feature\")]\n",
    "\n",
    "scaler_pipe = Pipeline([((\"standard\"), StandardScaler()),\n",
    "                        #(\"robust\", RobustScaler(quantile_range=(0.25, 0.75))),\n",
    "                       (\"minmax\", MinMaxScaler(feature_range=(0, 1)))\n",
    "                       ])\n",
    "\n",
    "data[feature_cols] = scaler_pipe.fit_transform(data[feature_cols])"
   ]
  },
  {
   "cell_type": "code",
   "execution_count": 123,
   "metadata": {},
   "outputs": [],
   "source": [
    "\n",
    "# # center\n",
    "# mean_ = data[feature_cols].mean(axis=0)\n",
    "# data[feature_cols] = data[feature_cols] - mean_\n",
    "\n",
    "# # min/max scale\n",
    "# min_ = data[feature_cols].min(axis=0)\n",
    "# max_ = data[feature_cols].max(axis=0)\n",
    "\n",
    "# data[feature_cols] = (data[feature_cols] - min_)/(max_ - min_)"
   ]
  },
  {
   "cell_type": "code",
   "execution_count": 152,
   "metadata": {},
   "outputs": [],
   "source": [
    "plot_data = data.melt(value_vars=feature_cols, \n",
    "                    id_vars=[\"outlier\"], \n",
    "                    var_name='groups', \n",
    "                    value_name='vals')"
   ]
  },
  {
   "cell_type": "code",
   "execution_count": 153,
   "metadata": {},
   "outputs": [
    {
     "data": {
      "image/png": "[encoded data removed]",
      "text/plain": [
       "<Figure size 1440x720 with 1 Axes>"
      ]
     },
     "metadata": {
      "needs_background": "light"
     },
     "output_type": "display_data"
    }
   ],
   "source": [
    "fig, axs = plt.subplots(1, 1, figsize=(20, 10))\n",
    "sns.boxplot(x=\"groups\", y=\"vals\", hue=\"outlier\", data=plot_data, ax=axs)\n",
    "sns.despine()\n",
    "plt.xticks(rotation=90)\n",
    "plt.xlabel(\"Features\")\n",
    "plt.ylabel(\"Values\")\n",
    "L=plt.legend()\n",
    "L.get_texts()[0].set_text('inlier')\n",
    "L.get_texts()[1].set_text('outlier')\n",
    "\n",
    "plt.plot(data[feature_cols].max(axis=0), linestyle=\"--\", c=\"gray\")\n",
    "plt.plot(data[feature_cols].min(axis=0), linestyle=\"--\", c=\"gray\")\n",
    "\n",
    "plt.show()"
   ]
  },
  {
   "cell_type": "code",
   "execution_count": 154,
   "metadata": {},
   "outputs": [
    {
     "data": {
      "text/html": [
       "<style  type=\"text/css\" >\n",
       "#T_0006ed88_3593_11eb_93a3_acde48001122row0_col0,#T_0006ed88_3593_11eb_93a3_acde48001122row0_col1{\n",
       "            background-color:  #b40426;\n",
       "            color:  #f1f1f1;\n",
       "        }#T_0006ed88_3593_11eb_93a3_acde48001122row1_col0{\n",
       "            background-color:  #6b8df0;\n",
       "            color:  #000000;\n",
       "        }#T_0006ed88_3593_11eb_93a3_acde48001122row1_col1,#T_0006ed88_3593_11eb_93a3_acde48001122row2_col1,#T_0006ed88_3593_11eb_93a3_acde48001122row3_col1,#T_0006ed88_3593_11eb_93a3_acde48001122row4_col1,#T_0006ed88_3593_11eb_93a3_acde48001122row5_col1,#T_0006ed88_3593_11eb_93a3_acde48001122row6_col1,#T_0006ed88_3593_11eb_93a3_acde48001122row7_col1,#T_0006ed88_3593_11eb_93a3_acde48001122row8_col1,#T_0006ed88_3593_11eb_93a3_acde48001122row10_col1,#T_0006ed88_3593_11eb_93a3_acde48001122row11_col0,#T_0006ed88_3593_11eb_93a3_acde48001122row11_col1,#T_0006ed88_3593_11eb_93a3_acde48001122row14_col1,#T_0006ed88_3593_11eb_93a3_acde48001122row15_col1,#T_0006ed88_3593_11eb_93a3_acde48001122row16_col1,#T_0006ed88_3593_11eb_93a3_acde48001122row17_col1,#T_0006ed88_3593_11eb_93a3_acde48001122row19_col1,#T_0006ed88_3593_11eb_93a3_acde48001122row20_col0,#T_0006ed88_3593_11eb_93a3_acde48001122row20_col1,#T_0006ed88_3593_11eb_93a3_acde48001122row23_col1{\n",
       "            background-color:  #3b4cc0;\n",
       "            color:  #f1f1f1;\n",
       "        }#T_0006ed88_3593_11eb_93a3_acde48001122row2_col0{\n",
       "            background-color:  #4257c9;\n",
       "            color:  #f1f1f1;\n",
       "        }#T_0006ed88_3593_11eb_93a3_acde48001122row3_col0{\n",
       "            background-color:  #6282ea;\n",
       "            color:  #000000;\n",
       "        }#T_0006ed88_3593_11eb_93a3_acde48001122row4_col0{\n",
       "            background-color:  #516ddb;\n",
       "            color:  #000000;\n",
       "        }#T_0006ed88_3593_11eb_93a3_acde48001122row5_col0,#T_0006ed88_3593_11eb_93a3_acde48001122row10_col0,#T_0006ed88_3593_11eb_93a3_acde48001122row16_col0{\n",
       "            background-color:  #455cce;\n",
       "            color:  #f1f1f1;\n",
       "        }#T_0006ed88_3593_11eb_93a3_acde48001122row6_col0,#T_0006ed88_3593_11eb_93a3_acde48001122row13_col1,#T_0006ed88_3593_11eb_93a3_acde48001122row21_col1,#T_0006ed88_3593_11eb_93a3_acde48001122row23_col0,#T_0006ed88_3593_11eb_93a3_acde48001122row25_col1{\n",
       "            background-color:  #3d50c3;\n",
       "            color:  #f1f1f1;\n",
       "        }#T_0006ed88_3593_11eb_93a3_acde48001122row7_col0,#T_0006ed88_3593_11eb_93a3_acde48001122row18_col1,#T_0006ed88_3593_11eb_93a3_acde48001122row22_col1,#T_0006ed88_3593_11eb_93a3_acde48001122row24_col1{\n",
       "            background-color:  #3c4ec2;\n",
       "            color:  #f1f1f1;\n",
       "        }#T_0006ed88_3593_11eb_93a3_acde48001122row8_col0,#T_0006ed88_3593_11eb_93a3_acde48001122row19_col0,#T_0006ed88_3593_11eb_93a3_acde48001122row26_col1{\n",
       "            background-color:  #3f53c6;\n",
       "            color:  #f1f1f1;\n",
       "        }#T_0006ed88_3593_11eb_93a3_acde48001122row9_col0{\n",
       "            background-color:  #abc8fd;\n",
       "            color:  #000000;\n",
       "        }#T_0006ed88_3593_11eb_93a3_acde48001122row9_col1{\n",
       "            background-color:  #4055c8;\n",
       "            color:  #f1f1f1;\n",
       "        }#T_0006ed88_3593_11eb_93a3_acde48001122row12_col0{\n",
       "            background-color:  #81a4fb;\n",
       "            color:  #000000;\n",
       "        }#T_0006ed88_3593_11eb_93a3_acde48001122row12_col1{\n",
       "            background-color:  #3e51c5;\n",
       "            color:  #f1f1f1;\n",
       "        }#T_0006ed88_3593_11eb_93a3_acde48001122row13_col0{\n",
       "            background-color:  #85a8fc;\n",
       "            color:  #000000;\n",
       "        }#T_0006ed88_3593_11eb_93a3_acde48001122row14_col0{\n",
       "            background-color:  #4961d2;\n",
       "            color:  #f1f1f1;\n",
       "        }#T_0006ed88_3593_11eb_93a3_acde48001122row15_col0{\n",
       "            background-color:  #4c66d6;\n",
       "            color:  #000000;\n",
       "        }#T_0006ed88_3593_11eb_93a3_acde48001122row17_col0{\n",
       "            background-color:  #4a63d3;\n",
       "            color:  #f1f1f1;\n",
       "        }#T_0006ed88_3593_11eb_93a3_acde48001122row18_col0{\n",
       "            background-color:  #88abfd;\n",
       "            color:  #000000;\n",
       "        }#T_0006ed88_3593_11eb_93a3_acde48001122row21_col0{\n",
       "            background-color:  #8badfd;\n",
       "            color:  #000000;\n",
       "        }#T_0006ed88_3593_11eb_93a3_acde48001122row22_col0{\n",
       "            background-color:  #5e7de7;\n",
       "            color:  #000000;\n",
       "        }#T_0006ed88_3593_11eb_93a3_acde48001122row24_col0{\n",
       "            background-color:  #7ea1fa;\n",
       "            color:  #000000;\n",
       "        }#T_0006ed88_3593_11eb_93a3_acde48001122row25_col0{\n",
       "            background-color:  #80a3fa;\n",
       "            color:  #000000;\n",
       "        }#T_0006ed88_3593_11eb_93a3_acde48001122row26_col0{\n",
       "            background-color:  #bed2f6;\n",
       "            color:  #000000;\n",
       "        }</style><table id=\"T_0006ed88_3593_11eb_93a3_acde48001122\" ><thead>    <tr>        <th class=\"blank level0\" ></th>        <th class=\"col_heading level0 col0\" >std</th>        <th class=\"col_heading level0 col1\" >mean</th>    </tr></thead><tbody>\n",
       "                <tr>\n",
       "                        <th id=\"T_0006ed88_3593_11eb_93a3_acde48001122level0_row0\" class=\"row_heading level0 row0\" >feature_0</th>\n",
       "                        <td id=\"T_0006ed88_3593_11eb_93a3_acde48001122row0_col0\" class=\"data row0 col0\" >0.080882</td>\n",
       "                        <td id=\"T_0006ed88_3593_11eb_93a3_acde48001122row0_col1\" class=\"data row0 col1\" >0.899869</td>\n",
       "            </tr>\n",
       "            <tr>\n",
       "                        <th id=\"T_0006ed88_3593_11eb_93a3_acde48001122level0_row1\" class=\"row_heading level0 row1\" >feature_1</th>\n",
       "                        <td id=\"T_0006ed88_3593_11eb_93a3_acde48001122row1_col0\" class=\"data row1 col0\" >0.012711</td>\n",
       "                        <td id=\"T_0006ed88_3593_11eb_93a3_acde48001122row1_col1\" class=\"data row1 col1\" >0.002935</td>\n",
       "            </tr>\n",
       "            <tr>\n",
       "                        <th id=\"T_0006ed88_3593_11eb_93a3_acde48001122level0_row2\" class=\"row_heading level0 row2\" >feature_2</th>\n",
       "                        <td id=\"T_0006ed88_3593_11eb_93a3_acde48001122row2_col0\" class=\"data row2 col0\" >0.002093</td>\n",
       "                        <td id=\"T_0006ed88_3593_11eb_93a3_acde48001122row2_col1\" class=\"data row2 col1\" >0.000162</td>\n",
       "            </tr>\n",
       "            <tr>\n",
       "                        <th id=\"T_0006ed88_3593_11eb_93a3_acde48001122level0_row3\" class=\"row_heading level0 row3\" >feature_3</th>\n",
       "                        <td id=\"T_0006ed88_3593_11eb_93a3_acde48001122row3_col0\" class=\"data row3 col0\" >0.010481</td>\n",
       "                        <td id=\"T_0006ed88_3593_11eb_93a3_acde48001122row3_col1\" class=\"data row3 col1\" >0.002165</td>\n",
       "            </tr>\n",
       "            <tr>\n",
       "                        <th id=\"T_0006ed88_3593_11eb_93a3_acde48001122level0_row4\" class=\"row_heading level0 row4\" >feature_4</th>\n",
       "                        <td id=\"T_0006ed88_3593_11eb_93a3_acde48001122row4_col0\" class=\"data row4 col0\" >0.006335</td>\n",
       "                        <td id=\"T_0006ed88_3593_11eb_93a3_acde48001122row4_col1\" class=\"data row4 col1\" >0.001503</td>\n",
       "            </tr>\n",
       "            <tr>\n",
       "                        <th id=\"T_0006ed88_3593_11eb_93a3_acde48001122level0_row5\" class=\"row_heading level0 row5\" >feature_5</th>\n",
       "                        <td id=\"T_0006ed88_3593_11eb_93a3_acde48001122row5_col0\" class=\"data row5 col0\" >0.003146</td>\n",
       "                        <td id=\"T_0006ed88_3593_11eb_93a3_acde48001122row5_col1\" class=\"data row5 col1\" >0.000455</td>\n",
       "            </tr>\n",
       "            <tr>\n",
       "                        <th id=\"T_0006ed88_3593_11eb_93a3_acde48001122level0_row6\" class=\"row_heading level0 row6\" >feature_6</th>\n",
       "                        <td id=\"T_0006ed88_3593_11eb_93a3_acde48001122row6_col0\" class=\"data row6 col0\" >0.000781</td>\n",
       "                        <td id=\"T_0006ed88_3593_11eb_93a3_acde48001122row6_col1\" class=\"data row6 col1\" >0.000028</td>\n",
       "            </tr>\n",
       "            <tr>\n",
       "                        <th id=\"T_0006ed88_3593_11eb_93a3_acde48001122level0_row7\" class=\"row_heading level0 row7\" >feature_7</th>\n",
       "                        <td id=\"T_0006ed88_3593_11eb_93a3_acde48001122row7_col0\" class=\"data row7 col0\" >0.000521</td>\n",
       "                        <td id=\"T_0006ed88_3593_11eb_93a3_acde48001122row7_col1\" class=\"data row7 col1\" >0.000044</td>\n",
       "            </tr>\n",
       "            <tr>\n",
       "                        <th id=\"T_0006ed88_3593_11eb_93a3_acde48001122level0_row8\" class=\"row_heading level0 row8\" >feature_8</th>\n",
       "                        <td id=\"T_0006ed88_3593_11eb_93a3_acde48001122row8_col0\" class=\"data row8 col0\" >0.001526</td>\n",
       "                        <td id=\"T_0006ed88_3593_11eb_93a3_acde48001122row8_col1\" class=\"data row8 col1\" >0.000125</td>\n",
       "            </tr>\n",
       "            <tr>\n",
       "                        <th id=\"T_0006ed88_3593_11eb_93a3_acde48001122level0_row9\" class=\"row_heading level0 row9\" >feature_9</th>\n",
       "                        <td id=\"T_0006ed88_3593_11eb_93a3_acde48001122row9_col0\" class=\"data row9 col0\" >0.027425</td>\n",
       "                        <td id=\"T_0006ed88_3593_11eb_93a3_acde48001122row9_col1\" class=\"data row9 col1\" >0.019704</td>\n",
       "            </tr>\n",
       "            <tr>\n",
       "                        <th id=\"T_0006ed88_3593_11eb_93a3_acde48001122level0_row10\" class=\"row_heading level0 row10\" >feature_10</th>\n",
       "                        <td id=\"T_0006ed88_3593_11eb_93a3_acde48001122row10_col0\" class=\"data row10 col0\" >0.003156</td>\n",
       "                        <td id=\"T_0006ed88_3593_11eb_93a3_acde48001122row10_col1\" class=\"data row10 col1\" >0.000444</td>\n",
       "            </tr>\n",
       "            <tr>\n",
       "                        <th id=\"T_0006ed88_3593_11eb_93a3_acde48001122level0_row11\" class=\"row_heading level0 row11\" >feature_11</th>\n",
       "                        <td id=\"T_0006ed88_3593_11eb_93a3_acde48001122row11_col0\" class=\"data row11 col0\" >0.000095</td>\n",
       "                        <td id=\"T_0006ed88_3593_11eb_93a3_acde48001122row11_col1\" class=\"data row11 col1\" >0.000007</td>\n",
       "            </tr>\n",
       "            <tr>\n",
       "                        <th id=\"T_0006ed88_3593_11eb_93a3_acde48001122level0_row12\" class=\"row_heading level0 row12\" >feature_12</th>\n",
       "                        <td id=\"T_0006ed88_3593_11eb_93a3_acde48001122row12_col0\" class=\"data row12 col0\" >0.017663</td>\n",
       "                        <td id=\"T_0006ed88_3593_11eb_93a3_acde48001122row12_col1\" class=\"data row12 col1\" >0.011270</td>\n",
       "            </tr>\n",
       "            <tr>\n",
       "                        <th id=\"T_0006ed88_3593_11eb_93a3_acde48001122level0_row13\" class=\"row_heading level0 row13\" >feature_13</th>\n",
       "                        <td id=\"T_0006ed88_3593_11eb_93a3_acde48001122row13_col0\" class=\"data row13 col0\" >0.018425</td>\n",
       "                        <td id=\"T_0006ed88_3593_11eb_93a3_acde48001122row13_col1\" class=\"data row13 col1\" >0.009541</td>\n",
       "            </tr>\n",
       "            <tr>\n",
       "                        <th id=\"T_0006ed88_3593_11eb_93a3_acde48001122level0_row14\" class=\"row_heading level0 row14\" >feature_14</th>\n",
       "                        <td id=\"T_0006ed88_3593_11eb_93a3_acde48001122row14_col0\" class=\"data row14 col0\" >0.004133</td>\n",
       "                        <td id=\"T_0006ed88_3593_11eb_93a3_acde48001122row14_col1\" class=\"data row14 col1\" >0.000653</td>\n",
       "            </tr>\n",
       "            <tr>\n",
       "                        <th id=\"T_0006ed88_3593_11eb_93a3_acde48001122level0_row15\" class=\"row_heading level0 row15\" >feature_15</th>\n",
       "                        <td id=\"T_0006ed88_3593_11eb_93a3_acde48001122row15_col0\" class=\"data row15 col0\" >0.004881</td>\n",
       "                        <td id=\"T_0006ed88_3593_11eb_93a3_acde48001122row15_col1\" class=\"data row15 col1\" >0.000496</td>\n",
       "            </tr>\n",
       "            <tr>\n",
       "                        <th id=\"T_0006ed88_3593_11eb_93a3_acde48001122level0_row16\" class=\"row_heading level0 row16\" >feature_16</th>\n",
       "                        <td id=\"T_0006ed88_3593_11eb_93a3_acde48001122row16_col0\" class=\"data row16 col0\" >0.003014</td>\n",
       "                        <td id=\"T_0006ed88_3593_11eb_93a3_acde48001122row16_col1\" class=\"data row16 col1\" >0.000557</td>\n",
       "            </tr>\n",
       "            <tr>\n",
       "                        <th id=\"T_0006ed88_3593_11eb_93a3_acde48001122level0_row17\" class=\"row_heading level0 row17\" >feature_17</th>\n",
       "                        <td id=\"T_0006ed88_3593_11eb_93a3_acde48001122row17_col0\" class=\"data row17 col0\" >0.004306</td>\n",
       "                        <td id=\"T_0006ed88_3593_11eb_93a3_acde48001122row17_col1\" class=\"data row17 col1\" >0.000810</td>\n",
       "            </tr>\n",
       "            <tr>\n",
       "                        <th id=\"T_0006ed88_3593_11eb_93a3_acde48001122level0_row18\" class=\"row_heading level0 row18\" >feature_18</th>\n",
       "                        <td id=\"T_0006ed88_3593_11eb_93a3_acde48001122row18_col0\" class=\"data row18 col0\" >0.019290</td>\n",
       "                        <td id=\"T_0006ed88_3593_11eb_93a3_acde48001122row18_col1\" class=\"data row18 col1\" >0.005664</td>\n",
       "            </tr>\n",
       "            <tr>\n",
       "                        <th id=\"T_0006ed88_3593_11eb_93a3_acde48001122level0_row19\" class=\"row_heading level0 row19\" >feature_19</th>\n",
       "                        <td id=\"T_0006ed88_3593_11eb_93a3_acde48001122row19_col0\" class=\"data row19 col0\" >0.001507</td>\n",
       "                        <td id=\"T_0006ed88_3593_11eb_93a3_acde48001122row19_col1\" class=\"data row19 col1\" >0.000142</td>\n",
       "            </tr>\n",
       "            <tr>\n",
       "                        <th id=\"T_0006ed88_3593_11eb_93a3_acde48001122level0_row20\" class=\"row_heading level0 row20\" >feature_20</th>\n",
       "                        <td id=\"T_0006ed88_3593_11eb_93a3_acde48001122row20_col0\" class=\"data row20 col0\" >0.000104</td>\n",
       "                        <td id=\"T_0006ed88_3593_11eb_93a3_acde48001122row20_col1\" class=\"data row20 col1\" >0.000002</td>\n",
       "            </tr>\n",
       "            <tr>\n",
       "                        <th id=\"T_0006ed88_3593_11eb_93a3_acde48001122level0_row21\" class=\"row_heading level0 row21\" >feature_21</th>\n",
       "                        <td id=\"T_0006ed88_3593_11eb_93a3_acde48001122row21_col0\" class=\"data row21 col0\" >0.019875</td>\n",
       "                        <td id=\"T_0006ed88_3593_11eb_93a3_acde48001122row21_col1\" class=\"data row21 col1\" >0.008980</td>\n",
       "            </tr>\n",
       "            <tr>\n",
       "                        <th id=\"T_0006ed88_3593_11eb_93a3_acde48001122level0_row22\" class=\"row_heading level0 row22\" >feature_22</th>\n",
       "                        <td id=\"T_0006ed88_3593_11eb_93a3_acde48001122row22_col0\" class=\"data row22 col0\" >0.009557</td>\n",
       "                        <td id=\"T_0006ed88_3593_11eb_93a3_acde48001122row22_col1\" class=\"data row22 col1\" >0.004107</td>\n",
       "            </tr>\n",
       "            <tr>\n",
       "                        <th id=\"T_0006ed88_3593_11eb_93a3_acde48001122level0_row23\" class=\"row_heading level0 row23\" >feature_23</th>\n",
       "                        <td id=\"T_0006ed88_3593_11eb_93a3_acde48001122row23_col0\" class=\"data row23 col0\" >0.000791</td>\n",
       "                        <td id=\"T_0006ed88_3593_11eb_93a3_acde48001122row23_col1\" class=\"data row23 col1\" >0.000130</td>\n",
       "            </tr>\n",
       "            <tr>\n",
       "                        <th id=\"T_0006ed88_3593_11eb_93a3_acde48001122level0_row24\" class=\"row_heading level0 row24\" >feature_24</th>\n",
       "                        <td id=\"T_0006ed88_3593_11eb_93a3_acde48001122row24_col0\" class=\"data row24 col0\" >0.016900</td>\n",
       "                        <td id=\"T_0006ed88_3593_11eb_93a3_acde48001122row24_col1\" class=\"data row24 col1\" >0.005521</td>\n",
       "            </tr>\n",
       "            <tr>\n",
       "                        <th id=\"T_0006ed88_3593_11eb_93a3_acde48001122level0_row25\" class=\"row_heading level0 row25\" >feature_25</th>\n",
       "                        <td id=\"T_0006ed88_3593_11eb_93a3_acde48001122row25_col0\" class=\"data row25 col0\" >0.017319</td>\n",
       "                        <td id=\"T_0006ed88_3593_11eb_93a3_acde48001122row25_col1\" class=\"data row25 col1\" >0.009219</td>\n",
       "            </tr>\n",
       "            <tr>\n",
       "                        <th id=\"T_0006ed88_3593_11eb_93a3_acde48001122level0_row26\" class=\"row_heading level0 row26\" >feature_26</th>\n",
       "                        <td id=\"T_0006ed88_3593_11eb_93a3_acde48001122row26_col0\" class=\"data row26 col0\" >0.031761</td>\n",
       "                        <td id=\"T_0006ed88_3593_11eb_93a3_acde48001122row26_col1\" class=\"data row26 col1\" >0.015468</td>\n",
       "            </tr>\n",
       "    </tbody></table>"
      ],
      "text/plain": [
       "<pandas.io.formats.style.Styler at 0x7faa42097c10>"
      ]
     },
     "execution_count": 154,
     "metadata": {},
     "output_type": "execute_result"
    }
   ],
   "source": [
    "data[feature_cols].apply([np.std, np.mean]).T.style.background_gradient(cmap=\"coolwarm\")"
   ]
  },
  {
   "cell_type": "code",
   "execution_count": 155,
   "metadata": {},
   "outputs": [
    {
     "data": {
      "image/png": "[encoded data removed]",
      "text/plain": [
       "<Figure size 1440x720 with 1 Axes>"
      ]
     },
     "metadata": {
      "needs_background": "light"
     },
     "output_type": "display_data"
    }
   ],
   "source": [
    "inlier_data = data[data.outlier == 0].reset_index()\n",
    "outlier_data = data[data.outlier == 1].reset_index()\n",
    "\n",
    "plt.figure(figsize=(20, 10))\n",
    "plt.plot(inlier_data.loc[:1000, feature_cols].T, c=\"blue\", alpha=0.1)\n",
    "plt.plot(outlier_data.loc[:100, feature_cols].T, c=\"red\", alpha=0.5)\n",
    "plt.xticks(rotation=90)\n",
    "plt.show()"
   ]
  },
  {
   "cell_type": "code",
   "execution_count": null,
   "metadata": {},
   "outputs": [],
   "source": []
  },
  {
   "cell_type": "markdown",
   "metadata": {},
   "source": [
    "## Data - Wordline "
   ]
  },
  {
   "cell_type": "markdown",
   "metadata": {},
   "source": [
    "We will work with credit card data from [Wordline & ULB](https://www.kaggle.com/mlg-ulb/creditcardfraud)."
   ]
  },
  {
   "cell_type": "code",
   "execution_count": 2,
   "metadata": {},
   "outputs": [
    {
     "data": {
      "text/html": [
       "<div>\n",
       "<style scoped>\n",
       "    .dataframe tbody tr th:only-of-type {\n",
       "        vertical-align: middle;\n",
       "    }\n",
       "\n",
       "    .dataframe tbody tr th {\n",
       "        vertical-align: top;\n",
       "    }\n",
       "\n",
       "    .dataframe thead th {\n",
       "        text-align: right;\n",
       "    }\n",
       "</style>\n",
       "<table border=\"1\" class=\"dataframe\">\n",
       "  <thead>\n",
       "    <tr style=\"text-align: right;\">\n",
       "      <th></th>\n",
       "      <th>Time</th>\n",
       "      <th>V1</th>\n",
       "      <th>V2</th>\n",
       "      <th>V3</th>\n",
       "      <th>V4</th>\n",
       "      <th>V5</th>\n",
       "      <th>V6</th>\n",
       "      <th>V7</th>\n",
       "      <th>V8</th>\n",
       "      <th>V9</th>\n",
       "      <th>...</th>\n",
       "      <th>V21</th>\n",
       "      <th>V22</th>\n",
       "      <th>V23</th>\n",
       "      <th>V24</th>\n",
       "      <th>V25</th>\n",
       "      <th>V26</th>\n",
       "      <th>V27</th>\n",
       "      <th>V28</th>\n",
       "      <th>Amount</th>\n",
       "      <th>Class</th>\n",
       "    </tr>\n",
       "  </thead>\n",
       "  <tbody>\n",
       "    <tr>\n",
       "      <th>0</th>\n",
       "      <td>0.0</td>\n",
       "      <td>-1.359807</td>\n",
       "      <td>-0.072781</td>\n",
       "      <td>2.536347</td>\n",
       "      <td>1.378155</td>\n",
       "      <td>-0.338321</td>\n",
       "      <td>0.462388</td>\n",
       "      <td>0.239599</td>\n",
       "      <td>0.098698</td>\n",
       "      <td>0.363787</td>\n",
       "      <td>...</td>\n",
       "      <td>-0.018307</td>\n",
       "      <td>0.277838</td>\n",
       "      <td>-0.110474</td>\n",
       "      <td>0.066928</td>\n",
       "      <td>0.128539</td>\n",
       "      <td>-0.189115</td>\n",
       "      <td>0.133558</td>\n",
       "      <td>-0.021053</td>\n",
       "      <td>149.62</td>\n",
       "      <td>0</td>\n",
       "    </tr>\n",
       "    <tr>\n",
       "      <th>1</th>\n",
       "      <td>0.0</td>\n",
       "      <td>1.191857</td>\n",
       "      <td>0.266151</td>\n",
       "      <td>0.166480</td>\n",
       "      <td>0.448154</td>\n",
       "      <td>0.060018</td>\n",
       "      <td>-0.082361</td>\n",
       "      <td>-0.078803</td>\n",
       "      <td>0.085102</td>\n",
       "      <td>-0.255425</td>\n",
       "      <td>...</td>\n",
       "      <td>-0.225775</td>\n",
       "      <td>-0.638672</td>\n",
       "      <td>0.101288</td>\n",
       "      <td>-0.339846</td>\n",
       "      <td>0.167170</td>\n",
       "      <td>0.125895</td>\n",
       "      <td>-0.008983</td>\n",
       "      <td>0.014724</td>\n",
       "      <td>2.69</td>\n",
       "      <td>0</td>\n",
       "    </tr>\n",
       "    <tr>\n",
       "      <th>2</th>\n",
       "      <td>1.0</td>\n",
       "      <td>-1.358354</td>\n",
       "      <td>-1.340163</td>\n",
       "      <td>1.773209</td>\n",
       "      <td>0.379780</td>\n",
       "      <td>-0.503198</td>\n",
       "      <td>1.800499</td>\n",
       "      <td>0.791461</td>\n",
       "      <td>0.247676</td>\n",
       "      <td>-1.514654</td>\n",
       "      <td>...</td>\n",
       "      <td>0.247998</td>\n",
       "      <td>0.771679</td>\n",
       "      <td>0.909412</td>\n",
       "      <td>-0.689281</td>\n",
       "      <td>-0.327642</td>\n",
       "      <td>-0.139097</td>\n",
       "      <td>-0.055353</td>\n",
       "      <td>-0.059752</td>\n",
       "      <td>378.66</td>\n",
       "      <td>0</td>\n",
       "    </tr>\n",
       "    <tr>\n",
       "      <th>3</th>\n",
       "      <td>1.0</td>\n",
       "      <td>-0.966272</td>\n",
       "      <td>-0.185226</td>\n",
       "      <td>1.792993</td>\n",
       "      <td>-0.863291</td>\n",
       "      <td>-0.010309</td>\n",
       "      <td>1.247203</td>\n",
       "      <td>0.237609</td>\n",
       "      <td>0.377436</td>\n",
       "      <td>-1.387024</td>\n",
       "      <td>...</td>\n",
       "      <td>-0.108300</td>\n",
       "      <td>0.005274</td>\n",
       "      <td>-0.190321</td>\n",
       "      <td>-1.175575</td>\n",
       "      <td>0.647376</td>\n",
       "      <td>-0.221929</td>\n",
       "      <td>0.062723</td>\n",
       "      <td>0.061458</td>\n",
       "      <td>123.50</td>\n",
       "      <td>0</td>\n",
       "    </tr>\n",
       "    <tr>\n",
       "      <th>4</th>\n",
       "      <td>2.0</td>\n",
       "      <td>-1.158233</td>\n",
       "      <td>0.877737</td>\n",
       "      <td>1.548718</td>\n",
       "      <td>0.403034</td>\n",
       "      <td>-0.407193</td>\n",
       "      <td>0.095921</td>\n",
       "      <td>0.592941</td>\n",
       "      <td>-0.270533</td>\n",
       "      <td>0.817739</td>\n",
       "      <td>...</td>\n",
       "      <td>-0.009431</td>\n",
       "      <td>0.798278</td>\n",
       "      <td>-0.137458</td>\n",
       "      <td>0.141267</td>\n",
       "      <td>-0.206010</td>\n",
       "      <td>0.502292</td>\n",
       "      <td>0.219422</td>\n",
       "      <td>0.215153</td>\n",
       "      <td>69.99</td>\n",
       "      <td>0</td>\n",
       "    </tr>\n",
       "  </tbody>\n",
       "</table>\n",
       "<p>5 rows × 31 columns</p>\n",
       "</div>"
      ],
      "text/plain": [
       "   Time        V1        V2        V3        V4        V5        V6        V7  \\\n",
       "0   0.0 -1.359807 -0.072781  2.536347  1.378155 -0.338321  0.462388  0.239599   \n",
       "1   0.0  1.191857  0.266151  0.166480  0.448154  0.060018 -0.082361 -0.078803   \n",
       "2   1.0 -1.358354 -1.340163  1.773209  0.379780 -0.503198  1.800499  0.791461   \n",
       "3   1.0 -0.966272 -0.185226  1.792993 -0.863291 -0.010309  1.247203  0.237609   \n",
       "4   2.0 -1.158233  0.877737  1.548718  0.403034 -0.407193  0.095921  0.592941   \n",
       "\n",
       "         V8        V9  ...       V21       V22       V23       V24       V25  \\\n",
       "0  0.098698  0.363787  ... -0.018307  0.277838 -0.110474  0.066928  0.128539   \n",
       "1  0.085102 -0.255425  ... -0.225775 -0.638672  0.101288 -0.339846  0.167170   \n",
       "2  0.247676 -1.514654  ...  0.247998  0.771679  0.909412 -0.689281 -0.327642   \n",
       "3  0.377436 -1.387024  ... -0.108300  0.005274 -0.190321 -1.175575  0.647376   \n",
       "4 -0.270533  0.817739  ... -0.009431  0.798278 -0.137458  0.141267 -0.206010   \n",
       "\n",
       "        V26       V27       V28  Amount  Class  \n",
       "0 -0.189115  0.133558 -0.021053  149.62      0  \n",
       "1  0.125895 -0.008983  0.014724    2.69      0  \n",
       "2 -0.139097 -0.055353 -0.059752  378.66      0  \n",
       "3 -0.221929  0.062723  0.061458  123.50      0  \n",
       "4  0.502292  0.219422  0.215153   69.99      0  \n",
       "\n",
       "[5 rows x 31 columns]"
      ]
     },
     "execution_count": 2,
     "metadata": {},
     "output_type": "execute_result"
    }
   ],
   "source": [
    "data = pd.read_csv(\"data/creditcard.csv\")\n",
    "data.head()"
   ]
  },
  {
   "cell_type": "code",
   "execution_count": 3,
   "metadata": {},
   "outputs": [
    {
     "data": {
      "text/plain": [
       "(284807, 31)"
      ]
     },
     "execution_count": 3,
     "metadata": {},
     "output_type": "execute_result"
    }
   ],
   "source": [
    "data.shape"
   ]
  },
  {
   "cell_type": "code",
   "execution_count": 4,
   "metadata": {},
   "outputs": [],
   "source": [
    "X = data.drop([\"Time\", \"Class\"], axis=1).values\n",
    "y = data[\"Class\"].values"
   ]
  },
  {
   "cell_type": "markdown",
   "metadata": {},
   "source": [
    "The proportion of outliers is around 0.17%:"
   ]
  },
  {
   "cell_type": "code",
   "execution_count": 5,
   "metadata": {},
   "outputs": [
    {
     "data": {
      "text/plain": [
       "0.001727485630620034"
      ]
     },
     "execution_count": 5,
     "metadata": {},
     "output_type": "execute_result"
    }
   ],
   "source": [
    "y.mean()"
   ]
  },
  {
   "cell_type": "markdown",
   "metadata": {},
   "source": [
    "## Preprocessing "
   ]
  },
  {
   "cell_type": "markdown",
   "metadata": {},
   "source": [
    "We will do just very basic preprocessing:"
   ]
  },
  {
   "cell_type": "code",
   "execution_count": 179,
   "metadata": {},
   "outputs": [],
   "source": [
    "scaler_pipe = Pipeline([(\"robust\", RobustScaler(quantile_range=(0.1, 0.9))),\n",
    "                       (\"minmax\", MinMaxScaler(feature_range=(0, 1)))])\n",
    "\n",
    "X_train, X_test, y_train, y_test = train_test_split(X, y, test_size=0.2, stratify=y, random_state=1)\n",
    "#X_train, X_val, y_train, y_val = train_test_split(X_train, y_train, test_size=0.2, stratify=y_train)\n",
    "\n",
    "X_train = scaler_pipe.fit_transform(X_train)\n",
    "#X_val = scaler.transform(X_val)\n",
    "X_test = scaler_pipe.transform(X_test)\n",
    "\n",
    "y_train = y_train.reshape(-1, 1)\n",
    "#y_val = y_val.reshape(-1, 1)\n",
    "y_test = y_test.reshape(-1, 1)"
   ]
  },
  {
   "cell_type": "code",
   "execution_count": 180,
   "metadata": {},
   "outputs": [
    {
     "data": {
      "text/plain": [
       "((40000, 27), (40000, 1), (10000, 27), (10000, 1))"
      ]
     },
     "execution_count": 180,
     "metadata": {},
     "output_type": "execute_result"
    }
   ],
   "source": [
    "X_train.shape, y_train.shape, X_test.shape, y_test.shape"
   ]
  },
  {
   "cell_type": "code",
   "execution_count": 181,
   "metadata": {},
   "outputs": [
    {
     "data": {
      "text/plain": [
       "(1206, 302)"
      ]
     },
     "execution_count": 181,
     "metadata": {},
     "output_type": "execute_result"
    }
   ],
   "source": [
    "y_train.sum(), y_test.sum()"
   ]
  },
  {
   "cell_type": "markdown",
   "metadata": {},
   "source": [
    "Before the modeling, we can visualize our data:"
   ]
  },
  {
   "cell_type": "code",
   "execution_count": 182,
   "metadata": {},
   "outputs": [],
   "source": [
    "from sklearn.manifold import TSNE\n",
    "\n",
    "tsne = TSNE(n_components=2)\n",
    "tsne_data = tsne.fit_transform(X_test[:5000])"
   ]
  },
  {
   "cell_type": "code",
   "execution_count": 183,
   "metadata": {},
   "outputs": [
    {
     "data": {
      "image/png": "[encoded data removed]",
      "text/plain": [
       "<Figure size 432x288 with 1 Axes>"
      ]
     },
     "metadata": {
      "needs_background": "light"
     },
     "output_type": "display_data"
    }
   ],
   "source": [
    "labels = y_test[:5000].reshape(-1)\n",
    "\n",
    "plt.figure()\n",
    "plt.scatter(tsne_data[labels == 0, 0], \n",
    "            tsne_data[labels == 0, 1], c=\"grey\", alpha=0.1, label=\"inlier\")\n",
    "plt.scatter(tsne_data[labels == 1, 0], \n",
    "            tsne_data[labels == 1, 1], c=\"crimson\", alpha=1, label=\"outlier\")\n",
    "plt.legend()\n",
    "sns.despine()\n",
    "plt.title(\"t-SNE for outliers/inliers\")\n",
    "plt.show()"
   ]
  },
  {
   "cell_type": "markdown",
   "metadata": {},
   "source": [
    "## Outlier detection baselines"
   ]
  },
  {
   "cell_type": "markdown",
   "metadata": {},
   "source": [
    "We will use some [outlier detection baselines from sklearn](https://scikit-learn.org/stable/auto_examples/miscellaneous/plot_anomaly_comparison.html#sphx-glr-auto-examples-miscellaneous-plot-anomaly-comparison-py)."
   ]
  },
  {
   "cell_type": "markdown",
   "metadata": {},
   "source": [
    "### Local Outlier Factors "
   ]
  },
  {
   "cell_type": "markdown",
   "metadata": {},
   "source": [
    "This is a non-parametric, density-based method that finds outliers by looking for data points which have significantly lower local densities then their neighbouring points. The rough algorithm is as follows:\n",
    "\n",
    "1. Find the k-nearest neighbors and use the distance to estimate a local density;\n",
    "2. Compare local densities with neighbours to detect outliers.\n",
    "\n",
    "LOF being a distance-based method, it's important that our data is scaled. See more [here](https://scikit-learn.org/stable/modules/generated/sklearn.neighbors.LocalOutlierFactor.html)."
   ]
  },
  {
   "cell_type": "code",
   "execution_count": 184,
   "metadata": {},
   "outputs": [],
   "source": [
    "from sklearn.neighbors import LocalOutlierFactor\n",
    "\n",
    "lof = LocalOutlierFactor(n_neighbors=5, contamination=y_train.mean(), n_jobs=-1) # n_neighbours should be tuned\n",
    "\n",
    "y_pred = lof.fit_predict(X_train) # 1: inlier, -1: outlier"
   ]
  },
  {
   "cell_type": "code",
   "execution_count": 185,
   "metadata": {},
   "outputs": [
    {
     "name": "stdout",
     "output_type": "stream",
     "text": [
      "              precision    recall  f1-score   support\n",
      "\n",
      "           0       0.97      0.97      0.97     38794\n",
      "           1       0.18      0.18      0.18      1206\n",
      "\n",
      "    accuracy                           0.95     40000\n",
      "   macro avg       0.58      0.58      0.58     40000\n",
      "weighted avg       0.95      0.95      0.95     40000\n",
      "\n"
     ]
    }
   ],
   "source": [
    "cr = classification_report(y_train, np.where(y_pred == 1, 0, 1))\n",
    "print(cr)"
   ]
  },
  {
   "cell_type": "code",
   "execution_count": 186,
   "metadata": {},
   "outputs": [
    {
     "name": "stdout",
     "output_type": "stream",
     "text": [
      "              precision    recall  f1-score   support\n",
      "\n",
      "           0       0.97      0.97      0.97      9698\n",
      "           1       0.12      0.12      0.12       302\n",
      "\n",
      "    accuracy                           0.95     10000\n",
      "   macro avg       0.55      0.55      0.55     10000\n",
      "weighted avg       0.95      0.95      0.95     10000\n",
      "\n"
     ]
    }
   ],
   "source": [
    "y_pred = lof.fit_predict(X_test) # 1: inlier, -1: outlier\n",
    "cr = classification_report(y_test, np.where(y_pred == 1, 0, 1))\n",
    "print(cr)"
   ]
  },
  {
   "cell_type": "markdown",
   "metadata": {},
   "source": [
    "### Elliptic Envelopes"
   ]
  },
  {
   "cell_type": "markdown",
   "metadata": {},
   "source": [
    "Our second baseline is a paramteric method: by assuming that inlier data points are from a Gaussian distribution, we can measure the degree of outlier-ness by the fitted distribution. We perform a robust mean and covariance estimation (which should not be affected by outliers) and calculate the Mahalanobis distances to derive a measure of outlyingness. \n",
    "\n",
    "See more [here](https://scikit-learn.org/stable/modules/generated/sklearn.covariance.EllipticEnvelope.html#sklearn.covariance.EllipticEnvelope)."
   ]
  },
  {
   "cell_type": "code",
   "execution_count": 187,
   "metadata": {
    "collapsed": true,
    "jupyter": {
     "outputs_hidden": true
    }
   },
   "outputs": [
    {
     "name": "stderr",
     "output_type": "stream",
     "text": [
      "/home/daniel/anaconda3/envs/deeplearning/lib/python3.7/site-packages/sklearn/covariance/_robust_covariance.py:171: RuntimeWarning: Determinant has increased; this should not happen: log(det) > log(previous_det) (-307.191724716873637 > -308.646731540435781). You may want to try with a higher value of support_fraction (current value: 0.900).\n",
      "  RuntimeWarning)\n",
      "/home/daniel/anaconda3/envs/deeplearning/lib/python3.7/site-packages/sklearn/covariance/_robust_covariance.py:171: RuntimeWarning: Determinant has increased; this should not happen: log(det) > log(previous_det) (-309.139593426890769 > -309.395235045531365). You may want to try with a higher value of support_fraction (current value: 0.900).\n",
      "  RuntimeWarning)\n",
      "/home/daniel/anaconda3/envs/deeplearning/lib/python3.7/site-packages/sklearn/covariance/_robust_covariance.py:171: RuntimeWarning: Determinant has increased; this should not happen: log(det) > log(previous_det) (-305.608333924624844 > -306.307220834419809). You may want to try with a higher value of support_fraction (current value: 0.900).\n",
      "  RuntimeWarning)\n",
      "/home/daniel/anaconda3/envs/deeplearning/lib/python3.7/site-packages/sklearn/covariance/_robust_covariance.py:171: RuntimeWarning: Determinant has increased; this should not happen: log(det) > log(previous_det) (-306.138507785595493 > -306.306230110580032). You may want to try with a higher value of support_fraction (current value: 0.900).\n",
      "  RuntimeWarning)\n",
      "/home/daniel/anaconda3/envs/deeplearning/lib/python3.7/site-packages/sklearn/covariance/_robust_covariance.py:171: RuntimeWarning: Determinant has increased; this should not happen: log(det) > log(previous_det) (-308.429577520391774 > -308.949485064318139). You may want to try with a higher value of support_fraction (current value: 0.900).\n",
      "  RuntimeWarning)\n",
      "/home/daniel/anaconda3/envs/deeplearning/lib/python3.7/site-packages/sklearn/covariance/_robust_covariance.py:171: RuntimeWarning: Determinant has increased; this should not happen: log(det) > log(previous_det) (-302.951721306614559 > -303.366844745845754). You may want to try with a higher value of support_fraction (current value: 0.900).\n",
      "  RuntimeWarning)\n",
      "/home/daniel/anaconda3/envs/deeplearning/lib/python3.7/site-packages/sklearn/covariance/_robust_covariance.py:171: RuntimeWarning: Determinant has increased; this should not happen: log(det) > log(previous_det) (-309.181173414826048 > -309.722708415138015). You may want to try with a higher value of support_fraction (current value: 0.900).\n",
      "  RuntimeWarning)\n",
      "/home/daniel/anaconda3/envs/deeplearning/lib/python3.7/site-packages/sklearn/covariance/_robust_covariance.py:171: RuntimeWarning: Determinant has increased; this should not happen: log(det) > log(previous_det) (-305.935669375100247 > -306.441268385137334). You may want to try with a higher value of support_fraction (current value: 0.900).\n",
      "  RuntimeWarning)\n",
      "/home/daniel/anaconda3/envs/deeplearning/lib/python3.7/site-packages/sklearn/covariance/_robust_covariance.py:171: RuntimeWarning: Determinant has increased; this should not happen: log(det) > log(previous_det) (-307.150573023215372 > -307.421760801731352). You may want to try with a higher value of support_fraction (current value: 0.900).\n",
      "  RuntimeWarning)\n",
      "/home/daniel/anaconda3/envs/deeplearning/lib/python3.7/site-packages/sklearn/covariance/_robust_covariance.py:171: RuntimeWarning: Determinant has increased; this should not happen: log(det) > log(previous_det) (-307.094360040103140 > -307.930988881508370). You may want to try with a higher value of support_fraction (current value: 0.900).\n",
      "  RuntimeWarning)\n",
      "/home/daniel/anaconda3/envs/deeplearning/lib/python3.7/site-packages/sklearn/covariance/_robust_covariance.py:171: RuntimeWarning: Determinant has increased; this should not happen: log(det) > log(previous_det) (-306.857969033075506 > -308.710792438830879). You may want to try with a higher value of support_fraction (current value: 0.900).\n",
      "  RuntimeWarning)\n",
      "/home/daniel/anaconda3/envs/deeplearning/lib/python3.7/site-packages/sklearn/covariance/_robust_covariance.py:171: RuntimeWarning: Determinant has increased; this should not happen: log(det) > log(previous_det) (-307.972791140839547 > -308.333323918873759). You may want to try with a higher value of support_fraction (current value: 0.900).\n",
      "  RuntimeWarning)\n",
      "/home/daniel/anaconda3/envs/deeplearning/lib/python3.7/site-packages/sklearn/covariance/_robust_covariance.py:171: RuntimeWarning: Determinant has increased; this should not happen: log(det) > log(previous_det) (-305.309400214269431 > -306.795767711078952). You may want to try with a higher value of support_fraction (current value: 0.900).\n",
      "  RuntimeWarning)\n",
      "/home/daniel/anaconda3/envs/deeplearning/lib/python3.7/site-packages/sklearn/covariance/_robust_covariance.py:171: RuntimeWarning: Determinant has increased; this should not happen: log(det) > log(previous_det) (-306.615011129180118 > -308.161789563415368). You may want to try with a higher value of support_fraction (current value: 0.900).\n",
      "  RuntimeWarning)\n",
      "/home/daniel/anaconda3/envs/deeplearning/lib/python3.7/site-packages/sklearn/covariance/_robust_covariance.py:171: RuntimeWarning: Determinant has increased; this should not happen: log(det) > log(previous_det) (-308.198371014360021 > -309.652542370295009). You may want to try with a higher value of support_fraction (current value: 0.900).\n",
      "  RuntimeWarning)\n",
      "/home/daniel/anaconda3/envs/deeplearning/lib/python3.7/site-packages/sklearn/covariance/_robust_covariance.py:171: RuntimeWarning: Determinant has increased; this should not happen: log(det) > log(previous_det) (-307.701600902843040 > -308.247154408511562). You may want to try with a higher value of support_fraction (current value: 0.900).\n",
      "  RuntimeWarning)\n",
      "/home/daniel/anaconda3/envs/deeplearning/lib/python3.7/site-packages/sklearn/covariance/_robust_covariance.py:171: RuntimeWarning: Determinant has increased; this should not happen: log(det) > log(previous_det) (-305.880647128071189 > -306.669562858836173). You may want to try with a higher value of support_fraction (current value: 0.900).\n",
      "  RuntimeWarning)\n",
      "/home/daniel/anaconda3/envs/deeplearning/lib/python3.7/site-packages/sklearn/covariance/_robust_covariance.py:171: RuntimeWarning: Determinant has increased; this should not happen: log(det) > log(previous_det) (-307.476867255031777 > -307.922970793667275). You may want to try with a higher value of support_fraction (current value: 0.900).\n",
      "  RuntimeWarning)\n",
      "/home/daniel/anaconda3/envs/deeplearning/lib/python3.7/site-packages/sklearn/covariance/_robust_covariance.py:171: RuntimeWarning: Determinant has increased; this should not happen: log(det) > log(previous_det) (-306.835745975106136 > -307.254688238216488). You may want to try with a higher value of support_fraction (current value: 0.900).\n",
      "  RuntimeWarning)\n",
      "/home/daniel/anaconda3/envs/deeplearning/lib/python3.7/site-packages/sklearn/covariance/_robust_covariance.py:171: RuntimeWarning: Determinant has increased; this should not happen: log(det) > log(previous_det) (-307.392221590199256 > -310.156202787288635). You may want to try with a higher value of support_fraction (current value: 0.900).\n",
      "  RuntimeWarning)\n",
      "/home/daniel/anaconda3/envs/deeplearning/lib/python3.7/site-packages/sklearn/covariance/_robust_covariance.py:171: RuntimeWarning: Determinant has increased; this should not happen: log(det) > log(previous_det) (-308.478959739327593 > -309.152632759985579). You may want to try with a higher value of support_fraction (current value: 0.900).\n",
      "  RuntimeWarning)\n",
      "/home/daniel/anaconda3/envs/deeplearning/lib/python3.7/site-packages/sklearn/covariance/_robust_covariance.py:171: RuntimeWarning: Determinant has increased; this should not happen: log(det) > log(previous_det) (-301.040510764162207 > -303.093469598989145). You may want to try with a higher value of support_fraction (current value: 0.900).\n",
      "  RuntimeWarning)\n",
      "/home/daniel/anaconda3/envs/deeplearning/lib/python3.7/site-packages/sklearn/covariance/_robust_covariance.py:171: RuntimeWarning: Determinant has increased; this should not happen: log(det) > log(previous_det) (-305.762814386639832 > -306.221993090667127). You may want to try with a higher value of support_fraction (current value: 0.900).\n",
      "  RuntimeWarning)\n",
      "/home/daniel/anaconda3/envs/deeplearning/lib/python3.7/site-packages/sklearn/covariance/_robust_covariance.py:171: RuntimeWarning: Determinant has increased; this should not happen: log(det) > log(previous_det) (-304.903970079009468 > -305.157800337366780). You may want to try with a higher value of support_fraction (current value: 0.900).\n",
      "  RuntimeWarning)\n",
      "/home/daniel/anaconda3/envs/deeplearning/lib/python3.7/site-packages/sklearn/covariance/_robust_covariance.py:171: RuntimeWarning: Determinant has increased; this should not happen: log(det) > log(previous_det) (-305.765381665774214 > -306.883570309238394). You may want to try with a higher value of support_fraction (current value: 0.900).\n",
      "  RuntimeWarning)\n",
      "/home/daniel/anaconda3/envs/deeplearning/lib/python3.7/site-packages/sklearn/covariance/_robust_covariance.py:171: RuntimeWarning: Determinant has increased; this should not happen: log(det) > log(previous_det) (-307.705020209449685 > -308.843622281105013). You may want to try with a higher value of support_fraction (current value: 0.900).\n",
      "  RuntimeWarning)\n",
      "/home/daniel/anaconda3/envs/deeplearning/lib/python3.7/site-packages/sklearn/covariance/_robust_covariance.py:171: RuntimeWarning: Determinant has increased; this should not happen: log(det) > log(previous_det) (-305.630993163955281 > -306.629196041428372). You may want to try with a higher value of support_fraction (current value: 0.900).\n",
      "  RuntimeWarning)\n",
      "/home/daniel/anaconda3/envs/deeplearning/lib/python3.7/site-packages/sklearn/covariance/_robust_covariance.py:171: RuntimeWarning: Determinant has increased; this should not happen: log(det) > log(previous_det) (-306.773111241394645 > -308.913874076345564). You may want to try with a higher value of support_fraction (current value: 0.900).\n",
      "  RuntimeWarning)\n",
      "/home/daniel/anaconda3/envs/deeplearning/lib/python3.7/site-packages/sklearn/covariance/_robust_covariance.py:171: RuntimeWarning: Determinant has increased; this should not happen: log(det) > log(previous_det) (-307.490394777671952 > -309.016867133536607). You may want to try with a higher value of support_fraction (current value: 0.900).\n",
      "  RuntimeWarning)\n",
      "/home/daniel/anaconda3/envs/deeplearning/lib/python3.7/site-packages/sklearn/covariance/_robust_covariance.py:171: RuntimeWarning: Determinant has increased; this should not happen: log(det) > log(previous_det) (-306.771539310914932 > -308.024959748204537). You may want to try with a higher value of support_fraction (current value: 0.900).\n",
      "  RuntimeWarning)\n",
      "/home/daniel/anaconda3/envs/deeplearning/lib/python3.7/site-packages/sklearn/covariance/_robust_covariance.py:171: RuntimeWarning: Determinant has increased; this should not happen: log(det) > log(previous_det) (-307.470096022753864 > -307.713316342873895). You may want to try with a higher value of support_fraction (current value: 0.900).\n",
      "  RuntimeWarning)\n",
      "/home/daniel/anaconda3/envs/deeplearning/lib/python3.7/site-packages/sklearn/covariance/_robust_covariance.py:171: RuntimeWarning: Determinant has increased; this should not happen: log(det) > log(previous_det) (-306.690165656483600 > -307.264751792930326). You may want to try with a higher value of support_fraction (current value: 0.900).\n",
      "  RuntimeWarning)\n",
      "/home/daniel/anaconda3/envs/deeplearning/lib/python3.7/site-packages/sklearn/covariance/_robust_covariance.py:171: RuntimeWarning: Determinant has increased; this should not happen: log(det) > log(previous_det) (-304.927911778311454 > -304.980785091016742). You may want to try with a higher value of support_fraction (current value: 0.900).\n",
      "  RuntimeWarning)\n",
      "/home/daniel/anaconda3/envs/deeplearning/lib/python3.7/site-packages/sklearn/covariance/_robust_covariance.py:171: RuntimeWarning: Determinant has increased; this should not happen: log(det) > log(previous_det) (-307.061663120241917 > -309.860229011214017). You may want to try with a higher value of support_fraction (current value: 0.900).\n",
      "  RuntimeWarning)\n",
      "/home/daniel/anaconda3/envs/deeplearning/lib/python3.7/site-packages/sklearn/covariance/_robust_covariance.py:171: RuntimeWarning: Determinant has increased; this should not happen: log(det) > log(previous_det) (-307.686904237763088 > -308.287437447772504). You may want to try with a higher value of support_fraction (current value: 0.900).\n",
      "  RuntimeWarning)\n",
      "/home/daniel/anaconda3/envs/deeplearning/lib/python3.7/site-packages/sklearn/covariance/_robust_covariance.py:171: RuntimeWarning: Determinant has increased; this should not happen: log(det) > log(previous_det) (-305.864114325197590 > -306.614047438868511). You may want to try with a higher value of support_fraction (current value: 0.900).\n",
      "  RuntimeWarning)\n",
      "/home/daniel/anaconda3/envs/deeplearning/lib/python3.7/site-packages/sklearn/covariance/_robust_covariance.py:171: RuntimeWarning: Determinant has increased; this should not happen: log(det) > log(previous_det) (-306.849308688615224 > -307.177120776997810). You may want to try with a higher value of support_fraction (current value: 0.900).\n",
      "  RuntimeWarning)\n",
      "/home/daniel/anaconda3/envs/deeplearning/lib/python3.7/site-packages/sklearn/covariance/_robust_covariance.py:171: RuntimeWarning: Determinant has increased; this should not happen: log(det) > log(previous_det) (-307.567831479247786 > -310.074379321007200). You may want to try with a higher value of support_fraction (current value: 0.900).\n",
      "  RuntimeWarning)\n",
      "/home/daniel/anaconda3/envs/deeplearning/lib/python3.7/site-packages/sklearn/covariance/_robust_covariance.py:171: RuntimeWarning: Determinant has increased; this should not happen: log(det) > log(previous_det) (-307.668499841380708 > -308.177355898300789). You may want to try with a higher value of support_fraction (current value: 0.900).\n",
      "  RuntimeWarning)\n",
      "/home/daniel/anaconda3/envs/deeplearning/lib/python3.7/site-packages/sklearn/covariance/_robust_covariance.py:171: RuntimeWarning: Determinant has increased; this should not happen: log(det) > log(previous_det) (-307.745976274309669 > -309.069362316306410). You may want to try with a higher value of support_fraction (current value: 0.900).\n",
      "  RuntimeWarning)\n",
      "/home/daniel/anaconda3/envs/deeplearning/lib/python3.7/site-packages/sklearn/covariance/_robust_covariance.py:171: RuntimeWarning: Determinant has increased; this should not happen: log(det) > log(previous_det) (-307.217729308552748 > -308.462955939587857). You may want to try with a higher value of support_fraction (current value: 0.900).\n",
      "  RuntimeWarning)\n",
      "/home/daniel/anaconda3/envs/deeplearning/lib/python3.7/site-packages/sklearn/covariance/_robust_covariance.py:171: RuntimeWarning: Determinant has increased; this should not happen: log(det) > log(previous_det) (-307.018355512710059 > -307.937828161364791). You may want to try with a higher value of support_fraction (current value: 0.900).\n",
      "  RuntimeWarning)\n",
      "/home/daniel/anaconda3/envs/deeplearning/lib/python3.7/site-packages/sklearn/covariance/_robust_covariance.py:171: RuntimeWarning: Determinant has increased; this should not happen: log(det) > log(previous_det) (-308.326097155911441 > -308.921238086490916). You may want to try with a higher value of support_fraction (current value: 0.900).\n",
      "  RuntimeWarning)\n",
      "/home/daniel/anaconda3/envs/deeplearning/lib/python3.7/site-packages/sklearn/covariance/_robust_covariance.py:171: RuntimeWarning: Determinant has increased; this should not happen: log(det) > log(previous_det) (-307.569466784004248 > -308.540172502452151). You may want to try with a higher value of support_fraction (current value: 0.900).\n",
      "  RuntimeWarning)\n",
      "/home/daniel/anaconda3/envs/deeplearning/lib/python3.7/site-packages/sklearn/covariance/_robust_covariance.py:171: RuntimeWarning: Determinant has increased; this should not happen: log(det) > log(previous_det) (-309.044624793171636 > -310.842472743746384). You may want to try with a higher value of support_fraction (current value: 0.900).\n",
      "  RuntimeWarning)\n",
      "/home/daniel/anaconda3/envs/deeplearning/lib/python3.7/site-packages/sklearn/covariance/_robust_covariance.py:171: RuntimeWarning: Determinant has increased; this should not happen: log(det) > log(previous_det) (-308.000596115521034 > -311.653471078397672). You may want to try with a higher value of support_fraction (current value: 0.900).\n",
      "  RuntimeWarning)\n",
      "/home/daniel/anaconda3/envs/deeplearning/lib/python3.7/site-packages/sklearn/covariance/_robust_covariance.py:171: RuntimeWarning: Determinant has increased; this should not happen: log(det) > log(previous_det) (-305.820927610898082 > -309.591293162815646). You may want to try with a higher value of support_fraction (current value: 0.900).\n",
      "  RuntimeWarning)\n",
      "/home/daniel/anaconda3/envs/deeplearning/lib/python3.7/site-packages/sklearn/covariance/_robust_covariance.py:171: RuntimeWarning: Determinant has increased; this should not happen: log(det) > log(previous_det) (-306.326467883487851 > -308.584238106698706). You may want to try with a higher value of support_fraction (current value: 0.900).\n",
      "  RuntimeWarning)\n",
      "/home/daniel/anaconda3/envs/deeplearning/lib/python3.7/site-packages/sklearn/covariance/_robust_covariance.py:171: RuntimeWarning: Determinant has increased; this should not happen: log(det) > log(previous_det) (-307.281913960611575 > -307.730315608441117). You may want to try with a higher value of support_fraction (current value: 0.900).\n",
      "  RuntimeWarning)\n",
      "/home/daniel/anaconda3/envs/deeplearning/lib/python3.7/site-packages/sklearn/covariance/_robust_covariance.py:171: RuntimeWarning: Determinant has increased; this should not happen: log(det) > log(previous_det) (-306.593236773989133 > -311.892197005031960). You may want to try with a higher value of support_fraction (current value: 0.900).\n",
      "  RuntimeWarning)\n",
      "/home/daniel/anaconda3/envs/deeplearning/lib/python3.7/site-packages/sklearn/covariance/_robust_covariance.py:171: RuntimeWarning: Determinant has increased; this should not happen: log(det) > log(previous_det) (-306.635979927385677 > -307.972222522084166). You may want to try with a higher value of support_fraction (current value: 0.900).\n",
      "  RuntimeWarning)\n",
      "/home/daniel/anaconda3/envs/deeplearning/lib/python3.7/site-packages/sklearn/covariance/_robust_covariance.py:171: RuntimeWarning: Determinant has increased; this should not happen: log(det) > log(previous_det) (-309.892555256164997 > -310.617561994017194). You may want to try with a higher value of support_fraction (current value: 0.900).\n",
      "  RuntimeWarning)\n",
      "/home/daniel/anaconda3/envs/deeplearning/lib/python3.7/site-packages/sklearn/covariance/_robust_covariance.py:171: RuntimeWarning: Determinant has increased; this should not happen: log(det) > log(previous_det) (-305.684462773729763 > -306.081287556603684). You may want to try with a higher value of support_fraction (current value: 0.900).\n",
      "  RuntimeWarning)\n",
      "/home/daniel/anaconda3/envs/deeplearning/lib/python3.7/site-packages/sklearn/covariance/_robust_covariance.py:171: RuntimeWarning: Determinant has increased; this should not happen: log(det) > log(previous_det) (-306.584117863320330 > -307.070710786699294). You may want to try with a higher value of support_fraction (current value: 0.900).\n",
      "  RuntimeWarning)\n",
      "/home/daniel/anaconda3/envs/deeplearning/lib/python3.7/site-packages/sklearn/covariance/_robust_covariance.py:171: RuntimeWarning: Determinant has increased; this should not happen: log(det) > log(previous_det) (-306.800577035195602 > -307.429737066995699). You may want to try with a higher value of support_fraction (current value: 0.900).\n",
      "  RuntimeWarning)\n",
      "/home/daniel/anaconda3/envs/deeplearning/lib/python3.7/site-packages/sklearn/covariance/_robust_covariance.py:171: RuntimeWarning: Determinant has increased; this should not happen: log(det) > log(previous_det) (-299.658780969884276 > -300.535542666169306). You may want to try with a higher value of support_fraction (current value: 0.900).\n",
      "  RuntimeWarning)\n"
     ]
    }
   ],
   "source": [
    "from sklearn.covariance import EllipticEnvelope\n",
    "\n",
    "ee = EllipticEnvelope(contamination=y_train.mean(), support_fraction=0.9)\n",
    "y_pred = ee.fit_predict(X_train)"
   ]
  },
  {
   "cell_type": "code",
   "execution_count": 188,
   "metadata": {},
   "outputs": [
    {
     "name": "stdout",
     "output_type": "stream",
     "text": [
      "              precision    recall  f1-score   support\n",
      "\n",
      "           0       0.97      0.97      0.97     38794\n",
      "           1       0.03      0.03      0.03      1206\n",
      "\n",
      "    accuracy                           0.94     40000\n",
      "   macro avg       0.50      0.50      0.50     40000\n",
      "weighted avg       0.94      0.94      0.94     40000\n",
      "\n"
     ]
    }
   ],
   "source": [
    "cr = classification_report(y_train, np.where(y_pred == 1, 0, 1))\n",
    "print(cr)"
   ]
  },
  {
   "cell_type": "code",
   "execution_count": 189,
   "metadata": {},
   "outputs": [
    {
     "name": "stdout",
     "output_type": "stream",
     "text": [
      "              precision    recall  f1-score   support\n",
      "\n",
      "           0       0.97      0.97      0.97      9698\n",
      "           1       0.02      0.02      0.02       302\n",
      "\n",
      "    accuracy                           0.94     10000\n",
      "   macro avg       0.49      0.49      0.49     10000\n",
      "weighted avg       0.94      0.94      0.94     10000\n",
      "\n"
     ]
    }
   ],
   "source": [
    "y_pred = ee.predict(X_test) # 1: inlier, -1: outlier\n",
    "cr = classification_report(y_test, np.where(y_pred == 1, 0, 1))\n",
    "print(cr)"
   ]
  },
  {
   "cell_type": "markdown",
   "metadata": {},
   "source": [
    "### Isolation Forest "
   ]
  },
  {
   "cell_type": "markdown",
   "metadata": {},
   "source": [
    "Lastly, another non-parametric method is the Isolation Forest. The idea is that a decision tree can isolate outlier data points (by splitting the data along features) by much shorter branches than inliers. We randomly select features and split values, recursively partitioning our data. The path length, averaged over a forest of such random trees, is a measure of inlier-ness: the longer the path the more regular the data point is.\n",
    "\n",
    "See more [here](https://scikit-learn.org/stable/modules/generated/sklearn.ensemble.IsolationForest.html#sklearn.ensemble.IsolationForest)."
   ]
  },
  {
   "cell_type": "code",
   "execution_count": 190,
   "metadata": {},
   "outputs": [],
   "source": [
    "from sklearn.ensemble import IsolationForest\n",
    "\n",
    "isolation_forest = IsolationForest(n_estimators=100, \n",
    "                                   contamination=y_train.mean(),\n",
    "                                  )\n",
    "y_pred = isolation_forest.fit_predict(X_train)"
   ]
  },
  {
   "cell_type": "code",
   "execution_count": 191,
   "metadata": {},
   "outputs": [
    {
     "name": "stdout",
     "output_type": "stream",
     "text": [
      "              precision    recall  f1-score   support\n",
      "\n",
      "           0       0.97      0.97      0.97     38794\n",
      "           1       0.04      0.04      0.04      1206\n",
      "\n",
      "    accuracy                           0.94     40000\n",
      "   macro avg       0.51      0.51      0.51     40000\n",
      "weighted avg       0.94      0.94      0.94     40000\n",
      "\n"
     ]
    }
   ],
   "source": [
    "cr = classification_report(y_train, np.where(y_pred == 1, 0, 1))\n",
    "print(cr)"
   ]
  },
  {
   "cell_type": "code",
   "execution_count": 192,
   "metadata": {},
   "outputs": [
    {
     "name": "stdout",
     "output_type": "stream",
     "text": [
      "              precision    recall  f1-score   support\n",
      "\n",
      "           0       0.97      0.97      0.97      9698\n",
      "           1       0.03      0.03      0.03       302\n",
      "\n",
      "    accuracy                           0.94     10000\n",
      "   macro avg       0.50      0.50      0.50     10000\n",
      "weighted avg       0.94      0.94      0.94     10000\n",
      "\n"
     ]
    }
   ],
   "source": [
    "y_pred = isolation_forest.predict(X_test) # 1: inlier, -1: outlier\n",
    "cr = classification_report(y_test, np.where(y_pred == 1, 0, 1))\n",
    "print(cr)"
   ]
  },
  {
   "cell_type": "markdown",
   "metadata": {},
   "source": [
    "## Randomized autoencoders"
   ]
  },
  {
   "cell_type": "code",
   "execution_count": 328,
   "metadata": {},
   "outputs": [],
   "source": [
    "class RandAE(keras.Model):\n",
    "    def __init__(self, input_dim, encoder_dims, drop_ratio=0.5, **kwargs):\n",
    "        super(RandAE, self).__init__(**kwargs)\n",
    "        \n",
    "        self.input_dim = input_dim\n",
    "        self.hidden_dims = encoder_dims\n",
    "        self.drop_ratio = drop_ratio\n",
    "        \n",
    "        self.encoder, self.encoder_masks = self.get_encoder()\n",
    "        self.decoder, self.decoder_masks = self.get_decoder()\n",
    "        \n",
    "    def get_mask(self, layer) -> np.ndarray:\n",
    "        \"\"\"\n",
    "        Build mask for a layer.\n",
    "        \"\"\"\n",
    "        \n",
    "        shape = layer.input_shape[1], layer.output_shape[1]\n",
    "        \n",
    "        return np.random.choice([0., 1.], size=shape, p=[self.drop_ratio, 1-self.drop_ratio])\n",
    "        \n",
    "    def get_encoder(self) -> (keras.Model, np.ndarray):\n",
    "        \"\"\"\n",
    "        Build the encoder with the connection masks.\n",
    "        \"\"\"\n",
    "        \n",
    "        encoder = keras.Sequential([layers.Input(self.input_dim, name=\"input\")])\n",
    "        encoder_masks = dict()\n",
    "     \n",
    "        for i, dim in enumerate(self.hidden_dims):\n",
    "            activation = \"relu\" if i > 0 else \"sigmoid\"\n",
    "            layer_name = f\"encoder_hidden_{i}\"\n",
    "            layer = layers.Dense(dim, activation=activation, name=layer_name)\n",
    "            encoder.add(layer)\n",
    "            encoder_masks[layer_name] = self.get_mask(layer)\n",
    "            \n",
    "        return encoder, encoder_masks\n",
    "    \n",
    "    def get_decoder(self) -> (keras.Model, np.ndarray):\n",
    "        \"\"\"\n",
    "        Build the decoder with the connection masks.\n",
    "        \"\"\"\n",
    "        \n",
    "        decoder = keras.Sequential([layers.Input(self.hidden_dims[-1])])\n",
    "        decoder_masks = dict()\n",
    "        decoder_dims = self.hidden_dims[:-1][::-1] + [self.input_dim]\n",
    "        last_idx = len(decoder_dims) - 1 \n",
    "        \n",
    "        for i, dim in enumerate(decoder_dims):\n",
    "            activation = \"relu\" if i < last_idx else \"sigmoid\"\n",
    "            layer_name = f\"decoder_hidden_{i}\" if i < last_idx else \"output\"\n",
    "            layer = layers.Dense(dim, activation=activation, name=layer_name)\n",
    "            decoder.add(layer)\n",
    "            \n",
    "            # random mask except for output layer\n",
    "            if i < last_idx:\n",
    "                decoder_masks[layer_name] = self.get_mask(layer) \n",
    "        \n",
    "        return decoder, decoder_masks\n",
    "    \n",
    "    def mask_weights(self) -> None:\n",
    "        \"\"\"\n",
    "        Apply the masks to each layer in the encoder and decoder.\n",
    "        \"\"\"\n",
    "        \n",
    "        for model, masks in [(self.encoder, self.encoder_masks),\n",
    "                             (self.decoder, self.decoder_masks)]:\n",
    "            for layer in model.layers:\n",
    "                layer_name = layer.name\n",
    "                if layer_name in masks:\n",
    "                    masked_w = layer.weights[0].numpy()*masks[layer_name]\n",
    "                    b = layer.weights[1].numpy()\n",
    "                    layer.set_weights((masked_w, b))\n",
    "                    \n",
    "    def call(self, data) -> tf.Tensor:\n",
    "        \n",
    "        # mask the weights before forward pass\n",
    "        self.mask_weights()\n",
    "        \n",
    "        # encode-decode\n",
    "        latent = self.encoder(data)\n",
    "        output = self.decoder(latent)\n",
    "        \n",
    "        return output\n",
    "    \n",
    "    "
   ]
  },
  {
   "cell_type": "markdown",
   "metadata": {},
   "source": [
    "## Training an ensemble"
   ]
  },
  {
   "cell_type": "code",
   "execution_count": 399,
   "metadata": {},
   "outputs": [
    {
     "name": "stdout",
     "output_type": "stream",
     "text": [
      "Epoch 1/5\n",
      "313/313 [==============================] - 13s 40ms/step - loss: 0.4198\n",
      "Epoch 2/5\n",
      "313/313 [==============================] - 13s 41ms/step - loss: 0.0936\n",
      "Epoch 3/5\n",
      "313/313 [==============================] - 13s 40ms/step - loss: 0.0852\n",
      "Epoch 4/5\n",
      "313/313 [==============================] - 13s 41ms/step - loss: 0.0840\n",
      "Epoch 5/5\n",
      "313/313 [==============================] - 13s 42ms/step - loss: 0.0834\n",
      "Epoch 1/5\n",
      "313/313 [==============================] - 13s 41ms/step - loss: 0.1542\n",
      "Epoch 2/5\n",
      "313/313 [==============================] - 13s 41ms/step - loss: 0.0838\n",
      "Epoch 3/5\n",
      "313/313 [==============================] - 13s 43ms/step - loss: 0.0828\n",
      "Epoch 4/5\n",
      "313/313 [==============================] - 13s 41ms/step - loss: 0.0819\n",
      "Epoch 5/5\n",
      "313/313 [==============================] - 13s 40ms/step - loss: 0.0777\n",
      "Epoch 1/5\n",
      "313/313 [==============================] - 13s 42ms/step - loss: 0.1350\n",
      "Epoch 2/5\n",
      "313/313 [==============================] - 12s 39ms/step - loss: 0.0833\n",
      "Epoch 3/5\n",
      "313/313 [==============================] - 12s 39ms/step - loss: 0.0824\n",
      "Epoch 4/5\n",
      "313/313 [==============================] - 13s 41ms/step - loss: 0.0816\n",
      "Epoch 5/5\n",
      "313/313 [==============================] - 13s 41ms/step - loss: 0.0807\n",
      "Epoch 1/5\n",
      "313/313 [==============================] - 13s 42ms/step - loss: 0.1355\n",
      "Epoch 2/5\n",
      "313/313 [==============================] - 16s 50ms/step - loss: 0.0806\n",
      "Epoch 3/5\n",
      "313/313 [==============================] - 14s 44ms/step - loss: 0.0775\n",
      "Epoch 4/5\n",
      "313/313 [==============================] - 13s 40ms/step - loss: 0.0766\n",
      "Epoch 5/5\n",
      "313/313 [==============================] - 13s 41ms/step - loss: 0.0762\n",
      "Epoch 1/5\n",
      "313/313 [==============================] - 13s 42ms/step - loss: 0.1311\n",
      "Epoch 2/5\n",
      "313/313 [==============================] - 13s 41ms/step - loss: 0.0833\n",
      "Epoch 3/5\n",
      "313/313 [==============================] - 13s 41ms/step - loss: 0.0823\n",
      "Epoch 4/5\n",
      "313/313 [==============================] - 13s 41ms/step - loss: 0.0797\n",
      "Epoch 5/5\n",
      "313/313 [==============================] - 13s 40ms/step - loss: 0.0773\n"
     ]
    }
   ],
   "source": [
    "MODEL_PARAMS ={\"input_dim\": X_train.shape[1],\n",
    "               \"encoder_dims\": [16, 8],\n",
    "              \"drop_ratio\": 0.5}\n",
    "\n",
    "COMPILE_PARAMS = {\"optimizer\": keras.optimizers.Adam(learning_rate=1e-3),\n",
    "                 \"loss\": keras.losses.BinaryCrossentropy(),\n",
    "                 \"run_eagerly\": True,}\n",
    "\n",
    "TRAIN_PARAMS = {\"epochs\": 5,\n",
    "                \"batch_size\": 128,\n",
    "                \"verbose\": 1}\n",
    "\n",
    "n_models = 5\n",
    "ensemble = []\n",
    "\n",
    "for i in range(n_models):\n",
    "    model = RandAE(**MODEL_PARAMS)\n",
    "    model.compile(**COMPILE_PARAMS)\n",
    "\n",
    "    model.fit(X_train, \n",
    "              X_train,\n",
    "              #validation_data=(X_test, X_test),\n",
    "              **TRAIN_PARAMS\n",
    "          )\n",
    "    model.save_weights(f\"models/randae_model_{i}\")\n",
    "    ensemble.append(model)"
   ]
  },
  {
   "cell_type": "code",
   "execution_count": 400,
   "metadata": {},
   "outputs": [],
   "source": [
    "# load models\n",
    "ensemble = [RandAE(**MODEL_PARAMS) for i in range(n_models)]\n",
    "for model in ensemble:\n",
    "    model.load_weights(f\"models/randae_model_{i}\")\n",
    "    model.compile(run_eagerly=True)"
   ]
  },
  {
   "cell_type": "code",
   "execution_count": 401,
   "metadata": {},
   "outputs": [],
   "source": [
    "# make ensemble predictions\n",
    "predictions = [model.predict(X_test) for model in ensemble]"
   ]
  },
  {
   "cell_type": "code",
   "execution_count": 402,
   "metadata": {},
   "outputs": [],
   "source": [
    "reconstruction_loss = np.stack([np.square((pred - X_test)).mean(axis=1) for pred in predictions], axis=1)\n",
    "median_loss = np.median(reconstruction_loss, axis=1)\n",
    "\n",
    "threshold = np.quantile(median_loss, 1-y_train.mean())\n",
    "test_outliers = np.where(median_loss > threshold, 1, 0)"
   ]
  },
  {
   "cell_type": "code",
   "execution_count": 403,
   "metadata": {},
   "outputs": [
    {
     "name": "stdout",
     "output_type": "stream",
     "text": [
      "              precision    recall  f1-score   support\n",
      "\n",
      "           0       0.97      0.97      0.97      9698\n",
      "           1       0.04      0.04      0.04       302\n",
      "\n",
      "    accuracy                           0.94     10000\n",
      "   macro avg       0.50      0.50      0.50     10000\n",
      "weighted avg       0.94      0.94      0.94     10000\n",
      "\n"
     ]
    }
   ],
   "source": [
    "cr = classification_report(y_test, test_outliers)\n",
    "print(cr)"
   ]
  },
  {
   "cell_type": "markdown",
   "metadata": {},
   "source": [
    "## Latent manifold learning "
   ]
  },
  {
   "cell_type": "code",
   "execution_count": 406,
   "metadata": {},
   "outputs": [
    {
     "name": "stdout",
     "output_type": "stream",
     "text": [
      "Epoch 1/10\n",
      "1250/1250 [==============================] - 68s 55ms/step - loss: 0.0889 - val_loss: 0.0775\n",
      "Epoch 2/10\n",
      " 233/1250 [====>.........................] - ETA: 51s - loss: 0.0783"
     ]
    },
    {
     "ename": "KeyboardInterrupt",
     "evalue": "",
     "output_type": "error",
     "traceback": [
      "\u001b[0;31m---------------------------------------------------------------------------\u001b[0m",
      "\u001b[0;31mKeyboardInterrupt\u001b[0m                         Traceback (most recent call last)",
      "\u001b[0;32m<ipython-input-406-cee536c61e2d>\u001b[0m in \u001b[0;36m<module>\u001b[0;34m\u001b[0m\n\u001b[1;32m      6\u001b[0m           \u001b[0mvalidation_data\u001b[0m\u001b[0;34m=\u001b[0m\u001b[0;34m(\u001b[0m\u001b[0mX_test\u001b[0m\u001b[0;34m,\u001b[0m \u001b[0mX_test\u001b[0m\u001b[0;34m)\u001b[0m\u001b[0;34m,\u001b[0m\u001b[0;34m\u001b[0m\u001b[0;34m\u001b[0m\u001b[0m\n\u001b[1;32m      7\u001b[0m           \u001b[0mepochs\u001b[0m\u001b[0;34m=\u001b[0m\u001b[0;36m10\u001b[0m\u001b[0;34m,\u001b[0m\u001b[0;34m\u001b[0m\u001b[0;34m\u001b[0m\u001b[0m\n\u001b[0;32m----> 8\u001b[0;31m           \u001b[0mbatch_size\u001b[0m\u001b[0;34m=\u001b[0m\u001b[0;36m32\u001b[0m\u001b[0;34m,\u001b[0m\u001b[0;34m\u001b[0m\u001b[0;34m\u001b[0m\u001b[0m\n\u001b[0m\u001b[1;32m      9\u001b[0m       )\n",
      "\u001b[0;32m~/anaconda3/envs/deeplearning/lib/python3.7/site-packages/tensorflow/python/keras/engine/training.py\u001b[0m in \u001b[0;36m_method_wrapper\u001b[0;34m(self, *args, **kwargs)\u001b[0m\n\u001b[1;32m    106\u001b[0m   \u001b[0;32mdef\u001b[0m \u001b[0m_method_wrapper\u001b[0m\u001b[0;34m(\u001b[0m\u001b[0mself\u001b[0m\u001b[0;34m,\u001b[0m \u001b[0;34m*\u001b[0m\u001b[0margs\u001b[0m\u001b[0;34m,\u001b[0m \u001b[0;34m**\u001b[0m\u001b[0mkwargs\u001b[0m\u001b[0;34m)\u001b[0m\u001b[0;34m:\u001b[0m\u001b[0;34m\u001b[0m\u001b[0;34m\u001b[0m\u001b[0m\n\u001b[1;32m    107\u001b[0m     \u001b[0;32mif\u001b[0m \u001b[0;32mnot\u001b[0m \u001b[0mself\u001b[0m\u001b[0;34m.\u001b[0m\u001b[0m_in_multi_worker_mode\u001b[0m\u001b[0;34m(\u001b[0m\u001b[0;34m)\u001b[0m\u001b[0;34m:\u001b[0m  \u001b[0;31m# pylint: disable=protected-access\u001b[0m\u001b[0;34m\u001b[0m\u001b[0;34m\u001b[0m\u001b[0m\n\u001b[0;32m--> 108\u001b[0;31m       \u001b[0;32mreturn\u001b[0m \u001b[0mmethod\u001b[0m\u001b[0;34m(\u001b[0m\u001b[0mself\u001b[0m\u001b[0;34m,\u001b[0m \u001b[0;34m*\u001b[0m\u001b[0margs\u001b[0m\u001b[0;34m,\u001b[0m \u001b[0;34m**\u001b[0m\u001b[0mkwargs\u001b[0m\u001b[0;34m)\u001b[0m\u001b[0;34m\u001b[0m\u001b[0;34m\u001b[0m\u001b[0m\n\u001b[0m\u001b[1;32m    109\u001b[0m \u001b[0;34m\u001b[0m\u001b[0m\n\u001b[1;32m    110\u001b[0m     \u001b[0;31m# Running inside `run_distribute_coordinator` already.\u001b[0m\u001b[0;34m\u001b[0m\u001b[0;34m\u001b[0m\u001b[0;34m\u001b[0m\u001b[0m\n",
      "\u001b[0;32m~/anaconda3/envs/deeplearning/lib/python3.7/site-packages/tensorflow/python/keras/engine/training.py\u001b[0m in \u001b[0;36mfit\u001b[0;34m(self, x, y, batch_size, epochs, verbose, callbacks, validation_split, validation_data, shuffle, class_weight, sample_weight, initial_epoch, steps_per_epoch, validation_steps, validation_batch_size, validation_freq, max_queue_size, workers, use_multiprocessing)\u001b[0m\n\u001b[1;32m   1096\u001b[0m                 batch_size=batch_size):\n\u001b[1;32m   1097\u001b[0m               \u001b[0mcallbacks\u001b[0m\u001b[0;34m.\u001b[0m\u001b[0mon_train_batch_begin\u001b[0m\u001b[0;34m(\u001b[0m\u001b[0mstep\u001b[0m\u001b[0;34m)\u001b[0m\u001b[0;34m\u001b[0m\u001b[0;34m\u001b[0m\u001b[0m\n\u001b[0;32m-> 1098\u001b[0;31m               \u001b[0mtmp_logs\u001b[0m \u001b[0;34m=\u001b[0m \u001b[0mtrain_function\u001b[0m\u001b[0;34m(\u001b[0m\u001b[0miterator\u001b[0m\u001b[0;34m)\u001b[0m\u001b[0;34m\u001b[0m\u001b[0;34m\u001b[0m\u001b[0m\n\u001b[0m\u001b[1;32m   1099\u001b[0m               \u001b[0;32mif\u001b[0m \u001b[0mdata_handler\u001b[0m\u001b[0;34m.\u001b[0m\u001b[0mshould_sync\u001b[0m\u001b[0;34m:\u001b[0m\u001b[0;34m\u001b[0m\u001b[0;34m\u001b[0m\u001b[0m\n\u001b[1;32m   1100\u001b[0m                 \u001b[0mcontext\u001b[0m\u001b[0;34m.\u001b[0m\u001b[0masync_wait\u001b[0m\u001b[0;34m(\u001b[0m\u001b[0;34m)\u001b[0m\u001b[0;34m\u001b[0m\u001b[0;34m\u001b[0m\u001b[0m\n",
      "\u001b[0;32m~/anaconda3/envs/deeplearning/lib/python3.7/site-packages/tensorflow/python/keras/engine/training.py\u001b[0m in \u001b[0;36mtrain_function\u001b[0;34m(iterator)\u001b[0m\n\u001b[1;32m    804\u001b[0m       \u001b[0;32mdef\u001b[0m \u001b[0mtrain_function\u001b[0m\u001b[0;34m(\u001b[0m\u001b[0miterator\u001b[0m\u001b[0;34m)\u001b[0m\u001b[0;34m:\u001b[0m\u001b[0;34m\u001b[0m\u001b[0;34m\u001b[0m\u001b[0m\n\u001b[1;32m    805\u001b[0m         \u001b[0;34m\"\"\"Runs a training execution with one step.\"\"\"\u001b[0m\u001b[0;34m\u001b[0m\u001b[0;34m\u001b[0m\u001b[0m\n\u001b[0;32m--> 806\u001b[0;31m         \u001b[0;32mreturn\u001b[0m \u001b[0mstep_function\u001b[0m\u001b[0;34m(\u001b[0m\u001b[0mself\u001b[0m\u001b[0;34m,\u001b[0m \u001b[0miterator\u001b[0m\u001b[0;34m)\u001b[0m\u001b[0;34m\u001b[0m\u001b[0;34m\u001b[0m\u001b[0m\n\u001b[0m\u001b[1;32m    807\u001b[0m \u001b[0;34m\u001b[0m\u001b[0m\n\u001b[1;32m    808\u001b[0m     \u001b[0;32melse\u001b[0m\u001b[0;34m:\u001b[0m\u001b[0;34m\u001b[0m\u001b[0;34m\u001b[0m\u001b[0m\n",
      "\u001b[0;32m~/anaconda3/envs/deeplearning/lib/python3.7/site-packages/tensorflow/python/keras/engine/training.py\u001b[0m in \u001b[0;36mstep_function\u001b[0;34m(model, iterator)\u001b[0m\n\u001b[1;32m    794\u001b[0m \u001b[0;34m\u001b[0m\u001b[0m\n\u001b[1;32m    795\u001b[0m       \u001b[0mdata\u001b[0m \u001b[0;34m=\u001b[0m \u001b[0mnext\u001b[0m\u001b[0;34m(\u001b[0m\u001b[0miterator\u001b[0m\u001b[0;34m)\u001b[0m\u001b[0;34m\u001b[0m\u001b[0;34m\u001b[0m\u001b[0m\n\u001b[0;32m--> 796\u001b[0;31m       \u001b[0moutputs\u001b[0m \u001b[0;34m=\u001b[0m \u001b[0mmodel\u001b[0m\u001b[0;34m.\u001b[0m\u001b[0mdistribute_strategy\u001b[0m\u001b[0;34m.\u001b[0m\u001b[0mrun\u001b[0m\u001b[0;34m(\u001b[0m\u001b[0mrun_step\u001b[0m\u001b[0;34m,\u001b[0m \u001b[0margs\u001b[0m\u001b[0;34m=\u001b[0m\u001b[0;34m(\u001b[0m\u001b[0mdata\u001b[0m\u001b[0;34m,\u001b[0m\u001b[0;34m)\u001b[0m\u001b[0;34m)\u001b[0m\u001b[0;34m\u001b[0m\u001b[0;34m\u001b[0m\u001b[0m\n\u001b[0m\u001b[1;32m    797\u001b[0m       outputs = reduce_per_replica(\n\u001b[1;32m    798\u001b[0m           outputs, self.distribute_strategy, reduction='first')\n",
      "\u001b[0;32m~/anaconda3/envs/deeplearning/lib/python3.7/site-packages/tensorflow/python/distribute/distribute_lib.py\u001b[0m in \u001b[0;36mrun\u001b[0;34m(***failed resolving arguments***)\u001b[0m\n\u001b[1;32m   1209\u001b[0m       fn = autograph.tf_convert(\n\u001b[1;32m   1210\u001b[0m           fn, autograph_ctx.control_status_ctx(), convert_by_default=False)\n\u001b[0;32m-> 1211\u001b[0;31m       \u001b[0;32mreturn\u001b[0m \u001b[0mself\u001b[0m\u001b[0;34m.\u001b[0m\u001b[0m_extended\u001b[0m\u001b[0;34m.\u001b[0m\u001b[0mcall_for_each_replica\u001b[0m\u001b[0;34m(\u001b[0m\u001b[0mfn\u001b[0m\u001b[0;34m,\u001b[0m \u001b[0margs\u001b[0m\u001b[0;34m=\u001b[0m\u001b[0margs\u001b[0m\u001b[0;34m,\u001b[0m \u001b[0mkwargs\u001b[0m\u001b[0;34m=\u001b[0m\u001b[0mkwargs\u001b[0m\u001b[0;34m)\u001b[0m\u001b[0;34m\u001b[0m\u001b[0;34m\u001b[0m\u001b[0m\n\u001b[0m\u001b[1;32m   1212\u001b[0m \u001b[0;34m\u001b[0m\u001b[0m\n\u001b[1;32m   1213\u001b[0m   \u001b[0;31m# TODO(b/151224785): Remove deprecated alias.\u001b[0m\u001b[0;34m\u001b[0m\u001b[0;34m\u001b[0m\u001b[0;34m\u001b[0m\u001b[0m\n",
      "\u001b[0;32m~/anaconda3/envs/deeplearning/lib/python3.7/site-packages/tensorflow/python/distribute/distribute_lib.py\u001b[0m in \u001b[0;36mcall_for_each_replica\u001b[0;34m(self, fn, args, kwargs)\u001b[0m\n\u001b[1;32m   2583\u001b[0m       \u001b[0mkwargs\u001b[0m \u001b[0;34m=\u001b[0m \u001b[0;34m{\u001b[0m\u001b[0;34m}\u001b[0m\u001b[0;34m\u001b[0m\u001b[0;34m\u001b[0m\u001b[0m\n\u001b[1;32m   2584\u001b[0m     \u001b[0;32mwith\u001b[0m \u001b[0mself\u001b[0m\u001b[0;34m.\u001b[0m\u001b[0m_container_strategy\u001b[0m\u001b[0;34m(\u001b[0m\u001b[0;34m)\u001b[0m\u001b[0;34m.\u001b[0m\u001b[0mscope\u001b[0m\u001b[0;34m(\u001b[0m\u001b[0;34m)\u001b[0m\u001b[0;34m:\u001b[0m\u001b[0;34m\u001b[0m\u001b[0;34m\u001b[0m\u001b[0m\n\u001b[0;32m-> 2585\u001b[0;31m       \u001b[0;32mreturn\u001b[0m \u001b[0mself\u001b[0m\u001b[0;34m.\u001b[0m\u001b[0m_call_for_each_replica\u001b[0m\u001b[0;34m(\u001b[0m\u001b[0mfn\u001b[0m\u001b[0;34m,\u001b[0m \u001b[0margs\u001b[0m\u001b[0;34m,\u001b[0m \u001b[0mkwargs\u001b[0m\u001b[0;34m)\u001b[0m\u001b[0;34m\u001b[0m\u001b[0;34m\u001b[0m\u001b[0m\n\u001b[0m\u001b[1;32m   2586\u001b[0m \u001b[0;34m\u001b[0m\u001b[0m\n\u001b[1;32m   2587\u001b[0m   \u001b[0;32mdef\u001b[0m \u001b[0m_call_for_each_replica\u001b[0m\u001b[0;34m(\u001b[0m\u001b[0mself\u001b[0m\u001b[0;34m,\u001b[0m \u001b[0mfn\u001b[0m\u001b[0;34m,\u001b[0m \u001b[0margs\u001b[0m\u001b[0;34m,\u001b[0m \u001b[0mkwargs\u001b[0m\u001b[0;34m)\u001b[0m\u001b[0;34m:\u001b[0m\u001b[0;34m\u001b[0m\u001b[0;34m\u001b[0m\u001b[0m\n",
      "\u001b[0;32m~/anaconda3/envs/deeplearning/lib/python3.7/site-packages/tensorflow/python/distribute/distribute_lib.py\u001b[0m in \u001b[0;36m_call_for_each_replica\u001b[0;34m(self, fn, args, kwargs)\u001b[0m\n\u001b[1;32m   2943\u001b[0m         \u001b[0mself\u001b[0m\u001b[0;34m.\u001b[0m\u001b[0m_container_strategy\u001b[0m\u001b[0;34m(\u001b[0m\u001b[0;34m)\u001b[0m\u001b[0;34m,\u001b[0m\u001b[0;34m\u001b[0m\u001b[0;34m\u001b[0m\u001b[0m\n\u001b[1;32m   2944\u001b[0m         replica_id_in_sync_group=constant_op.constant(0, dtypes.int32)):\n\u001b[0;32m-> 2945\u001b[0;31m       \u001b[0;32mreturn\u001b[0m \u001b[0mfn\u001b[0m\u001b[0;34m(\u001b[0m\u001b[0;34m*\u001b[0m\u001b[0margs\u001b[0m\u001b[0;34m,\u001b[0m \u001b[0;34m**\u001b[0m\u001b[0mkwargs\u001b[0m\u001b[0;34m)\u001b[0m\u001b[0;34m\u001b[0m\u001b[0;34m\u001b[0m\u001b[0m\n\u001b[0m\u001b[1;32m   2946\u001b[0m \u001b[0;34m\u001b[0m\u001b[0m\n\u001b[1;32m   2947\u001b[0m   \u001b[0;32mdef\u001b[0m \u001b[0m_reduce_to\u001b[0m\u001b[0;34m(\u001b[0m\u001b[0mself\u001b[0m\u001b[0;34m,\u001b[0m \u001b[0mreduce_op\u001b[0m\u001b[0;34m,\u001b[0m \u001b[0mvalue\u001b[0m\u001b[0;34m,\u001b[0m \u001b[0mdestinations\u001b[0m\u001b[0;34m,\u001b[0m \u001b[0mexperimental_hints\u001b[0m\u001b[0;34m)\u001b[0m\u001b[0;34m:\u001b[0m\u001b[0;34m\u001b[0m\u001b[0;34m\u001b[0m\u001b[0m\n",
      "\u001b[0;32m~/anaconda3/envs/deeplearning/lib/python3.7/site-packages/tensorflow/python/autograph/impl/api.py\u001b[0m in \u001b[0;36mwrapper\u001b[0;34m(*args, **kwargs)\u001b[0m\n\u001b[1;32m    273\u001b[0m   \u001b[0;32mdef\u001b[0m \u001b[0mwrapper\u001b[0m\u001b[0;34m(\u001b[0m\u001b[0;34m*\u001b[0m\u001b[0margs\u001b[0m\u001b[0;34m,\u001b[0m \u001b[0;34m**\u001b[0m\u001b[0mkwargs\u001b[0m\u001b[0;34m)\u001b[0m\u001b[0;34m:\u001b[0m\u001b[0;34m\u001b[0m\u001b[0;34m\u001b[0m\u001b[0m\n\u001b[1;32m    274\u001b[0m     \u001b[0;32mwith\u001b[0m \u001b[0mag_ctx\u001b[0m\u001b[0;34m.\u001b[0m\u001b[0mControlStatusCtx\u001b[0m\u001b[0;34m(\u001b[0m\u001b[0mstatus\u001b[0m\u001b[0;34m=\u001b[0m\u001b[0mag_ctx\u001b[0m\u001b[0;34m.\u001b[0m\u001b[0mStatus\u001b[0m\u001b[0;34m.\u001b[0m\u001b[0mUNSPECIFIED\u001b[0m\u001b[0;34m)\u001b[0m\u001b[0;34m:\u001b[0m\u001b[0;34m\u001b[0m\u001b[0;34m\u001b[0m\u001b[0m\n\u001b[0;32m--> 275\u001b[0;31m       \u001b[0;32mreturn\u001b[0m \u001b[0mfunc\u001b[0m\u001b[0;34m(\u001b[0m\u001b[0;34m*\u001b[0m\u001b[0margs\u001b[0m\u001b[0;34m,\u001b[0m \u001b[0;34m**\u001b[0m\u001b[0mkwargs\u001b[0m\u001b[0;34m)\u001b[0m\u001b[0;34m\u001b[0m\u001b[0;34m\u001b[0m\u001b[0m\n\u001b[0m\u001b[1;32m    276\u001b[0m \u001b[0;34m\u001b[0m\u001b[0m\n\u001b[1;32m    277\u001b[0m   \u001b[0;32mif\u001b[0m \u001b[0minspect\u001b[0m\u001b[0;34m.\u001b[0m\u001b[0misfunction\u001b[0m\u001b[0;34m(\u001b[0m\u001b[0mfunc\u001b[0m\u001b[0;34m)\u001b[0m \u001b[0;32mor\u001b[0m \u001b[0minspect\u001b[0m\u001b[0;34m.\u001b[0m\u001b[0mismethod\u001b[0m\u001b[0;34m(\u001b[0m\u001b[0mfunc\u001b[0m\u001b[0;34m)\u001b[0m\u001b[0;34m:\u001b[0m\u001b[0;34m\u001b[0m\u001b[0;34m\u001b[0m\u001b[0m\n",
      "\u001b[0;32m~/anaconda3/envs/deeplearning/lib/python3.7/site-packages/tensorflow/python/keras/engine/training.py\u001b[0m in \u001b[0;36mrun_step\u001b[0;34m(data)\u001b[0m\n\u001b[1;32m    787\u001b[0m \u001b[0;34m\u001b[0m\u001b[0m\n\u001b[1;32m    788\u001b[0m       \u001b[0;32mdef\u001b[0m \u001b[0mrun_step\u001b[0m\u001b[0;34m(\u001b[0m\u001b[0mdata\u001b[0m\u001b[0;34m)\u001b[0m\u001b[0;34m:\u001b[0m\u001b[0;34m\u001b[0m\u001b[0;34m\u001b[0m\u001b[0m\n\u001b[0;32m--> 789\u001b[0;31m         \u001b[0moutputs\u001b[0m \u001b[0;34m=\u001b[0m \u001b[0mmodel\u001b[0m\u001b[0;34m.\u001b[0m\u001b[0mtrain_step\u001b[0m\u001b[0;34m(\u001b[0m\u001b[0mdata\u001b[0m\u001b[0;34m)\u001b[0m\u001b[0;34m\u001b[0m\u001b[0;34m\u001b[0m\u001b[0m\n\u001b[0m\u001b[1;32m    790\u001b[0m         \u001b[0;31m# Ensure counter is updated only if `train_step` succeeds.\u001b[0m\u001b[0;34m\u001b[0m\u001b[0;34m\u001b[0m\u001b[0;34m\u001b[0m\u001b[0m\n\u001b[1;32m    791\u001b[0m         \u001b[0;32mwith\u001b[0m \u001b[0mops\u001b[0m\u001b[0;34m.\u001b[0m\u001b[0mcontrol_dependencies\u001b[0m\u001b[0;34m(\u001b[0m\u001b[0m_minimum_control_deps\u001b[0m\u001b[0;34m(\u001b[0m\u001b[0moutputs\u001b[0m\u001b[0;34m)\u001b[0m\u001b[0;34m)\u001b[0m\u001b[0;34m:\u001b[0m\u001b[0;34m\u001b[0m\u001b[0;34m\u001b[0m\u001b[0m\n",
      "\u001b[0;32m~/anaconda3/envs/deeplearning/lib/python3.7/site-packages/tensorflow/python/keras/engine/training.py\u001b[0m in \u001b[0;36mtrain_step\u001b[0;34m(self, data)\u001b[0m\n\u001b[1;32m    755\u001b[0m     \u001b[0;31m# such as loss scaling and gradient clipping.\u001b[0m\u001b[0;34m\u001b[0m\u001b[0;34m\u001b[0m\u001b[0;34m\u001b[0m\u001b[0m\n\u001b[1;32m    756\u001b[0m     _minimize(self.distribute_strategy, tape, self.optimizer, loss,\n\u001b[0;32m--> 757\u001b[0;31m               self.trainable_variables)\n\u001b[0m\u001b[1;32m    758\u001b[0m \u001b[0;34m\u001b[0m\u001b[0m\n\u001b[1;32m    759\u001b[0m     \u001b[0mself\u001b[0m\u001b[0;34m.\u001b[0m\u001b[0mcompiled_metrics\u001b[0m\u001b[0;34m.\u001b[0m\u001b[0mupdate_state\u001b[0m\u001b[0;34m(\u001b[0m\u001b[0my\u001b[0m\u001b[0;34m,\u001b[0m \u001b[0my_pred\u001b[0m\u001b[0;34m,\u001b[0m \u001b[0msample_weight\u001b[0m\u001b[0;34m)\u001b[0m\u001b[0;34m\u001b[0m\u001b[0;34m\u001b[0m\u001b[0m\n",
      "\u001b[0;32m~/anaconda3/envs/deeplearning/lib/python3.7/site-packages/tensorflow/python/keras/engine/training.py\u001b[0m in \u001b[0;36m_minimize\u001b[0;34m(strategy, tape, optimizer, loss, trainable_variables)\u001b[0m\n\u001b[1;32m   2720\u001b[0m       \u001b[0mloss\u001b[0m \u001b[0;34m=\u001b[0m \u001b[0moptimizer\u001b[0m\u001b[0;34m.\u001b[0m\u001b[0mget_scaled_loss\u001b[0m\u001b[0;34m(\u001b[0m\u001b[0mloss\u001b[0m\u001b[0;34m)\u001b[0m\u001b[0;34m\u001b[0m\u001b[0;34m\u001b[0m\u001b[0m\n\u001b[1;32m   2721\u001b[0m \u001b[0;34m\u001b[0m\u001b[0m\n\u001b[0;32m-> 2722\u001b[0;31m   \u001b[0mgradients\u001b[0m \u001b[0;34m=\u001b[0m \u001b[0mtape\u001b[0m\u001b[0;34m.\u001b[0m\u001b[0mgradient\u001b[0m\u001b[0;34m(\u001b[0m\u001b[0mloss\u001b[0m\u001b[0;34m,\u001b[0m \u001b[0mtrainable_variables\u001b[0m\u001b[0;34m)\u001b[0m\u001b[0;34m\u001b[0m\u001b[0;34m\u001b[0m\u001b[0m\n\u001b[0m\u001b[1;32m   2723\u001b[0m \u001b[0;34m\u001b[0m\u001b[0m\n\u001b[1;32m   2724\u001b[0m   \u001b[0;31m# Whether to aggregate gradients outside of optimizer. This requires support\u001b[0m\u001b[0;34m\u001b[0m\u001b[0;34m\u001b[0m\u001b[0;34m\u001b[0m\u001b[0m\n",
      "\u001b[0;32m~/anaconda3/envs/deeplearning/lib/python3.7/site-packages/tensorflow/python/eager/backprop.py\u001b[0m in \u001b[0;36mgradient\u001b[0;34m(self, target, sources, output_gradients, unconnected_gradients)\u001b[0m\n\u001b[1;32m   1071\u001b[0m         \u001b[0moutput_gradients\u001b[0m\u001b[0;34m=\u001b[0m\u001b[0moutput_gradients\u001b[0m\u001b[0;34m,\u001b[0m\u001b[0;34m\u001b[0m\u001b[0;34m\u001b[0m\u001b[0m\n\u001b[1;32m   1072\u001b[0m         \u001b[0msources_raw\u001b[0m\u001b[0;34m=\u001b[0m\u001b[0mflat_sources_raw\u001b[0m\u001b[0;34m,\u001b[0m\u001b[0;34m\u001b[0m\u001b[0;34m\u001b[0m\u001b[0m\n\u001b[0;32m-> 1073\u001b[0;31m         unconnected_gradients=unconnected_gradients)\n\u001b[0m\u001b[1;32m   1074\u001b[0m \u001b[0;34m\u001b[0m\u001b[0m\n\u001b[1;32m   1075\u001b[0m     \u001b[0;32mif\u001b[0m \u001b[0;32mnot\u001b[0m \u001b[0mself\u001b[0m\u001b[0;34m.\u001b[0m\u001b[0m_persistent\u001b[0m\u001b[0;34m:\u001b[0m\u001b[0;34m\u001b[0m\u001b[0;34m\u001b[0m\u001b[0m\n",
      "\u001b[0;32m~/anaconda3/envs/deeplearning/lib/python3.7/site-packages/tensorflow/python/eager/imperative_grad.py\u001b[0m in \u001b[0;36mimperative_grad\u001b[0;34m(tape, target, sources, output_gradients, sources_raw, unconnected_gradients)\u001b[0m\n\u001b[1;32m     75\u001b[0m       \u001b[0moutput_gradients\u001b[0m\u001b[0;34m,\u001b[0m\u001b[0;34m\u001b[0m\u001b[0;34m\u001b[0m\u001b[0m\n\u001b[1;32m     76\u001b[0m       \u001b[0msources_raw\u001b[0m\u001b[0;34m,\u001b[0m\u001b[0;34m\u001b[0m\u001b[0;34m\u001b[0m\u001b[0m\n\u001b[0;32m---> 77\u001b[0;31m       compat.as_str(unconnected_gradients.value))\n\u001b[0m",
      "\u001b[0;32m~/anaconda3/envs/deeplearning/lib/python3.7/site-packages/tensorflow/python/eager/backprop.py\u001b[0m in \u001b[0;36m_gradient_function\u001b[0;34m(op_name, attr_tuple, num_inputs, inputs, outputs, out_grads, skip_input_indices, forward_pass_name_scope)\u001b[0m\n\u001b[1;32m    130\u001b[0m \u001b[0;34m\u001b[0m\u001b[0m\n\u001b[1;32m    131\u001b[0m \u001b[0;34m\u001b[0m\u001b[0m\n\u001b[0;32m--> 132\u001b[0;31m def _gradient_function(op_name, attr_tuple, num_inputs, inputs, outputs,\n\u001b[0m\u001b[1;32m    133\u001b[0m                        out_grads, skip_input_indices, forward_pass_name_scope):\n\u001b[1;32m    134\u001b[0m   \"\"\"Calls the gradient function of the op.\n",
      "\u001b[0;31mKeyboardInterrupt\u001b[0m: "
     ]
    }
   ],
   "source": [
    "model = RandAE(input_dim=X_train.shape[1], encoder_dims=[16, 8, 4], drop_ratio=0)\n",
    "model.compile(**COMPILE_PARAMS)\n",
    "\n",
    "model.fit(X_train, \n",
    "          X_train,\n",
    "          validation_data=(X_test, X_test),\n",
    "          epochs=10,\n",
    "          batch_size=32,\n",
    "      )"
   ]
  },
  {
   "cell_type": "code",
   "execution_count": null,
   "metadata": {},
   "outputs": [],
   "source": [
    "latent = model.encoder.predict(X_test)"
   ]
  },
  {
   "cell_type": "code",
   "execution_count": null,
   "metadata": {},
   "outputs": [],
   "source": [
    "tsne = TSNE(n_components=2)\n",
    "tsne_data = tsne.fit_transform(latent[:5000])"
   ]
  },
  {
   "cell_type": "code",
   "execution_count": null,
   "metadata": {},
   "outputs": [],
   "source": [
    "labels = y_test[:5000].reshape(-1)\n",
    "\n",
    "plt.figure()\n",
    "plt.scatter(tsne_data[labels == 0, 0], \n",
    "            tsne_data[labels == 0, 1], c=\"grey\", alpha=0.1, label=\"inlier\")\n",
    "plt.scatter(tsne_data[labels == 1, 0], \n",
    "            tsne_data[labels == 1, 1], c=\"crimson\", alpha=1, label=\"outlier\")\n",
    "plt.legend()\n",
    "sns.despine()\n",
    "plt.title(\"t-SNE for outliers/inliers on the latent manifold\")\n",
    "plt.savefig(\"outlier_tsne_latent.png\")\n",
    "plt.show()"
   ]
  },
  {
   "cell_type": "markdown",
   "metadata": {},
   "source": [
    "## Baseline MLP classifier\n",
    "\n",
    "We will train a baseline model to detect fraud."
   ]
  },
  {
   "cell_type": "code",
   "execution_count": 404,
   "metadata": {},
   "outputs": [
    {
     "name": "stdout",
     "output_type": "stream",
     "text": [
      "Epoch 1/10\n",
      "313/313 [==============================] - 2s 6ms/step - loss: 0.3039 - precision_7: 0.0267 - recall_7: 0.0166 - auc_7: 0.5165\n",
      "Epoch 2/10\n",
      "313/313 [==============================] - 2s 5ms/step - loss: 0.1352 - precision_7: 0.0000e+00 - recall_7: 0.0000e+00 - auc_7: 0.5122\n",
      "Epoch 3/10\n",
      "313/313 [==============================] - 2s 5ms/step - loss: 0.1341 - precision_7: 0.0000e+00 - recall_7: 0.0000e+00 - auc_7: 0.5442\n",
      "Epoch 4/10\n",
      "313/313 [==============================] - 2s 5ms/step - loss: 0.1336 - precision_7: 0.0000e+00 - recall_7: 0.0000e+00 - auc_7: 0.5588\n",
      "Epoch 5/10\n",
      "313/313 [==============================] - 2s 6ms/step - loss: 0.1334 - precision_7: 0.0000e+00 - recall_7: 0.0000e+00 - auc_7: 0.5588\n",
      "Epoch 6/10\n",
      "313/313 [==============================] - 2s 6ms/step - loss: 0.1330 - precision_7: 0.0000e+00 - recall_7: 0.0000e+00 - auc_7: 0.5627\n",
      "Epoch 7/10\n",
      "313/313 [==============================] - 2s 5ms/step - loss: 0.1325 - precision_7: 1.0000 - recall_7: 0.0017 - auc_7: 0.5696\n",
      "Epoch 8/10\n",
      "313/313 [==============================] - 2s 5ms/step - loss: 0.1322 - precision_7: 0.7778 - recall_7: 0.0058 - auc_7: 0.5705\n",
      "Epoch 9/10\n",
      "313/313 [==============================] - 2s 5ms/step - loss: 0.1318 - precision_7: 0.6429 - recall_7: 0.0075 - auc_7: 0.5773\n",
      "Epoch 10/10\n",
      "313/313 [==============================] - 2s 5ms/step - loss: 0.1315 - precision_7: 0.8333 - recall_7: 0.0124 - auc_7: 0.5843\n"
     ]
    },
    {
     "data": {
      "text/plain": [
       "<tensorflow.python.keras.callbacks.History at 0x7fa937f07390>"
      ]
     },
     "execution_count": 404,
     "metadata": {},
     "output_type": "execute_result"
    }
   ],
   "source": [
    "base_model = keras.Sequential(\n",
    "    [layers.Input(X.shape[1]),\n",
    "    layers.Dense(16, activation=\"relu\"),\n",
    "    layers.Dense(8, activation=\"relu\"),\n",
    "    layers.Dense(1, activation=\"sigmoid\")]\n",
    ")\n",
    "\n",
    "precision = tf.keras.metrics.Precision()\n",
    "recall = tf.keras.metrics.Recall()\n",
    "auc = tf.keras.metrics.AUC()\n",
    "\n",
    "base_model.compile(optimizer=\"adam\", loss=\"binary_crossentropy\",\n",
    "                  metrics=[precision, recall, auc]\n",
    "                  )\n",
    "\n",
    "base_model.fit(x=X_train, \n",
    "               y=y_train,\n",
    "               epochs=10,\n",
    "               batch_size=128,\n",
    "               #validation_data=(X_val, y_val)\n",
    "          )"
   ]
  },
  {
   "cell_type": "code",
   "execution_count": 107,
   "metadata": {},
   "outputs": [
    {
     "name": "stdout",
     "output_type": "stream",
     "text": [
      "Model: \"sequential_20\"\n",
      "_________________________________________________________________\n",
      "Layer (type)                 Output Shape              Param #   \n",
      "=================================================================\n",
      "dense_57 (Dense)             (None, 29)                870       \n",
      "_________________________________________________________________\n",
      "dense_58 (Dense)             (None, 16)                480       \n",
      "_________________________________________________________________\n",
      "dense_59 (Dense)             (None, 8)                 136       \n",
      "_________________________________________________________________\n",
      "dense_60 (Dense)             (None, 1)                 9         \n",
      "=================================================================\n",
      "Total params: 1,495\n",
      "Trainable params: 1,495\n",
      "Non-trainable params: 0\n",
      "_________________________________________________________________\n"
     ]
    }
   ],
   "source": [
    "base_model.summary()"
   ]
  },
  {
   "cell_type": "code",
   "execution_count": 405,
   "metadata": {},
   "outputs": [
    {
     "name": "stdout",
     "output_type": "stream",
     "text": [
      "              precision    recall  f1-score   support\n",
      "\n",
      "           0       0.97      1.00      0.98      9698\n",
      "           1       1.00      0.01      0.01       302\n",
      "\n",
      "    accuracy                           0.97     10000\n",
      "   macro avg       0.98      0.50      0.50     10000\n",
      "weighted avg       0.97      0.97      0.96     10000\n",
      "\n"
     ]
    },
    {
     "data": {
      "image/png": "[encoded data removed]",
      "text/plain": [
       "<Figure size 432x288 with 1 Axes>"
      ]
     },
     "metadata": {
      "needs_background": "light"
     },
     "output_type": "display_data"
    }
   ],
   "source": [
    "y_pred_prob = base_model.predict(X_test)\n",
    "y_pred = np.where(y_pred_prob > 0.5, 1, 0)\n",
    "\n",
    "from sklearn.metrics import classification_report, roc_curve, roc_auc_score\n",
    "\n",
    "cr = classification_report(y_test, y_pred)\n",
    "print(cr)\n",
    "\n",
    "fpr, tpr, thresholds = roc_curve(y_test, y_pred_prob)\n",
    "rocauc = roc_auc_score(y_test, y_pred_prob)\n",
    "\n",
    "plt.figure()\n",
    "plt.plot(fpr, tpr, label=\"ROC-AUC curve\")\n",
    "plt.legend()\n",
    "plt.title(f\"ROC-AUC score {np.round(rocauc, 2)}\")\n",
    "sns.despine()\n",
    "plt.show()"
   ]
  },
  {
   "cell_type": "markdown",
   "metadata": {},
   "source": [
    "## Autoencoder pretraining "
   ]
  },
  {
   "cell_type": "code",
   "execution_count": 210,
   "metadata": {},
   "outputs": [],
   "source": [
    "encoder = keras.Sequential(\n",
    "    [layers.Input(27),\n",
    "    layers.Dense(16, activation=\"relu\"),]\n",
    ")\n",
    "\n",
    "decoder = keras.Sequential(\n",
    "    [layers.Dense(27, activation=\"linear\")]\n",
    ")\n",
    "\n",
    "ae_model = keras.Sequential(\n",
    "    [encoder, decoder]\n",
    ")"
   ]
  },
  {
   "cell_type": "code",
   "execution_count": 211,
   "metadata": {},
   "outputs": [
    {
     "name": "stdout",
     "output_type": "stream",
     "text": [
      "Epoch 1/10\n",
      "313/313 [==============================] - 1s 2ms/step - loss: 0.0079 - mse: 0.0079\n",
      "Epoch 2/10\n",
      "313/313 [==============================] - 1s 2ms/step - loss: 9.6349e-04 - mse: 9.6349e-04\n",
      "Epoch 3/10\n",
      "313/313 [==============================] - 1s 2ms/step - loss: 4.8645e-04 - mse: 4.8645e-04\n",
      "Epoch 4/10\n",
      "313/313 [==============================] - 1s 2ms/step - loss: 3.5015e-04 - mse: 3.5015e-04\n",
      "Epoch 5/10\n",
      "313/313 [==============================] - 1s 2ms/step - loss: 2.8862e-04 - mse: 2.8862e-04\n",
      "Epoch 6/10\n",
      "254/313 [=======================>......] - ETA: 0s - loss: 2.3274e-04 - mse: 2.3274e-04"
     ]
    },
    {
     "ename": "KeyboardInterrupt",
     "evalue": "",
     "output_type": "error",
     "traceback": [
      "\u001b[0;31m---------------------------------------------------------------------------\u001b[0m",
      "\u001b[0;31mKeyboardInterrupt\u001b[0m                         Traceback (most recent call last)",
      "\u001b[0;32m<ipython-input-211-3c49f5c61f3d>\u001b[0m in \u001b[0;36m<module>\u001b[0;34m\u001b[0m\n\u001b[1;32m      6\u001b[0m              \u001b[0my\u001b[0m\u001b[0;34m=\u001b[0m\u001b[0mX_train\u001b[0m\u001b[0;34m,\u001b[0m\u001b[0;34m\u001b[0m\u001b[0;34m\u001b[0m\u001b[0m\n\u001b[1;32m      7\u001b[0m              \u001b[0mepochs\u001b[0m\u001b[0;34m=\u001b[0m\u001b[0;36m10\u001b[0m\u001b[0;34m,\u001b[0m\u001b[0;34m\u001b[0m\u001b[0;34m\u001b[0m\u001b[0m\n\u001b[0;32m----> 8\u001b[0;31m              \u001b[0mbatch_size\u001b[0m\u001b[0;34m=\u001b[0m\u001b[0;36m128\u001b[0m\u001b[0;34m,\u001b[0m\u001b[0;34m\u001b[0m\u001b[0;34m\u001b[0m\u001b[0m\n\u001b[0m\u001b[1;32m      9\u001b[0m             \u001b[0;31m# validation_data=(X_val, X_val)\u001b[0m\u001b[0;34m\u001b[0m\u001b[0;34m\u001b[0m\u001b[0;34m\u001b[0m\u001b[0m\n\u001b[1;32m     10\u001b[0m           )\n",
      "\u001b[0;32m~/anaconda3/envs/deeplearning/lib/python3.7/site-packages/tensorflow/python/keras/engine/training.py\u001b[0m in \u001b[0;36m_method_wrapper\u001b[0;34m(self, *args, **kwargs)\u001b[0m\n\u001b[1;32m    106\u001b[0m   \u001b[0;32mdef\u001b[0m \u001b[0m_method_wrapper\u001b[0m\u001b[0;34m(\u001b[0m\u001b[0mself\u001b[0m\u001b[0;34m,\u001b[0m \u001b[0;34m*\u001b[0m\u001b[0margs\u001b[0m\u001b[0;34m,\u001b[0m \u001b[0;34m**\u001b[0m\u001b[0mkwargs\u001b[0m\u001b[0;34m)\u001b[0m\u001b[0;34m:\u001b[0m\u001b[0;34m\u001b[0m\u001b[0;34m\u001b[0m\u001b[0m\n\u001b[1;32m    107\u001b[0m     \u001b[0;32mif\u001b[0m \u001b[0;32mnot\u001b[0m \u001b[0mself\u001b[0m\u001b[0;34m.\u001b[0m\u001b[0m_in_multi_worker_mode\u001b[0m\u001b[0;34m(\u001b[0m\u001b[0;34m)\u001b[0m\u001b[0;34m:\u001b[0m  \u001b[0;31m# pylint: disable=protected-access\u001b[0m\u001b[0;34m\u001b[0m\u001b[0;34m\u001b[0m\u001b[0m\n\u001b[0;32m--> 108\u001b[0;31m       \u001b[0;32mreturn\u001b[0m \u001b[0mmethod\u001b[0m\u001b[0;34m(\u001b[0m\u001b[0mself\u001b[0m\u001b[0;34m,\u001b[0m \u001b[0;34m*\u001b[0m\u001b[0margs\u001b[0m\u001b[0;34m,\u001b[0m \u001b[0;34m**\u001b[0m\u001b[0mkwargs\u001b[0m\u001b[0;34m)\u001b[0m\u001b[0;34m\u001b[0m\u001b[0;34m\u001b[0m\u001b[0m\n\u001b[0m\u001b[1;32m    109\u001b[0m \u001b[0;34m\u001b[0m\u001b[0m\n\u001b[1;32m    110\u001b[0m     \u001b[0;31m# Running inside `run_distribute_coordinator` already.\u001b[0m\u001b[0;34m\u001b[0m\u001b[0;34m\u001b[0m\u001b[0;34m\u001b[0m\u001b[0m\n",
      "\u001b[0;32m~/anaconda3/envs/deeplearning/lib/python3.7/site-packages/tensorflow/python/keras/engine/training.py\u001b[0m in \u001b[0;36mfit\u001b[0;34m(self, x, y, batch_size, epochs, verbose, callbacks, validation_split, validation_data, shuffle, class_weight, sample_weight, initial_epoch, steps_per_epoch, validation_steps, validation_batch_size, validation_freq, max_queue_size, workers, use_multiprocessing)\u001b[0m\n\u001b[1;32m   1096\u001b[0m                 batch_size=batch_size):\n\u001b[1;32m   1097\u001b[0m               \u001b[0mcallbacks\u001b[0m\u001b[0;34m.\u001b[0m\u001b[0mon_train_batch_begin\u001b[0m\u001b[0;34m(\u001b[0m\u001b[0mstep\u001b[0m\u001b[0;34m)\u001b[0m\u001b[0;34m\u001b[0m\u001b[0;34m\u001b[0m\u001b[0m\n\u001b[0;32m-> 1098\u001b[0;31m               \u001b[0mtmp_logs\u001b[0m \u001b[0;34m=\u001b[0m \u001b[0mtrain_function\u001b[0m\u001b[0;34m(\u001b[0m\u001b[0miterator\u001b[0m\u001b[0;34m)\u001b[0m\u001b[0;34m\u001b[0m\u001b[0;34m\u001b[0m\u001b[0m\n\u001b[0m\u001b[1;32m   1099\u001b[0m               \u001b[0;32mif\u001b[0m \u001b[0mdata_handler\u001b[0m\u001b[0;34m.\u001b[0m\u001b[0mshould_sync\u001b[0m\u001b[0;34m:\u001b[0m\u001b[0;34m\u001b[0m\u001b[0;34m\u001b[0m\u001b[0m\n\u001b[1;32m   1100\u001b[0m                 \u001b[0mcontext\u001b[0m\u001b[0;34m.\u001b[0m\u001b[0masync_wait\u001b[0m\u001b[0;34m(\u001b[0m\u001b[0;34m)\u001b[0m\u001b[0;34m\u001b[0m\u001b[0;34m\u001b[0m\u001b[0m\n",
      "\u001b[0;32m~/anaconda3/envs/deeplearning/lib/python3.7/site-packages/tensorflow/python/eager/def_function.py\u001b[0m in \u001b[0;36m__call__\u001b[0;34m(self, *args, **kwds)\u001b[0m\n\u001b[1;32m    778\u001b[0m       \u001b[0;32melse\u001b[0m\u001b[0;34m:\u001b[0m\u001b[0;34m\u001b[0m\u001b[0;34m\u001b[0m\u001b[0m\n\u001b[1;32m    779\u001b[0m         \u001b[0mcompiler\u001b[0m \u001b[0;34m=\u001b[0m \u001b[0;34m\"nonXla\"\u001b[0m\u001b[0;34m\u001b[0m\u001b[0;34m\u001b[0m\u001b[0m\n\u001b[0;32m--> 780\u001b[0;31m         \u001b[0mresult\u001b[0m \u001b[0;34m=\u001b[0m \u001b[0mself\u001b[0m\u001b[0;34m.\u001b[0m\u001b[0m_call\u001b[0m\u001b[0;34m(\u001b[0m\u001b[0;34m*\u001b[0m\u001b[0margs\u001b[0m\u001b[0;34m,\u001b[0m \u001b[0;34m**\u001b[0m\u001b[0mkwds\u001b[0m\u001b[0;34m)\u001b[0m\u001b[0;34m\u001b[0m\u001b[0;34m\u001b[0m\u001b[0m\n\u001b[0m\u001b[1;32m    781\u001b[0m \u001b[0;34m\u001b[0m\u001b[0m\n\u001b[1;32m    782\u001b[0m       \u001b[0mnew_tracing_count\u001b[0m \u001b[0;34m=\u001b[0m \u001b[0mself\u001b[0m\u001b[0;34m.\u001b[0m\u001b[0m_get_tracing_count\u001b[0m\u001b[0;34m(\u001b[0m\u001b[0;34m)\u001b[0m\u001b[0;34m\u001b[0m\u001b[0;34m\u001b[0m\u001b[0m\n",
      "\u001b[0;32m~/anaconda3/envs/deeplearning/lib/python3.7/site-packages/tensorflow/python/eager/def_function.py\u001b[0m in \u001b[0;36m_call\u001b[0;34m(self, *args, **kwds)\u001b[0m\n\u001b[1;32m    805\u001b[0m       \u001b[0;31m# In this case we have created variables on the first call, so we run the\u001b[0m\u001b[0;34m\u001b[0m\u001b[0;34m\u001b[0m\u001b[0;34m\u001b[0m\u001b[0m\n\u001b[1;32m    806\u001b[0m       \u001b[0;31m# defunned version which is guaranteed to never create variables.\u001b[0m\u001b[0;34m\u001b[0m\u001b[0;34m\u001b[0m\u001b[0;34m\u001b[0m\u001b[0m\n\u001b[0;32m--> 807\u001b[0;31m       \u001b[0;32mreturn\u001b[0m \u001b[0mself\u001b[0m\u001b[0;34m.\u001b[0m\u001b[0m_stateless_fn\u001b[0m\u001b[0;34m(\u001b[0m\u001b[0;34m*\u001b[0m\u001b[0margs\u001b[0m\u001b[0;34m,\u001b[0m \u001b[0;34m**\u001b[0m\u001b[0mkwds\u001b[0m\u001b[0;34m)\u001b[0m  \u001b[0;31m# pylint: disable=not-callable\u001b[0m\u001b[0;34m\u001b[0m\u001b[0;34m\u001b[0m\u001b[0m\n\u001b[0m\u001b[1;32m    808\u001b[0m     \u001b[0;32melif\u001b[0m \u001b[0mself\u001b[0m\u001b[0;34m.\u001b[0m\u001b[0m_stateful_fn\u001b[0m \u001b[0;32mis\u001b[0m \u001b[0;32mnot\u001b[0m \u001b[0;32mNone\u001b[0m\u001b[0;34m:\u001b[0m\u001b[0;34m\u001b[0m\u001b[0;34m\u001b[0m\u001b[0m\n\u001b[1;32m    809\u001b[0m       \u001b[0;31m# Release the lock early so that multiple threads can perform the call\u001b[0m\u001b[0;34m\u001b[0m\u001b[0;34m\u001b[0m\u001b[0;34m\u001b[0m\u001b[0m\n",
      "\u001b[0;32m~/anaconda3/envs/deeplearning/lib/python3.7/site-packages/tensorflow/python/eager/function.py\u001b[0m in \u001b[0;36m__call__\u001b[0;34m(self, *args, **kwargs)\u001b[0m\n\u001b[1;32m   2827\u001b[0m     \u001b[0;32mwith\u001b[0m \u001b[0mself\u001b[0m\u001b[0;34m.\u001b[0m\u001b[0m_lock\u001b[0m\u001b[0;34m:\u001b[0m\u001b[0;34m\u001b[0m\u001b[0;34m\u001b[0m\u001b[0m\n\u001b[1;32m   2828\u001b[0m       \u001b[0mgraph_function\u001b[0m\u001b[0;34m,\u001b[0m \u001b[0margs\u001b[0m\u001b[0;34m,\u001b[0m \u001b[0mkwargs\u001b[0m \u001b[0;34m=\u001b[0m \u001b[0mself\u001b[0m\u001b[0;34m.\u001b[0m\u001b[0m_maybe_define_function\u001b[0m\u001b[0;34m(\u001b[0m\u001b[0margs\u001b[0m\u001b[0;34m,\u001b[0m \u001b[0mkwargs\u001b[0m\u001b[0;34m)\u001b[0m\u001b[0;34m\u001b[0m\u001b[0;34m\u001b[0m\u001b[0m\n\u001b[0;32m-> 2829\u001b[0;31m     \u001b[0;32mreturn\u001b[0m \u001b[0mgraph_function\u001b[0m\u001b[0;34m.\u001b[0m\u001b[0m_filtered_call\u001b[0m\u001b[0;34m(\u001b[0m\u001b[0margs\u001b[0m\u001b[0;34m,\u001b[0m \u001b[0mkwargs\u001b[0m\u001b[0;34m)\u001b[0m  \u001b[0;31m# pylint: disable=protected-access\u001b[0m\u001b[0;34m\u001b[0m\u001b[0;34m\u001b[0m\u001b[0m\n\u001b[0m\u001b[1;32m   2830\u001b[0m \u001b[0;34m\u001b[0m\u001b[0m\n\u001b[1;32m   2831\u001b[0m   \u001b[0;34m@\u001b[0m\u001b[0mproperty\u001b[0m\u001b[0;34m\u001b[0m\u001b[0;34m\u001b[0m\u001b[0m\n",
      "\u001b[0;32m~/anaconda3/envs/deeplearning/lib/python3.7/site-packages/tensorflow/python/eager/function.py\u001b[0m in \u001b[0;36m_filtered_call\u001b[0;34m(self, args, kwargs, cancellation_manager)\u001b[0m\n\u001b[1;32m   1846\u001b[0m                            resource_variable_ops.BaseResourceVariable))],\n\u001b[1;32m   1847\u001b[0m         \u001b[0mcaptured_inputs\u001b[0m\u001b[0;34m=\u001b[0m\u001b[0mself\u001b[0m\u001b[0;34m.\u001b[0m\u001b[0mcaptured_inputs\u001b[0m\u001b[0;34m,\u001b[0m\u001b[0;34m\u001b[0m\u001b[0;34m\u001b[0m\u001b[0m\n\u001b[0;32m-> 1848\u001b[0;31m         cancellation_manager=cancellation_manager)\n\u001b[0m\u001b[1;32m   1849\u001b[0m \u001b[0;34m\u001b[0m\u001b[0m\n\u001b[1;32m   1850\u001b[0m   \u001b[0;32mdef\u001b[0m \u001b[0m_call_flat\u001b[0m\u001b[0;34m(\u001b[0m\u001b[0mself\u001b[0m\u001b[0;34m,\u001b[0m \u001b[0margs\u001b[0m\u001b[0;34m,\u001b[0m \u001b[0mcaptured_inputs\u001b[0m\u001b[0;34m,\u001b[0m \u001b[0mcancellation_manager\u001b[0m\u001b[0;34m=\u001b[0m\u001b[0;32mNone\u001b[0m\u001b[0;34m)\u001b[0m\u001b[0;34m:\u001b[0m\u001b[0;34m\u001b[0m\u001b[0;34m\u001b[0m\u001b[0m\n",
      "\u001b[0;32m~/anaconda3/envs/deeplearning/lib/python3.7/site-packages/tensorflow/python/eager/function.py\u001b[0m in \u001b[0;36m_call_flat\u001b[0;34m(self, args, captured_inputs, cancellation_manager)\u001b[0m\n\u001b[1;32m   1922\u001b[0m       \u001b[0;31m# No tape is watching; skip to running the function.\u001b[0m\u001b[0;34m\u001b[0m\u001b[0;34m\u001b[0m\u001b[0;34m\u001b[0m\u001b[0m\n\u001b[1;32m   1923\u001b[0m       return self._build_call_outputs(self._inference_function.call(\n\u001b[0;32m-> 1924\u001b[0;31m           ctx, args, cancellation_manager=cancellation_manager))\n\u001b[0m\u001b[1;32m   1925\u001b[0m     forward_backward = self._select_forward_and_backward_functions(\n\u001b[1;32m   1926\u001b[0m         \u001b[0margs\u001b[0m\u001b[0;34m,\u001b[0m\u001b[0;34m\u001b[0m\u001b[0;34m\u001b[0m\u001b[0m\n",
      "\u001b[0;32m~/anaconda3/envs/deeplearning/lib/python3.7/site-packages/tensorflow/python/eager/function.py\u001b[0m in \u001b[0;36mcall\u001b[0;34m(self, ctx, args, cancellation_manager)\u001b[0m\n\u001b[1;32m    548\u001b[0m               \u001b[0minputs\u001b[0m\u001b[0;34m=\u001b[0m\u001b[0margs\u001b[0m\u001b[0;34m,\u001b[0m\u001b[0;34m\u001b[0m\u001b[0;34m\u001b[0m\u001b[0m\n\u001b[1;32m    549\u001b[0m               \u001b[0mattrs\u001b[0m\u001b[0;34m=\u001b[0m\u001b[0mattrs\u001b[0m\u001b[0;34m,\u001b[0m\u001b[0;34m\u001b[0m\u001b[0;34m\u001b[0m\u001b[0m\n\u001b[0;32m--> 550\u001b[0;31m               ctx=ctx)\n\u001b[0m\u001b[1;32m    551\u001b[0m         \u001b[0;32melse\u001b[0m\u001b[0;34m:\u001b[0m\u001b[0;34m\u001b[0m\u001b[0;34m\u001b[0m\u001b[0m\n\u001b[1;32m    552\u001b[0m           outputs = execute.execute_with_cancellation(\n",
      "\u001b[0;32m~/anaconda3/envs/deeplearning/lib/python3.7/site-packages/tensorflow/python/eager/execute.py\u001b[0m in \u001b[0;36mquick_execute\u001b[0;34m(op_name, num_outputs, inputs, attrs, ctx, name)\u001b[0m\n\u001b[1;32m     58\u001b[0m     \u001b[0mctx\u001b[0m\u001b[0;34m.\u001b[0m\u001b[0mensure_initialized\u001b[0m\u001b[0;34m(\u001b[0m\u001b[0;34m)\u001b[0m\u001b[0;34m\u001b[0m\u001b[0;34m\u001b[0m\u001b[0m\n\u001b[1;32m     59\u001b[0m     tensors = pywrap_tfe.TFE_Py_Execute(ctx._handle, device_name, op_name,\n\u001b[0;32m---> 60\u001b[0;31m                                         inputs, attrs, num_outputs)\n\u001b[0m\u001b[1;32m     61\u001b[0m   \u001b[0;32mexcept\u001b[0m \u001b[0mcore\u001b[0m\u001b[0;34m.\u001b[0m\u001b[0m_NotOkStatusException\u001b[0m \u001b[0;32mas\u001b[0m \u001b[0me\u001b[0m\u001b[0;34m:\u001b[0m\u001b[0;34m\u001b[0m\u001b[0;34m\u001b[0m\u001b[0m\n\u001b[1;32m     62\u001b[0m     \u001b[0;32mif\u001b[0m \u001b[0mname\u001b[0m \u001b[0;32mis\u001b[0m \u001b[0;32mnot\u001b[0m \u001b[0;32mNone\u001b[0m\u001b[0;34m:\u001b[0m\u001b[0;34m\u001b[0m\u001b[0;34m\u001b[0m\u001b[0m\n",
      "\u001b[0;31mKeyboardInterrupt\u001b[0m: "
     ]
    }
   ],
   "source": [
    "ae_model.compile(optimizer=\"adam\", loss=keras.losses.MeanSquaredError(),\n",
    "                  metrics=[\"mse\"]\n",
    "                  )\n",
    "\n",
    "ae_model.fit(x=X_train, \n",
    "             y=X_train,\n",
    "             epochs=10,\n",
    "             batch_size=128,\n",
    "            # validation_data=(X_val, X_val)\n",
    "          )"
   ]
  },
  {
   "cell_type": "code",
   "execution_count": null,
   "metadata": {},
   "outputs": [],
   "source": [
    "latent_data = encoder.predict(X_test[:10000])\n",
    "\n",
    "tsne = TSNE(n_components=2)\n",
    "tsne_data = tsne.fit_transform(latent_data)"
   ]
  },
  {
   "cell_type": "code",
   "execution_count": 134,
   "metadata": {},
   "outputs": [
    {
     "data": {
      "image/png": "[encoded data removed]",
      "text/plain": [
       "<Figure size 432x288 with 1 Axes>"
      ]
     },
     "metadata": {
      "needs_background": "light"
     },
     "output_type": "display_data"
    }
   ],
   "source": [
    "labels = y_test[:10000].reshape(-1)\n",
    "\n",
    "plt.figure()\n",
    "plt.scatter(tsne_data[labels == 0, 0], \n",
    "            tsne_data[labels == 0, 1], c=\"grey\", alpha=0.1, label=\"legit\")\n",
    "plt.scatter(tsne_data[labels == 1, 0], \n",
    "            tsne_data[labels == 1, 1], c=\"crimson\", alpha=1, label=\"fraud\")\n",
    "plt.legend()\n",
    "sns.despine()\n",
    "plt.title(\"Latent representation of fraudulent claims\")\n",
    "plt.show()"
   ]
  },
  {
   "cell_type": "markdown",
   "metadata": {},
   "source": [
    "## Using the pretrained model to boost preformance"
   ]
  },
  {
   "cell_type": "code",
   "execution_count": 110,
   "metadata": {},
   "outputs": [
    {
     "name": "stdout",
     "output_type": "stream",
     "text": [
      "Epoch 1/10\n",
      "1425/1425 [==============================] - 7s 5ms/step - loss: 0.0766 - precision_14: 0.0317 - recall_14: 0.2386 - auc_14: 0.6939 - val_loss: 0.0049 - val_precision_14: 0.8095 - val_recall_14: 0.6456 - val_auc_14: 0.9091\n",
      "Epoch 2/10\n",
      "1425/1425 [==============================] - 5s 4ms/step - loss: 0.0053 - precision_14: 0.8718 - recall_14: 0.5397 - auc_14: 0.8997 - val_loss: 0.0044 - val_precision_14: 0.8387 - val_recall_14: 0.6582 - val_auc_14: 0.9228\n",
      "Epoch 3/10\n",
      "1425/1425 [==============================] - 7s 5ms/step - loss: 0.0049 - precision_14: 0.8517 - recall_14: 0.5651 - auc_14: 0.8984 - val_loss: 0.0053 - val_precision_14: 0.7632 - val_recall_14: 0.7342 - val_auc_14: 0.9268\n",
      "Epoch 4/10\n",
      "1425/1425 [==============================] - 7s 5ms/step - loss: 0.0047 - precision_14: 0.8832 - recall_14: 0.6000 - auc_14: 0.8982 - val_loss: 0.0044 - val_precision_14: 0.8182 - val_recall_14: 0.6835 - val_auc_14: 0.9287\n",
      "Epoch 5/10\n",
      "1425/1425 [==============================] - 8s 5ms/step - loss: 0.0045 - precision_14: 0.8744 - recall_14: 0.6190 - auc_14: 0.9031 - val_loss: 0.0043 - val_precision_14: 0.8182 - val_recall_14: 0.6835 - val_auc_14: 0.9105\n",
      "Epoch 6/10\n",
      "1425/1425 [==============================] - 8s 5ms/step - loss: 0.0044 - precision_14: 0.8684 - recall_14: 0.6286 - auc_14: 0.9063 - val_loss: 0.0042 - val_precision_14: 0.8235 - val_recall_14: 0.7089 - val_auc_14: 0.9290\n",
      "Epoch 7/10\n",
      "1425/1425 [==============================] - 8s 5ms/step - loss: 0.0043 - precision_14: 0.8675 - recall_14: 0.6444 - auc_14: 0.9062 - val_loss: 0.0045 - val_precision_14: 0.7534 - val_recall_14: 0.6962 - val_auc_14: 0.9278\n",
      "Epoch 8/10\n",
      "1425/1425 [==============================] - 8s 5ms/step - loss: 0.0042 - precision_14: 0.8542 - recall_14: 0.6508 - auc_14: 0.9095 - val_loss: 0.0044 - val_precision_14: 0.8261 - val_recall_14: 0.7215 - val_auc_14: 0.9277\n",
      "Epoch 9/10\n",
      "1425/1425 [==============================] - 8s 5ms/step - loss: 0.0042 - precision_14: 0.8661 - recall_14: 0.6571 - auc_14: 0.9080 - val_loss: 0.0042 - val_precision_14: 0.7857 - val_recall_14: 0.6962 - val_auc_14: 0.9101\n",
      "Epoch 10/10\n",
      "1425/1425 [==============================] - 8s 5ms/step - loss: 0.0041 - precision_14: 0.8655 - recall_14: 0.6540 - auc_14: 0.9222 - val_loss: 0.0043 - val_precision_14: 0.8235 - val_recall_14: 0.7089 - val_auc_14: 0.9108\n"
     ]
    },
    {
     "data": {
      "text/plain": [
       "<tensorflow.python.keras.callbacks.History at 0x7f958b776f90>"
      ]
     },
     "execution_count": 110,
     "metadata": {},
     "output_type": "execute_result"
    }
   ],
   "source": [
    "# copy encoder\n",
    "pretrained_encoder = tf.keras.models.clone_model(encoder)\n",
    "\n",
    "# freeze encoder layers -> we use the latent representations only \n",
    "for layer in pretrained_encoder.layers:\n",
    "    layer.trainable = False\n",
    "\n",
    "# add the same type of model and match the number of trainable parameters\n",
    "pretrained_model = keras.Sequential(\n",
    "    [pretrained_encoder, \n",
    "     layers.Dense(32, activation=\"relu\"),\n",
    "     layers.Dense(16, activation=\"relu\"),\n",
    "     layers.Dense(8, activation=\"relu\"),\n",
    "     layers.Dense(1, activation=\"sigmoid\")]\n",
    ")\n",
    "\n",
    "pretrained_model.compile(optimizer=keras.optimizers.Adam(learning_rate=0.001),\n",
    "                   loss=\"binary_crossentropy\",\n",
    "                   metrics=[precision, recall, auc]\n",
    "                  )\n",
    "\n",
    "pretrained_model.fit(x=X_train, \n",
    "                     y=y_train,\n",
    "                     epochs=10,\n",
    "                     batch_size=128,\n",
    "                     validation_data=(X_val, y_val)\n",
    "          )"
   ]
  },
  {
   "cell_type": "code",
   "execution_count": 111,
   "metadata": {},
   "outputs": [
    {
     "name": "stdout",
     "output_type": "stream",
     "text": [
      "Model: \"sequential_23\"\n",
      "_________________________________________________________________\n",
      "Layer (type)                 Output Shape              Param #   \n",
      "=================================================================\n",
      "sequential_14 (Sequential)   (None, 8)                 1486      \n",
      "_________________________________________________________________\n",
      "dense_66 (Dense)             (None, 32)                288       \n",
      "_________________________________________________________________\n",
      "dense_67 (Dense)             (None, 16)                528       \n",
      "_________________________________________________________________\n",
      "dense_68 (Dense)             (None, 8)                 136       \n",
      "_________________________________________________________________\n",
      "dense_69 (Dense)             (None, 1)                 9         \n",
      "=================================================================\n",
      "Total params: 2,447\n",
      "Trainable params: 961\n",
      "Non-trainable params: 1,486\n",
      "_________________________________________________________________\n"
     ]
    }
   ],
   "source": [
    "pretrained_model.summary()"
   ]
  },
  {
   "cell_type": "code",
   "execution_count": 112,
   "metadata": {},
   "outputs": [
    {
     "name": "stdout",
     "output_type": "stream",
     "text": [
      "              precision    recall  f1-score   support\n",
      "\n",
      "           0       1.00      1.00      1.00     56864\n",
      "           1       0.82      0.60      0.69        98\n",
      "\n",
      "    accuracy                           1.00     56962\n",
      "   macro avg       0.91      0.80      0.85     56962\n",
      "weighted avg       1.00      1.00      1.00     56962\n",
      "\n"
     ]
    },
    {
     "data": {
      "image/png": "[encoded data removed]",
      "text/plain": [
       "<Figure size 432x288 with 1 Axes>"
      ]
     },
     "metadata": {
      "needs_background": "light"
     },
     "output_type": "display_data"
    }
   ],
   "source": [
    "y_pred_prob = pretrained_model.predict(X_test)\n",
    "y_pred = np.where(y_pred_prob > 0.5, 1, 0)\n",
    "\n",
    "cr = classification_report(y_test, y_pred)\n",
    "print(cr)\n",
    "\n",
    "fpr, tpr, thresholds = roc_curve(y_test, y_pred_prob)\n",
    "rocauc = roc_auc_score(y_test, y_pred_prob)\n",
    "\n",
    "plt.figure()\n",
    "plt.plot(fpr, tpr, label=\"ROC-AUC curve\")\n",
    "plt.legend()\n",
    "plt.title(f\"ROC-AUC score {np.round(rocauc, 2)}\")\n",
    "sns.despine()\n",
    "plt.show()"
   ]
  },
  {
   "cell_type": "markdown",
   "metadata": {},
   "source": [
    "## Setup with insufficient labeled data"
   ]
  },
  {
   "cell_type": "code",
   "execution_count": 2,
   "metadata": {},
   "outputs": [],
   "source": [
    "from sklearn.model_selection import train_test_split"
   ]
  },
  {
   "cell_type": "code",
   "execution_count": 8,
   "metadata": {},
   "outputs": [],
   "source": [
    "(x_train, y_train), (x_test, y_test) = keras.datasets.mnist.load_data()"
   ]
  },
  {
   "cell_type": "code",
   "execution_count": 9,
   "metadata": {},
   "outputs": [],
   "source": [
    "# data spec\n",
    "labeled_size = 1000\n",
    "unlabeled_size = 10_000 \n",
    "test_sample_size = 10_000\n",
    "\n",
    "x_labeled = x_train[:labeled_size]\n",
    "y_labeled = y_train[:labeled_size]\n",
    "\n",
    "x_unlabeled = x_train[labeled_size:labeled_size+unlabeled_size]\n",
    "\n",
    "x_test_sample = x_test[:test_sample_size]\n",
    "y_test_sample = y_test[:test_sample_size]\n",
    "\n",
    "x_labeled = np.expand_dims(x_labeled, -1).astype(\"float32\") / 255\n",
    "x_unlabeled = np.expand_dims(x_unlabeled, -1).astype(\"float32\") / 255\n",
    "x_test_sample = np.expand_dims(x_test_sample, -1).astype(\"float32\") / 255"
   ]
  },
  {
   "cell_type": "markdown",
   "metadata": {},
   "source": [
    "## Model construction "
   ]
  },
  {
   "cell_type": "code",
   "execution_count": 10,
   "metadata": {},
   "outputs": [
    {
     "name": "stdout",
     "output_type": "stream",
     "text": [
      "Model: \"encoder\"\n",
      "_________________________________________________________________\n",
      "Layer (type)                 Output Shape              Param #   \n",
      "=================================================================\n",
      "input_3 (InputLayer)         [(None, 28, 28, 1)]       0         \n",
      "_________________________________________________________________\n",
      "conv2d_2 (Conv2D)            (None, 14, 14, 32)        320       \n",
      "_________________________________________________________________\n",
      "conv2d_3 (Conv2D)            (None, 7, 7, 64)          18496     \n",
      "_________________________________________________________________\n",
      "flatten_1 (Flatten)          (None, 3136)              0         \n",
      "_________________________________________________________________\n",
      "dense_2 (Dense)              (None, 16)                50192     \n",
      "=================================================================\n",
      "Total params: 69,008\n",
      "Trainable params: 69,008\n",
      "Non-trainable params: 0\n",
      "_________________________________________________________________\n"
     ]
    }
   ],
   "source": [
    "latent_dim = 16\n",
    "\n",
    "encoder_inputs = keras.Input(shape=(28, 28, 1))\n",
    "\n",
    "x = layers.Conv2D(32, 3, activation=\"relu\", strides=2, padding=\"same\")(encoder_inputs)\n",
    "x = layers.Conv2D(64, 3, activation=\"relu\", strides=2, padding=\"same\")(x)\n",
    "x = layers.Flatten()(x)\n",
    "z = layers.Dense(latent_dim, activation=\"relu\")(x)\n",
    "\n",
    "encoder = keras.Model(encoder_inputs, z, name=\"encoder\")\n",
    "encoder.summary()"
   ]
  },
  {
   "cell_type": "code",
   "execution_count": 11,
   "metadata": {},
   "outputs": [
    {
     "name": "stdout",
     "output_type": "stream",
     "text": [
      "Model: \"decoder\"\n",
      "_________________________________________________________________\n",
      "Layer (type)                 Output Shape              Param #   \n",
      "=================================================================\n",
      "input_4 (InputLayer)         [(None, 16)]              0         \n",
      "_________________________________________________________________\n",
      "dense_3 (Dense)              (None, 3136)              53312     \n",
      "_________________________________________________________________\n",
      "reshape_1 (Reshape)          (None, 7, 7, 64)          0         \n",
      "_________________________________________________________________\n",
      "conv2d_transpose_3 (Conv2DTr (None, 14, 14, 64)        36928     \n",
      "_________________________________________________________________\n",
      "conv2d_transpose_4 (Conv2DTr (None, 28, 28, 32)        18464     \n",
      "_________________________________________________________________\n",
      "conv2d_transpose_5 (Conv2DTr (None, 28, 28, 1)         289       \n",
      "=================================================================\n",
      "Total params: 108,993\n",
      "Trainable params: 108,993\n",
      "Non-trainable params: 0\n",
      "_________________________________________________________________\n"
     ]
    }
   ],
   "source": [
    "latent_inputs = keras.Input(shape=(latent_dim,))\n",
    "\n",
    "x = layers.Dense(7 * 7 * 64, activation=\"relu\")(latent_inputs)\n",
    "x = layers.Reshape((7, 7, 64))(x)\n",
    "x = layers.Conv2DTranspose(64, 3, activation=\"relu\", strides=2, padding=\"same\")(x)\n",
    "x = layers.Conv2DTranspose(32, 3, activation=\"relu\", strides=2, padding=\"same\")(x)\n",
    "decoder_outputs = layers.Conv2DTranspose(1, 3, activation=\"sigmoid\", padding=\"same\")(x)\n",
    "\n",
    "decoder = keras.Model(latent_inputs, decoder_outputs, name=\"decoder\")\n",
    "\n",
    "decoder.summary()"
   ]
  },
  {
   "cell_type": "code",
   "execution_count": 12,
   "metadata": {},
   "outputs": [],
   "source": [
    "ae_model = keras.Sequential()\n",
    "ae_model.add(encoder)\n",
    "ae_model.add(decoder)"
   ]
  },
  {
   "cell_type": "code",
   "execution_count": 13,
   "metadata": {},
   "outputs": [
    {
     "data": {
      "text/plain": [
       "<tensorflow.python.keras.engine.sequential.Sequential at 0x7fac97d22310>"
      ]
     },
     "execution_count": 13,
     "metadata": {},
     "output_type": "execute_result"
    }
   ],
   "source": [
    "ae_model"
   ]
  },
  {
   "cell_type": "code",
   "execution_count": 14,
   "metadata": {},
   "outputs": [],
   "source": [
    "ae_model.compile(loss=\"mean_squared_error\", \n",
    "                 optimizer=\"adam\", \n",
    "                 metrics=[\"mean_squared_error\"])"
   ]
  },
  {
   "cell_type": "code",
   "execution_count": 15,
   "metadata": {},
   "outputs": [
    {
     "name": "stdout",
     "output_type": "stream",
     "text": [
      "Epoch 1/10\n",
      "86/86 [==============================] - 30s 354ms/step - loss: 0.1051 - mean_squared_error: 0.1051\n",
      "Epoch 2/10\n",
      "86/86 [==============================] - 32s 375ms/step - loss: 0.0520 - mean_squared_error: 0.0520\n",
      "Epoch 3/10\n",
      "86/86 [==============================] - 30s 355ms/step - loss: 0.0276 - mean_squared_error: 0.0276\n",
      "Epoch 4/10\n",
      "86/86 [==============================] - 35s 406ms/step - loss: 0.0208 - mean_squared_error: 0.0208\n",
      "Epoch 5/10\n",
      "86/86 [==============================] - 33s 381ms/step - loss: 0.0184 - mean_squared_error: 0.0184\n",
      "Epoch 6/10\n",
      "86/86 [==============================] - 29s 341ms/step - loss: 0.0168 - mean_squared_error: 0.0168\n",
      "Epoch 7/10\n",
      "86/86 [==============================] - 26s 302ms/step - loss: 0.0158 - mean_squared_error: 0.0158\n",
      "Epoch 8/10\n",
      "86/86 [==============================] - 24s 283ms/step - loss: 0.0150 - mean_squared_error: 0.0150\n",
      "Epoch 9/10\n",
      "86/86 [==============================] - 25s 287ms/step - loss: 0.0144 - mean_squared_error: 0.0144\n",
      "Epoch 10/10\n",
      "86/86 [==============================] - 24s 275ms/step - loss: 0.0139 - mean_squared_error: 0.0139\n"
     ]
    },
    {
     "data": {
      "text/plain": [
       "<tensorflow.python.keras.callbacks.History at 0x7fac91930350>"
      ]
     },
     "execution_count": 15,
     "metadata": {},
     "output_type": "execute_result"
    }
   ],
   "source": [
    "all_train = np.concatenate([x_labeled, x_unlabeled])\n",
    "\n",
    "ae_model.fit(all_train, all_train,\n",
    "             batch_size=128,\n",
    "             epochs = 10)"
   ]
  },
  {
   "cell_type": "markdown",
   "metadata": {},
   "source": [
    "## Freeze the embedding and supervised train"
   ]
  },
  {
   "cell_type": "code",
   "execution_count": 18,
   "metadata": {},
   "outputs": [],
   "source": [
    "for layer in encoder.layers:\n",
    "    layer.trainable = False"
   ]
  },
  {
   "cell_type": "code",
   "execution_count": 19,
   "metadata": {},
   "outputs": [],
   "source": [
    "classifier = keras.Sequential(\n",
    "    [encoder,\n",
    "    layers.Dense(16, activation=\"relu\"),\n",
    "    layers.Dense(16, activation=\"relu\"),\n",
    "    layers.Dense(10, activation=\"softmax\")]\n",
    ")"
   ]
  },
  {
   "cell_type": "code",
   "execution_count": 20,
   "metadata": {},
   "outputs": [
    {
     "name": "stdout",
     "output_type": "stream",
     "text": [
      "Model: \"sequential_3\"\n",
      "_________________________________________________________________\n",
      "Layer (type)                 Output Shape              Param #   \n",
      "=================================================================\n",
      "encoder (Functional)         (None, 16)                69008     \n",
      "_________________________________________________________________\n",
      "dense_7 (Dense)              (None, 16)                272       \n",
      "_________________________________________________________________\n",
      "dense_8 (Dense)              (None, 16)                272       \n",
      "_________________________________________________________________\n",
      "dense_9 (Dense)              (None, 10)                170       \n",
      "=================================================================\n",
      "Total params: 69,722\n",
      "Trainable params: 714\n",
      "Non-trainable params: 69,008\n",
      "_________________________________________________________________\n"
     ]
    }
   ],
   "source": [
    "classifier.summary()"
   ]
  },
  {
   "cell_type": "code",
   "execution_count": 21,
   "metadata": {},
   "outputs": [
    {
     "name": "stdout",
     "output_type": "stream",
     "text": [
      "Epoch 1/30\n",
      "32/32 [==============================] - 0s 7ms/step - loss: 3.7001 - accuracy: 0.1590\n",
      "Epoch 2/30\n",
      "32/32 [==============================] - 0s 7ms/step - loss: 2.5707 - accuracy: 0.2170\n",
      "Epoch 3/30\n",
      "32/32 [==============================] - 0s 8ms/step - loss: 2.1503 - accuracy: 0.2640\n",
      "Epoch 4/30\n",
      "32/32 [==============================] - 0s 7ms/step - loss: 1.9163 - accuracy: 0.3260\n",
      "Epoch 5/30\n",
      "32/32 [==============================] - 0s 7ms/step - loss: 1.7331 - accuracy: 0.3980\n",
      "Epoch 6/30\n",
      "32/32 [==============================] - 0s 7ms/step - loss: 1.5747 - accuracy: 0.4810\n",
      "Epoch 7/30\n",
      "32/32 [==============================] - 0s 9ms/step - loss: 1.4386 - accuracy: 0.5390\n",
      "Epoch 8/30\n",
      "32/32 [==============================] - 0s 9ms/step - loss: 1.3075 - accuracy: 0.5870\n",
      "Epoch 9/30\n",
      "32/32 [==============================] - 0s 9ms/step - loss: 1.1912 - accuracy: 0.6380\n",
      "Epoch 10/30\n",
      "32/32 [==============================] - 0s 8ms/step - loss: 1.0864 - accuracy: 0.6700\n",
      "Epoch 11/30\n",
      "32/32 [==============================] - 0s 9ms/step - loss: 0.9927 - accuracy: 0.6950\n",
      "Epoch 12/30\n",
      "32/32 [==============================] - 0s 8ms/step - loss: 0.9228 - accuracy: 0.7080\n",
      "Epoch 13/30\n",
      "32/32 [==============================] - 0s 8ms/step - loss: 0.8635 - accuracy: 0.7380\n",
      "Epoch 14/30\n",
      "32/32 [==============================] - 0s 8ms/step - loss: 0.8125 - accuracy: 0.7500\n",
      "Epoch 15/30\n",
      "32/32 [==============================] - 0s 8ms/step - loss: 0.7722 - accuracy: 0.7640\n",
      "Epoch 16/30\n",
      "32/32 [==============================] - 0s 8ms/step - loss: 0.7365 - accuracy: 0.7730\n",
      "Epoch 17/30\n",
      "32/32 [==============================] - 0s 8ms/step - loss: 0.7116 - accuracy: 0.7800\n",
      "Epoch 18/30\n",
      "32/32 [==============================] - 0s 8ms/step - loss: 0.6708 - accuracy: 0.8090\n",
      "Epoch 19/30\n",
      "32/32 [==============================] - 0s 8ms/step - loss: 0.6556 - accuracy: 0.7890\n",
      "Epoch 20/30\n",
      "32/32 [==============================] - 0s 8ms/step - loss: 0.6377 - accuracy: 0.7970\n",
      "Epoch 21/30\n",
      "32/32 [==============================] - 0s 8ms/step - loss: 0.6105 - accuracy: 0.8100\n",
      "Epoch 22/30\n",
      "32/32 [==============================] - 0s 8ms/step - loss: 0.5916 - accuracy: 0.8240\n",
      "Epoch 23/30\n",
      "32/32 [==============================] - 0s 8ms/step - loss: 0.5786 - accuracy: 0.8210\n",
      "Epoch 24/30\n",
      "32/32 [==============================] - 0s 8ms/step - loss: 0.5647 - accuracy: 0.8220\n",
      "Epoch 25/30\n",
      "32/32 [==============================] - 0s 8ms/step - loss: 0.5435 - accuracy: 0.8340\n",
      "Epoch 26/30\n",
      "32/32 [==============================] - 0s 8ms/step - loss: 0.5251 - accuracy: 0.8320\n",
      "Epoch 27/30\n",
      "32/32 [==============================] - 0s 8ms/step - loss: 0.5177 - accuracy: 0.8330\n",
      "Epoch 28/30\n",
      "32/32 [==============================] - 0s 8ms/step - loss: 0.5035 - accuracy: 0.8450\n",
      "Epoch 29/30\n",
      "32/32 [==============================] - 0s 9ms/step - loss: 0.4893 - accuracy: 0.8410\n",
      "Epoch 30/30\n",
      "32/32 [==============================] - 0s 9ms/step - loss: 0.4822 - accuracy: 0.8450\n"
     ]
    },
    {
     "data": {
      "text/plain": [
       "<tensorflow.python.keras.callbacks.History at 0x7fac90055a50>"
      ]
     },
     "execution_count": 21,
     "metadata": {},
     "output_type": "execute_result"
    }
   ],
   "source": [
    "classifier.compile(loss=\"sparse_categorical_crossentropy\", \n",
    "                 optimizer=\"adam\", \n",
    "                 metrics=[\"accuracy\"])\n",
    "\n",
    "classifier.fit(x_labeled, y_labeled, batch_size=32, epochs=30, verbose=1)"
   ]
  },
  {
   "cell_type": "code",
   "execution_count": 22,
   "metadata": {},
   "outputs": [],
   "source": [
    "y_pred = classifier.predict(x_test_sample)"
   ]
  },
  {
   "cell_type": "code",
   "execution_count": 23,
   "metadata": {},
   "outputs": [
    {
     "data": {
      "text/plain": [
       "(10000, 10)"
      ]
     },
     "execution_count": 23,
     "metadata": {},
     "output_type": "execute_result"
    }
   ],
   "source": [
    "y_pred.shape"
   ]
  },
  {
   "cell_type": "code",
   "execution_count": 24,
   "metadata": {},
   "outputs": [
    {
     "name": "stdout",
     "output_type": "stream",
     "text": [
      "              precision    recall  f1-score   support\n",
      "\n",
      "           0       0.90      0.93      0.92       980\n",
      "           1       0.93      0.97      0.95      1135\n",
      "           2       0.81      0.88      0.85      1032\n",
      "           3       0.82      0.74      0.78      1010\n",
      "           4       0.85      0.75      0.80       982\n",
      "           5       0.73      0.73      0.73       892\n",
      "           6       0.90      0.87      0.88       958\n",
      "           7       0.86      0.84      0.85      1028\n",
      "           8       0.84      0.75      0.79       974\n",
      "           9       0.70      0.84      0.76      1009\n",
      "\n",
      "    accuracy                           0.83     10000\n",
      "   macro avg       0.83      0.83      0.83     10000\n",
      "weighted avg       0.84      0.83      0.83     10000\n",
      "\n"
     ]
    }
   ],
   "source": [
    "from sklearn.metrics import classification_report\n",
    "\n",
    "report = classification_report(y_test_sample, np.argmax(y_pred, axis=1))\n",
    "print(report)"
   ]
  },
  {
   "cell_type": "markdown",
   "metadata": {},
   "source": [
    "## Comparison with only supervised training "
   ]
  },
  {
   "cell_type": "code",
   "execution_count": 25,
   "metadata": {},
   "outputs": [],
   "source": [
    "encoder_inputs = keras.Input(shape=(28, 28, 1))\n",
    "\n",
    "x = layers.Conv2D(32, 3, activation=\"relu\", strides=2, padding=\"same\")(encoder_inputs)\n",
    "x = layers.Conv2D(64, 3, activation=\"relu\", strides=2, padding=\"same\")(x)\n",
    "x = layers.Flatten()(x)\n",
    "z = layers.Dense(latent_dim, activation=\"relu\")(x)\n",
    "\n",
    "encoder = keras.Model(encoder_inputs, z, name=\"encoder\")\n",
    "\n",
    "base_classifier = keras.Sequential(\n",
    "    [encoder,\n",
    "    layers.Dense(16, activation=\"relu\"),\n",
    "    layers.Dense(16, activation=\"relu\"),\n",
    "    layers.Dense(10, activation=\"softmax\")]\n",
    ")"
   ]
  },
  {
   "cell_type": "code",
   "execution_count": 26,
   "metadata": {},
   "outputs": [
    {
     "name": "stdout",
     "output_type": "stream",
     "text": [
      "Epoch 1/30\n",
      "32/32 [==============================] - 1s 17ms/step - loss: 2.2036 - accuracy: 0.2060\n",
      "Epoch 2/30\n",
      "32/32 [==============================] - 1s 20ms/step - loss: 1.7128 - accuracy: 0.3770\n",
      "Epoch 3/30\n",
      "32/32 [==============================] - 1s 17ms/step - loss: 1.1058 - accuracy: 0.6340\n",
      "Epoch 4/30\n",
      "32/32 [==============================] - 1s 16ms/step - loss: 0.7696 - accuracy: 0.7310\n",
      "Epoch 5/30\n",
      "32/32 [==============================] - 1s 19ms/step - loss: 0.5729 - accuracy: 0.8210\n",
      "Epoch 6/30\n",
      "32/32 [==============================] - 0s 15ms/step - loss: 0.4356 - accuracy: 0.8800\n",
      "Epoch 7/30\n",
      "32/32 [==============================] - 0s 15ms/step - loss: 0.3331 - accuracy: 0.9090\n",
      "Epoch 8/30\n",
      "32/32 [==============================] - 0s 15ms/step - loss: 0.2705 - accuracy: 0.9290\n",
      "Epoch 9/30\n",
      "32/32 [==============================] - 1s 20ms/step - loss: 0.2526 - accuracy: 0.9280\n",
      "Epoch 10/30\n",
      "32/32 [==============================] - 1s 19ms/step - loss: 0.2211 - accuracy: 0.9450\n",
      "Epoch 11/30\n",
      "32/32 [==============================] - 0s 15ms/step - loss: 0.1765 - accuracy: 0.9530\n",
      "Epoch 12/30\n",
      "32/32 [==============================] - 1s 16ms/step - loss: 0.1675 - accuracy: 0.9560\n",
      "Epoch 13/30\n",
      "32/32 [==============================] - 1s 21ms/step - loss: 0.1380 - accuracy: 0.9600\n",
      "Epoch 14/30\n",
      "32/32 [==============================] - 1s 20ms/step - loss: 0.1047 - accuracy: 0.9700\n",
      "Epoch 15/30\n",
      "32/32 [==============================] - 1s 20ms/step - loss: 0.0969 - accuracy: 0.9720\n",
      "Epoch 16/30\n",
      "32/32 [==============================] - 1s 20ms/step - loss: 0.0692 - accuracy: 0.9850\n",
      "Epoch 17/30\n",
      "32/32 [==============================] - 1s 18ms/step - loss: 0.0664 - accuracy: 0.9800\n",
      "Epoch 18/30\n",
      "32/32 [==============================] - 1s 18ms/step - loss: 0.0585 - accuracy: 0.9840\n",
      "Epoch 19/30\n",
      "32/32 [==============================] - 1s 22ms/step - loss: 0.0508 - accuracy: 0.9860\n",
      "Epoch 20/30\n",
      "32/32 [==============================] - 1s 19ms/step - loss: 0.0282 - accuracy: 0.9970\n",
      "Epoch 21/30\n",
      "32/32 [==============================] - 1s 18ms/step - loss: 0.0227 - accuracy: 0.9970\n",
      "Epoch 22/30\n",
      "32/32 [==============================] - 1s 21ms/step - loss: 0.0167 - accuracy: 0.9970\n",
      "Epoch 23/30\n",
      "32/32 [==============================] - 1s 20ms/step - loss: 0.0141 - accuracy: 0.9990\n",
      "Epoch 24/30\n",
      "32/32 [==============================] - 1s 20ms/step - loss: 0.0127 - accuracy: 0.9990\n",
      "Epoch 25/30\n",
      "32/32 [==============================] - 1s 22ms/step - loss: 0.0109 - accuracy: 0.9990\n",
      "Epoch 26/30\n",
      "32/32 [==============================] - 1s 21ms/step - loss: 0.0095 - accuracy: 0.9990\n",
      "Epoch 27/30\n",
      "32/32 [==============================] - 1s 18ms/step - loss: 0.0087 - accuracy: 0.9990\n",
      "Epoch 28/30\n",
      "32/32 [==============================] - 1s 21ms/step - loss: 0.0084 - accuracy: 0.9990\n",
      "Epoch 29/30\n",
      "32/32 [==============================] - 1s 18ms/step - loss: 0.0074 - accuracy: 0.9990\n",
      "Epoch 30/30\n",
      "32/32 [==============================] - 1s 19ms/step - loss: 0.0082 - accuracy: 0.9990\n"
     ]
    },
    {
     "data": {
      "text/plain": [
       "<tensorflow.python.keras.callbacks.History at 0x7fac686ad9d0>"
      ]
     },
     "execution_count": 26,
     "metadata": {},
     "output_type": "execute_result"
    }
   ],
   "source": [
    "base_classifier.compile(loss=\"sparse_categorical_crossentropy\", \n",
    "                 optimizer=\"adam\", \n",
    "                 metrics=[\"accuracy\"])\n",
    "\n",
    "base_classifier.fit(x_labeled, y_labeled, batch_size=32, epochs=30, verbose=1)"
   ]
  },
  {
   "cell_type": "code",
   "execution_count": 27,
   "metadata": {},
   "outputs": [
    {
     "name": "stdout",
     "output_type": "stream",
     "text": [
      "              precision    recall  f1-score   support\n",
      "\n",
      "           0       0.95      0.95      0.95       980\n",
      "           1       0.95      0.97      0.96      1135\n",
      "           2       0.90      0.87      0.88      1032\n",
      "           3       0.86      0.83      0.84      1010\n",
      "           4       0.92      0.90      0.91       982\n",
      "           5       0.80      0.88      0.84       892\n",
      "           6       0.94      0.91      0.92       958\n",
      "           7       0.84      0.90      0.87      1028\n",
      "           8       0.88      0.78      0.83       974\n",
      "           9       0.83      0.87      0.85      1009\n",
      "\n",
      "    accuracy                           0.89     10000\n",
      "   macro avg       0.89      0.89      0.89     10000\n",
      "weighted avg       0.89      0.89      0.89     10000\n",
      "\n"
     ]
    }
   ],
   "source": [
    "y_pred = base_classifier.predict(x_test_sample)\n",
    "\n",
    "report = classification_report(y_test_sample, np.argmax(y_pred, axis=1))\n",
    "print(report)"
   ]
  },
  {
   "cell_type": "code",
   "execution_count": null,
   "metadata": {},
   "outputs": [],
   "source": []
  }
 ],
 "metadata": {
  "kernelspec": {
   "display_name": "Python [conda env:deeplearning]",
   "language": "python",
   "name": "conda-env-deeplearning-py"
  },
  "language_info": {
   "codemirror_mode": {
    "name": "ipython",
    "version": 3
   },
   "file_extension": ".py",
   "mimetype": "text/x-python",
   "name": "python",
   "nbconvert_exporter": "python",
   "pygments_lexer": "ipython3",
   "version": "3.8.5"
  }
 },
 "nbformat": 4,
 "nbformat_minor": 4
}
