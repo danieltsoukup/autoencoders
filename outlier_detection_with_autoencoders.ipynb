{
 "cells": [
  {
   "cell_type": "markdown",
   "metadata": {},
   "source": [
    "# Randomized Autoencoder Ensembles for Outlier Detection"
   ]
  },
  {
   "cell_type": "code",
   "execution_count": 271,
   "metadata": {},
   "outputs": [],
   "source": [
    "import numpy as np\n",
    "import pandas as pd\n",
    "\n",
    "import tensorflow as tf\n",
    "from tensorflow import keras\n",
    "from tensorflow.keras import layers\n",
    "\n",
    "import matplotlib.pyplot as plt\n",
    "import seaborn as sns\n",
    "\n",
    "from sklearn.preprocessing import RobustScaler, StandardScaler, MinMaxScaler\n",
    "from sklearn.pipeline import Pipeline\n",
    "from sklearn.model_selection import train_test_split\n",
    "from sklearn.metrics import classification_report, roc_curve, roc_auc_score"
   ]
  },
  {
   "cell_type": "markdown",
   "metadata": {},
   "source": [
    "Our plan is to look into using autoencoders for outlier detection and in particular, test randomized autoencoder ensembles against some standard methods (Elliptic Envelopes, LOF and Isolation Forests). The autoencoder model will be based on [Jinghui Chen, Saket Sathe, Charu Aggarwal, Deepak Turaga. Outlier Detection with Autoencoder Ensembles. SIAM SDM, 2017](https://saketsathe.net/downloads/autoencode.pdf):\n",
    "\n",
    "- we will fit autoencoders and measure the degree of outlier-ness by the reconstruction loss;\n",
    "- the autoencoders are fit on random samples of the data and connections in the neural nets are dropped randomly to increase diversity;\n",
    "- we train the models using adaptive sampling, using more and more data as the training progresses;\n",
    "- we score each data point by the median reconstruction loss of our ensemble.\n",
    "\n",
    "\n",
    "More resources:\n",
    "\n",
    "- [Outlier book by C. Aggarval](http://charuaggarwal.net/outlierbook.pdf)\n",
    "- [Outlier eval by Schubert et at](https://www.dbs.ifi.lmu.de/~zimek/publications/SDM2012/SDM12-outlierevaluation.pdf)\n",
    "- [General resource collection](https://github.com/yzhao062/anomaly-detection-resources)"
   ]
  },
  {
   "cell_type": "markdown",
   "metadata": {},
   "source": [
    "## Data - dummy "
   ]
  },
  {
   "cell_type": "code",
   "execution_count": 323,
   "metadata": {},
   "outputs": [],
   "source": [
    "n_samples = 10000\n",
    "contamination = 0.01\n",
    "n_outliers = int(n_samples*contamination)\n",
    "outlier_range = 10\n",
    "n_features = 2\n",
    "\n",
    "data = np.random.randn(n_samples, n_features)\n",
    "data[:n_outliers, :] = np.random.uniform(-1*outlier_range, outlier_range, size=(n_outliers, n_features))\n",
    "data = pd.DataFrame(data, columns = [f\"feature_{i}\" for i in range(n_features)])\n",
    "data[\"outlier\"] = np.concatenate([np.ones((n_outliers,)), np.zeros((n_samples-n_outliers,))], axis=0)"
   ]
  },
  {
   "cell_type": "code",
   "execution_count": 322,
   "metadata": {},
   "outputs": [
    {
     "ename": "ValueError",
     "evalue": "zero-size array to reduction operation minimum which has no identity",
     "output_type": "error",
     "traceback": [
      "\u001b[0;31m---------------------------------------------------------------------------\u001b[0m",
      "\u001b[0;31mValueError\u001b[0m                                Traceback (most recent call last)",
      "\u001b[0;32m~/anaconda3/envs/deeplearning/lib/python3.8/site-packages/IPython/core/formatters.py\u001b[0m in \u001b[0;36m__call__\u001b[0;34m(self, obj)\u001b[0m\n\u001b[1;32m    339\u001b[0m                 \u001b[0;32mpass\u001b[0m\u001b[0;34m\u001b[0m\u001b[0;34m\u001b[0m\u001b[0m\n\u001b[1;32m    340\u001b[0m             \u001b[0;32melse\u001b[0m\u001b[0;34m:\u001b[0m\u001b[0;34m\u001b[0m\u001b[0;34m\u001b[0m\u001b[0m\n\u001b[0;32m--> 341\u001b[0;31m                 \u001b[0;32mreturn\u001b[0m \u001b[0mprinter\u001b[0m\u001b[0;34m(\u001b[0m\u001b[0mobj\u001b[0m\u001b[0;34m)\u001b[0m\u001b[0;34m\u001b[0m\u001b[0;34m\u001b[0m\u001b[0m\n\u001b[0m\u001b[1;32m    342\u001b[0m             \u001b[0;31m# Finally look for special method names\u001b[0m\u001b[0;34m\u001b[0m\u001b[0;34m\u001b[0m\u001b[0;34m\u001b[0m\u001b[0m\n\u001b[1;32m    343\u001b[0m             \u001b[0mmethod\u001b[0m \u001b[0;34m=\u001b[0m \u001b[0mget_real_method\u001b[0m\u001b[0;34m(\u001b[0m\u001b[0mobj\u001b[0m\u001b[0;34m,\u001b[0m \u001b[0mself\u001b[0m\u001b[0;34m.\u001b[0m\u001b[0mprint_method\u001b[0m\u001b[0;34m)\u001b[0m\u001b[0;34m\u001b[0m\u001b[0;34m\u001b[0m\u001b[0m\n",
      "\u001b[0;32m~/anaconda3/envs/deeplearning/lib/python3.8/site-packages/IPython/core/pylabtools.py\u001b[0m in \u001b[0;36m<lambda>\u001b[0;34m(fig)\u001b[0m\n\u001b[1;32m    246\u001b[0m \u001b[0;34m\u001b[0m\u001b[0m\n\u001b[1;32m    247\u001b[0m     \u001b[0;32mif\u001b[0m \u001b[0;34m'png'\u001b[0m \u001b[0;32min\u001b[0m \u001b[0mformats\u001b[0m\u001b[0;34m:\u001b[0m\u001b[0;34m\u001b[0m\u001b[0;34m\u001b[0m\u001b[0m\n\u001b[0;32m--> 248\u001b[0;31m         \u001b[0mpng_formatter\u001b[0m\u001b[0;34m.\u001b[0m\u001b[0mfor_type\u001b[0m\u001b[0;34m(\u001b[0m\u001b[0mFigure\u001b[0m\u001b[0;34m,\u001b[0m \u001b[0;32mlambda\u001b[0m \u001b[0mfig\u001b[0m\u001b[0;34m:\u001b[0m \u001b[0mprint_figure\u001b[0m\u001b[0;34m(\u001b[0m\u001b[0mfig\u001b[0m\u001b[0;34m,\u001b[0m \u001b[0;34m'png'\u001b[0m\u001b[0;34m,\u001b[0m \u001b[0;34m**\u001b[0m\u001b[0mkwargs\u001b[0m\u001b[0;34m)\u001b[0m\u001b[0;34m)\u001b[0m\u001b[0;34m\u001b[0m\u001b[0;34m\u001b[0m\u001b[0m\n\u001b[0m\u001b[1;32m    249\u001b[0m     \u001b[0;32mif\u001b[0m \u001b[0;34m'retina'\u001b[0m \u001b[0;32min\u001b[0m \u001b[0mformats\u001b[0m \u001b[0;32mor\u001b[0m \u001b[0;34m'png2x'\u001b[0m \u001b[0;32min\u001b[0m \u001b[0mformats\u001b[0m\u001b[0;34m:\u001b[0m\u001b[0;34m\u001b[0m\u001b[0;34m\u001b[0m\u001b[0m\n\u001b[1;32m    250\u001b[0m         \u001b[0mpng_formatter\u001b[0m\u001b[0;34m.\u001b[0m\u001b[0mfor_type\u001b[0m\u001b[0;34m(\u001b[0m\u001b[0mFigure\u001b[0m\u001b[0;34m,\u001b[0m \u001b[0;32mlambda\u001b[0m \u001b[0mfig\u001b[0m\u001b[0;34m:\u001b[0m \u001b[0mretina_figure\u001b[0m\u001b[0;34m(\u001b[0m\u001b[0mfig\u001b[0m\u001b[0;34m,\u001b[0m \u001b[0;34m**\u001b[0m\u001b[0mkwargs\u001b[0m\u001b[0;34m)\u001b[0m\u001b[0;34m)\u001b[0m\u001b[0;34m\u001b[0m\u001b[0;34m\u001b[0m\u001b[0m\n",
      "\u001b[0;32m~/anaconda3/envs/deeplearning/lib/python3.8/site-packages/IPython/core/pylabtools.py\u001b[0m in \u001b[0;36mprint_figure\u001b[0;34m(fig, fmt, bbox_inches, **kwargs)\u001b[0m\n\u001b[1;32m    130\u001b[0m         \u001b[0mFigureCanvasBase\u001b[0m\u001b[0;34m(\u001b[0m\u001b[0mfig\u001b[0m\u001b[0;34m)\u001b[0m\u001b[0;34m\u001b[0m\u001b[0;34m\u001b[0m\u001b[0m\n\u001b[1;32m    131\u001b[0m \u001b[0;34m\u001b[0m\u001b[0m\n\u001b[0;32m--> 132\u001b[0;31m     \u001b[0mfig\u001b[0m\u001b[0;34m.\u001b[0m\u001b[0mcanvas\u001b[0m\u001b[0;34m.\u001b[0m\u001b[0mprint_figure\u001b[0m\u001b[0;34m(\u001b[0m\u001b[0mbytes_io\u001b[0m\u001b[0;34m,\u001b[0m \u001b[0;34m**\u001b[0m\u001b[0mkw\u001b[0m\u001b[0;34m)\u001b[0m\u001b[0;34m\u001b[0m\u001b[0;34m\u001b[0m\u001b[0m\n\u001b[0m\u001b[1;32m    133\u001b[0m     \u001b[0mdata\u001b[0m \u001b[0;34m=\u001b[0m \u001b[0mbytes_io\u001b[0m\u001b[0;34m.\u001b[0m\u001b[0mgetvalue\u001b[0m\u001b[0;34m(\u001b[0m\u001b[0;34m)\u001b[0m\u001b[0;34m\u001b[0m\u001b[0;34m\u001b[0m\u001b[0m\n\u001b[1;32m    134\u001b[0m     \u001b[0;32mif\u001b[0m \u001b[0mfmt\u001b[0m \u001b[0;34m==\u001b[0m \u001b[0;34m'svg'\u001b[0m\u001b[0;34m:\u001b[0m\u001b[0;34m\u001b[0m\u001b[0;34m\u001b[0m\u001b[0m\n",
      "\u001b[0;32m~/anaconda3/envs/deeplearning/lib/python3.8/site-packages/matplotlib/backend_bases.py\u001b[0m in \u001b[0;36mprint_figure\u001b[0;34m(self, filename, dpi, facecolor, edgecolor, orientation, format, bbox_inches, pad_inches, bbox_extra_artists, backend, **kwargs)\u001b[0m\n\u001b[1;32m   2191\u001b[0m                            else suppress())\n\u001b[1;32m   2192\u001b[0m                     \u001b[0;32mwith\u001b[0m \u001b[0mctx\u001b[0m\u001b[0;34m:\u001b[0m\u001b[0;34m\u001b[0m\u001b[0;34m\u001b[0m\u001b[0m\n\u001b[0;32m-> 2193\u001b[0;31m                         \u001b[0mself\u001b[0m\u001b[0;34m.\u001b[0m\u001b[0mfigure\u001b[0m\u001b[0;34m.\u001b[0m\u001b[0mdraw\u001b[0m\u001b[0;34m(\u001b[0m\u001b[0mrenderer\u001b[0m\u001b[0;34m)\u001b[0m\u001b[0;34m\u001b[0m\u001b[0;34m\u001b[0m\u001b[0m\n\u001b[0m\u001b[1;32m   2194\u001b[0m \u001b[0;34m\u001b[0m\u001b[0m\n\u001b[1;32m   2195\u001b[0m                     bbox_inches = self.figure.get_tightbbox(\n",
      "\u001b[0;32m~/anaconda3/envs/deeplearning/lib/python3.8/site-packages/matplotlib/artist.py\u001b[0m in \u001b[0;36mdraw_wrapper\u001b[0;34m(artist, renderer, *args, **kwargs)\u001b[0m\n\u001b[1;32m     39\u001b[0m                 \u001b[0mrenderer\u001b[0m\u001b[0;34m.\u001b[0m\u001b[0mstart_filter\u001b[0m\u001b[0;34m(\u001b[0m\u001b[0;34m)\u001b[0m\u001b[0;34m\u001b[0m\u001b[0;34m\u001b[0m\u001b[0m\n\u001b[1;32m     40\u001b[0m \u001b[0;34m\u001b[0m\u001b[0m\n\u001b[0;32m---> 41\u001b[0;31m             \u001b[0;32mreturn\u001b[0m \u001b[0mdraw\u001b[0m\u001b[0;34m(\u001b[0m\u001b[0martist\u001b[0m\u001b[0;34m,\u001b[0m \u001b[0mrenderer\u001b[0m\u001b[0;34m,\u001b[0m \u001b[0;34m*\u001b[0m\u001b[0margs\u001b[0m\u001b[0;34m,\u001b[0m \u001b[0;34m**\u001b[0m\u001b[0mkwargs\u001b[0m\u001b[0;34m)\u001b[0m\u001b[0;34m\u001b[0m\u001b[0;34m\u001b[0m\u001b[0m\n\u001b[0m\u001b[1;32m     42\u001b[0m         \u001b[0;32mfinally\u001b[0m\u001b[0;34m:\u001b[0m\u001b[0;34m\u001b[0m\u001b[0;34m\u001b[0m\u001b[0m\n\u001b[1;32m     43\u001b[0m             \u001b[0;32mif\u001b[0m \u001b[0martist\u001b[0m\u001b[0;34m.\u001b[0m\u001b[0mget_agg_filter\u001b[0m\u001b[0;34m(\u001b[0m\u001b[0;34m)\u001b[0m \u001b[0;32mis\u001b[0m \u001b[0;32mnot\u001b[0m \u001b[0;32mNone\u001b[0m\u001b[0;34m:\u001b[0m\u001b[0;34m\u001b[0m\u001b[0;34m\u001b[0m\u001b[0m\n",
      "\u001b[0;32m~/anaconda3/envs/deeplearning/lib/python3.8/site-packages/matplotlib/figure.py\u001b[0m in \u001b[0;36mdraw\u001b[0;34m(self, renderer)\u001b[0m\n\u001b[1;32m   1861\u001b[0m \u001b[0;34m\u001b[0m\u001b[0m\n\u001b[1;32m   1862\u001b[0m             \u001b[0mself\u001b[0m\u001b[0;34m.\u001b[0m\u001b[0mpatch\u001b[0m\u001b[0;34m.\u001b[0m\u001b[0mdraw\u001b[0m\u001b[0;34m(\u001b[0m\u001b[0mrenderer\u001b[0m\u001b[0;34m)\u001b[0m\u001b[0;34m\u001b[0m\u001b[0;34m\u001b[0m\u001b[0m\n\u001b[0;32m-> 1863\u001b[0;31m             mimage._draw_list_compositing_images(\n\u001b[0m\u001b[1;32m   1864\u001b[0m                 renderer, self, artists, self.suppressComposite)\n\u001b[1;32m   1865\u001b[0m \u001b[0;34m\u001b[0m\u001b[0m\n",
      "\u001b[0;32m~/anaconda3/envs/deeplearning/lib/python3.8/site-packages/matplotlib/image.py\u001b[0m in \u001b[0;36m_draw_list_compositing_images\u001b[0;34m(renderer, parent, artists, suppress_composite)\u001b[0m\n\u001b[1;32m    129\u001b[0m     \u001b[0;32mif\u001b[0m \u001b[0mnot_composite\u001b[0m \u001b[0;32mor\u001b[0m \u001b[0;32mnot\u001b[0m \u001b[0mhas_images\u001b[0m\u001b[0;34m:\u001b[0m\u001b[0;34m\u001b[0m\u001b[0;34m\u001b[0m\u001b[0m\n\u001b[1;32m    130\u001b[0m         \u001b[0;32mfor\u001b[0m \u001b[0ma\u001b[0m \u001b[0;32min\u001b[0m \u001b[0martists\u001b[0m\u001b[0;34m:\u001b[0m\u001b[0;34m\u001b[0m\u001b[0;34m\u001b[0m\u001b[0m\n\u001b[0;32m--> 131\u001b[0;31m             \u001b[0ma\u001b[0m\u001b[0;34m.\u001b[0m\u001b[0mdraw\u001b[0m\u001b[0;34m(\u001b[0m\u001b[0mrenderer\u001b[0m\u001b[0;34m)\u001b[0m\u001b[0;34m\u001b[0m\u001b[0;34m\u001b[0m\u001b[0m\n\u001b[0m\u001b[1;32m    132\u001b[0m     \u001b[0;32melse\u001b[0m\u001b[0;34m:\u001b[0m\u001b[0;34m\u001b[0m\u001b[0;34m\u001b[0m\u001b[0m\n\u001b[1;32m    133\u001b[0m         \u001b[0;31m# Composite any adjacent images together\u001b[0m\u001b[0;34m\u001b[0m\u001b[0;34m\u001b[0m\u001b[0;34m\u001b[0m\u001b[0m\n",
      "\u001b[0;32m~/anaconda3/envs/deeplearning/lib/python3.8/site-packages/matplotlib/artist.py\u001b[0m in \u001b[0;36mdraw_wrapper\u001b[0;34m(artist, renderer, *args, **kwargs)\u001b[0m\n\u001b[1;32m     39\u001b[0m                 \u001b[0mrenderer\u001b[0m\u001b[0;34m.\u001b[0m\u001b[0mstart_filter\u001b[0m\u001b[0;34m(\u001b[0m\u001b[0;34m)\u001b[0m\u001b[0;34m\u001b[0m\u001b[0;34m\u001b[0m\u001b[0m\n\u001b[1;32m     40\u001b[0m \u001b[0;34m\u001b[0m\u001b[0m\n\u001b[0;32m---> 41\u001b[0;31m             \u001b[0;32mreturn\u001b[0m \u001b[0mdraw\u001b[0m\u001b[0;34m(\u001b[0m\u001b[0martist\u001b[0m\u001b[0;34m,\u001b[0m \u001b[0mrenderer\u001b[0m\u001b[0;34m,\u001b[0m \u001b[0;34m*\u001b[0m\u001b[0margs\u001b[0m\u001b[0;34m,\u001b[0m \u001b[0;34m**\u001b[0m\u001b[0mkwargs\u001b[0m\u001b[0;34m)\u001b[0m\u001b[0;34m\u001b[0m\u001b[0;34m\u001b[0m\u001b[0m\n\u001b[0m\u001b[1;32m     42\u001b[0m         \u001b[0;32mfinally\u001b[0m\u001b[0;34m:\u001b[0m\u001b[0;34m\u001b[0m\u001b[0;34m\u001b[0m\u001b[0m\n\u001b[1;32m     43\u001b[0m             \u001b[0;32mif\u001b[0m \u001b[0martist\u001b[0m\u001b[0;34m.\u001b[0m\u001b[0mget_agg_filter\u001b[0m\u001b[0;34m(\u001b[0m\u001b[0;34m)\u001b[0m \u001b[0;32mis\u001b[0m \u001b[0;32mnot\u001b[0m \u001b[0;32mNone\u001b[0m\u001b[0;34m:\u001b[0m\u001b[0;34m\u001b[0m\u001b[0;34m\u001b[0m\u001b[0m\n",
      "\u001b[0;32m~/anaconda3/envs/deeplearning/lib/python3.8/site-packages/matplotlib/cbook/deprecation.py\u001b[0m in \u001b[0;36mwrapper\u001b[0;34m(*inner_args, **inner_kwargs)\u001b[0m\n\u001b[1;32m    409\u001b[0m                          \u001b[0;32melse\u001b[0m \u001b[0mdeprecation_addendum\u001b[0m\u001b[0;34m,\u001b[0m\u001b[0;34m\u001b[0m\u001b[0;34m\u001b[0m\u001b[0m\n\u001b[1;32m    410\u001b[0m                 **kwargs)\n\u001b[0;32m--> 411\u001b[0;31m         \u001b[0;32mreturn\u001b[0m \u001b[0mfunc\u001b[0m\u001b[0;34m(\u001b[0m\u001b[0;34m*\u001b[0m\u001b[0minner_args\u001b[0m\u001b[0;34m,\u001b[0m \u001b[0;34m**\u001b[0m\u001b[0minner_kwargs\u001b[0m\u001b[0;34m)\u001b[0m\u001b[0;34m\u001b[0m\u001b[0;34m\u001b[0m\u001b[0m\n\u001b[0m\u001b[1;32m    412\u001b[0m \u001b[0;34m\u001b[0m\u001b[0m\n\u001b[1;32m    413\u001b[0m     \u001b[0;32mreturn\u001b[0m \u001b[0mwrapper\u001b[0m\u001b[0;34m\u001b[0m\u001b[0;34m\u001b[0m\u001b[0m\n",
      "\u001b[0;32m~/anaconda3/envs/deeplearning/lib/python3.8/site-packages/matplotlib/axes/_base.py\u001b[0m in \u001b[0;36mdraw\u001b[0;34m(self, renderer, inframe)\u001b[0m\n\u001b[1;32m   2746\u001b[0m             \u001b[0mrenderer\u001b[0m\u001b[0;34m.\u001b[0m\u001b[0mstop_rasterizing\u001b[0m\u001b[0;34m(\u001b[0m\u001b[0;34m)\u001b[0m\u001b[0;34m\u001b[0m\u001b[0;34m\u001b[0m\u001b[0m\n\u001b[1;32m   2747\u001b[0m \u001b[0;34m\u001b[0m\u001b[0m\n\u001b[0;32m-> 2748\u001b[0;31m         \u001b[0mmimage\u001b[0m\u001b[0;34m.\u001b[0m\u001b[0m_draw_list_compositing_images\u001b[0m\u001b[0;34m(\u001b[0m\u001b[0mrenderer\u001b[0m\u001b[0;34m,\u001b[0m \u001b[0mself\u001b[0m\u001b[0;34m,\u001b[0m \u001b[0martists\u001b[0m\u001b[0;34m)\u001b[0m\u001b[0;34m\u001b[0m\u001b[0;34m\u001b[0m\u001b[0m\n\u001b[0m\u001b[1;32m   2749\u001b[0m \u001b[0;34m\u001b[0m\u001b[0m\n\u001b[1;32m   2750\u001b[0m         \u001b[0mrenderer\u001b[0m\u001b[0;34m.\u001b[0m\u001b[0mclose_group\u001b[0m\u001b[0;34m(\u001b[0m\u001b[0;34m'axes'\u001b[0m\u001b[0;34m)\u001b[0m\u001b[0;34m\u001b[0m\u001b[0;34m\u001b[0m\u001b[0m\n",
      "\u001b[0;32m~/anaconda3/envs/deeplearning/lib/python3.8/site-packages/matplotlib/image.py\u001b[0m in \u001b[0;36m_draw_list_compositing_images\u001b[0;34m(renderer, parent, artists, suppress_composite)\u001b[0m\n\u001b[1;32m    129\u001b[0m     \u001b[0;32mif\u001b[0m \u001b[0mnot_composite\u001b[0m \u001b[0;32mor\u001b[0m \u001b[0;32mnot\u001b[0m \u001b[0mhas_images\u001b[0m\u001b[0;34m:\u001b[0m\u001b[0;34m\u001b[0m\u001b[0;34m\u001b[0m\u001b[0m\n\u001b[1;32m    130\u001b[0m         \u001b[0;32mfor\u001b[0m \u001b[0ma\u001b[0m \u001b[0;32min\u001b[0m \u001b[0martists\u001b[0m\u001b[0;34m:\u001b[0m\u001b[0;34m\u001b[0m\u001b[0;34m\u001b[0m\u001b[0m\n\u001b[0;32m--> 131\u001b[0;31m             \u001b[0ma\u001b[0m\u001b[0;34m.\u001b[0m\u001b[0mdraw\u001b[0m\u001b[0;34m(\u001b[0m\u001b[0mrenderer\u001b[0m\u001b[0;34m)\u001b[0m\u001b[0;34m\u001b[0m\u001b[0;34m\u001b[0m\u001b[0m\n\u001b[0m\u001b[1;32m    132\u001b[0m     \u001b[0;32melse\u001b[0m\u001b[0;34m:\u001b[0m\u001b[0;34m\u001b[0m\u001b[0;34m\u001b[0m\u001b[0m\n\u001b[1;32m    133\u001b[0m         \u001b[0;31m# Composite any adjacent images together\u001b[0m\u001b[0;34m\u001b[0m\u001b[0;34m\u001b[0m\u001b[0;34m\u001b[0m\u001b[0m\n",
      "\u001b[0;32m~/anaconda3/envs/deeplearning/lib/python3.8/site-packages/matplotlib/artist.py\u001b[0m in \u001b[0;36mdraw_wrapper\u001b[0;34m(artist, renderer, *args, **kwargs)\u001b[0m\n\u001b[1;32m     39\u001b[0m                 \u001b[0mrenderer\u001b[0m\u001b[0;34m.\u001b[0m\u001b[0mstart_filter\u001b[0m\u001b[0;34m(\u001b[0m\u001b[0;34m)\u001b[0m\u001b[0;34m\u001b[0m\u001b[0;34m\u001b[0m\u001b[0m\n\u001b[1;32m     40\u001b[0m \u001b[0;34m\u001b[0m\u001b[0m\n\u001b[0;32m---> 41\u001b[0;31m             \u001b[0;32mreturn\u001b[0m \u001b[0mdraw\u001b[0m\u001b[0;34m(\u001b[0m\u001b[0martist\u001b[0m\u001b[0;34m,\u001b[0m \u001b[0mrenderer\u001b[0m\u001b[0;34m,\u001b[0m \u001b[0;34m*\u001b[0m\u001b[0margs\u001b[0m\u001b[0;34m,\u001b[0m \u001b[0;34m**\u001b[0m\u001b[0mkwargs\u001b[0m\u001b[0;34m)\u001b[0m\u001b[0;34m\u001b[0m\u001b[0;34m\u001b[0m\u001b[0m\n\u001b[0m\u001b[1;32m     42\u001b[0m         \u001b[0;32mfinally\u001b[0m\u001b[0;34m:\u001b[0m\u001b[0;34m\u001b[0m\u001b[0;34m\u001b[0m\u001b[0m\n\u001b[1;32m     43\u001b[0m             \u001b[0;32mif\u001b[0m \u001b[0martist\u001b[0m\u001b[0;34m.\u001b[0m\u001b[0mget_agg_filter\u001b[0m\u001b[0;34m(\u001b[0m\u001b[0;34m)\u001b[0m \u001b[0;32mis\u001b[0m \u001b[0;32mnot\u001b[0m \u001b[0;32mNone\u001b[0m\u001b[0;34m:\u001b[0m\u001b[0;34m\u001b[0m\u001b[0;34m\u001b[0m\u001b[0m\n",
      "\u001b[0;32m~/anaconda3/envs/deeplearning/lib/python3.8/site-packages/matplotlib/collections.py\u001b[0m in \u001b[0;36mdraw\u001b[0;34m(self, renderer)\u001b[0m\n\u001b[1;32m    929\u001b[0m     \u001b[0;32mdef\u001b[0m \u001b[0mdraw\u001b[0m\u001b[0;34m(\u001b[0m\u001b[0mself\u001b[0m\u001b[0;34m,\u001b[0m \u001b[0mrenderer\u001b[0m\u001b[0;34m)\u001b[0m\u001b[0;34m:\u001b[0m\u001b[0;34m\u001b[0m\u001b[0;34m\u001b[0m\u001b[0m\n\u001b[1;32m    930\u001b[0m         \u001b[0mself\u001b[0m\u001b[0;34m.\u001b[0m\u001b[0mset_sizes\u001b[0m\u001b[0;34m(\u001b[0m\u001b[0mself\u001b[0m\u001b[0;34m.\u001b[0m\u001b[0m_sizes\u001b[0m\u001b[0;34m,\u001b[0m \u001b[0mself\u001b[0m\u001b[0;34m.\u001b[0m\u001b[0mfigure\u001b[0m\u001b[0;34m.\u001b[0m\u001b[0mdpi\u001b[0m\u001b[0;34m)\u001b[0m\u001b[0;34m\u001b[0m\u001b[0;34m\u001b[0m\u001b[0m\n\u001b[0;32m--> 931\u001b[0;31m         \u001b[0mCollection\u001b[0m\u001b[0;34m.\u001b[0m\u001b[0mdraw\u001b[0m\u001b[0;34m(\u001b[0m\u001b[0mself\u001b[0m\u001b[0;34m,\u001b[0m \u001b[0mrenderer\u001b[0m\u001b[0;34m)\u001b[0m\u001b[0;34m\u001b[0m\u001b[0;34m\u001b[0m\u001b[0m\n\u001b[0m\u001b[1;32m    932\u001b[0m \u001b[0;34m\u001b[0m\u001b[0m\n\u001b[1;32m    933\u001b[0m \u001b[0;34m\u001b[0m\u001b[0m\n",
      "\u001b[0;32m~/anaconda3/envs/deeplearning/lib/python3.8/site-packages/matplotlib/artist.py\u001b[0m in \u001b[0;36mdraw_wrapper\u001b[0;34m(artist, renderer, *args, **kwargs)\u001b[0m\n\u001b[1;32m     39\u001b[0m                 \u001b[0mrenderer\u001b[0m\u001b[0;34m.\u001b[0m\u001b[0mstart_filter\u001b[0m\u001b[0;34m(\u001b[0m\u001b[0;34m)\u001b[0m\u001b[0;34m\u001b[0m\u001b[0;34m\u001b[0m\u001b[0m\n\u001b[1;32m     40\u001b[0m \u001b[0;34m\u001b[0m\u001b[0m\n\u001b[0;32m---> 41\u001b[0;31m             \u001b[0;32mreturn\u001b[0m \u001b[0mdraw\u001b[0m\u001b[0;34m(\u001b[0m\u001b[0martist\u001b[0m\u001b[0;34m,\u001b[0m \u001b[0mrenderer\u001b[0m\u001b[0;34m,\u001b[0m \u001b[0;34m*\u001b[0m\u001b[0margs\u001b[0m\u001b[0;34m,\u001b[0m \u001b[0;34m**\u001b[0m\u001b[0mkwargs\u001b[0m\u001b[0;34m)\u001b[0m\u001b[0;34m\u001b[0m\u001b[0;34m\u001b[0m\u001b[0m\n\u001b[0m\u001b[1;32m     42\u001b[0m         \u001b[0;32mfinally\u001b[0m\u001b[0;34m:\u001b[0m\u001b[0;34m\u001b[0m\u001b[0;34m\u001b[0m\u001b[0m\n\u001b[1;32m     43\u001b[0m             \u001b[0;32mif\u001b[0m \u001b[0martist\u001b[0m\u001b[0;34m.\u001b[0m\u001b[0mget_agg_filter\u001b[0m\u001b[0;34m(\u001b[0m\u001b[0;34m)\u001b[0m \u001b[0;32mis\u001b[0m \u001b[0;32mnot\u001b[0m \u001b[0;32mNone\u001b[0m\u001b[0;34m:\u001b[0m\u001b[0;34m\u001b[0m\u001b[0;34m\u001b[0m\u001b[0m\n",
      "\u001b[0;32m~/anaconda3/envs/deeplearning/lib/python3.8/site-packages/matplotlib/collections.py\u001b[0m in \u001b[0;36mdraw\u001b[0;34m(self, renderer)\u001b[0m\n\u001b[1;32m    383\u001b[0m             \u001b[0;32melse\u001b[0m\u001b[0;34m:\u001b[0m\u001b[0;34m\u001b[0m\u001b[0;34m\u001b[0m\u001b[0m\n\u001b[1;32m    384\u001b[0m                 \u001b[0mcombined_transform\u001b[0m \u001b[0;34m=\u001b[0m \u001b[0mtransform\u001b[0m\u001b[0;34m\u001b[0m\u001b[0;34m\u001b[0m\u001b[0m\n\u001b[0;32m--> 385\u001b[0;31m             \u001b[0mextents\u001b[0m \u001b[0;34m=\u001b[0m \u001b[0mpaths\u001b[0m\u001b[0;34m[\u001b[0m\u001b[0;36m0\u001b[0m\u001b[0;34m]\u001b[0m\u001b[0;34m.\u001b[0m\u001b[0mget_extents\u001b[0m\u001b[0;34m(\u001b[0m\u001b[0mcombined_transform\u001b[0m\u001b[0;34m)\u001b[0m\u001b[0;34m\u001b[0m\u001b[0;34m\u001b[0m\u001b[0m\n\u001b[0m\u001b[1;32m    386\u001b[0m             if (extents.width < self.figure.bbox.width\n\u001b[1;32m    387\u001b[0m                     and extents.height < self.figure.bbox.height):\n",
      "\u001b[0;32m~/anaconda3/envs/deeplearning/lib/python3.8/site-packages/matplotlib/path.py\u001b[0m in \u001b[0;36mget_extents\u001b[0;34m(self, transform, **kwargs)\u001b[0m\n\u001b[1;32m    601\u001b[0m                 \u001b[0mxys\u001b[0m\u001b[0;34m.\u001b[0m\u001b[0mappend\u001b[0m\u001b[0;34m(\u001b[0m\u001b[0mcurve\u001b[0m\u001b[0;34m(\u001b[0m\u001b[0;34m[\u001b[0m\u001b[0;36m0\u001b[0m\u001b[0;34m,\u001b[0m \u001b[0;34m*\u001b[0m\u001b[0mdzeros\u001b[0m\u001b[0;34m,\u001b[0m \u001b[0;36m1\u001b[0m\u001b[0;34m]\u001b[0m\u001b[0;34m)\u001b[0m\u001b[0;34m)\u001b[0m\u001b[0;34m\u001b[0m\u001b[0;34m\u001b[0m\u001b[0m\n\u001b[1;32m    602\u001b[0m             \u001b[0mxys\u001b[0m \u001b[0;34m=\u001b[0m \u001b[0mnp\u001b[0m\u001b[0;34m.\u001b[0m\u001b[0mconcatenate\u001b[0m\u001b[0;34m(\u001b[0m\u001b[0mxys\u001b[0m\u001b[0;34m)\u001b[0m\u001b[0;34m\u001b[0m\u001b[0;34m\u001b[0m\u001b[0m\n\u001b[0;32m--> 603\u001b[0;31m         \u001b[0;32mreturn\u001b[0m \u001b[0mBbox\u001b[0m\u001b[0;34m(\u001b[0m\u001b[0;34m[\u001b[0m\u001b[0mxys\u001b[0m\u001b[0;34m.\u001b[0m\u001b[0mmin\u001b[0m\u001b[0;34m(\u001b[0m\u001b[0maxis\u001b[0m\u001b[0;34m=\u001b[0m\u001b[0;36m0\u001b[0m\u001b[0;34m)\u001b[0m\u001b[0;34m,\u001b[0m \u001b[0mxys\u001b[0m\u001b[0;34m.\u001b[0m\u001b[0mmax\u001b[0m\u001b[0;34m(\u001b[0m\u001b[0maxis\u001b[0m\u001b[0;34m=\u001b[0m\u001b[0;36m0\u001b[0m\u001b[0;34m)\u001b[0m\u001b[0;34m]\u001b[0m\u001b[0;34m)\u001b[0m\u001b[0;34m\u001b[0m\u001b[0;34m\u001b[0m\u001b[0m\n\u001b[0m\u001b[1;32m    604\u001b[0m \u001b[0;34m\u001b[0m\u001b[0m\n\u001b[1;32m    605\u001b[0m     \u001b[0;32mdef\u001b[0m \u001b[0mintersects_path\u001b[0m\u001b[0;34m(\u001b[0m\u001b[0mself\u001b[0m\u001b[0;34m,\u001b[0m \u001b[0mother\u001b[0m\u001b[0;34m,\u001b[0m \u001b[0mfilled\u001b[0m\u001b[0;34m=\u001b[0m\u001b[0;32mTrue\u001b[0m\u001b[0;34m)\u001b[0m\u001b[0;34m:\u001b[0m\u001b[0;34m\u001b[0m\u001b[0;34m\u001b[0m\u001b[0m\n",
      "\u001b[0;32m~/anaconda3/envs/deeplearning/lib/python3.8/site-packages/numpy/core/_methods.py\u001b[0m in \u001b[0;36m_amin\u001b[0;34m(a, axis, out, keepdims, initial, where)\u001b[0m\n\u001b[1;32m     41\u001b[0m def _amin(a, axis=None, out=None, keepdims=False,\n\u001b[1;32m     42\u001b[0m           initial=_NoValue, where=True):\n\u001b[0;32m---> 43\u001b[0;31m     \u001b[0;32mreturn\u001b[0m \u001b[0mumr_minimum\u001b[0m\u001b[0;34m(\u001b[0m\u001b[0ma\u001b[0m\u001b[0;34m,\u001b[0m \u001b[0maxis\u001b[0m\u001b[0;34m,\u001b[0m \u001b[0;32mNone\u001b[0m\u001b[0;34m,\u001b[0m \u001b[0mout\u001b[0m\u001b[0;34m,\u001b[0m \u001b[0mkeepdims\u001b[0m\u001b[0;34m,\u001b[0m \u001b[0minitial\u001b[0m\u001b[0;34m,\u001b[0m \u001b[0mwhere\u001b[0m\u001b[0;34m)\u001b[0m\u001b[0;34m\u001b[0m\u001b[0;34m\u001b[0m\u001b[0m\n\u001b[0m\u001b[1;32m     44\u001b[0m \u001b[0;34m\u001b[0m\u001b[0m\n\u001b[1;32m     45\u001b[0m def _sum(a, axis=None, dtype=None, out=None, keepdims=False,\n",
      "\u001b[0;31mValueError\u001b[0m: zero-size array to reduction operation minimum which has no identity"
     ]
    },
    {
     "data": {
      "text/plain": [
       "<Figure size 432x288 with 1 Axes>"
      ]
     },
     "metadata": {
      "needs_background": "light"
     },
     "output_type": "display_data"
    }
   ],
   "source": [
    "plt.figure()\n",
    "sns.scatterplot(x=\"feature_0\", y=\"feature_1\", hue=\"outlier\", data=data)\n",
    "plt.show()"
   ]
  },
  {
   "cell_type": "code",
   "execution_count": 275,
   "metadata": {},
   "outputs": [
    {
     "data": {
      "text/plain": [
       "0.03"
      ]
     },
     "execution_count": 275,
     "metadata": {},
     "output_type": "execute_result"
    }
   ],
   "source": [
    "X = data.drop(\"outlier\", axis=1)\n",
    "y = data.outlier\n",
    "\n",
    "y.mean()"
   ]
  },
  {
   "cell_type": "markdown",
   "metadata": {},
   "source": [
    "## Data - ALOI"
   ]
  },
  {
   "cell_type": "markdown",
   "metadata": {},
   "source": [
    "[ALOI data set](https://www.dbs.ifi.lmu.de/research/outlier-evaluation/DAMI/literature/ALOI/) for outlier detection downloaded from [here](https://dataverse.harvard.edu/dataset.xhtml?persistentId=doi:10.7910/DVN/OPQMVF). "
   ]
  },
  {
   "cell_type": "code",
   "execution_count": 26,
   "metadata": {},
   "outputs": [
    {
     "data": {
      "text/html": [
       "<div>\n",
       "<style scoped>\n",
       "    .dataframe tbody tr th:only-of-type {\n",
       "        vertical-align: middle;\n",
       "    }\n",
       "\n",
       "    .dataframe tbody tr th {\n",
       "        vertical-align: top;\n",
       "    }\n",
       "\n",
       "    .dataframe thead th {\n",
       "        text-align: right;\n",
       "    }\n",
       "</style>\n",
       "<table border=\"1\" class=\"dataframe\">\n",
       "  <thead>\n",
       "    <tr style=\"text-align: right;\">\n",
       "      <th></th>\n",
       "      <th>feature_0</th>\n",
       "      <th>feature_1</th>\n",
       "      <th>feature_2</th>\n",
       "      <th>feature_3</th>\n",
       "      <th>feature_4</th>\n",
       "      <th>feature_5</th>\n",
       "      <th>feature_6</th>\n",
       "      <th>feature_7</th>\n",
       "      <th>feature_8</th>\n",
       "      <th>feature_9</th>\n",
       "      <th>...</th>\n",
       "      <th>feature_18</th>\n",
       "      <th>feature_19</th>\n",
       "      <th>feature_20</th>\n",
       "      <th>feature_21</th>\n",
       "      <th>feature_22</th>\n",
       "      <th>feature_23</th>\n",
       "      <th>feature_24</th>\n",
       "      <th>feature_25</th>\n",
       "      <th>feature_26</th>\n",
       "      <th>outlier</th>\n",
       "    </tr>\n",
       "  </thead>\n",
       "  <tbody>\n",
       "    <tr>\n",
       "      <th>0</th>\n",
       "      <td>0.872812</td>\n",
       "      <td>0.000005</td>\n",
       "      <td>0.0</td>\n",
       "      <td>0.000036</td>\n",
       "      <td>0.0</td>\n",
       "      <td>0.0</td>\n",
       "      <td>0.0</td>\n",
       "      <td>0.0</td>\n",
       "      <td>0.0</td>\n",
       "      <td>0.050327</td>\n",
       "      <td>...</td>\n",
       "      <td>0.014212</td>\n",
       "      <td>0.000104</td>\n",
       "      <td>0.0</td>\n",
       "      <td>0.025490</td>\n",
       "      <td>0.004937</td>\n",
       "      <td>0.000011</td>\n",
       "      <td>0.000054</td>\n",
       "      <td>0.006804</td>\n",
       "      <td>0.015385</td>\n",
       "      <td>1</td>\n",
       "    </tr>\n",
       "    <tr>\n",
       "      <th>1</th>\n",
       "      <td>0.975206</td>\n",
       "      <td>0.000000</td>\n",
       "      <td>0.0</td>\n",
       "      <td>0.000651</td>\n",
       "      <td>0.0</td>\n",
       "      <td>0.0</td>\n",
       "      <td>0.0</td>\n",
       "      <td>0.0</td>\n",
       "      <td>0.0</td>\n",
       "      <td>0.007039</td>\n",
       "      <td>...</td>\n",
       "      <td>0.000000</td>\n",
       "      <td>0.000000</td>\n",
       "      <td>0.0</td>\n",
       "      <td>0.004853</td>\n",
       "      <td>0.001582</td>\n",
       "      <td>0.000000</td>\n",
       "      <td>0.000000</td>\n",
       "      <td>0.000201</td>\n",
       "      <td>0.000000</td>\n",
       "      <td>1</td>\n",
       "    </tr>\n",
       "    <tr>\n",
       "      <th>2</th>\n",
       "      <td>0.963777</td>\n",
       "      <td>0.000000</td>\n",
       "      <td>0.0</td>\n",
       "      <td>0.002005</td>\n",
       "      <td>0.0</td>\n",
       "      <td>0.0</td>\n",
       "      <td>0.0</td>\n",
       "      <td>0.0</td>\n",
       "      <td>0.0</td>\n",
       "      <td>0.006642</td>\n",
       "      <td>...</td>\n",
       "      <td>0.000000</td>\n",
       "      <td>0.000000</td>\n",
       "      <td>0.0</td>\n",
       "      <td>0.007828</td>\n",
       "      <td>0.002523</td>\n",
       "      <td>0.000000</td>\n",
       "      <td>0.000393</td>\n",
       "      <td>0.003800</td>\n",
       "      <td>0.000000</td>\n",
       "      <td>1</td>\n",
       "    </tr>\n",
       "    <tr>\n",
       "      <th>3</th>\n",
       "      <td>0.973246</td>\n",
       "      <td>0.000000</td>\n",
       "      <td>0.0</td>\n",
       "      <td>0.000556</td>\n",
       "      <td>0.0</td>\n",
       "      <td>0.0</td>\n",
       "      <td>0.0</td>\n",
       "      <td>0.0</td>\n",
       "      <td>0.0</td>\n",
       "      <td>0.008979</td>\n",
       "      <td>...</td>\n",
       "      <td>0.000000</td>\n",
       "      <td>0.000000</td>\n",
       "      <td>0.0</td>\n",
       "      <td>0.004392</td>\n",
       "      <td>0.000170</td>\n",
       "      <td>0.000000</td>\n",
       "      <td>0.000000</td>\n",
       "      <td>0.000007</td>\n",
       "      <td>0.000000</td>\n",
       "      <td>1</td>\n",
       "    </tr>\n",
       "    <tr>\n",
       "      <th>4</th>\n",
       "      <td>0.960720</td>\n",
       "      <td>0.000000</td>\n",
       "      <td>0.0</td>\n",
       "      <td>0.000656</td>\n",
       "      <td>0.0</td>\n",
       "      <td>0.0</td>\n",
       "      <td>0.0</td>\n",
       "      <td>0.0</td>\n",
       "      <td>0.0</td>\n",
       "      <td>0.013319</td>\n",
       "      <td>...</td>\n",
       "      <td>0.000000</td>\n",
       "      <td>0.000000</td>\n",
       "      <td>0.0</td>\n",
       "      <td>0.010299</td>\n",
       "      <td>0.000561</td>\n",
       "      <td>0.000000</td>\n",
       "      <td>0.000084</td>\n",
       "      <td>0.000264</td>\n",
       "      <td>0.000000</td>\n",
       "      <td>1</td>\n",
       "    </tr>\n",
       "  </tbody>\n",
       "</table>\n",
       "<p>5 rows × 28 columns</p>\n",
       "</div>"
      ],
      "text/plain": [
       "   feature_0  feature_1  feature_2  feature_3  feature_4  feature_5  \\\n",
       "0   0.872812   0.000005        0.0   0.000036        0.0        0.0   \n",
       "1   0.975206   0.000000        0.0   0.000651        0.0        0.0   \n",
       "2   0.963777   0.000000        0.0   0.002005        0.0        0.0   \n",
       "3   0.973246   0.000000        0.0   0.000556        0.0        0.0   \n",
       "4   0.960720   0.000000        0.0   0.000656        0.0        0.0   \n",
       "\n",
       "   feature_6  feature_7  feature_8  feature_9  ...  feature_18  feature_19  \\\n",
       "0        0.0        0.0        0.0   0.050327  ...    0.014212    0.000104   \n",
       "1        0.0        0.0        0.0   0.007039  ...    0.000000    0.000000   \n",
       "2        0.0        0.0        0.0   0.006642  ...    0.000000    0.000000   \n",
       "3        0.0        0.0        0.0   0.008979  ...    0.000000    0.000000   \n",
       "4        0.0        0.0        0.0   0.013319  ...    0.000000    0.000000   \n",
       "\n",
       "   feature_20  feature_21  feature_22  feature_23  feature_24  feature_25  \\\n",
       "0         0.0    0.025490    0.004937    0.000011    0.000054    0.006804   \n",
       "1         0.0    0.004853    0.001582    0.000000    0.000000    0.000201   \n",
       "2         0.0    0.007828    0.002523    0.000000    0.000393    0.003800   \n",
       "3         0.0    0.004392    0.000170    0.000000    0.000000    0.000007   \n",
       "4         0.0    0.010299    0.000561    0.000000    0.000084    0.000264   \n",
       "\n",
       "   feature_26  outlier  \n",
       "0    0.015385        1  \n",
       "1    0.000000        1  \n",
       "2    0.000000        1  \n",
       "3    0.000000        1  \n",
       "4    0.000000        1  \n",
       "\n",
       "[5 rows x 28 columns]"
      ]
     },
     "execution_count": 26,
     "metadata": {},
     "output_type": "execute_result"
    }
   ],
   "source": [
    "raw_data = pd.read_csv(\"data/aloi-unsupervised-ad.csv\", header=None)\n",
    "\n",
    "raw_data.columns = [f\"feature_{i}\" for i in range(raw_data.shape[1]-1)] + [\"outlier\"]\n",
    "raw_data[\"outlier\"] = np.where(raw_data.outlier == \"n\", 0, 1)\n",
    "\n",
    "raw_data.head()"
   ]
  },
  {
   "cell_type": "code",
   "execution_count": 50,
   "metadata": {},
   "outputs": [],
   "source": [
    "feature_cols = [col_name for col_name in data.columns if col_name.startswith(\"feature\")]\n",
    "data = raw_data.copy()"
   ]
  },
  {
   "cell_type": "code",
   "execution_count": 327,
   "metadata": {},
   "outputs": [
    {
     "data": {
      "text/plain": [
       "0.01"
      ]
     },
     "execution_count": 327,
     "metadata": {},
     "output_type": "execute_result"
    }
   ],
   "source": [
    "X = data.drop(\"outlier\", axis=1)\n",
    "y = data.outlier\n",
    "\n",
    "y.mean()"
   ]
  },
  {
   "cell_type": "code",
   "execution_count": 36,
   "metadata": {},
   "outputs": [],
   "source": [
    "scaler_pipe = Pipeline([((\"standard\"), StandardScaler()),\n",
    "                        #(\"robust\", RobustScaler(quantile_range=(0.25, 0.75))),\n",
    "                       #(\"minmax\", MinMaxScaler(feature_range=(0, 1)))\n",
    "                       ])\n",
    "\n",
    "#data[feature_cols] = scaler_pipe.fit_transform(data[feature_cols])"
   ]
  },
  {
   "cell_type": "code",
   "execution_count": 51,
   "metadata": {},
   "outputs": [],
   "source": [
    "\n",
    "# center\n",
    "mean_ = data[feature_cols].mean(axis=0)\n",
    "data[feature_cols] = data[feature_cols] - mean_\n",
    "\n",
    "# data[feature_cols] = np.exp(data[feature_cols])\n",
    "\n",
    "# # min/max scale\n",
    "# min_ = data[feature_cols].min(axis=0)\n",
    "# max_ = data[feature_cols].max(axis=0)\n",
    "\n",
    "# data[feature_cols] = (data[feature_cols] - min_)/(max_ - min_)"
   ]
  },
  {
   "cell_type": "code",
   "execution_count": 90,
   "metadata": {},
   "outputs": [],
   "source": [
    "plot_data = data.loc[:, data.std() >= 1e-2]\n",
    "#plot_data = pd.concat([plot_data, data.outlier], axis=1)\n",
    "\n",
    "plot_data = plot_data.melt(value_vars=[col for col in plot_data.columns if col != \"outlier\"], \n",
    "                    id_vars=[\"outlier\"], \n",
    "                    var_name='groups', \n",
    "                    value_name='vals')\n",
    "\n",
    "fig, axs = plt.subplots(1, 1, figsize=(20, 10))\n",
    "sns.boxplot(x=\"groups\", y=\"vals\", hue=\"outlier\", data=plot_data, ax=axs)\n",
    "sns.despine()\n",
    "plt.xticks(rotation=90)\n",
    "plt.xlabel(\"Features\")\n",
    "plt.ylabel(\"Values\")\n",
    "L=plt.legend()\n",
    "L.get_texts()[0].set_text('inlier')\n",
    "L.get_texts()[1].set_text('outlier')\n",
    "\n",
    "# plt.plot(data[feature_cols].max(axis=0), linestyle=\"--\", c=\"gray\")\n",
    "# plt.plot(data[feature_cols].min(axis=0), linestyle=\"--\", c=\"gray\")\n",
    "\n",
    "plt.show()"
   ]
  },
  {
   "cell_type": "code",
   "execution_count": 57,
   "metadata": {},
   "outputs": [
    {
     "data": {
      "text/html": [
       "<div>\n",
       "<style scoped>\n",
       "    .dataframe tbody tr th:only-of-type {\n",
       "        vertical-align: middle;\n",
       "    }\n",
       "\n",
       "    .dataframe tbody tr th {\n",
       "        vertical-align: top;\n",
       "    }\n",
       "\n",
       "    .dataframe thead th {\n",
       "        text-align: right;\n",
       "    }\n",
       "</style>\n",
       "<table border=\"1\" class=\"dataframe\">\n",
       "  <thead>\n",
       "    <tr style=\"text-align: right;\">\n",
       "      <th></th>\n",
       "      <th>std</th>\n",
       "      <th>mean</th>\n",
       "    </tr>\n",
       "  </thead>\n",
       "  <tbody>\n",
       "    <tr>\n",
       "      <th>feature_0</th>\n",
       "      <td>0.080882</td>\n",
       "      <td>-4.621370e-15</td>\n",
       "    </tr>\n",
       "    <tr>\n",
       "      <th>feature_1</th>\n",
       "      <td>0.012711</td>\n",
       "      <td>-7.442047e-17</td>\n",
       "    </tr>\n",
       "    <tr>\n",
       "      <th>feature_2</th>\n",
       "      <td>0.002093</td>\n",
       "      <td>4.174439e-19</td>\n",
       "    </tr>\n",
       "    <tr>\n",
       "      <th>feature_3</th>\n",
       "      <td>0.010481</td>\n",
       "      <td>-6.597833e-17</td>\n",
       "    </tr>\n",
       "    <tr>\n",
       "      <th>feature_4</th>\n",
       "      <td>0.006335</td>\n",
       "      <td>-7.925993e-17</td>\n",
       "    </tr>\n",
       "    <tr>\n",
       "      <th>feature_5</th>\n",
       "      <td>0.003146</td>\n",
       "      <td>-3.845813e-18</td>\n",
       "    </tr>\n",
       "    <tr>\n",
       "      <th>feature_6</th>\n",
       "      <td>0.000781</td>\n",
       "      <td>4.306278e-19</td>\n",
       "    </tr>\n",
       "    <tr>\n",
       "      <th>feature_7</th>\n",
       "      <td>0.000521</td>\n",
       "      <td>7.471801e-19</td>\n",
       "    </tr>\n",
       "    <tr>\n",
       "      <th>feature_8</th>\n",
       "      <td>0.001526</td>\n",
       "      <td>1.159073e-18</td>\n",
       "    </tr>\n",
       "    <tr>\n",
       "      <th>feature_9</th>\n",
       "      <td>0.027425</td>\n",
       "      <td>8.316903e-17</td>\n",
       "    </tr>\n",
       "    <tr>\n",
       "      <th>feature_10</th>\n",
       "      <td>0.003156</td>\n",
       "      <td>-1.751432e-17</td>\n",
       "    </tr>\n",
       "    <tr>\n",
       "      <th>feature_11</th>\n",
       "      <td>0.000095</td>\n",
       "      <td>-2.205484e-19</td>\n",
       "    </tr>\n",
       "    <tr>\n",
       "      <th>feature_12</th>\n",
       "      <td>0.017663</td>\n",
       "      <td>-5.469403e-17</td>\n",
       "    </tr>\n",
       "    <tr>\n",
       "      <th>feature_13</th>\n",
       "      <td>0.018425</td>\n",
       "      <td>-1.338485e-17</td>\n",
       "    </tr>\n",
       "    <tr>\n",
       "      <th>feature_14</th>\n",
       "      <td>0.004133</td>\n",
       "      <td>-3.156697e-17</td>\n",
       "    </tr>\n",
       "    <tr>\n",
       "      <th>feature_15</th>\n",
       "      <td>0.004881</td>\n",
       "      <td>-1.047828e-17</td>\n",
       "    </tr>\n",
       "    <tr>\n",
       "      <th>feature_16</th>\n",
       "      <td>0.003014</td>\n",
       "      <td>-2.128964e-17</td>\n",
       "    </tr>\n",
       "    <tr>\n",
       "      <th>feature_17</th>\n",
       "      <td>0.004306</td>\n",
       "      <td>-5.014877e-17</td>\n",
       "    </tr>\n",
       "    <tr>\n",
       "      <th>feature_18</th>\n",
       "      <td>0.019290</td>\n",
       "      <td>8.332890e-17</td>\n",
       "    </tr>\n",
       "    <tr>\n",
       "      <th>feature_19</th>\n",
       "      <td>0.001507</td>\n",
       "      <td>1.318917e-17</td>\n",
       "    </tr>\n",
       "    <tr>\n",
       "      <th>feature_20</th>\n",
       "      <td>0.000104</td>\n",
       "      <td>5.999975e-20</td>\n",
       "    </tr>\n",
       "    <tr>\n",
       "      <th>feature_21</th>\n",
       "      <td>0.019875</td>\n",
       "      <td>-7.977619e-17</td>\n",
       "    </tr>\n",
       "    <tr>\n",
       "      <th>feature_22</th>\n",
       "      <td>0.009557</td>\n",
       "      <td>2.333245e-17</td>\n",
       "    </tr>\n",
       "    <tr>\n",
       "      <th>feature_23</th>\n",
       "      <td>0.000791</td>\n",
       "      <td>1.208866e-17</td>\n",
       "    </tr>\n",
       "    <tr>\n",
       "      <th>feature_24</th>\n",
       "      <td>0.016900</td>\n",
       "      <td>9.046985e-17</td>\n",
       "    </tr>\n",
       "    <tr>\n",
       "      <th>feature_25</th>\n",
       "      <td>0.017319</td>\n",
       "      <td>1.416200e-17</td>\n",
       "    </tr>\n",
       "    <tr>\n",
       "      <th>feature_26</th>\n",
       "      <td>0.031761</td>\n",
       "      <td>-1.896172e-16</td>\n",
       "    </tr>\n",
       "  </tbody>\n",
       "</table>\n",
       "</div>"
      ],
      "text/plain": [
       "                 std          mean\n",
       "feature_0   0.080882 -4.621370e-15\n",
       "feature_1   0.012711 -7.442047e-17\n",
       "feature_2   0.002093  4.174439e-19\n",
       "feature_3   0.010481 -6.597833e-17\n",
       "feature_4   0.006335 -7.925993e-17\n",
       "feature_5   0.003146 -3.845813e-18\n",
       "feature_6   0.000781  4.306278e-19\n",
       "feature_7   0.000521  7.471801e-19\n",
       "feature_8   0.001526  1.159073e-18\n",
       "feature_9   0.027425  8.316903e-17\n",
       "feature_10  0.003156 -1.751432e-17\n",
       "feature_11  0.000095 -2.205484e-19\n",
       "feature_12  0.017663 -5.469403e-17\n",
       "feature_13  0.018425 -1.338485e-17\n",
       "feature_14  0.004133 -3.156697e-17\n",
       "feature_15  0.004881 -1.047828e-17\n",
       "feature_16  0.003014 -2.128964e-17\n",
       "feature_17  0.004306 -5.014877e-17\n",
       "feature_18  0.019290  8.332890e-17\n",
       "feature_19  0.001507  1.318917e-17\n",
       "feature_20  0.000104  5.999975e-20\n",
       "feature_21  0.019875 -7.977619e-17\n",
       "feature_22  0.009557  2.333245e-17\n",
       "feature_23  0.000791  1.208866e-17\n",
       "feature_24  0.016900  9.046985e-17\n",
       "feature_25  0.017319  1.416200e-17\n",
       "feature_26  0.031761 -1.896172e-16"
      ]
     },
     "execution_count": 57,
     "metadata": {},
     "output_type": "execute_result"
    }
   ],
   "source": [
    "feature_stats = data[feature_cols].apply([np.std, np.mean]).T\n",
    "feature_stats"
   ]
  },
  {
   "cell_type": "code",
   "execution_count": 60,
   "metadata": {},
   "outputs": [
    {
     "data": {
      "text/plain": [
       "16"
      ]
     },
     "execution_count": 60,
     "metadata": {},
     "output_type": "execute_result"
    }
   ],
   "source": [
    "(feature_stats[\"std\"] < 1e-2).sum()"
   ]
  },
  {
   "cell_type": "code",
   "execution_count": 49,
   "metadata": {},
   "outputs": [],
   "source": [
    "inlier_data = data[data.outlier == 0].reset_index()\n",
    "outlier_data = data[data.outlier == 1].reset_index()\n",
    "\n",
    "# plt.figure(figsize=(20, 10))\n",
    "# plt.plot(inlier_data.loc[:1000, feature_cols].T, c=\"blue\", alpha=0.1)\n",
    "# plt.plot(outlier_data.loc[:100, feature_cols].T, c=\"red\", alpha=0.5)\n",
    "# plt.xticks(rotation=90)\n",
    "# plt.show()\n",
    "\n",
    "\n",
    "fig, axs = plt.subplots(2, 1, figsize=(20, 10))\n",
    "axs[0].plot(inlier_data.loc[:1000, feature_cols].T, c=\"blue\", alpha=0.1)\n",
    "axs[0].set_xticklabels(feature_cols, rotation=45)\n",
    "axs[1].plot(outlier_data.loc[:100, feature_cols].T, c=\"red\", alpha=0.5)\n",
    "axs[1].set_xticklabels(feature_cols, rotation=45)\n",
    "plt.show()"
   ]
  },
  {
   "cell_type": "markdown",
   "metadata": {},
   "source": [
    "## Data - Wordline "
   ]
  },
  {
   "cell_type": "markdown",
   "metadata": {},
   "source": [
    "We will work with credit card data from [Wordline & ULB](https://www.kaggle.com/mlg-ulb/creditcardfraud)."
   ]
  },
  {
   "cell_type": "code",
   "execution_count": 350,
   "metadata": {},
   "outputs": [
    {
     "data": {
      "text/html": [
       "<div>\n",
       "<style scoped>\n",
       "    .dataframe tbody tr th:only-of-type {\n",
       "        vertical-align: middle;\n",
       "    }\n",
       "\n",
       "    .dataframe tbody tr th {\n",
       "        vertical-align: top;\n",
       "    }\n",
       "\n",
       "    .dataframe thead th {\n",
       "        text-align: right;\n",
       "    }\n",
       "</style>\n",
       "<table border=\"1\" class=\"dataframe\">\n",
       "  <thead>\n",
       "    <tr style=\"text-align: right;\">\n",
       "      <th></th>\n",
       "      <th>Time</th>\n",
       "      <th>V1</th>\n",
       "      <th>V2</th>\n",
       "      <th>V3</th>\n",
       "      <th>V4</th>\n",
       "      <th>V5</th>\n",
       "      <th>V6</th>\n",
       "      <th>V7</th>\n",
       "      <th>V8</th>\n",
       "      <th>V9</th>\n",
       "      <th>...</th>\n",
       "      <th>V21</th>\n",
       "      <th>V22</th>\n",
       "      <th>V23</th>\n",
       "      <th>V24</th>\n",
       "      <th>V25</th>\n",
       "      <th>V26</th>\n",
       "      <th>V27</th>\n",
       "      <th>V28</th>\n",
       "      <th>Amount</th>\n",
       "      <th>Class</th>\n",
       "    </tr>\n",
       "  </thead>\n",
       "  <tbody>\n",
       "    <tr>\n",
       "      <th>0</th>\n",
       "      <td>0.0</td>\n",
       "      <td>-1.359807</td>\n",
       "      <td>-0.072781</td>\n",
       "      <td>2.536347</td>\n",
       "      <td>1.378155</td>\n",
       "      <td>-0.338321</td>\n",
       "      <td>0.462388</td>\n",
       "      <td>0.239599</td>\n",
       "      <td>0.098698</td>\n",
       "      <td>0.363787</td>\n",
       "      <td>...</td>\n",
       "      <td>-0.018307</td>\n",
       "      <td>0.277838</td>\n",
       "      <td>-0.110474</td>\n",
       "      <td>0.066928</td>\n",
       "      <td>0.128539</td>\n",
       "      <td>-0.189115</td>\n",
       "      <td>0.133558</td>\n",
       "      <td>-0.021053</td>\n",
       "      <td>149.62</td>\n",
       "      <td>0</td>\n",
       "    </tr>\n",
       "    <tr>\n",
       "      <th>1</th>\n",
       "      <td>0.0</td>\n",
       "      <td>1.191857</td>\n",
       "      <td>0.266151</td>\n",
       "      <td>0.166480</td>\n",
       "      <td>0.448154</td>\n",
       "      <td>0.060018</td>\n",
       "      <td>-0.082361</td>\n",
       "      <td>-0.078803</td>\n",
       "      <td>0.085102</td>\n",
       "      <td>-0.255425</td>\n",
       "      <td>...</td>\n",
       "      <td>-0.225775</td>\n",
       "      <td>-0.638672</td>\n",
       "      <td>0.101288</td>\n",
       "      <td>-0.339846</td>\n",
       "      <td>0.167170</td>\n",
       "      <td>0.125895</td>\n",
       "      <td>-0.008983</td>\n",
       "      <td>0.014724</td>\n",
       "      <td>2.69</td>\n",
       "      <td>0</td>\n",
       "    </tr>\n",
       "    <tr>\n",
       "      <th>2</th>\n",
       "      <td>1.0</td>\n",
       "      <td>-1.358354</td>\n",
       "      <td>-1.340163</td>\n",
       "      <td>1.773209</td>\n",
       "      <td>0.379780</td>\n",
       "      <td>-0.503198</td>\n",
       "      <td>1.800499</td>\n",
       "      <td>0.791461</td>\n",
       "      <td>0.247676</td>\n",
       "      <td>-1.514654</td>\n",
       "      <td>...</td>\n",
       "      <td>0.247998</td>\n",
       "      <td>0.771679</td>\n",
       "      <td>0.909412</td>\n",
       "      <td>-0.689281</td>\n",
       "      <td>-0.327642</td>\n",
       "      <td>-0.139097</td>\n",
       "      <td>-0.055353</td>\n",
       "      <td>-0.059752</td>\n",
       "      <td>378.66</td>\n",
       "      <td>0</td>\n",
       "    </tr>\n",
       "    <tr>\n",
       "      <th>3</th>\n",
       "      <td>1.0</td>\n",
       "      <td>-0.966272</td>\n",
       "      <td>-0.185226</td>\n",
       "      <td>1.792993</td>\n",
       "      <td>-0.863291</td>\n",
       "      <td>-0.010309</td>\n",
       "      <td>1.247203</td>\n",
       "      <td>0.237609</td>\n",
       "      <td>0.377436</td>\n",
       "      <td>-1.387024</td>\n",
       "      <td>...</td>\n",
       "      <td>-0.108300</td>\n",
       "      <td>0.005274</td>\n",
       "      <td>-0.190321</td>\n",
       "      <td>-1.175575</td>\n",
       "      <td>0.647376</td>\n",
       "      <td>-0.221929</td>\n",
       "      <td>0.062723</td>\n",
       "      <td>0.061458</td>\n",
       "      <td>123.50</td>\n",
       "      <td>0</td>\n",
       "    </tr>\n",
       "    <tr>\n",
       "      <th>4</th>\n",
       "      <td>2.0</td>\n",
       "      <td>-1.158233</td>\n",
       "      <td>0.877737</td>\n",
       "      <td>1.548718</td>\n",
       "      <td>0.403034</td>\n",
       "      <td>-0.407193</td>\n",
       "      <td>0.095921</td>\n",
       "      <td>0.592941</td>\n",
       "      <td>-0.270533</td>\n",
       "      <td>0.817739</td>\n",
       "      <td>...</td>\n",
       "      <td>-0.009431</td>\n",
       "      <td>0.798278</td>\n",
       "      <td>-0.137458</td>\n",
       "      <td>0.141267</td>\n",
       "      <td>-0.206010</td>\n",
       "      <td>0.502292</td>\n",
       "      <td>0.219422</td>\n",
       "      <td>0.215153</td>\n",
       "      <td>69.99</td>\n",
       "      <td>0</td>\n",
       "    </tr>\n",
       "  </tbody>\n",
       "</table>\n",
       "<p>5 rows × 31 columns</p>\n",
       "</div>"
      ],
      "text/plain": [
       "   Time        V1        V2        V3        V4        V5        V6        V7  \\\n",
       "0   0.0 -1.359807 -0.072781  2.536347  1.378155 -0.338321  0.462388  0.239599   \n",
       "1   0.0  1.191857  0.266151  0.166480  0.448154  0.060018 -0.082361 -0.078803   \n",
       "2   1.0 -1.358354 -1.340163  1.773209  0.379780 -0.503198  1.800499  0.791461   \n",
       "3   1.0 -0.966272 -0.185226  1.792993 -0.863291 -0.010309  1.247203  0.237609   \n",
       "4   2.0 -1.158233  0.877737  1.548718  0.403034 -0.407193  0.095921  0.592941   \n",
       "\n",
       "         V8        V9  ...       V21       V22       V23       V24       V25  \\\n",
       "0  0.098698  0.363787  ... -0.018307  0.277838 -0.110474  0.066928  0.128539   \n",
       "1  0.085102 -0.255425  ... -0.225775 -0.638672  0.101288 -0.339846  0.167170   \n",
       "2  0.247676 -1.514654  ...  0.247998  0.771679  0.909412 -0.689281 -0.327642   \n",
       "3  0.377436 -1.387024  ... -0.108300  0.005274 -0.190321 -1.175575  0.647376   \n",
       "4 -0.270533  0.817739  ... -0.009431  0.798278 -0.137458  0.141267 -0.206010   \n",
       "\n",
       "        V26       V27       V28  Amount  Class  \n",
       "0 -0.189115  0.133558 -0.021053  149.62      0  \n",
       "1  0.125895 -0.008983  0.014724    2.69      0  \n",
       "2 -0.139097 -0.055353 -0.059752  378.66      0  \n",
       "3 -0.221929  0.062723  0.061458  123.50      0  \n",
       "4  0.502292  0.219422  0.215153   69.99      0  \n",
       "\n",
       "[5 rows x 31 columns]"
      ]
     },
     "execution_count": 350,
     "metadata": {},
     "output_type": "execute_result"
    }
   ],
   "source": [
    "data = pd.read_csv(\"data/creditcard.csv\")\n",
    "data.head()"
   ]
  },
  {
   "cell_type": "code",
   "execution_count": 3,
   "metadata": {},
   "outputs": [
    {
     "data": {
      "text/plain": [
       "(284807, 31)"
      ]
     },
     "execution_count": 3,
     "metadata": {},
     "output_type": "execute_result"
    }
   ],
   "source": [
    "data.shape"
   ]
  },
  {
   "cell_type": "code",
   "execution_count": 351,
   "metadata": {},
   "outputs": [],
   "source": [
    "X = data.drop([\"Time\", \"Class\"], axis=1).values\n",
    "y = data[\"Class\"].values"
   ]
  },
  {
   "cell_type": "markdown",
   "metadata": {},
   "source": [
    "The proportion of outliers is around 0.17%:"
   ]
  },
  {
   "cell_type": "code",
   "execution_count": 352,
   "metadata": {},
   "outputs": [
    {
     "data": {
      "text/plain": [
       "0.001727485630620034"
      ]
     },
     "execution_count": 352,
     "metadata": {},
     "output_type": "execute_result"
    }
   ],
   "source": [
    "y.mean()"
   ]
  },
  {
   "cell_type": "code",
   "execution_count": 357,
   "metadata": {},
   "outputs": [
    {
     "data": {
      "image/png": "[encoded data removed]",
      "text/plain": [
       "<Figure size 1440x720 with 2 Axes>"
      ]
     },
     "metadata": {
      "needs_background": "light"
     },
     "output_type": "display_data"
    }
   ],
   "source": [
    "inlier_data = data[data.Class == 0].reset_index()\n",
    "outlier_data = data[data.Class == 1].reset_index()\n",
    "\n",
    "# plt.figure(figsize=(20, 10))\n",
    "# plt.plot(inlier_data.loc[:1000, feature_cols].T, c=\"blue\", alpha=0.1)\n",
    "# plt.plot(outlier_data.loc[:100, feature_cols].T, c=\"red\", alpha=0.5)\n",
    "# plt.xticks(rotation=90)\n",
    "# plt.show()\n",
    "\n",
    "feature_cols = [col for col in data.columns if col.startswith(\"V\")]\n",
    "\n",
    "fig, axs = plt.subplots(2, 1, figsize=(20, 10))\n",
    "axs[0].plot(inlier_data.loc[:1000, feature_cols].T, c=\"blue\", alpha=0.1)\n",
    "#axs[0].set_xticklabels(feature_cols, rotation=45)\n",
    "axs[1].plot(outlier_data.loc[:100, feature_cols].T, c=\"red\", alpha=0.5)\n",
    "#axs[1].set_xticklabels(feature_cols, rotation=45)\n",
    "sns.despine()\n",
    "plt.show()"
   ]
  },
  {
   "cell_type": "code",
   "execution_count": 365,
   "metadata": {},
   "outputs": [],
   "source": [
    "#plot_data = data.loc[:, data.std() >= 1e-2]\n",
    "#plot_data = pd.concat([plot_data, data.outlier], axis=1)\n",
    "\n",
    "plot_data = data.drop(\"Time\", axis=1).melt(value_vars=feature_cols, \n",
    "                    id_vars=[\"Class\"], \n",
    "                    var_name='groups', \n",
    "                    value_name='vals')"
   ]
  },
  {
   "cell_type": "code",
   "execution_count": 366,
   "metadata": {},
   "outputs": [
    {
     "data": {
      "image/png": "[encoded data removed]",
      "text/plain": [
       "<Figure size 1440x720 with 1 Axes>"
      ]
     },
     "metadata": {
      "needs_background": "light"
     },
     "output_type": "display_data"
    }
   ],
   "source": [
    "fig, axs = plt.subplots(1, 1, figsize=(20, 10))\n",
    "sns.boxplot(x=\"groups\", y=\"vals\", hue=\"Class\", data=plot_data, ax=axs)\n",
    "sns.despine()\n",
    "plt.xticks(rotation=90)\n",
    "plt.xlabel(\"Features\")\n",
    "plt.ylabel(\"Values\")\n",
    "L=plt.legend()\n",
    "L.get_texts()[0].set_text('inlier')\n",
    "L.get_texts()[1].set_text('outlier')\n",
    "\n",
    "# plt.plot(data[feature_cols].max(axis=0), linestyle=\"--\", c=\"gray\")\n",
    "# plt.plot(data[feature_cols].min(axis=0), linestyle=\"--\", c=\"gray\")\n",
    "\n",
    "plt.show()"
   ]
  },
  {
   "cell_type": "markdown",
   "metadata": {},
   "source": [
    "## Preprocessing "
   ]
  },
  {
   "cell_type": "markdown",
   "metadata": {},
   "source": [
    "We will do just very basic preprocessing:"
   ]
  },
  {
   "cell_type": "code",
   "execution_count": 367,
   "metadata": {},
   "outputs": [],
   "source": [
    "\n",
    "X_train, X_test, y_train, y_test = train_test_split(X, y, test_size=0.2, stratify=y, random_state=1)\n",
    "#X_train, X_val, y_train, y_val = train_test_split(X_train, y_train, test_size=0.2, stratify=y_train)\n",
    "\n",
    "scale = True\n",
    "if scale:\n",
    "    scaler_pipe = Pipeline([(\"robust\", RobustScaler(quantile_range=(0.1, 0.9))),\n",
    "                       (\"minmax\", MinMaxScaler(feature_range=(0, 1)))])\n",
    "\n",
    "    X_train = scaler_pipe.fit_transform(X_train)\n",
    "    #X_val = scaler.transform(X_val)\n",
    "    X_test = scaler_pipe.transform(X_test)\n",
    "\n",
    "    y_train = y_train.reshape(-1, 1)\n",
    "    #y_val = y_val.reshape(-1, 1)\n",
    "    y_test = y_test.reshape(-1, 1)"
   ]
  },
  {
   "cell_type": "code",
   "execution_count": 368,
   "metadata": {},
   "outputs": [
    {
     "data": {
      "text/plain": [
       "((227845, 29), (227845, 1), (56962, 29), (56962, 1))"
      ]
     },
     "execution_count": 368,
     "metadata": {},
     "output_type": "execute_result"
    }
   ],
   "source": [
    "X_train.shape, y_train.shape, X_test.shape, y_test.shape"
   ]
  },
  {
   "cell_type": "code",
   "execution_count": 369,
   "metadata": {},
   "outputs": [
    {
     "data": {
      "text/plain": [
       "(394, 98)"
      ]
     },
     "execution_count": 369,
     "metadata": {},
     "output_type": "execute_result"
    }
   ],
   "source": [
    "y_train.sum(), y_test.sum()"
   ]
  },
  {
   "cell_type": "markdown",
   "metadata": {},
   "source": [
    "Before the modeling, we can visualize our data:"
   ]
  },
  {
   "cell_type": "code",
   "execution_count": null,
   "metadata": {},
   "outputs": [],
   "source": [
    "y_test[:5000].sum()"
   ]
  },
  {
   "cell_type": "code",
   "execution_count": 370,
   "metadata": {},
   "outputs": [],
   "source": [
    "from sklearn.manifold import TSNE\n",
    "\n",
    "tsne = TSNE(n_components=2)\n",
    "tsne_data = tsne.fit_transform(X_test[:5000])"
   ]
  },
  {
   "cell_type": "code",
   "execution_count": 371,
   "metadata": {},
   "outputs": [
    {
     "data": {
      "image/png": "[encoded data removed]",
      "text/plain": [
       "<Figure size 432x288 with 1 Axes>"
      ]
     },
     "metadata": {
      "needs_background": "light"
     },
     "output_type": "display_data"
    }
   ],
   "source": [
    "labels = y_test[:5000].reshape(-1)\n",
    "\n",
    "plt.figure()\n",
    "plt.scatter(tsne_data[labels == 0, 0], \n",
    "            tsne_data[labels == 0, 1], c=\"grey\", alpha=0.1, label=\"inlier\")\n",
    "plt.scatter(tsne_data[labels == 1, 0], \n",
    "            tsne_data[labels == 1, 1], c=\"crimson\", alpha=1, label=\"outlier\")\n",
    "plt.legend()\n",
    "sns.despine()\n",
    "plt.title(\"t-SNE for outliers/inliers\")\n",
    "plt.show()"
   ]
  },
  {
   "cell_type": "markdown",
   "metadata": {},
   "source": [
    "## Outlier detection baselines"
   ]
  },
  {
   "cell_type": "markdown",
   "metadata": {},
   "source": [
    "We will use some [outlier detection baselines from sklearn](https://scikit-learn.org/stable/auto_examples/miscellaneous/plot_anomaly_comparison.html#sphx-glr-auto-examples-miscellaneous-plot-anomaly-comparison-py)."
   ]
  },
  {
   "cell_type": "markdown",
   "metadata": {},
   "source": [
    "### Local Outlier Factors "
   ]
  },
  {
   "cell_type": "markdown",
   "metadata": {},
   "source": [
    "This is a non-parametric, density-based method that finds outliers by looking for data points which have significantly lower local densities then their neighbouring points. The rough algorithm is as follows:\n",
    "\n",
    "1. Find the k-nearest neighbors and use the distance to estimate a local density;\n",
    "2. Compare local densities with neighbours to detect outliers.\n",
    "\n",
    "LOF being a distance-based method, it's important that our data is scaled. See more [here](https://scikit-learn.org/stable/modules/generated/sklearn.neighbors.LocalOutlierFactor.html)."
   ]
  },
  {
   "cell_type": "code",
   "execution_count": 392,
   "metadata": {},
   "outputs": [],
   "source": [
    "from sklearn.neighbors import LocalOutlierFactor\n",
    "\n",
    "lof = LocalOutlierFactor(n_neighbors=5, contamination=y_train.mean(), n_jobs=-1) # n_neighbours should be tuned\n",
    "\n",
    "y_pred = lof.fit_predict(X_train) # 1: inlier, -1: outlier"
   ]
  },
  {
   "cell_type": "code",
   "execution_count": 393,
   "metadata": {},
   "outputs": [
    {
     "name": "stdout",
     "output_type": "stream",
     "text": [
      "              precision    recall  f1-score   support\n",
      "\n",
      "           0       1.00      1.00      1.00    227451\n",
      "           1       0.00      0.00      0.00       394\n",
      "\n",
      "    accuracy                           1.00    227845\n",
      "   macro avg       0.50      0.50      0.50    227845\n",
      "weighted avg       1.00      1.00      1.00    227845\n",
      "\n"
     ]
    }
   ],
   "source": [
    "cr = classification_report(y_train, np.where(y_pred == 1, 0, 1))\n",
    "print(cr)"
   ]
  },
  {
   "cell_type": "code",
   "execution_count": 394,
   "metadata": {},
   "outputs": [
    {
     "name": "stdout",
     "output_type": "stream",
     "text": [
      "              precision    recall  f1-score   support\n",
      "\n",
      "           0       1.00      1.00      1.00     56864\n",
      "           1       0.00      0.00      0.00        98\n",
      "\n",
      "    accuracy                           1.00     56962\n",
      "   macro avg       0.50      0.50      0.50     56962\n",
      "weighted avg       1.00      1.00      1.00     56962\n",
      "\n"
     ]
    }
   ],
   "source": [
    "y_pred = lof.fit_predict(X_test) # 1: inlier, -1: outlier\n",
    "cr = classification_report(y_test, np.where(y_pred == 1, 0, 1))\n",
    "print(cr)"
   ]
  },
  {
   "cell_type": "markdown",
   "metadata": {},
   "source": [
    "### Elliptic Envelopes"
   ]
  },
  {
   "cell_type": "markdown",
   "metadata": {},
   "source": [
    "Our second baseline is a paramteric method: by assuming that inlier data points are from a Gaussian distribution, we can measure the degree of outlier-ness by the fitted distribution. We perform a robust mean and covariance estimation (which should not be affected by outliers) and calculate the Mahalanobis distances to derive a measure of outlyingness. \n",
    "\n",
    "See more [here](https://scikit-learn.org/stable/modules/generated/sklearn.covariance.EllipticEnvelope.html#sklearn.covariance.EllipticEnvelope)."
   ]
  },
  {
   "cell_type": "code",
   "execution_count": 389,
   "metadata": {
    "collapsed": true,
    "jupyter": {
     "outputs_hidden": true
    }
   },
   "outputs": [
    {
     "name": "stderr",
     "output_type": "stream",
     "text": [
      "/Users/danielsoukup/anaconda3/envs/deeplearning/lib/python3.8/site-packages/sklearn/covariance/_robust_covariance.py:166: RuntimeWarning: Determinant has increased; this should not happen: log(det) > log(previous_det) (-291.440825339463004 > -292.044824400212519). You may want to try with a higher value of support_fraction (current value: 0.900).\n",
      "  warnings.warn(\"Determinant has increased; this should not happen: \"\n",
      "/Users/danielsoukup/anaconda3/envs/deeplearning/lib/python3.8/site-packages/sklearn/covariance/_robust_covariance.py:166: RuntimeWarning: Determinant has increased; this should not happen: log(det) > log(previous_det) (-295.822195470592987 > -296.361727240247262). You may want to try with a higher value of support_fraction (current value: 0.900).\n",
      "  warnings.warn(\"Determinant has increased; this should not happen: \"\n",
      "/Users/danielsoukup/anaconda3/envs/deeplearning/lib/python3.8/site-packages/sklearn/covariance/_robust_covariance.py:166: RuntimeWarning: Determinant has increased; this should not happen: log(det) > log(previous_det) (-296.096572027577054 > -296.523548295679120). You may want to try with a higher value of support_fraction (current value: 0.900).\n",
      "  warnings.warn(\"Determinant has increased; this should not happen: \"\n",
      "/Users/danielsoukup/anaconda3/envs/deeplearning/lib/python3.8/site-packages/sklearn/covariance/_robust_covariance.py:166: RuntimeWarning: Determinant has increased; this should not happen: log(det) > log(previous_det) (-294.057338298350317 > -294.672923231296750). You may want to try with a higher value of support_fraction (current value: 0.900).\n",
      "  warnings.warn(\"Determinant has increased; this should not happen: \"\n",
      "/Users/danielsoukup/anaconda3/envs/deeplearning/lib/python3.8/site-packages/sklearn/covariance/_robust_covariance.py:166: RuntimeWarning: Determinant has increased; this should not happen: log(det) > log(previous_det) (-293.183897314420392 > -295.495878349820032). You may want to try with a higher value of support_fraction (current value: 0.900).\n",
      "  warnings.warn(\"Determinant has increased; this should not happen: \"\n",
      "/Users/danielsoukup/anaconda3/envs/deeplearning/lib/python3.8/site-packages/sklearn/covariance/_robust_covariance.py:166: RuntimeWarning: Determinant has increased; this should not happen: log(det) > log(previous_det) (-291.441385512505860 > -293.142836361903449). You may want to try with a higher value of support_fraction (current value: 0.900).\n",
      "  warnings.warn(\"Determinant has increased; this should not happen: \"\n",
      "/Users/danielsoukup/anaconda3/envs/deeplearning/lib/python3.8/site-packages/sklearn/covariance/_robust_covariance.py:166: RuntimeWarning: Determinant has increased; this should not happen: log(det) > log(previous_det) (-291.283672690820140 > -292.070670905437680). You may want to try with a higher value of support_fraction (current value: 0.900).\n",
      "  warnings.warn(\"Determinant has increased; this should not happen: \"\n",
      "/Users/danielsoukup/anaconda3/envs/deeplearning/lib/python3.8/site-packages/sklearn/covariance/_robust_covariance.py:166: RuntimeWarning: Determinant has increased; this should not happen: log(det) > log(previous_det) (-291.540305196475799 > -292.777736237324632). You may want to try with a higher value of support_fraction (current value: 0.900).\n",
      "  warnings.warn(\"Determinant has increased; this should not happen: \"\n",
      "/Users/danielsoukup/anaconda3/envs/deeplearning/lib/python3.8/site-packages/sklearn/covariance/_robust_covariance.py:166: RuntimeWarning: Determinant has increased; this should not happen: log(det) > log(previous_det) (-291.578288945646818 > -292.001483499805715). You may want to try with a higher value of support_fraction (current value: 0.900).\n",
      "  warnings.warn(\"Determinant has increased; this should not happen: \"\n",
      "/Users/danielsoukup/anaconda3/envs/deeplearning/lib/python3.8/site-packages/sklearn/covariance/_robust_covariance.py:166: RuntimeWarning: Determinant has increased; this should not happen: log(det) > log(previous_det) (-292.811760723428335 > -293.124219460788197). You may want to try with a higher value of support_fraction (current value: 0.900).\n",
      "  warnings.warn(\"Determinant has increased; this should not happen: \"\n",
      "/Users/danielsoukup/anaconda3/envs/deeplearning/lib/python3.8/site-packages/sklearn/covariance/_robust_covariance.py:166: RuntimeWarning: Determinant has increased; this should not happen: log(det) > log(previous_det) (-290.671534312531037 > -293.315749159803318). You may want to try with a higher value of support_fraction (current value: 0.900).\n",
      "  warnings.warn(\"Determinant has increased; this should not happen: \"\n",
      "/Users/danielsoukup/anaconda3/envs/deeplearning/lib/python3.8/site-packages/sklearn/covariance/_robust_covariance.py:166: RuntimeWarning: Determinant has increased; this should not happen: log(det) > log(previous_det) (-292.856500698952800 > -293.012308142940469). You may want to try with a higher value of support_fraction (current value: 0.900).\n",
      "  warnings.warn(\"Determinant has increased; this should not happen: \"\n",
      "/Users/danielsoukup/anaconda3/envs/deeplearning/lib/python3.8/site-packages/sklearn/covariance/_robust_covariance.py:166: RuntimeWarning: Determinant has increased; this should not happen: log(det) > log(previous_det) (-290.831295994368077 > -291.370050819718870). You may want to try with a higher value of support_fraction (current value: 0.900).\n",
      "  warnings.warn(\"Determinant has increased; this should not happen: \"\n",
      "/Users/danielsoukup/anaconda3/envs/deeplearning/lib/python3.8/site-packages/sklearn/covariance/_robust_covariance.py:166: RuntimeWarning: Determinant has increased; this should not happen: log(det) > log(previous_det) (-292.856500698952800 > -293.333688171928429). You may want to try with a higher value of support_fraction (current value: 0.900).\n",
      "  warnings.warn(\"Determinant has increased; this should not happen: \"\n",
      "/Users/danielsoukup/anaconda3/envs/deeplearning/lib/python3.8/site-packages/sklearn/covariance/_robust_covariance.py:166: RuntimeWarning: Determinant has increased; this should not happen: log(det) > log(previous_det) (-291.259727764332240 > -292.583796480978435). You may want to try with a higher value of support_fraction (current value: 0.900).\n",
      "  warnings.warn(\"Determinant has increased; this should not happen: \"\n",
      "/Users/danielsoukup/anaconda3/envs/deeplearning/lib/python3.8/site-packages/sklearn/covariance/_robust_covariance.py:166: RuntimeWarning: Determinant has increased; this should not happen: log(det) > log(previous_det) (-291.562094221928135 > -292.149518377815866). You may want to try with a higher value of support_fraction (current value: 0.900).\n",
      "  warnings.warn(\"Determinant has increased; this should not happen: \"\n",
      "/Users/danielsoukup/anaconda3/envs/deeplearning/lib/python3.8/site-packages/sklearn/covariance/_robust_covariance.py:166: RuntimeWarning: Determinant has increased; this should not happen: log(det) > log(previous_det) (-292.158778898686762 > -292.631762674281049). You may want to try with a higher value of support_fraction (current value: 0.900).\n",
      "  warnings.warn(\"Determinant has increased; this should not happen: \"\n",
      "/Users/danielsoukup/anaconda3/envs/deeplearning/lib/python3.8/site-packages/sklearn/covariance/_robust_covariance.py:166: RuntimeWarning: Determinant has increased; this should not happen: log(det) > log(previous_det) (-291.252151672826244 > -291.336446031227240). You may want to try with a higher value of support_fraction (current value: 0.900).\n",
      "  warnings.warn(\"Determinant has increased; this should not happen: \"\n",
      "/Users/danielsoukup/anaconda3/envs/deeplearning/lib/python3.8/site-packages/sklearn/covariance/_robust_covariance.py:166: RuntimeWarning: Determinant has increased; this should not happen: log(det) > log(previous_det) (-291.325373089631398 > -291.735113143832962). You may want to try with a higher value of support_fraction (current value: 0.900).\n",
      "  warnings.warn(\"Determinant has increased; this should not happen: \"\n",
      "/Users/danielsoukup/anaconda3/envs/deeplearning/lib/python3.8/site-packages/sklearn/covariance/_robust_covariance.py:166: RuntimeWarning: Determinant has increased; this should not happen: log(det) > log(previous_det) (-291.628189256963083 > -291.710388428312228). You may want to try with a higher value of support_fraction (current value: 0.900).\n",
      "  warnings.warn(\"Determinant has increased; this should not happen: \"\n",
      "/Users/danielsoukup/anaconda3/envs/deeplearning/lib/python3.8/site-packages/sklearn/covariance/_robust_covariance.py:166: RuntimeWarning: Determinant has increased; this should not happen: log(det) > log(previous_det) (-292.134867614869165 > -293.154067073579370). You may want to try with a higher value of support_fraction (current value: 0.900).\n",
      "  warnings.warn(\"Determinant has increased; this should not happen: \"\n",
      "/Users/danielsoukup/anaconda3/envs/deeplearning/lib/python3.8/site-packages/sklearn/covariance/_robust_covariance.py:166: RuntimeWarning: Determinant has increased; this should not happen: log(det) > log(previous_det) (-291.503233450673974 > -292.289873283336476). You may want to try with a higher value of support_fraction (current value: 0.900).\n",
      "  warnings.warn(\"Determinant has increased; this should not happen: \"\n",
      "/Users/danielsoukup/anaconda3/envs/deeplearning/lib/python3.8/site-packages/sklearn/covariance/_robust_covariance.py:166: RuntimeWarning: Determinant has increased; this should not happen: log(det) > log(previous_det) (-292.217649965913836 > -292.751753446335613). You may want to try with a higher value of support_fraction (current value: 0.900).\n",
      "  warnings.warn(\"Determinant has increased; this should not happen: \"\n",
      "/Users/danielsoukup/anaconda3/envs/deeplearning/lib/python3.8/site-packages/sklearn/covariance/_robust_covariance.py:166: RuntimeWarning: Determinant has increased; this should not happen: log(det) > log(previous_det) (-291.463837234911068 > -291.627025626525892). You may want to try with a higher value of support_fraction (current value: 0.900).\n",
      "  warnings.warn(\"Determinant has increased; this should not happen: \"\n",
      "/Users/danielsoukup/anaconda3/envs/deeplearning/lib/python3.8/site-packages/sklearn/covariance/_robust_covariance.py:166: RuntimeWarning: Determinant has increased; this should not happen: log(det) > log(previous_det) (-292.055721078180113 > -292.572366409255494). You may want to try with a higher value of support_fraction (current value: 0.900).\n",
      "  warnings.warn(\"Determinant has increased; this should not happen: \"\n",
      "/Users/danielsoukup/anaconda3/envs/deeplearning/lib/python3.8/site-packages/sklearn/covariance/_robust_covariance.py:166: RuntimeWarning: Determinant has increased; this should not happen: log(det) > log(previous_det) (-290.343809216768420 > -293.392416504286302). You may want to try with a higher value of support_fraction (current value: 0.900).\n",
      "  warnings.warn(\"Determinant has increased; this should not happen: \"\n",
      "/Users/danielsoukup/anaconda3/envs/deeplearning/lib/python3.8/site-packages/sklearn/covariance/_robust_covariance.py:166: RuntimeWarning: Determinant has increased; this should not happen: log(det) > log(previous_det) (-292.217649965913836 > -292.367071799526002). You may want to try with a higher value of support_fraction (current value: 0.900).\n",
      "  warnings.warn(\"Determinant has increased; this should not happen: \"\n",
      "/Users/danielsoukup/anaconda3/envs/deeplearning/lib/python3.8/site-packages/sklearn/covariance/_robust_covariance.py:166: RuntimeWarning: Determinant has increased; this should not happen: log(det) > log(previous_det) (-292.200070313657761 > -292.322805232581516). You may want to try with a higher value of support_fraction (current value: 0.900).\n",
      "  warnings.warn(\"Determinant has increased; this should not happen: \"\n",
      "/Users/danielsoukup/anaconda3/envs/deeplearning/lib/python3.8/site-packages/sklearn/covariance/_robust_covariance.py:166: RuntimeWarning: Determinant has increased; this should not happen: log(det) > log(previous_det) (-290.926697003802474 > -291.682961694654523). You may want to try with a higher value of support_fraction (current value: 0.900).\n",
      "  warnings.warn(\"Determinant has increased; this should not happen: \"\n",
      "/Users/danielsoukup/anaconda3/envs/deeplearning/lib/python3.8/site-packages/sklearn/covariance/_robust_covariance.py:166: RuntimeWarning: Determinant has increased; this should not happen: log(det) > log(previous_det) (-291.588203374502598 > -292.531990129249721). You may want to try with a higher value of support_fraction (current value: 0.900).\n",
      "  warnings.warn(\"Determinant has increased; this should not happen: \"\n",
      "/Users/danielsoukup/anaconda3/envs/deeplearning/lib/python3.8/site-packages/sklearn/covariance/_robust_covariance.py:166: RuntimeWarning: Determinant has increased; this should not happen: log(det) > log(previous_det) (-292.156084401258454 > -292.358681912566794). You may want to try with a higher value of support_fraction (current value: 0.900).\n",
      "  warnings.warn(\"Determinant has increased; this should not happen: \"\n",
      "/Users/danielsoukup/anaconda3/envs/deeplearning/lib/python3.8/site-packages/sklearn/covariance/_robust_covariance.py:166: RuntimeWarning: Determinant has increased; this should not happen: log(det) > log(previous_det) (-291.654112580977085 > -291.905107492271156). You may want to try with a higher value of support_fraction (current value: 0.900).\n",
      "  warnings.warn(\"Determinant has increased; this should not happen: \"\n",
      "/Users/danielsoukup/anaconda3/envs/deeplearning/lib/python3.8/site-packages/sklearn/covariance/_robust_covariance.py:166: RuntimeWarning: Determinant has increased; this should not happen: log(det) > log(previous_det) (-291.504066227720671 > -292.201319492808068). You may want to try with a higher value of support_fraction (current value: 0.900).\n",
      "  warnings.warn(\"Determinant has increased; this should not happen: \"\n",
      "/Users/danielsoukup/anaconda3/envs/deeplearning/lib/python3.8/site-packages/sklearn/covariance/_robust_covariance.py:166: RuntimeWarning: Determinant has increased; this should not happen: log(det) > log(previous_det) (-292.096532075032144 > -292.407941370652964). You may want to try with a higher value of support_fraction (current value: 0.900).\n",
      "  warnings.warn(\"Determinant has increased; this should not happen: \"\n",
      "/Users/danielsoukup/anaconda3/envs/deeplearning/lib/python3.8/site-packages/sklearn/covariance/_robust_covariance.py:166: RuntimeWarning: Determinant has increased; this should not happen: log(det) > log(previous_det) (-291.747700501633915 > -291.785208206063032). You may want to try with a higher value of support_fraction (current value: 0.900).\n",
      "  warnings.warn(\"Determinant has increased; this should not happen: \"\n",
      "/Users/danielsoukup/anaconda3/envs/deeplearning/lib/python3.8/site-packages/sklearn/covariance/_robust_covariance.py:166: RuntimeWarning: Determinant has increased; this should not happen: log(det) > log(previous_det) (-291.219865874845823 > -292.432401299179560). You may want to try with a higher value of support_fraction (current value: 0.900).\n",
      "  warnings.warn(\"Determinant has increased; this should not happen: \"\n",
      "/Users/danielsoukup/anaconda3/envs/deeplearning/lib/python3.8/site-packages/sklearn/covariance/_robust_covariance.py:166: RuntimeWarning: Determinant has increased; this should not happen: log(det) > log(previous_det) (-291.087652794312930 > -292.548795201930318). You may want to try with a higher value of support_fraction (current value: 0.900).\n",
      "  warnings.warn(\"Determinant has increased; this should not happen: \"\n",
      "/Users/danielsoukup/anaconda3/envs/deeplearning/lib/python3.8/site-packages/sklearn/covariance/_robust_covariance.py:166: RuntimeWarning: Determinant has increased; this should not happen: log(det) > log(previous_det) (-290.993013645306405 > -292.687768765262490). You may want to try with a higher value of support_fraction (current value: 0.900).\n",
      "  warnings.warn(\"Determinant has increased; this should not happen: \"\n",
      "/Users/danielsoukup/anaconda3/envs/deeplearning/lib/python3.8/site-packages/sklearn/covariance/_robust_covariance.py:166: RuntimeWarning: Determinant has increased; this should not happen: log(det) > log(previous_det) (-291.711558423951203 > -293.605325235911550). You may want to try with a higher value of support_fraction (current value: 0.900).\n",
      "  warnings.warn(\"Determinant has increased; this should not happen: \"\n",
      "/Users/danielsoukup/anaconda3/envs/deeplearning/lib/python3.8/site-packages/sklearn/covariance/_robust_covariance.py:166: RuntimeWarning: Determinant has increased; this should not happen: log(det) > log(previous_det) (-291.644594753373156 > -293.274782526578406). You may want to try with a higher value of support_fraction (current value: 0.900).\n",
      "  warnings.warn(\"Determinant has increased; this should not happen: \"\n",
      "/Users/danielsoukup/anaconda3/envs/deeplearning/lib/python3.8/site-packages/sklearn/covariance/_robust_covariance.py:166: RuntimeWarning: Determinant has increased; this should not happen: log(det) > log(previous_det) (-292.811760723428335 > -293.064536665742366). You may want to try with a higher value of support_fraction (current value: 0.900).\n",
      "  warnings.warn(\"Determinant has increased; this should not happen: \"\n",
      "/Users/danielsoukup/anaconda3/envs/deeplearning/lib/python3.8/site-packages/sklearn/covariance/_robust_covariance.py:166: RuntimeWarning: Determinant has increased; this should not happen: log(det) > log(previous_det) (-291.204879247809629 > -292.901607534117829). You may want to try with a higher value of support_fraction (current value: 0.900).\n",
      "  warnings.warn(\"Determinant has increased; this should not happen: \"\n",
      "/Users/danielsoukup/anaconda3/envs/deeplearning/lib/python3.8/site-packages/sklearn/covariance/_robust_covariance.py:166: RuntimeWarning: Determinant has increased; this should not happen: log(det) > log(previous_det) (-291.782390481289895 > -291.971173804316322). You may want to try with a higher value of support_fraction (current value: 0.900).\n",
      "  warnings.warn(\"Determinant has increased; this should not happen: \"\n",
      "/Users/danielsoukup/anaconda3/envs/deeplearning/lib/python3.8/site-packages/sklearn/covariance/_robust_covariance.py:166: RuntimeWarning: Determinant has increased; this should not happen: log(det) > log(previous_det) (-291.567964991989811 > -292.507901325752812). You may want to try with a higher value of support_fraction (current value: 0.900).\n",
      "  warnings.warn(\"Determinant has increased; this should not happen: \"\n",
      "/Users/danielsoukup/anaconda3/envs/deeplearning/lib/python3.8/site-packages/sklearn/covariance/_robust_covariance.py:166: RuntimeWarning: Determinant has increased; this should not happen: log(det) > log(previous_det) (-292.920671295708473 > -294.449386847819028). You may want to try with a higher value of support_fraction (current value: 0.900).\n",
      "  warnings.warn(\"Determinant has increased; this should not happen: \"\n",
      "/Users/danielsoukup/anaconda3/envs/deeplearning/lib/python3.8/site-packages/sklearn/covariance/_robust_covariance.py:166: RuntimeWarning: Determinant has increased; this should not happen: log(det) > log(previous_det) (-291.504066227720671 > -293.035114279372920). You may want to try with a higher value of support_fraction (current value: 0.900).\n",
      "  warnings.warn(\"Determinant has increased; this should not happen: \"\n",
      "/Users/danielsoukup/anaconda3/envs/deeplearning/lib/python3.8/site-packages/sklearn/covariance/_robust_covariance.py:166: RuntimeWarning: Determinant has increased; this should not happen: log(det) > log(previous_det) (-291.837931395376927 > -292.043165075151705). You may want to try with a higher value of support_fraction (current value: 0.900).\n",
      "  warnings.warn(\"Determinant has increased; this should not happen: \"\n",
      "/Users/danielsoukup/anaconda3/envs/deeplearning/lib/python3.8/site-packages/sklearn/covariance/_robust_covariance.py:166: RuntimeWarning: Determinant has increased; this should not happen: log(det) > log(previous_det) (-291.378438045992823 > -292.068165192320919). You may want to try with a higher value of support_fraction (current value: 0.900).\n",
      "  warnings.warn(\"Determinant has increased; this should not happen: \"\n",
      "/Users/danielsoukup/anaconda3/envs/deeplearning/lib/python3.8/site-packages/sklearn/covariance/_robust_covariance.py:166: RuntimeWarning: Determinant has increased; this should not happen: log(det) > log(previous_det) (-291.578288945646818 > -292.005002042576052). You may want to try with a higher value of support_fraction (current value: 0.900).\n",
      "  warnings.warn(\"Determinant has increased; this should not happen: \"\n",
      "/Users/danielsoukup/anaconda3/envs/deeplearning/lib/python3.8/site-packages/sklearn/covariance/_robust_covariance.py:166: RuntimeWarning: Determinant has increased; this should not happen: log(det) > log(previous_det) (-291.452212870735480 > -291.693008216608803). You may want to try with a higher value of support_fraction (current value: 0.900).\n",
      "  warnings.warn(\"Determinant has increased; this should not happen: \"\n",
      "/Users/danielsoukup/anaconda3/envs/deeplearning/lib/python3.8/site-packages/sklearn/covariance/_robust_covariance.py:166: RuntimeWarning: Determinant has increased; this should not happen: log(det) > log(previous_det) (-291.118892224455124 > -291.701478320189381). You may want to try with a higher value of support_fraction (current value: 0.900).\n",
      "  warnings.warn(\"Determinant has increased; this should not happen: \"\n",
      "/Users/danielsoukup/anaconda3/envs/deeplearning/lib/python3.8/site-packages/sklearn/covariance/_robust_covariance.py:166: RuntimeWarning: Determinant has increased; this should not happen: log(det) > log(previous_det) (-291.701478320189381 > -292.187794326587152). You may want to try with a higher value of support_fraction (current value: 0.900).\n",
      "  warnings.warn(\"Determinant has increased; this should not happen: \"\n",
      "/Users/danielsoukup/anaconda3/envs/deeplearning/lib/python3.8/site-packages/sklearn/covariance/_robust_covariance.py:166: RuntimeWarning: Determinant has increased; this should not happen: log(det) > log(previous_det) (-290.784396158073775 > -293.389422311512533). You may want to try with a higher value of support_fraction (current value: 0.900).\n",
      "  warnings.warn(\"Determinant has increased; this should not happen: \"\n",
      "/Users/danielsoukup/anaconda3/envs/deeplearning/lib/python3.8/site-packages/sklearn/covariance/_robust_covariance.py:166: RuntimeWarning: Determinant has increased; this should not happen: log(det) > log(previous_det) (-291.973462340673279 > -292.030864563056923). You may want to try with a higher value of support_fraction (current value: 0.900).\n",
      "  warnings.warn(\"Determinant has increased; this should not happen: \"\n",
      "/Users/danielsoukup/anaconda3/envs/deeplearning/lib/python3.8/site-packages/sklearn/covariance/_robust_covariance.py:166: RuntimeWarning: Determinant has increased; this should not happen: log(det) > log(previous_det) (-290.904939933045796 > -291.150463521927179). You may want to try with a higher value of support_fraction (current value: 0.900).\n",
      "  warnings.warn(\"Determinant has increased; this should not happen: \"\n",
      "/Users/danielsoukup/anaconda3/envs/deeplearning/lib/python3.8/site-packages/sklearn/covariance/_robust_covariance.py:166: RuntimeWarning: Determinant has increased; this should not happen: log(det) > log(previous_det) (-290.904939933045796 > -293.341884847219944). You may want to try with a higher value of support_fraction (current value: 0.900).\n",
      "  warnings.warn(\"Determinant has increased; this should not happen: \"\n",
      "/Users/danielsoukup/anaconda3/envs/deeplearning/lib/python3.8/site-packages/sklearn/covariance/_robust_covariance.py:166: RuntimeWarning: Determinant has increased; this should not happen: log(det) > log(previous_det) (-292.217649965913836 > -293.038168545394342). You may want to try with a higher value of support_fraction (current value: 0.900).\n",
      "  warnings.warn(\"Determinant has increased; this should not happen: \"\n",
      "/Users/danielsoukup/anaconda3/envs/deeplearning/lib/python3.8/site-packages/sklearn/covariance/_robust_covariance.py:166: RuntimeWarning: Determinant has increased; this should not happen: log(det) > log(previous_det) (-291.477240500251241 > -293.777137671535684). You may want to try with a higher value of support_fraction (current value: 0.900).\n",
      "  warnings.warn(\"Determinant has increased; this should not happen: \"\n",
      "/Users/danielsoukup/anaconda3/envs/deeplearning/lib/python3.8/site-packages/sklearn/covariance/_robust_covariance.py:166: RuntimeWarning: Determinant has increased; this should not happen: log(det) > log(previous_det) (-292.204089596916390 > -292.662458813842647). You may want to try with a higher value of support_fraction (current value: 0.900).\n",
      "  warnings.warn(\"Determinant has increased; this should not happen: \"\n",
      "/Users/danielsoukup/anaconda3/envs/deeplearning/lib/python3.8/site-packages/sklearn/covariance/_robust_covariance.py:166: RuntimeWarning: Determinant has increased; this should not happen: log(det) > log(previous_det) (-291.610937284939780 > -291.903494393307767). You may want to try with a higher value of support_fraction (current value: 0.900).\n",
      "  warnings.warn(\"Determinant has increased; this should not happen: \"\n",
      "/Users/danielsoukup/anaconda3/envs/deeplearning/lib/python3.8/site-packages/sklearn/covariance/_robust_covariance.py:166: RuntimeWarning: Determinant has increased; this should not happen: log(det) > log(previous_det) (-291.023927772780041 > -293.745598348999124). You may want to try with a higher value of support_fraction (current value: 0.900).\n",
      "  warnings.warn(\"Determinant has increased; this should not happen: \"\n",
      "/Users/danielsoukup/anaconda3/envs/deeplearning/lib/python3.8/site-packages/sklearn/covariance/_robust_covariance.py:166: RuntimeWarning: Determinant has increased; this should not happen: log(det) > log(previous_det) (-291.812795989496976 > -291.932926325651010). You may want to try with a higher value of support_fraction (current value: 0.900).\n",
      "  warnings.warn(\"Determinant has increased; this should not happen: \"\n",
      "/Users/danielsoukup/anaconda3/envs/deeplearning/lib/python3.8/site-packages/sklearn/covariance/_robust_covariance.py:166: RuntimeWarning: Determinant has increased; this should not happen: log(det) > log(previous_det) (-291.775929601376845 > -292.643476783454332). You may want to try with a higher value of support_fraction (current value: 0.900).\n",
      "  warnings.warn(\"Determinant has increased; this should not happen: \"\n",
      "/Users/danielsoukup/anaconda3/envs/deeplearning/lib/python3.8/site-packages/sklearn/covariance/_robust_covariance.py:166: RuntimeWarning: Determinant has increased; this should not happen: log(det) > log(previous_det) (-291.442601694217444 > -292.818128356683133). You may want to try with a higher value of support_fraction (current value: 0.900).\n",
      "  warnings.warn(\"Determinant has increased; this should not happen: \"\n",
      "/Users/danielsoukup/anaconda3/envs/deeplearning/lib/python3.8/site-packages/sklearn/covariance/_robust_covariance.py:166: RuntimeWarning: Determinant has increased; this should not happen: log(det) > log(previous_det) (-292.687050902626936 > -294.173380522181048). You may want to try with a higher value of support_fraction (current value: 0.900).\n",
      "  warnings.warn(\"Determinant has increased; this should not happen: \"\n",
      "/Users/danielsoukup/anaconda3/envs/deeplearning/lib/python3.8/site-packages/sklearn/covariance/_robust_covariance.py:166: RuntimeWarning: Determinant has increased; this should not happen: log(det) > log(previous_det) (-293.488631036217726 > -295.261467961980202). You may want to try with a higher value of support_fraction (current value: 0.900).\n",
      "  warnings.warn(\"Determinant has increased; this should not happen: \"\n",
      "/Users/danielsoukup/anaconda3/envs/deeplearning/lib/python3.8/site-packages/sklearn/covariance/_robust_covariance.py:166: RuntimeWarning: Determinant has increased; this should not happen: log(det) > log(previous_det) (-293.182479098269653 > -293.329718668855037). You may want to try with a higher value of support_fraction (current value: 0.900).\n",
      "  warnings.warn(\"Determinant has increased; this should not happen: \"\n",
      "/Users/danielsoukup/anaconda3/envs/deeplearning/lib/python3.8/site-packages/sklearn/covariance/_robust_covariance.py:166: RuntimeWarning: Determinant has increased; this should not happen: log(det) > log(previous_det) (-291.504066227720671 > -291.986666325293129). You may want to try with a higher value of support_fraction (current value: 0.900).\n",
      "  warnings.warn(\"Determinant has increased; this should not happen: \"\n",
      "/Users/danielsoukup/anaconda3/envs/deeplearning/lib/python3.8/site-packages/sklearn/covariance/_robust_covariance.py:166: RuntimeWarning: Determinant has increased; this should not happen: log(det) > log(previous_det) (-291.352315812776510 > -291.884753540342615). You may want to try with a higher value of support_fraction (current value: 0.900).\n",
      "  warnings.warn(\"Determinant has increased; this should not happen: \"\n",
      "/Users/danielsoukup/anaconda3/envs/deeplearning/lib/python3.8/site-packages/sklearn/covariance/_robust_covariance.py:166: RuntimeWarning: Determinant has increased; this should not happen: log(det) > log(previous_det) (-292.217649965913836 > -292.896967180058937). You may want to try with a higher value of support_fraction (current value: 0.900).\n",
      "  warnings.warn(\"Determinant has increased; this should not happen: \"\n",
      "/Users/danielsoukup/anaconda3/envs/deeplearning/lib/python3.8/site-packages/sklearn/covariance/_robust_covariance.py:166: RuntimeWarning: Determinant has increased; this should not happen: log(det) > log(previous_det) (-291.300350739544285 > -292.552847750211015). You may want to try with a higher value of support_fraction (current value: 0.900).\n",
      "  warnings.warn(\"Determinant has increased; this should not happen: \"\n",
      "/Users/danielsoukup/anaconda3/envs/deeplearning/lib/python3.8/site-packages/sklearn/covariance/_robust_covariance.py:166: RuntimeWarning: Determinant has increased; this should not happen: log(det) > log(previous_det) (-291.300350739544285 > -295.512760064117970). You may want to try with a higher value of support_fraction (current value: 0.900).\n",
      "  warnings.warn(\"Determinant has increased; this should not happen: \"\n",
      "/Users/danielsoukup/anaconda3/envs/deeplearning/lib/python3.8/site-packages/sklearn/covariance/_robust_covariance.py:166: RuntimeWarning: Determinant has increased; this should not happen: log(det) > log(previous_det) (-291.448038835139187 > -293.835740081248218). You may want to try with a higher value of support_fraction (current value: 0.900).\n",
      "  warnings.warn(\"Determinant has increased; this should not happen: \"\n",
      "/Users/danielsoukup/anaconda3/envs/deeplearning/lib/python3.8/site-packages/sklearn/covariance/_robust_covariance.py:166: RuntimeWarning: Determinant has increased; this should not happen: log(det) > log(previous_det) (-292.071598319368604 > -292.288093992792540). You may want to try with a higher value of support_fraction (current value: 0.900).\n",
      "  warnings.warn(\"Determinant has increased; this should not happen: \"\n",
      "/Users/danielsoukup/anaconda3/envs/deeplearning/lib/python3.8/site-packages/sklearn/covariance/_robust_covariance.py:166: RuntimeWarning: Determinant has increased; this should not happen: log(det) > log(previous_det) (-290.552619946516984 > -290.986256270721583). You may want to try with a higher value of support_fraction (current value: 0.900).\n",
      "  warnings.warn(\"Determinant has increased; this should not happen: \"\n",
      "/Users/danielsoukup/anaconda3/envs/deeplearning/lib/python3.8/site-packages/sklearn/covariance/_robust_covariance.py:166: RuntimeWarning: Determinant has increased; this should not happen: log(det) > log(previous_det) (-291.720956257639273 > -292.323424320623076). You may want to try with a higher value of support_fraction (current value: 0.900).\n",
      "  warnings.warn(\"Determinant has increased; this should not happen: \"\n",
      "/Users/danielsoukup/anaconda3/envs/deeplearning/lib/python3.8/site-packages/sklearn/covariance/_robust_covariance.py:166: RuntimeWarning: Determinant has increased; this should not happen: log(det) > log(previous_det) (-292.651259150845647 > -301.126146040632534). You may want to try with a higher value of support_fraction (current value: 0.900).\n",
      "  warnings.warn(\"Determinant has increased; this should not happen: \"\n",
      "/Users/danielsoukup/anaconda3/envs/deeplearning/lib/python3.8/site-packages/sklearn/covariance/_robust_covariance.py:166: RuntimeWarning: Determinant has increased; this should not happen: log(det) > log(previous_det) (-290.798859343147626 > -291.037920047709179). You may want to try with a higher value of support_fraction (current value: 0.900).\n",
      "  warnings.warn(\"Determinant has increased; this should not happen: \"\n",
      "/Users/danielsoukup/anaconda3/envs/deeplearning/lib/python3.8/site-packages/sklearn/covariance/_robust_covariance.py:166: RuntimeWarning: Determinant has increased; this should not happen: log(det) > log(previous_det) (-293.316988389378821 > -293.967891248198441). You may want to try with a higher value of support_fraction (current value: 0.900).\n",
      "  warnings.warn(\"Determinant has increased; this should not happen: \"\n",
      "/Users/danielsoukup/anaconda3/envs/deeplearning/lib/python3.8/site-packages/sklearn/covariance/_robust_covariance.py:166: RuntimeWarning: Determinant has increased; this should not happen: log(det) > log(previous_det) (-292.217649965913836 > -293.996991897936198). You may want to try with a higher value of support_fraction (current value: 0.900).\n",
      "  warnings.warn(\"Determinant has increased; this should not happen: \"\n",
      "/Users/danielsoukup/anaconda3/envs/deeplearning/lib/python3.8/site-packages/sklearn/covariance/_robust_covariance.py:166: RuntimeWarning: Determinant has increased; this should not happen: log(det) > log(previous_det) (-293.333688171928429 > -294.291867402939488). You may want to try with a higher value of support_fraction (current value: 0.900).\n",
      "  warnings.warn(\"Determinant has increased; this should not happen: \"\n",
      "/Users/danielsoukup/anaconda3/envs/deeplearning/lib/python3.8/site-packages/sklearn/covariance/_robust_covariance.py:166: RuntimeWarning: Determinant has increased; this should not happen: log(det) > log(previous_det) (-293.834067322045769 > -293.923158084104216). You may want to try with a higher value of support_fraction (current value: 0.900).\n",
      "  warnings.warn(\"Determinant has increased; this should not happen: \"\n",
      "/Users/danielsoukup/anaconda3/envs/deeplearning/lib/python3.8/site-packages/sklearn/covariance/_robust_covariance.py:166: RuntimeWarning: Determinant has increased; this should not happen: log(det) > log(previous_det) (-291.010819705298047 > -291.234300649723025). You may want to try with a higher value of support_fraction (current value: 0.900).\n",
      "  warnings.warn(\"Determinant has increased; this should not happen: \"\n",
      "/Users/danielsoukup/anaconda3/envs/deeplearning/lib/python3.8/site-packages/sklearn/covariance/_robust_covariance.py:166: RuntimeWarning: Determinant has increased; this should not happen: log(det) > log(previous_det) (-291.654112580977085 > -293.960467362295503). You may want to try with a higher value of support_fraction (current value: 0.900).\n",
      "  warnings.warn(\"Determinant has increased; this should not happen: \"\n",
      "/Users/danielsoukup/anaconda3/envs/deeplearning/lib/python3.8/site-packages/sklearn/covariance/_robust_covariance.py:166: RuntimeWarning: Determinant has increased; this should not happen: log(det) > log(previous_det) (-292.070670905437680 > -292.861771363515800). You may want to try with a higher value of support_fraction (current value: 0.900).\n",
      "  warnings.warn(\"Determinant has increased; this should not happen: \"\n",
      "/Users/danielsoukup/anaconda3/envs/deeplearning/lib/python3.8/site-packages/sklearn/covariance/_robust_covariance.py:166: RuntimeWarning: Determinant has increased; this should not happen: log(det) > log(previous_det) (-290.826490445738330 > -292.806362022849953). You may want to try with a higher value of support_fraction (current value: 0.900).\n",
      "  warnings.warn(\"Determinant has increased; this should not happen: \"\n",
      "/Users/danielsoukup/anaconda3/envs/deeplearning/lib/python3.8/site-packages/sklearn/covariance/_robust_covariance.py:166: RuntimeWarning: Determinant has increased; this should not happen: log(det) > log(previous_det) (-291.949740398849087 > -292.581613613920524). You may want to try with a higher value of support_fraction (current value: 0.900).\n",
      "  warnings.warn(\"Determinant has increased; this should not happen: \"\n",
      "/Users/danielsoukup/anaconda3/envs/deeplearning/lib/python3.8/site-packages/sklearn/covariance/_robust_covariance.py:166: RuntimeWarning: Determinant has increased; this should not happen: log(det) > log(previous_det) (-291.970667697636088 > -292.200241148018449). You may want to try with a higher value of support_fraction (current value: 0.900).\n",
      "  warnings.warn(\"Determinant has increased; this should not happen: \"\n",
      "/Users/danielsoukup/anaconda3/envs/deeplearning/lib/python3.8/site-packages/sklearn/covariance/_robust_covariance.py:166: RuntimeWarning: Determinant has increased; this should not happen: log(det) > log(previous_det) (-292.230232063586641 > -292.593104318226324). You may want to try with a higher value of support_fraction (current value: 0.900).\n",
      "  warnings.warn(\"Determinant has increased; this should not happen: \"\n",
      "/Users/danielsoukup/anaconda3/envs/deeplearning/lib/python3.8/site-packages/sklearn/covariance/_robust_covariance.py:166: RuntimeWarning: Determinant has increased; this should not happen: log(det) > log(previous_det) (-292.173451777415153 > -292.847072677832330). You may want to try with a higher value of support_fraction (current value: 0.900).\n",
      "  warnings.warn(\"Determinant has increased; this should not happen: \"\n",
      "/Users/danielsoukup/anaconda3/envs/deeplearning/lib/python3.8/site-packages/sklearn/covariance/_robust_covariance.py:166: RuntimeWarning: Determinant has increased; this should not happen: log(det) > log(previous_det) (-291.392221480758280 > -292.122270877799963). You may want to try with a higher value of support_fraction (current value: 0.900).\n",
      "  warnings.warn(\"Determinant has increased; this should not happen: \"\n",
      "/Users/danielsoukup/anaconda3/envs/deeplearning/lib/python3.8/site-packages/sklearn/covariance/_robust_covariance.py:166: RuntimeWarning: Determinant has increased; this should not happen: log(det) > log(previous_det) (-291.170997254865085 > -292.462797297259726). You may want to try with a higher value of support_fraction (current value: 0.900).\n",
      "  warnings.warn(\"Determinant has increased; this should not happen: \"\n",
      "/Users/danielsoukup/anaconda3/envs/deeplearning/lib/python3.8/site-packages/sklearn/covariance/_robust_covariance.py:166: RuntimeWarning: Determinant has increased; this should not happen: log(det) > log(previous_det) (-293.012308142940469 > -293.035377844387369). You may want to try with a higher value of support_fraction (current value: 0.900).\n",
      "  warnings.warn(\"Determinant has increased; this should not happen: \"\n",
      "/Users/danielsoukup/anaconda3/envs/deeplearning/lib/python3.8/site-packages/sklearn/covariance/_robust_covariance.py:166: RuntimeWarning: Determinant has increased; this should not happen: log(det) > log(previous_det) (-291.057504536863235 > -293.868819726570450). You may want to try with a higher value of support_fraction (current value: 0.900).\n",
      "  warnings.warn(\"Determinant has increased; this should not happen: \"\n",
      "/Users/danielsoukup/anaconda3/envs/deeplearning/lib/python3.8/site-packages/sklearn/covariance/_robust_covariance.py:166: RuntimeWarning: Determinant has increased; this should not happen: log(det) > log(previous_det) (-291.885620867876753 > -292.310440725720582). You may want to try with a higher value of support_fraction (current value: 0.900).\n",
      "  warnings.warn(\"Determinant has increased; this should not happen: \"\n",
      "/Users/danielsoukup/anaconda3/envs/deeplearning/lib/python3.8/site-packages/sklearn/covariance/_robust_covariance.py:166: RuntimeWarning: Determinant has increased; this should not happen: log(det) > log(previous_det) (-291.777522418952913 > -292.342950248508828). You may want to try with a higher value of support_fraction (current value: 0.900).\n",
      "  warnings.warn(\"Determinant has increased; this should not happen: \"\n",
      "/Users/danielsoukup/anaconda3/envs/deeplearning/lib/python3.8/site-packages/sklearn/covariance/_robust_covariance.py:166: RuntimeWarning: Determinant has increased; this should not happen: log(det) > log(previous_det) (-292.092205226180170 > -293.091260328548969). You may want to try with a higher value of support_fraction (current value: 0.900).\n",
      "  warnings.warn(\"Determinant has increased; this should not happen: \"\n",
      "/Users/danielsoukup/anaconda3/envs/deeplearning/lib/python3.8/site-packages/sklearn/covariance/_robust_covariance.py:166: RuntimeWarning: Determinant has increased; this should not happen: log(det) > log(previous_det) (-291.344877773223516 > -295.167715810013192). You may want to try with a higher value of support_fraction (current value: 0.900).\n",
      "  warnings.warn(\"Determinant has increased; this should not happen: \"\n",
      "/Users/danielsoukup/anaconda3/envs/deeplearning/lib/python3.8/site-packages/sklearn/covariance/_robust_covariance.py:166: RuntimeWarning: Determinant has increased; this should not happen: log(det) > log(previous_det) (-291.162386973908156 > -292.840681686686651). You may want to try with a higher value of support_fraction (current value: 0.900).\n",
      "  warnings.warn(\"Determinant has increased; this should not happen: \"\n",
      "/Users/danielsoukup/anaconda3/envs/deeplearning/lib/python3.8/site-packages/sklearn/covariance/_robust_covariance.py:166: RuntimeWarning: Determinant has increased; this should not happen: log(det) > log(previous_det) (-291.524466652417289 > -298.541020421271639). You may want to try with a higher value of support_fraction (current value: 0.900).\n",
      "  warnings.warn(\"Determinant has increased; this should not happen: \"\n",
      "/Users/danielsoukup/anaconda3/envs/deeplearning/lib/python3.8/site-packages/sklearn/covariance/_robust_covariance.py:166: RuntimeWarning: Determinant has increased; this should not happen: log(det) > log(previous_det) (-290.872150350891786 > -291.423037581151561). You may want to try with a higher value of support_fraction (current value: 0.900).\n",
      "  warnings.warn(\"Determinant has increased; this should not happen: \"\n",
      "/Users/danielsoukup/anaconda3/envs/deeplearning/lib/python3.8/site-packages/sklearn/covariance/_robust_covariance.py:166: RuntimeWarning: Determinant has increased; this should not happen: log(det) > log(previous_det) (-292.856500698952800 > -293.749257933912304). You may want to try with a higher value of support_fraction (current value: 0.900).\n",
      "  warnings.warn(\"Determinant has increased; this should not happen: \"\n",
      "/Users/danielsoukup/anaconda3/envs/deeplearning/lib/python3.8/site-packages/sklearn/covariance/_robust_covariance.py:166: RuntimeWarning: Determinant has increased; this should not happen: log(det) > log(previous_det) (-291.689730174222120 > -291.991685595184435). You may want to try with a higher value of support_fraction (current value: 0.900).\n",
      "  warnings.warn(\"Determinant has increased; this should not happen: \"\n",
      "/Users/danielsoukup/anaconda3/envs/deeplearning/lib/python3.8/site-packages/sklearn/covariance/_robust_covariance.py:166: RuntimeWarning: Determinant has increased; this should not happen: log(det) > log(previous_det) (-291.504066227720671 > -292.179408118271510). You may want to try with a higher value of support_fraction (current value: 0.900).\n",
      "  warnings.warn(\"Determinant has increased; this should not happen: \"\n",
      "/Users/danielsoukup/anaconda3/envs/deeplearning/lib/python3.8/site-packages/sklearn/covariance/_robust_covariance.py:166: RuntimeWarning: Determinant has increased; this should not happen: log(det) > log(previous_det) (-291.367882824737364 > -292.437813368114689). You may want to try with a higher value of support_fraction (current value: 0.900).\n",
      "  warnings.warn(\"Determinant has increased; this should not happen: \"\n",
      "/Users/danielsoukup/anaconda3/envs/deeplearning/lib/python3.8/site-packages/sklearn/covariance/_robust_covariance.py:166: RuntimeWarning: Determinant has increased; this should not happen: log(det) > log(previous_det) (-291.367882824737364 > -291.733366979143739). You may want to try with a higher value of support_fraction (current value: 0.900).\n",
      "  warnings.warn(\"Determinant has increased; this should not happen: \"\n",
      "/Users/danielsoukup/anaconda3/envs/deeplearning/lib/python3.8/site-packages/sklearn/covariance/_robust_covariance.py:166: RuntimeWarning: Determinant has increased; this should not happen: log(det) > log(previous_det) (-291.363600454421601 > -292.594380001826949). You may want to try with a higher value of support_fraction (current value: 0.900).\n",
      "  warnings.warn(\"Determinant has increased; this should not happen: \"\n",
      "/Users/danielsoukup/anaconda3/envs/deeplearning/lib/python3.8/site-packages/sklearn/covariance/_robust_covariance.py:166: RuntimeWarning: Determinant has increased; this should not happen: log(det) > log(previous_det) (-291.368399636261813 > -291.498481491948098). You may want to try with a higher value of support_fraction (current value: 0.900).\n",
      "  warnings.warn(\"Determinant has increased; this should not happen: \"\n",
      "/Users/danielsoukup/anaconda3/envs/deeplearning/lib/python3.8/site-packages/sklearn/covariance/_robust_covariance.py:166: RuntimeWarning: Determinant has increased; this should not happen: log(det) > log(previous_det) (-291.204934727254624 > -292.806543489102751). You may want to try with a higher value of support_fraction (current value: 0.900).\n",
      "  warnings.warn(\"Determinant has increased; this should not happen: \"\n",
      "/Users/danielsoukup/anaconda3/envs/deeplearning/lib/python3.8/site-packages/sklearn/covariance/_robust_covariance.py:166: RuntimeWarning: Determinant has increased; this should not happen: log(det) > log(previous_det) (-291.187684239693283 > -292.226040452135919). You may want to try with a higher value of support_fraction (current value: 0.900).\n",
      "  warnings.warn(\"Determinant has increased; this should not happen: \"\n",
      "/Users/danielsoukup/anaconda3/envs/deeplearning/lib/python3.8/site-packages/sklearn/covariance/_robust_covariance.py:166: RuntimeWarning: Determinant has increased; this should not happen: log(det) > log(previous_det) (-291.255195690792902 > -294.409599126079002). You may want to try with a higher value of support_fraction (current value: 0.900).\n",
      "  warnings.warn(\"Determinant has increased; this should not happen: \"\n",
      "/Users/danielsoukup/anaconda3/envs/deeplearning/lib/python3.8/site-packages/sklearn/covariance/_robust_covariance.py:166: RuntimeWarning: Determinant has increased; this should not happen: log(det) > log(previous_det) (-290.968445618301132 > -292.488330361952080). You may want to try with a higher value of support_fraction (current value: 0.900).\n",
      "  warnings.warn(\"Determinant has increased; this should not happen: \"\n",
      "/Users/danielsoukup/anaconda3/envs/deeplearning/lib/python3.8/site-packages/sklearn/covariance/_robust_covariance.py:166: RuntimeWarning: Determinant has increased; this should not happen: log(det) > log(previous_det) (-292.856500698952800 > -293.748369155927435). You may want to try with a higher value of support_fraction (current value: 0.900).\n",
      "  warnings.warn(\"Determinant has increased; this should not happen: \"\n",
      "/Users/danielsoukup/anaconda3/envs/deeplearning/lib/python3.8/site-packages/sklearn/covariance/_robust_covariance.py:166: RuntimeWarning: Determinant has increased; this should not happen: log(det) > log(previous_det) (-291.379361115034328 > -292.065364054000725). You may want to try with a higher value of support_fraction (current value: 0.900).\n",
      "  warnings.warn(\"Determinant has increased; this should not happen: \"\n",
      "/Users/danielsoukup/anaconda3/envs/deeplearning/lib/python3.8/site-packages/sklearn/covariance/_robust_covariance.py:166: RuntimeWarning: Determinant has increased; this should not happen: log(det) > log(previous_det) (-291.504066227720671 > -293.981017229293457). You may want to try with a higher value of support_fraction (current value: 0.900).\n",
      "  warnings.warn(\"Determinant has increased; this should not happen: \"\n",
      "/Users/danielsoukup/anaconda3/envs/deeplearning/lib/python3.8/site-packages/sklearn/covariance/_robust_covariance.py:166: RuntimeWarning: Determinant has increased; this should not happen: log(det) > log(previous_det) (-291.363600454421601 > -291.572951631347053). You may want to try with a higher value of support_fraction (current value: 0.900).\n",
      "  warnings.warn(\"Determinant has increased; this should not happen: \"\n",
      "/Users/danielsoukup/anaconda3/envs/deeplearning/lib/python3.8/site-packages/sklearn/covariance/_robust_covariance.py:166: RuntimeWarning: Determinant has increased; this should not happen: log(det) > log(previous_det) (-291.202379143130088 > -291.659580412709488). You may want to try with a higher value of support_fraction (current value: 0.900).\n",
      "  warnings.warn(\"Determinant has increased; this should not happen: \"\n",
      "/Users/danielsoukup/anaconda3/envs/deeplearning/lib/python3.8/site-packages/sklearn/covariance/_robust_covariance.py:166: RuntimeWarning: Determinant has increased; this should not happen: log(det) > log(previous_det) (-292.640406425261403 > -293.898391106941176). You may want to try with a higher value of support_fraction (current value: 0.900).\n",
      "  warnings.warn(\"Determinant has increased; this should not happen: \"\n",
      "/Users/danielsoukup/anaconda3/envs/deeplearning/lib/python3.8/site-packages/sklearn/covariance/_robust_covariance.py:166: RuntimeWarning: Determinant has increased; this should not happen: log(det) > log(previous_det) (-290.367694257577057 > -291.912073331716215). You may want to try with a higher value of support_fraction (current value: 0.900).\n",
      "  warnings.warn(\"Determinant has increased; this should not happen: \"\n",
      "/Users/danielsoukup/anaconda3/envs/deeplearning/lib/python3.8/site-packages/sklearn/covariance/_robust_covariance.py:166: RuntimeWarning: Determinant has increased; this should not happen: log(det) > log(previous_det) (-290.367694257577057 > -290.496208940591089). You may want to try with a higher value of support_fraction (current value: 0.900).\n",
      "  warnings.warn(\"Determinant has increased; this should not happen: \"\n",
      "/Users/danielsoukup/anaconda3/envs/deeplearning/lib/python3.8/site-packages/sklearn/covariance/_robust_covariance.py:166: RuntimeWarning: Determinant has increased; this should not happen: log(det) > log(previous_det) (-290.367694257577057 > -291.154651995466054). You may want to try with a higher value of support_fraction (current value: 0.900).\n",
      "  warnings.warn(\"Determinant has increased; this should not happen: \"\n",
      "/Users/danielsoukup/anaconda3/envs/deeplearning/lib/python3.8/site-packages/sklearn/covariance/_robust_covariance.py:166: RuntimeWarning: Determinant has increased; this should not happen: log(det) > log(previous_det) (-291.947807955398787 > -292.418382001453494). You may want to try with a higher value of support_fraction (current value: 0.900).\n",
      "  warnings.warn(\"Determinant has increased; this should not happen: \"\n",
      "/Users/danielsoukup/anaconda3/envs/deeplearning/lib/python3.8/site-packages/sklearn/covariance/_robust_covariance.py:166: RuntimeWarning: Determinant has increased; this should not happen: log(det) > log(previous_det) (-291.216766499228015 > -291.881976816012525). You may want to try with a higher value of support_fraction (current value: 0.900).\n",
      "  warnings.warn(\"Determinant has increased; this should not happen: \"\n",
      "/Users/danielsoukup/anaconda3/envs/deeplearning/lib/python3.8/site-packages/sklearn/covariance/_robust_covariance.py:166: RuntimeWarning: Determinant has increased; this should not happen: log(det) > log(previous_det) (-288.857124787125997 > -289.709559095109626). You may want to try with a higher value of support_fraction (current value: 0.900).\n",
      "  warnings.warn(\"Determinant has increased; this should not happen: \"\n",
      "/Users/danielsoukup/anaconda3/envs/deeplearning/lib/python3.8/site-packages/sklearn/covariance/_robust_covariance.py:166: RuntimeWarning: Determinant has increased; this should not happen: log(det) > log(previous_det) (-289.581647896142272 > -290.647250035569471). You may want to try with a higher value of support_fraction (current value: 0.900).\n",
      "  warnings.warn(\"Determinant has increased; this should not happen: \"\n",
      "/Users/danielsoukup/anaconda3/envs/deeplearning/lib/python3.8/site-packages/sklearn/covariance/_robust_covariance.py:166: RuntimeWarning: Determinant has increased; this should not happen: log(det) > log(previous_det) (-289.126421786533797 > -290.367391344076168). You may want to try with a higher value of support_fraction (current value: 0.900).\n",
      "  warnings.warn(\"Determinant has increased; this should not happen: \"\n"
     ]
    }
   ],
   "source": [
    "from sklearn.covariance import EllipticEnvelope\n",
    "\n",
    "ee = EllipticEnvelope(contamination=y_train.mean(), support_fraction=0.9)\n",
    "y_pred = ee.fit_predict(X_train)"
   ]
  },
  {
   "cell_type": "code",
   "execution_count": 390,
   "metadata": {},
   "outputs": [
    {
     "name": "stdout",
     "output_type": "stream",
     "text": [
      "              precision    recall  f1-score   support\n",
      "\n",
      "           0       1.00      1.00      1.00    227451\n",
      "           1       0.47      0.47      0.47       394\n",
      "\n",
      "    accuracy                           1.00    227845\n",
      "   macro avg       0.73      0.73      0.73    227845\n",
      "weighted avg       1.00      1.00      1.00    227845\n",
      "\n"
     ]
    }
   ],
   "source": [
    "cr = classification_report(y_train, np.where(y_pred == 1, 0, 1))\n",
    "print(cr)"
   ]
  },
  {
   "cell_type": "code",
   "execution_count": 391,
   "metadata": {},
   "outputs": [
    {
     "name": "stdout",
     "output_type": "stream",
     "text": [
      "              precision    recall  f1-score   support\n",
      "\n",
      "           0       1.00      1.00      1.00     56864\n",
      "           1       0.50      0.57      0.53        98\n",
      "\n",
      "    accuracy                           1.00     56962\n",
      "   macro avg       0.75      0.79      0.77     56962\n",
      "weighted avg       1.00      1.00      1.00     56962\n",
      "\n"
     ]
    }
   ],
   "source": [
    "y_pred = ee.predict(X_test) # 1: inlier, -1: outlier\n",
    "cr = classification_report(y_test, np.where(y_pred == 1, 0, 1))\n",
    "print(cr)"
   ]
  },
  {
   "cell_type": "markdown",
   "metadata": {},
   "source": [
    "### Isolation Forest "
   ]
  },
  {
   "cell_type": "markdown",
   "metadata": {},
   "source": [
    "Lastly, another non-parametric method is the Isolation Forest. The idea is that a decision tree can isolate outlier data points (by splitting the data along features) by much shorter branches than inliers. We randomly select features and split values, recursively partitioning our data. The path length, averaged over a forest of such random trees, is a measure of inlier-ness: the longer the path the more regular the data point is.\n",
    "\n",
    "See more [here](https://scikit-learn.org/stable/modules/generated/sklearn.ensemble.IsolationForest.html#sklearn.ensemble.IsolationForest)."
   ]
  },
  {
   "cell_type": "code",
   "execution_count": 386,
   "metadata": {},
   "outputs": [],
   "source": [
    "from sklearn.ensemble import IsolationForest\n",
    "\n",
    "isolation_forest = IsolationForest(n_estimators=100, \n",
    "                                   contamination=y_train.mean(),\n",
    "                                  )\n",
    "y_pred = isolation_forest.fit_predict(X_train)"
   ]
  },
  {
   "cell_type": "code",
   "execution_count": 387,
   "metadata": {},
   "outputs": [
    {
     "name": "stdout",
     "output_type": "stream",
     "text": [
      "              precision    recall  f1-score   support\n",
      "\n",
      "           0       1.00      1.00      1.00    227451\n",
      "           1       0.25      0.25      0.25       394\n",
      "\n",
      "    accuracy                           1.00    227845\n",
      "   macro avg       0.62      0.62      0.62    227845\n",
      "weighted avg       1.00      1.00      1.00    227845\n",
      "\n"
     ]
    }
   ],
   "source": [
    "cr = classification_report(y_train, np.where(y_pred == 1, 0, 1))\n",
    "print(cr)"
   ]
  },
  {
   "cell_type": "code",
   "execution_count": 388,
   "metadata": {},
   "outputs": [
    {
     "name": "stdout",
     "output_type": "stream",
     "text": [
      "              precision    recall  f1-score   support\n",
      "\n",
      "           0       1.00      1.00      1.00     56864\n",
      "           1       0.29      0.30      0.29        98\n",
      "\n",
      "    accuracy                           1.00     56962\n",
      "   macro avg       0.64      0.65      0.65     56962\n",
      "weighted avg       1.00      1.00      1.00     56962\n",
      "\n"
     ]
    }
   ],
   "source": [
    "y_pred = isolation_forest.predict(X_test) # 1: inlier, -1: outlier\n",
    "cr = classification_report(y_test, np.where(y_pred == 1, 0, 1))\n",
    "print(cr)"
   ]
  },
  {
   "cell_type": "markdown",
   "metadata": {},
   "source": [
    "## Randomized autoencoders"
   ]
  },
  {
   "cell_type": "code",
   "execution_count": 375,
   "metadata": {},
   "outputs": [],
   "source": [
    "class RandAE(tf.keras.Sequential):\n",
    "    def __init__(self, input_dim, hidden_dims, drop_ratio=0.5, **kwargs):\n",
    "        super(RandAE, self).__init__(**kwargs)\n",
    "        \n",
    "        self.input_dim = input_dim\n",
    "        self.hidden_dims = hidden_dims\n",
    "        self.drop_ratio = drop_ratio\n",
    "        \n",
    "        self.layer_masks = dict()\n",
    "        \n",
    "        self.build_model()\n",
    "                \n",
    "    def build_model(self) -> None:\n",
    "        \"\"\"\n",
    "        Adds the layers and records masks.\n",
    "        \"\"\"\n",
    "        \n",
    "        self.add(layers.Input(self.input_dim, name=\"input\"))\n",
    "        \n",
    "        for i, dim in enumerate(self.hidden_dims):\n",
    "            layer_name = f\"hidden_{i}\"\n",
    "            layer = layers.Dense(dim, \n",
    "                                 activation=\"relu\" if i > 0 else \"sigmoid\", \n",
    "                                 name=layer_name)\n",
    "            self.add(layer)\n",
    "            \n",
    "            # add layer mask\n",
    "            self.layer_masks[layer_name] = self.get_mask(layer)\n",
    "        \n",
    "        layer_name = \"output\"\n",
    "        output_layer = layers.Dense(self.input_dim, activation=\"sigmoid\", name=layer_name)\n",
    "        self.add(output_layer)\n",
    "        self.layer_masks[layer_name] = self.get_mask(output_layer)\n",
    "            \n",
    "    def get_mask(self, layer) -> np.ndarray:\n",
    "        \"\"\"\n",
    "        Build mask for a layer.\n",
    "        \"\"\"\n",
    "        \n",
    "        shape = layer.input_shape[1], layer.output_shape[1]\n",
    "        \n",
    "        return np.random.choice([0., 1.], size=shape, p=[self.drop_ratio, 1-self.drop_ratio])\n",
    "        \n",
    "            \n",
    "    def get_encoder(self) -> keras.Sequential:\n",
    "        \"\"\"\n",
    "        Get the encoder from the full model.\n",
    "        \"\"\"\n",
    "        \n",
    "        n_layers = (len(self.hidden_dims)+1)//2\n",
    "        encoder_layers = [layers.Input(self.input_dim)] + self.layers[:n_layers]\n",
    "\n",
    "        return keras.Sequential(encoder_layers)\n",
    "        \n",
    "    \n",
    "    def mask_weights(self) -> None:\n",
    "        \"\"\"\n",
    "        Apply the masks to each layer in the encoder and decoder.\n",
    "        \"\"\"\n",
    "        \n",
    "        for layer in self.layers:\n",
    "            layer_name = layer.name\n",
    "            if layer_name in self.layer_masks:\n",
    "                masked_w = layer.weights[0].numpy()*self.layer_masks[layer_name]\n",
    "                b = layer.weights[1].numpy()\n",
    "                layer.set_weights((masked_w, b))        \n",
    "\n",
    "    def call(self, data, training=True) -> tf.Tensor:\n",
    "        \n",
    "        # mask the weights before original forward pass\n",
    "        self.mask_weights()\n",
    "        \n",
    "        return super().call(data)"
   ]
  },
  {
   "cell_type": "markdown",
   "metadata": {},
   "source": [
    "We can preform some sanity checks on our model:"
   ]
  },
  {
   "cell_type": "code",
   "execution_count": 376,
   "metadata": {},
   "outputs": [],
   "source": [
    "# test compile\n",
    "model = RandAE(29, [16, 8, 4])\n",
    "model.compile(run_eagerly=True)"
   ]
  },
  {
   "cell_type": "code",
   "execution_count": 377,
   "metadata": {},
   "outputs": [
    {
     "name": "stdout",
     "output_type": "stream",
     "text": [
      "hidden_0 has 0.0% exact-0 weights.\n",
      "hidden_1 has 0.0% exact-0 weights.\n",
      "hidden_2 has 0.0% exact-0 weights.\n",
      "output has 0.0% exact-0 weights.\n"
     ]
    }
   ],
   "source": [
    "# check weights before first call\n",
    "for layer in model.layers:\n",
    "    pct = np.round((layer.weights[0].numpy() == 0).mean()*100, 2)\n",
    "    print(f\"{layer.name} has {pct}% exact-0 weights.\")"
   ]
  },
  {
   "cell_type": "code",
   "execution_count": 378,
   "metadata": {},
   "outputs": [],
   "source": [
    "# test forward with sample data\n",
    "data = np.random.randn(32, 29)\n",
    "output = model(data)"
   ]
  },
  {
   "cell_type": "code",
   "execution_count": 379,
   "metadata": {},
   "outputs": [
    {
     "name": "stdout",
     "output_type": "stream",
     "text": [
      "hidden_0 has 51.08% exact-0 weights.\n",
      "hidden_1 has 49.22% exact-0 weights.\n",
      "hidden_2 has 43.75% exact-0 weights.\n",
      "output has 47.41% exact-0 weights.\n"
     ]
    }
   ],
   "source": [
    "# print 0 weight ratios again\n",
    "for layer in model.layers:\n",
    "    pct = np.round((layer.weights[0].numpy() == 0).mean()*100, 2)\n",
    "    print(f\"{layer.name} has {pct}% exact-0 weights.\")"
   ]
  },
  {
   "cell_type": "markdown",
   "metadata": {},
   "source": [
    "## Training an ensemble"
   ]
  },
  {
   "cell_type": "code",
   "execution_count": 395,
   "metadata": {},
   "outputs": [
    {
     "name": "stderr",
     "output_type": "stream",
     "text": [
      "  0%|          | 0/10 [00:00<?, ?it/s]"
     ]
    },
    {
     "name": "stdout",
     "output_type": "stream",
     "text": [
      "Epoch 1/10\n",
      "1781/1781 [==============================] - 12s 7ms/step - loss: 0.0065\n",
      "Epoch 2/10\n",
      "1781/1781 [==============================] - 12s 7ms/step - loss: 0.0017\n",
      "Epoch 3/10\n",
      "1781/1781 [==============================] - 12s 7ms/step - loss: 0.0017\n",
      "Epoch 4/10\n",
      "1781/1781 [==============================] - 12s 7ms/step - loss: 0.0017\n",
      "Epoch 5/10\n",
      "1781/1781 [==============================] - 12s 7ms/step - loss: 0.0016\n",
      "Epoch 6/10\n",
      "1781/1781 [==============================] - 12s 7ms/step - loss: 0.0014\n",
      "Epoch 7/10\n",
      " 594/1781 [=========>....................] - ETA: 8s - loss: 0.0014"
     ]
    },
    {
     "name": "stderr",
     "output_type": "stream",
     "text": [
      "  0%|          | 0/10 [01:16<?, ?it/s]\n"
     ]
    },
    {
     "ename": "KeyboardInterrupt",
     "evalue": "",
     "output_type": "error",
     "traceback": [
      "\u001b[0;31m---------------------------------------------------------------------------\u001b[0m",
      "\u001b[0;31mKeyboardInterrupt\u001b[0m                         Traceback (most recent call last)",
      "\u001b[0;32m<ipython-input-395-3d81465dba6f>\u001b[0m in \u001b[0;36m<module>\u001b[0;34m\u001b[0m\n\u001b[1;32m     21\u001b[0m     \u001b[0mmodel\u001b[0m\u001b[0;34m.\u001b[0m\u001b[0mcompile\u001b[0m\u001b[0;34m(\u001b[0m\u001b[0;34m**\u001b[0m\u001b[0mCOMPILE_PARAMS\u001b[0m\u001b[0;34m)\u001b[0m\u001b[0;34m\u001b[0m\u001b[0;34m\u001b[0m\u001b[0m\n\u001b[1;32m     22\u001b[0m \u001b[0;34m\u001b[0m\u001b[0m\n\u001b[0;32m---> 23\u001b[0;31m     model.fit(X_train, \n\u001b[0m\u001b[1;32m     24\u001b[0m               \u001b[0mX_train\u001b[0m\u001b[0;34m,\u001b[0m\u001b[0;34m\u001b[0m\u001b[0;34m\u001b[0m\u001b[0m\n\u001b[1;32m     25\u001b[0m               \u001b[0;34m**\u001b[0m\u001b[0mTRAIN_PARAMS\u001b[0m\u001b[0;34m\u001b[0m\u001b[0;34m\u001b[0m\u001b[0m\n",
      "\u001b[0;32m~/anaconda3/envs/deeplearning/lib/python3.8/site-packages/tensorflow/python/keras/engine/training.py\u001b[0m in \u001b[0;36m_method_wrapper\u001b[0;34m(self, *args, **kwargs)\u001b[0m\n\u001b[1;32m     64\u001b[0m   \u001b[0;32mdef\u001b[0m \u001b[0m_method_wrapper\u001b[0m\u001b[0;34m(\u001b[0m\u001b[0mself\u001b[0m\u001b[0;34m,\u001b[0m \u001b[0;34m*\u001b[0m\u001b[0margs\u001b[0m\u001b[0;34m,\u001b[0m \u001b[0;34m**\u001b[0m\u001b[0mkwargs\u001b[0m\u001b[0;34m)\u001b[0m\u001b[0;34m:\u001b[0m\u001b[0;34m\u001b[0m\u001b[0;34m\u001b[0m\u001b[0m\n\u001b[1;32m     65\u001b[0m     \u001b[0;32mif\u001b[0m \u001b[0;32mnot\u001b[0m \u001b[0mself\u001b[0m\u001b[0;34m.\u001b[0m\u001b[0m_in_multi_worker_mode\u001b[0m\u001b[0;34m(\u001b[0m\u001b[0;34m)\u001b[0m\u001b[0;34m:\u001b[0m  \u001b[0;31m# pylint: disable=protected-access\u001b[0m\u001b[0;34m\u001b[0m\u001b[0;34m\u001b[0m\u001b[0m\n\u001b[0;32m---> 66\u001b[0;31m       \u001b[0;32mreturn\u001b[0m \u001b[0mmethod\u001b[0m\u001b[0;34m(\u001b[0m\u001b[0mself\u001b[0m\u001b[0;34m,\u001b[0m \u001b[0;34m*\u001b[0m\u001b[0margs\u001b[0m\u001b[0;34m,\u001b[0m \u001b[0;34m**\u001b[0m\u001b[0mkwargs\u001b[0m\u001b[0;34m)\u001b[0m\u001b[0;34m\u001b[0m\u001b[0;34m\u001b[0m\u001b[0m\n\u001b[0m\u001b[1;32m     67\u001b[0m \u001b[0;34m\u001b[0m\u001b[0m\n\u001b[1;32m     68\u001b[0m     \u001b[0;31m# Running inside `run_distribute_coordinator` already.\u001b[0m\u001b[0;34m\u001b[0m\u001b[0;34m\u001b[0m\u001b[0;34m\u001b[0m\u001b[0m\n",
      "\u001b[0;32m~/anaconda3/envs/deeplearning/lib/python3.8/site-packages/tensorflow/python/keras/engine/training.py\u001b[0m in \u001b[0;36mfit\u001b[0;34m(self, x, y, batch_size, epochs, verbose, callbacks, validation_split, validation_data, shuffle, class_weight, sample_weight, initial_epoch, steps_per_epoch, validation_steps, validation_batch_size, validation_freq, max_queue_size, workers, use_multiprocessing)\u001b[0m\n\u001b[1;32m    846\u001b[0m                 batch_size=batch_size):\n\u001b[1;32m    847\u001b[0m               \u001b[0mcallbacks\u001b[0m\u001b[0;34m.\u001b[0m\u001b[0mon_train_batch_begin\u001b[0m\u001b[0;34m(\u001b[0m\u001b[0mstep\u001b[0m\u001b[0;34m)\u001b[0m\u001b[0;34m\u001b[0m\u001b[0;34m\u001b[0m\u001b[0m\n\u001b[0;32m--> 848\u001b[0;31m               \u001b[0mtmp_logs\u001b[0m \u001b[0;34m=\u001b[0m \u001b[0mtrain_function\u001b[0m\u001b[0;34m(\u001b[0m\u001b[0miterator\u001b[0m\u001b[0;34m)\u001b[0m\u001b[0;34m\u001b[0m\u001b[0;34m\u001b[0m\u001b[0m\n\u001b[0m\u001b[1;32m    849\u001b[0m               \u001b[0;31m# Catch OutOfRangeError for Datasets of unknown size.\u001b[0m\u001b[0;34m\u001b[0m\u001b[0;34m\u001b[0m\u001b[0;34m\u001b[0m\u001b[0m\n\u001b[1;32m    850\u001b[0m               \u001b[0;31m# This blocks until the batch has finished executing.\u001b[0m\u001b[0;34m\u001b[0m\u001b[0;34m\u001b[0m\u001b[0;34m\u001b[0m\u001b[0m\n",
      "\u001b[0;32m~/anaconda3/envs/deeplearning/lib/python3.8/site-packages/tensorflow/python/keras/engine/training.py\u001b[0m in \u001b[0;36mtrain_function\u001b[0;34m(iterator)\u001b[0m\n\u001b[1;32m    569\u001b[0m     \u001b[0;32mdef\u001b[0m \u001b[0mtrain_function\u001b[0m\u001b[0;34m(\u001b[0m\u001b[0miterator\u001b[0m\u001b[0;34m)\u001b[0m\u001b[0;34m:\u001b[0m\u001b[0;34m\u001b[0m\u001b[0;34m\u001b[0m\u001b[0m\n\u001b[1;32m    570\u001b[0m       \u001b[0mdata\u001b[0m \u001b[0;34m=\u001b[0m \u001b[0mnext\u001b[0m\u001b[0;34m(\u001b[0m\u001b[0miterator\u001b[0m\u001b[0;34m)\u001b[0m\u001b[0;34m\u001b[0m\u001b[0;34m\u001b[0m\u001b[0m\n\u001b[0;32m--> 571\u001b[0;31m       outputs = self.distribute_strategy.run(\n\u001b[0m\u001b[1;32m    572\u001b[0m           self.train_step, args=(data,))\n\u001b[1;32m    573\u001b[0m       outputs = reduce_per_replica(\n",
      "\u001b[0;32m~/anaconda3/envs/deeplearning/lib/python3.8/site-packages/tensorflow/python/distribute/distribute_lib.py\u001b[0m in \u001b[0;36mrun\u001b[0;34m(***failed resolving arguments***)\u001b[0m\n\u001b[1;32m    949\u001b[0m       fn = autograph.tf_convert(\n\u001b[1;32m    950\u001b[0m           fn, autograph_ctx.control_status_ctx(), convert_by_default=False)\n\u001b[0;32m--> 951\u001b[0;31m       \u001b[0;32mreturn\u001b[0m \u001b[0mself\u001b[0m\u001b[0;34m.\u001b[0m\u001b[0m_extended\u001b[0m\u001b[0;34m.\u001b[0m\u001b[0mcall_for_each_replica\u001b[0m\u001b[0;34m(\u001b[0m\u001b[0mfn\u001b[0m\u001b[0;34m,\u001b[0m \u001b[0margs\u001b[0m\u001b[0;34m=\u001b[0m\u001b[0margs\u001b[0m\u001b[0;34m,\u001b[0m \u001b[0mkwargs\u001b[0m\u001b[0;34m=\u001b[0m\u001b[0mkwargs\u001b[0m\u001b[0;34m)\u001b[0m\u001b[0;34m\u001b[0m\u001b[0;34m\u001b[0m\u001b[0m\n\u001b[0m\u001b[1;32m    952\u001b[0m \u001b[0;34m\u001b[0m\u001b[0m\n\u001b[1;32m    953\u001b[0m   \u001b[0;31m# TODO(b/151224785): Remove deprecated alias.\u001b[0m\u001b[0;34m\u001b[0m\u001b[0;34m\u001b[0m\u001b[0;34m\u001b[0m\u001b[0m\n",
      "\u001b[0;32m~/anaconda3/envs/deeplearning/lib/python3.8/site-packages/tensorflow/python/distribute/distribute_lib.py\u001b[0m in \u001b[0;36mcall_for_each_replica\u001b[0;34m(self, fn, args, kwargs)\u001b[0m\n\u001b[1;32m   2288\u001b[0m       \u001b[0mkwargs\u001b[0m \u001b[0;34m=\u001b[0m \u001b[0;34m{\u001b[0m\u001b[0;34m}\u001b[0m\u001b[0;34m\u001b[0m\u001b[0;34m\u001b[0m\u001b[0m\n\u001b[1;32m   2289\u001b[0m     \u001b[0;32mwith\u001b[0m \u001b[0mself\u001b[0m\u001b[0;34m.\u001b[0m\u001b[0m_container_strategy\u001b[0m\u001b[0;34m(\u001b[0m\u001b[0;34m)\u001b[0m\u001b[0;34m.\u001b[0m\u001b[0mscope\u001b[0m\u001b[0;34m(\u001b[0m\u001b[0;34m)\u001b[0m\u001b[0;34m:\u001b[0m\u001b[0;34m\u001b[0m\u001b[0;34m\u001b[0m\u001b[0m\n\u001b[0;32m-> 2290\u001b[0;31m       \u001b[0;32mreturn\u001b[0m \u001b[0mself\u001b[0m\u001b[0;34m.\u001b[0m\u001b[0m_call_for_each_replica\u001b[0m\u001b[0;34m(\u001b[0m\u001b[0mfn\u001b[0m\u001b[0;34m,\u001b[0m \u001b[0margs\u001b[0m\u001b[0;34m,\u001b[0m \u001b[0mkwargs\u001b[0m\u001b[0;34m)\u001b[0m\u001b[0;34m\u001b[0m\u001b[0;34m\u001b[0m\u001b[0m\n\u001b[0m\u001b[1;32m   2291\u001b[0m \u001b[0;34m\u001b[0m\u001b[0m\n\u001b[1;32m   2292\u001b[0m   \u001b[0;32mdef\u001b[0m \u001b[0m_call_for_each_replica\u001b[0m\u001b[0;34m(\u001b[0m\u001b[0mself\u001b[0m\u001b[0;34m,\u001b[0m \u001b[0mfn\u001b[0m\u001b[0;34m,\u001b[0m \u001b[0margs\u001b[0m\u001b[0;34m,\u001b[0m \u001b[0mkwargs\u001b[0m\u001b[0;34m)\u001b[0m\u001b[0;34m:\u001b[0m\u001b[0;34m\u001b[0m\u001b[0;34m\u001b[0m\u001b[0m\n",
      "\u001b[0;32m~/anaconda3/envs/deeplearning/lib/python3.8/site-packages/tensorflow/python/distribute/distribute_lib.py\u001b[0m in \u001b[0;36m_call_for_each_replica\u001b[0;34m(self, fn, args, kwargs)\u001b[0m\n\u001b[1;32m   2647\u001b[0m         \u001b[0mself\u001b[0m\u001b[0;34m.\u001b[0m\u001b[0m_container_strategy\u001b[0m\u001b[0;34m(\u001b[0m\u001b[0;34m)\u001b[0m\u001b[0;34m,\u001b[0m\u001b[0;34m\u001b[0m\u001b[0;34m\u001b[0m\u001b[0m\n\u001b[1;32m   2648\u001b[0m         replica_id_in_sync_group=constant_op.constant(0, dtypes.int32)):\n\u001b[0;32m-> 2649\u001b[0;31m       \u001b[0;32mreturn\u001b[0m \u001b[0mfn\u001b[0m\u001b[0;34m(\u001b[0m\u001b[0;34m*\u001b[0m\u001b[0margs\u001b[0m\u001b[0;34m,\u001b[0m \u001b[0;34m**\u001b[0m\u001b[0mkwargs\u001b[0m\u001b[0;34m)\u001b[0m\u001b[0;34m\u001b[0m\u001b[0;34m\u001b[0m\u001b[0m\n\u001b[0m\u001b[1;32m   2650\u001b[0m \u001b[0;34m\u001b[0m\u001b[0m\n\u001b[1;32m   2651\u001b[0m   \u001b[0;32mdef\u001b[0m \u001b[0m_reduce_to\u001b[0m\u001b[0;34m(\u001b[0m\u001b[0mself\u001b[0m\u001b[0;34m,\u001b[0m \u001b[0mreduce_op\u001b[0m\u001b[0;34m,\u001b[0m \u001b[0mvalue\u001b[0m\u001b[0;34m,\u001b[0m \u001b[0mdestinations\u001b[0m\u001b[0;34m,\u001b[0m \u001b[0mexperimental_hints\u001b[0m\u001b[0;34m)\u001b[0m\u001b[0;34m:\u001b[0m\u001b[0;34m\u001b[0m\u001b[0;34m\u001b[0m\u001b[0m\n",
      "\u001b[0;32m~/anaconda3/envs/deeplearning/lib/python3.8/site-packages/tensorflow/python/autograph/impl/api.py\u001b[0m in \u001b[0;36mwrapper\u001b[0;34m(*args, **kwargs)\u001b[0m\n\u001b[1;32m    280\u001b[0m   \u001b[0;32mdef\u001b[0m \u001b[0mwrapper\u001b[0m\u001b[0;34m(\u001b[0m\u001b[0;34m*\u001b[0m\u001b[0margs\u001b[0m\u001b[0;34m,\u001b[0m \u001b[0;34m**\u001b[0m\u001b[0mkwargs\u001b[0m\u001b[0;34m)\u001b[0m\u001b[0;34m:\u001b[0m\u001b[0;34m\u001b[0m\u001b[0;34m\u001b[0m\u001b[0m\n\u001b[1;32m    281\u001b[0m     \u001b[0;32mwith\u001b[0m \u001b[0mag_ctx\u001b[0m\u001b[0;34m.\u001b[0m\u001b[0mControlStatusCtx\u001b[0m\u001b[0;34m(\u001b[0m\u001b[0mstatus\u001b[0m\u001b[0;34m=\u001b[0m\u001b[0mag_ctx\u001b[0m\u001b[0;34m.\u001b[0m\u001b[0mStatus\u001b[0m\u001b[0;34m.\u001b[0m\u001b[0mUNSPECIFIED\u001b[0m\u001b[0;34m)\u001b[0m\u001b[0;34m:\u001b[0m\u001b[0;34m\u001b[0m\u001b[0;34m\u001b[0m\u001b[0m\n\u001b[0;32m--> 282\u001b[0;31m       \u001b[0;32mreturn\u001b[0m \u001b[0mfunc\u001b[0m\u001b[0;34m(\u001b[0m\u001b[0;34m*\u001b[0m\u001b[0margs\u001b[0m\u001b[0;34m,\u001b[0m \u001b[0;34m**\u001b[0m\u001b[0mkwargs\u001b[0m\u001b[0;34m)\u001b[0m\u001b[0;34m\u001b[0m\u001b[0;34m\u001b[0m\u001b[0m\n\u001b[0m\u001b[1;32m    283\u001b[0m \u001b[0;34m\u001b[0m\u001b[0m\n\u001b[1;32m    284\u001b[0m   \u001b[0;32mif\u001b[0m \u001b[0minspect\u001b[0m\u001b[0;34m.\u001b[0m\u001b[0misfunction\u001b[0m\u001b[0;34m(\u001b[0m\u001b[0mfunc\u001b[0m\u001b[0;34m)\u001b[0m \u001b[0;32mor\u001b[0m \u001b[0minspect\u001b[0m\u001b[0;34m.\u001b[0m\u001b[0mismethod\u001b[0m\u001b[0;34m(\u001b[0m\u001b[0mfunc\u001b[0m\u001b[0;34m)\u001b[0m\u001b[0;34m:\u001b[0m\u001b[0;34m\u001b[0m\u001b[0;34m\u001b[0m\u001b[0m\n",
      "\u001b[0;32m~/anaconda3/envs/deeplearning/lib/python3.8/site-packages/tensorflow/python/keras/engine/training.py\u001b[0m in \u001b[0;36mtrain_step\u001b[0;34m(self, data)\u001b[0m\n\u001b[1;32m    529\u001b[0m \u001b[0;34m\u001b[0m\u001b[0m\n\u001b[1;32m    530\u001b[0m     \u001b[0;32mwith\u001b[0m \u001b[0mbackprop\u001b[0m\u001b[0;34m.\u001b[0m\u001b[0mGradientTape\u001b[0m\u001b[0;34m(\u001b[0m\u001b[0;34m)\u001b[0m \u001b[0;32mas\u001b[0m \u001b[0mtape\u001b[0m\u001b[0;34m:\u001b[0m\u001b[0;34m\u001b[0m\u001b[0;34m\u001b[0m\u001b[0m\n\u001b[0;32m--> 531\u001b[0;31m       \u001b[0my_pred\u001b[0m \u001b[0;34m=\u001b[0m \u001b[0mself\u001b[0m\u001b[0;34m(\u001b[0m\u001b[0mx\u001b[0m\u001b[0;34m,\u001b[0m \u001b[0mtraining\u001b[0m\u001b[0;34m=\u001b[0m\u001b[0;32mTrue\u001b[0m\u001b[0;34m)\u001b[0m\u001b[0;34m\u001b[0m\u001b[0;34m\u001b[0m\u001b[0m\n\u001b[0m\u001b[1;32m    532\u001b[0m       loss = self.compiled_loss(\n\u001b[1;32m    533\u001b[0m           y, y_pred, sample_weight, regularization_losses=self.losses)\n",
      "\u001b[0;32m~/anaconda3/envs/deeplearning/lib/python3.8/site-packages/tensorflow/python/keras/engine/base_layer.py\u001b[0m in \u001b[0;36m__call__\u001b[0;34m(self, *args, **kwargs)\u001b[0m\n\u001b[1;32m    966\u001b[0m           with base_layer_utils.autocast_context_manager(\n\u001b[1;32m    967\u001b[0m               self._compute_dtype):\n\u001b[0;32m--> 968\u001b[0;31m             \u001b[0moutputs\u001b[0m \u001b[0;34m=\u001b[0m \u001b[0mself\u001b[0m\u001b[0;34m.\u001b[0m\u001b[0mcall\u001b[0m\u001b[0;34m(\u001b[0m\u001b[0mcast_inputs\u001b[0m\u001b[0;34m,\u001b[0m \u001b[0;34m*\u001b[0m\u001b[0margs\u001b[0m\u001b[0;34m,\u001b[0m \u001b[0;34m**\u001b[0m\u001b[0mkwargs\u001b[0m\u001b[0;34m)\u001b[0m\u001b[0;34m\u001b[0m\u001b[0;34m\u001b[0m\u001b[0m\n\u001b[0m\u001b[1;32m    969\u001b[0m           \u001b[0mself\u001b[0m\u001b[0;34m.\u001b[0m\u001b[0m_handle_activity_regularization\u001b[0m\u001b[0;34m(\u001b[0m\u001b[0minputs\u001b[0m\u001b[0;34m,\u001b[0m \u001b[0moutputs\u001b[0m\u001b[0;34m)\u001b[0m\u001b[0;34m\u001b[0m\u001b[0;34m\u001b[0m\u001b[0m\n\u001b[1;32m    970\u001b[0m           \u001b[0mself\u001b[0m\u001b[0;34m.\u001b[0m\u001b[0m_set_mask_metadata\u001b[0m\u001b[0;34m(\u001b[0m\u001b[0minputs\u001b[0m\u001b[0;34m,\u001b[0m \u001b[0moutputs\u001b[0m\u001b[0;34m,\u001b[0m \u001b[0minput_masks\u001b[0m\u001b[0;34m)\u001b[0m\u001b[0;34m\u001b[0m\u001b[0;34m\u001b[0m\u001b[0m\n",
      "\u001b[0;32m<ipython-input-375-c7f996bb3821>\u001b[0m in \u001b[0;36mcall\u001b[0;34m(self, data, training)\u001b[0m\n\u001b[1;32m     71\u001b[0m         \u001b[0mself\u001b[0m\u001b[0;34m.\u001b[0m\u001b[0mmask_weights\u001b[0m\u001b[0;34m(\u001b[0m\u001b[0;34m)\u001b[0m\u001b[0;34m\u001b[0m\u001b[0;34m\u001b[0m\u001b[0m\n\u001b[1;32m     72\u001b[0m \u001b[0;34m\u001b[0m\u001b[0m\n\u001b[0;32m---> 73\u001b[0;31m         \u001b[0;32mreturn\u001b[0m \u001b[0msuper\u001b[0m\u001b[0;34m(\u001b[0m\u001b[0;34m)\u001b[0m\u001b[0;34m.\u001b[0m\u001b[0mcall\u001b[0m\u001b[0;34m(\u001b[0m\u001b[0mdata\u001b[0m\u001b[0;34m)\u001b[0m\u001b[0;34m\u001b[0m\u001b[0;34m\u001b[0m\u001b[0m\n\u001b[0m",
      "\u001b[0;32m~/anaconda3/envs/deeplearning/lib/python3.8/site-packages/tensorflow/python/keras/engine/sequential.py\u001b[0m in \u001b[0;36mcall\u001b[0;34m(self, inputs, training, mask)\u001b[0m\n\u001b[1;32m    275\u001b[0m       \u001b[0;32mif\u001b[0m \u001b[0;32mnot\u001b[0m \u001b[0mself\u001b[0m\u001b[0;34m.\u001b[0m\u001b[0mbuilt\u001b[0m\u001b[0;34m:\u001b[0m\u001b[0;34m\u001b[0m\u001b[0;34m\u001b[0m\u001b[0m\n\u001b[1;32m    276\u001b[0m         \u001b[0mself\u001b[0m\u001b[0;34m.\u001b[0m\u001b[0m_init_graph_network\u001b[0m\u001b[0;34m(\u001b[0m\u001b[0mself\u001b[0m\u001b[0;34m.\u001b[0m\u001b[0minputs\u001b[0m\u001b[0;34m,\u001b[0m \u001b[0mself\u001b[0m\u001b[0;34m.\u001b[0m\u001b[0moutputs\u001b[0m\u001b[0;34m,\u001b[0m \u001b[0mname\u001b[0m\u001b[0;34m=\u001b[0m\u001b[0mself\u001b[0m\u001b[0;34m.\u001b[0m\u001b[0mname\u001b[0m\u001b[0;34m)\u001b[0m\u001b[0;34m\u001b[0m\u001b[0;34m\u001b[0m\u001b[0m\n\u001b[0;32m--> 277\u001b[0;31m       \u001b[0;32mreturn\u001b[0m \u001b[0msuper\u001b[0m\u001b[0;34m(\u001b[0m\u001b[0mSequential\u001b[0m\u001b[0;34m,\u001b[0m \u001b[0mself\u001b[0m\u001b[0;34m)\u001b[0m\u001b[0;34m.\u001b[0m\u001b[0mcall\u001b[0m\u001b[0;34m(\u001b[0m\u001b[0minputs\u001b[0m\u001b[0;34m,\u001b[0m \u001b[0mtraining\u001b[0m\u001b[0;34m=\u001b[0m\u001b[0mtraining\u001b[0m\u001b[0;34m,\u001b[0m \u001b[0mmask\u001b[0m\u001b[0;34m=\u001b[0m\u001b[0mmask\u001b[0m\u001b[0;34m)\u001b[0m\u001b[0;34m\u001b[0m\u001b[0;34m\u001b[0m\u001b[0m\n\u001b[0m\u001b[1;32m    278\u001b[0m \u001b[0;34m\u001b[0m\u001b[0m\n\u001b[1;32m    279\u001b[0m     \u001b[0moutputs\u001b[0m \u001b[0;34m=\u001b[0m \u001b[0minputs\u001b[0m  \u001b[0;31m# handle the corner case where self.layers is empty\u001b[0m\u001b[0;34m\u001b[0m\u001b[0;34m\u001b[0m\u001b[0m\n",
      "\u001b[0;32m~/anaconda3/envs/deeplearning/lib/python3.8/site-packages/tensorflow/python/keras/engine/network.py\u001b[0m in \u001b[0;36mcall\u001b[0;34m(self, inputs, training, mask)\u001b[0m\n\u001b[1;32m    715\u001b[0m                                 ' implement a `call` method.')\n\u001b[1;32m    716\u001b[0m \u001b[0;34m\u001b[0m\u001b[0m\n\u001b[0;32m--> 717\u001b[0;31m     return self._run_internal_graph(\n\u001b[0m\u001b[1;32m    718\u001b[0m         \u001b[0minputs\u001b[0m\u001b[0;34m,\u001b[0m \u001b[0mtraining\u001b[0m\u001b[0;34m=\u001b[0m\u001b[0mtraining\u001b[0m\u001b[0;34m,\u001b[0m \u001b[0mmask\u001b[0m\u001b[0;34m=\u001b[0m\u001b[0mmask\u001b[0m\u001b[0;34m,\u001b[0m\u001b[0;34m\u001b[0m\u001b[0;34m\u001b[0m\u001b[0m\n\u001b[1;32m    719\u001b[0m         convert_kwargs_to_constants=base_layer_utils.call_context().saving)\n",
      "\u001b[0;32m~/anaconda3/envs/deeplearning/lib/python3.8/site-packages/tensorflow/python/keras/engine/network.py\u001b[0m in \u001b[0;36m_run_internal_graph\u001b[0;34m(self, inputs, training, mask, convert_kwargs_to_constants)\u001b[0m\n\u001b[1;32m    886\u001b[0m \u001b[0;34m\u001b[0m\u001b[0m\n\u001b[1;32m    887\u001b[0m           \u001b[0;31m# Compute outputs.\u001b[0m\u001b[0;34m\u001b[0m\u001b[0;34m\u001b[0m\u001b[0;34m\u001b[0m\u001b[0m\n\u001b[0;32m--> 888\u001b[0;31m           \u001b[0moutput_tensors\u001b[0m \u001b[0;34m=\u001b[0m \u001b[0mlayer\u001b[0m\u001b[0;34m(\u001b[0m\u001b[0mcomputed_tensors\u001b[0m\u001b[0;34m,\u001b[0m \u001b[0;34m**\u001b[0m\u001b[0mkwargs\u001b[0m\u001b[0;34m)\u001b[0m\u001b[0;34m\u001b[0m\u001b[0;34m\u001b[0m\u001b[0m\n\u001b[0m\u001b[1;32m    889\u001b[0m \u001b[0;34m\u001b[0m\u001b[0m\n\u001b[1;32m    890\u001b[0m           \u001b[0;31m# Update tensor_dict.\u001b[0m\u001b[0;34m\u001b[0m\u001b[0;34m\u001b[0m\u001b[0;34m\u001b[0m\u001b[0m\n",
      "\u001b[0;32m~/anaconda3/envs/deeplearning/lib/python3.8/site-packages/tensorflow/python/keras/engine/base_layer.py\u001b[0m in \u001b[0;36m__call__\u001b[0;34m(self, *args, **kwargs)\u001b[0m\n\u001b[1;32m    966\u001b[0m           with base_layer_utils.autocast_context_manager(\n\u001b[1;32m    967\u001b[0m               self._compute_dtype):\n\u001b[0;32m--> 968\u001b[0;31m             \u001b[0moutputs\u001b[0m \u001b[0;34m=\u001b[0m \u001b[0mself\u001b[0m\u001b[0;34m.\u001b[0m\u001b[0mcall\u001b[0m\u001b[0;34m(\u001b[0m\u001b[0mcast_inputs\u001b[0m\u001b[0;34m,\u001b[0m \u001b[0;34m*\u001b[0m\u001b[0margs\u001b[0m\u001b[0;34m,\u001b[0m \u001b[0;34m**\u001b[0m\u001b[0mkwargs\u001b[0m\u001b[0;34m)\u001b[0m\u001b[0;34m\u001b[0m\u001b[0;34m\u001b[0m\u001b[0m\n\u001b[0m\u001b[1;32m    969\u001b[0m           \u001b[0mself\u001b[0m\u001b[0;34m.\u001b[0m\u001b[0m_handle_activity_regularization\u001b[0m\u001b[0;34m(\u001b[0m\u001b[0minputs\u001b[0m\u001b[0;34m,\u001b[0m \u001b[0moutputs\u001b[0m\u001b[0;34m)\u001b[0m\u001b[0;34m\u001b[0m\u001b[0;34m\u001b[0m\u001b[0m\n\u001b[1;32m    970\u001b[0m           \u001b[0mself\u001b[0m\u001b[0;34m.\u001b[0m\u001b[0m_set_mask_metadata\u001b[0m\u001b[0;34m(\u001b[0m\u001b[0minputs\u001b[0m\u001b[0;34m,\u001b[0m \u001b[0moutputs\u001b[0m\u001b[0;34m,\u001b[0m \u001b[0minput_masks\u001b[0m\u001b[0;34m)\u001b[0m\u001b[0;34m\u001b[0m\u001b[0;34m\u001b[0m\u001b[0m\n",
      "\u001b[0;32m~/anaconda3/envs/deeplearning/lib/python3.8/site-packages/tensorflow/python/keras/layers/core.py\u001b[0m in \u001b[0;36mcall\u001b[0;34m(self, inputs)\u001b[0m\n\u001b[1;32m   1192\u001b[0m         \u001b[0moutputs\u001b[0m \u001b[0;34m=\u001b[0m \u001b[0msparse_ops\u001b[0m\u001b[0;34m.\u001b[0m\u001b[0msparse_tensor_dense_matmul\u001b[0m\u001b[0;34m(\u001b[0m\u001b[0minputs\u001b[0m\u001b[0;34m,\u001b[0m \u001b[0mself\u001b[0m\u001b[0;34m.\u001b[0m\u001b[0mkernel\u001b[0m\u001b[0;34m)\u001b[0m\u001b[0;34m\u001b[0m\u001b[0;34m\u001b[0m\u001b[0m\n\u001b[1;32m   1193\u001b[0m       \u001b[0;32melse\u001b[0m\u001b[0;34m:\u001b[0m\u001b[0;34m\u001b[0m\u001b[0;34m\u001b[0m\u001b[0m\n\u001b[0;32m-> 1194\u001b[0;31m         \u001b[0moutputs\u001b[0m \u001b[0;34m=\u001b[0m \u001b[0mgen_math_ops\u001b[0m\u001b[0;34m.\u001b[0m\u001b[0mmat_mul\u001b[0m\u001b[0;34m(\u001b[0m\u001b[0minputs\u001b[0m\u001b[0;34m,\u001b[0m \u001b[0mself\u001b[0m\u001b[0;34m.\u001b[0m\u001b[0mkernel\u001b[0m\u001b[0;34m)\u001b[0m\u001b[0;34m\u001b[0m\u001b[0;34m\u001b[0m\u001b[0m\n\u001b[0m\u001b[1;32m   1195\u001b[0m     \u001b[0;32mif\u001b[0m \u001b[0mself\u001b[0m\u001b[0;34m.\u001b[0m\u001b[0muse_bias\u001b[0m\u001b[0;34m:\u001b[0m\u001b[0;34m\u001b[0m\u001b[0;34m\u001b[0m\u001b[0m\n\u001b[1;32m   1196\u001b[0m       \u001b[0moutputs\u001b[0m \u001b[0;34m=\u001b[0m \u001b[0mnn\u001b[0m\u001b[0;34m.\u001b[0m\u001b[0mbias_add\u001b[0m\u001b[0;34m(\u001b[0m\u001b[0moutputs\u001b[0m\u001b[0;34m,\u001b[0m \u001b[0mself\u001b[0m\u001b[0;34m.\u001b[0m\u001b[0mbias\u001b[0m\u001b[0;34m)\u001b[0m\u001b[0;34m\u001b[0m\u001b[0;34m\u001b[0m\u001b[0m\n",
      "\u001b[0;32m~/anaconda3/envs/deeplearning/lib/python3.8/site-packages/tensorflow/python/ops/gen_math_ops.py\u001b[0m in \u001b[0;36mmat_mul\u001b[0;34m(a, b, transpose_a, transpose_b, name)\u001b[0m\n\u001b[1;32m   5562\u001b[0m   \u001b[0;32mif\u001b[0m \u001b[0mtld\u001b[0m\u001b[0;34m.\u001b[0m\u001b[0mis_eager\u001b[0m\u001b[0;34m:\u001b[0m\u001b[0;34m\u001b[0m\u001b[0;34m\u001b[0m\u001b[0m\n\u001b[1;32m   5563\u001b[0m     \u001b[0;32mtry\u001b[0m\u001b[0;34m:\u001b[0m\u001b[0;34m\u001b[0m\u001b[0;34m\u001b[0m\u001b[0m\n\u001b[0;32m-> 5564\u001b[0;31m       _result = pywrap_tfe.TFE_Py_FastPathExecute(\n\u001b[0m\u001b[1;32m   5565\u001b[0m         \u001b[0m_ctx\u001b[0m\u001b[0;34m.\u001b[0m\u001b[0m_context_handle\u001b[0m\u001b[0;34m,\u001b[0m \u001b[0mtld\u001b[0m\u001b[0;34m.\u001b[0m\u001b[0mdevice_name\u001b[0m\u001b[0;34m,\u001b[0m \u001b[0;34m\"MatMul\"\u001b[0m\u001b[0;34m,\u001b[0m \u001b[0mname\u001b[0m\u001b[0;34m,\u001b[0m\u001b[0;34m\u001b[0m\u001b[0;34m\u001b[0m\u001b[0m\n\u001b[1;32m   5566\u001b[0m         \u001b[0mtld\u001b[0m\u001b[0;34m.\u001b[0m\u001b[0mop_callbacks\u001b[0m\u001b[0;34m,\u001b[0m \u001b[0ma\u001b[0m\u001b[0;34m,\u001b[0m \u001b[0mb\u001b[0m\u001b[0;34m,\u001b[0m \u001b[0;34m\"transpose_a\"\u001b[0m\u001b[0;34m,\u001b[0m \u001b[0mtranspose_a\u001b[0m\u001b[0;34m,\u001b[0m \u001b[0;34m\"transpose_b\"\u001b[0m\u001b[0;34m,\u001b[0m\u001b[0;34m\u001b[0m\u001b[0;34m\u001b[0m\u001b[0m\n",
      "\u001b[0;31mKeyboardInterrupt\u001b[0m: "
     ]
    }
   ],
   "source": [
    "MODEL_PARAMS ={\"input_dim\": X_train.shape[1],\n",
    "               \"hidden_dims\": [16, 8],\n",
    "               \"drop_ratio\": 0.1}\n",
    "\n",
    "COMPILE_PARAMS = {\"optimizer\": keras.optimizers.Adam(learning_rate=1e-3),\n",
    "                 \"loss\": keras.losses.MeanSquaredError(),\n",
    "                 \"run_eagerly\": True,}\n",
    "\n",
    "TRAIN_PARAMS = {\"epochs\": 10,\n",
    "                \"batch_size\": 128,\n",
    "                \"verbose\": 1}\n",
    "\n",
    "n_models = 10\n",
    "ensemble = []\n",
    "\n",
    "from tqdm import tqdm\n",
    "import pickle\n",
    "\n",
    "for i in tqdm(range(n_models)):\n",
    "    model = RandAE(**MODEL_PARAMS)\n",
    "    model.compile(**COMPILE_PARAMS)\n",
    "\n",
    "    model.fit(X_train, \n",
    "              X_train,\n",
    "              **TRAIN_PARAMS\n",
    "          )\n",
    "\n",
    "    model.save_weights(f\"models/randae_model_{i}\")\n",
    "    \n",
    "    with open(f'model_{i}_masks.pickle', 'wb') as handle:\n",
    "        pickle.dump(model.layer_masks, handle, protocol=pickle.HIGHEST_PROTOCOL)\n",
    "        \n",
    "    ensemble.append(model)"
   ]
  },
  {
   "cell_type": "code",
   "execution_count": null,
   "metadata": {},
   "outputs": [],
   "source": [
    "# load models\n",
    "# TODO: need to save/load the masks!!\n",
    "ensemble = [RandAE(**MODEL_PARAMS) for i in range(n_models)]\n",
    "for model in ensemble:\n",
    "    model.load_weights(f\"models/randae_model_{i}\")\n",
    "    model.compile(run_eagerly=True)"
   ]
  },
  {
   "cell_type": "code",
   "execution_count": null,
   "metadata": {},
   "outputs": [],
   "source": [
    "input_data = X_test\n",
    "input_labels = y_test\n",
    "\n",
    "# make ensemble predictions\n",
    "predictions = [model.predict(input_data) for model in ensemble]"
   ]
  },
  {
   "cell_type": "code",
   "execution_count": null,
   "metadata": {},
   "outputs": [],
   "source": [
    "reconstruction_loss = np.stack([np.square((pred - input_data)).mean(axis=1) for pred in predictions], axis=1)\n",
    "median_loss = np.median(reconstruction_loss, axis=1)\n",
    "\n",
    "threshold = np.quantile(median_loss, 1-y_train.mean())\n",
    "test_outliers = np.where(median_loss > threshold, 1, 0)"
   ]
  },
  {
   "cell_type": "code",
   "execution_count": null,
   "metadata": {},
   "outputs": [],
   "source": [
    "cr = classification_report(input_labels, test_outliers)\n",
    "print(cr)"
   ]
  },
  {
   "cell_type": "markdown",
   "metadata": {},
   "source": [
    "## Latent manifold learning "
   ]
  },
  {
   "cell_type": "code",
   "execution_count": null,
   "metadata": {},
   "outputs": [
    {
     "name": "stdout",
     "output_type": "stream",
     "text": [
      "Epoch 1/10\n",
      "6851/7121 [===========================>..] - ETA: 2s - loss: 0.0024"
     ]
    }
   ],
   "source": [
    "model = RandAE(input_dim=X_train.shape[1], hidden_dims=[16, 8, 4, 8, 16], drop_ratio=0)\n",
    "model.compile(**COMPILE_PARAMS)\n",
    "\n",
    "model.fit(X_train, \n",
    "          X_train,\n",
    "          validation_data=(X_test, X_test),\n",
    "          epochs=10,\n",
    "          batch_size=32,\n",
    "      )"
   ]
  },
  {
   "cell_type": "code",
   "execution_count": null,
   "metadata": {},
   "outputs": [],
   "source": [
    "latent = model.encoder.predict(X_test)"
   ]
  },
  {
   "cell_type": "code",
   "execution_count": null,
   "metadata": {},
   "outputs": [],
   "source": [
    "tsne = TSNE(n_components=2)\n",
    "tsne_data = tsne.fit_transform(latent[:10000])"
   ]
  },
  {
   "cell_type": "code",
   "execution_count": null,
   "metadata": {},
   "outputs": [],
   "source": [
    "labels = y_test[:10000].reshape(-1)\n",
    "\n",
    "plt.figure()\n",
    "plt.scatter(tsne_data[labels == 0, 0], \n",
    "            tsne_data[labels == 0, 1], c=\"grey\", alpha=0.1, label=\"inlier\")\n",
    "plt.scatter(tsne_data[labels == 1, 0], \n",
    "            tsne_data[labels == 1, 1], c=\"crimson\", alpha=1, label=\"outlier\")\n",
    "plt.legend()\n",
    "sns.despine()\n",
    "plt.title(\"t-SNE for outliers/inliers on the latent manifold\")\n",
    "plt.savefig(\"outlier_tsne_latent.png\")\n",
    "plt.show()"
   ]
  },
  {
   "cell_type": "markdown",
   "metadata": {},
   "source": [
    "## Baseline MLP classifier\n",
    "\n",
    "We will train a baseline model to detect fraud."
   ]
  },
  {
   "cell_type": "code",
   "execution_count": 156,
   "metadata": {},
   "outputs": [
    {
     "name": "stdout",
     "output_type": "stream",
     "text": [
      "Epoch 1/10\n",
      "63/63 [==============================] - 0s 3ms/step - loss: 0.5184 - precision: 0.0330 - recall: 0.0125 - auc: 0.1226\n",
      "Epoch 2/10\n",
      "63/63 [==============================] - 0s 3ms/step - loss: 0.3876 - precision: 0.0000e+00 - recall: 0.0000e+00 - auc: 0.0340\n",
      "Epoch 3/10\n",
      "63/63 [==============================] - 0s 3ms/step - loss: 0.2969 - precision: 0.0000e+00 - recall: 0.0000e+00 - auc: 0.0229\n",
      "Epoch 4/10\n",
      "63/63 [==============================] - 0s 3ms/step - loss: 0.2189 - precision: 0.0000e+00 - recall: 0.0000e+00 - auc: 0.2497\n",
      "Epoch 5/10\n",
      "63/63 [==============================] - 0s 4ms/step - loss: 0.1508 - precision: 1.0000 - recall: 0.1417 - auc: 0.5160\n",
      "Epoch 6/10\n",
      "63/63 [==============================] - 0s 3ms/step - loss: 0.1030 - precision: 1.0000 - recall: 0.3208 - auc: 0.7864\n",
      "Epoch 7/10\n",
      "63/63 [==============================] - 0s 3ms/step - loss: 0.0748 - precision: 1.0000 - recall: 0.4583 - auc: 0.9138\n",
      "Epoch 8/10\n",
      "63/63 [==============================] - 0s 4ms/step - loss: 0.0580 - precision: 1.0000 - recall: 0.5083 - auc: 0.9514\n",
      "Epoch 9/10\n",
      "63/63 [==============================] - 0s 4ms/step - loss: 0.0478 - precision: 1.0000 - recall: 0.5667 - auc: 0.9688\n",
      "Epoch 10/10\n",
      "63/63 [==============================] - 0s 3ms/step - loss: 0.0404 - precision: 1.0000 - recall: 0.6375 - auc: 0.9740\n"
     ]
    },
    {
     "data": {
      "text/plain": [
       "<tensorflow.python.keras.callbacks.History at 0x7fd797854850>"
      ]
     },
     "execution_count": 156,
     "metadata": {},
     "output_type": "execute_result"
    }
   ],
   "source": [
    "base_model = keras.Sequential(\n",
    "    [layers.Input(X.shape[1]),\n",
    "    layers.Dense(16, activation=\"relu\"),\n",
    "    layers.Dense(8, activation=\"relu\"),\n",
    "    layers.Dense(1, activation=\"sigmoid\")]\n",
    ")\n",
    "\n",
    "precision = tf.keras.metrics.Precision()\n",
    "recall = tf.keras.metrics.Recall()\n",
    "auc = tf.keras.metrics.AUC()\n",
    "\n",
    "base_model.compile(optimizer=\"adam\", loss=\"binary_crossentropy\",\n",
    "                  metrics=[precision, recall, auc]\n",
    "                  )\n",
    "\n",
    "base_model.fit(x=X_train, \n",
    "               y=y_train,\n",
    "               epochs=10,\n",
    "               batch_size=128,\n",
    "               #validation_data=(X_val, y_val)\n",
    "          )"
   ]
  },
  {
   "cell_type": "code",
   "execution_count": 107,
   "metadata": {},
   "outputs": [
    {
     "name": "stdout",
     "output_type": "stream",
     "text": [
      "Model: \"sequential_20\"\n",
      "_________________________________________________________________\n",
      "Layer (type)                 Output Shape              Param #   \n",
      "=================================================================\n",
      "dense_57 (Dense)             (None, 29)                870       \n",
      "_________________________________________________________________\n",
      "dense_58 (Dense)             (None, 16)                480       \n",
      "_________________________________________________________________\n",
      "dense_59 (Dense)             (None, 8)                 136       \n",
      "_________________________________________________________________\n",
      "dense_60 (Dense)             (None, 1)                 9         \n",
      "=================================================================\n",
      "Total params: 1,495\n",
      "Trainable params: 1,495\n",
      "Non-trainable params: 0\n",
      "_________________________________________________________________\n"
     ]
    }
   ],
   "source": [
    "base_model.summary()"
   ]
  },
  {
   "cell_type": "code",
   "execution_count": 157,
   "metadata": {},
   "outputs": [
    {
     "name": "stdout",
     "output_type": "stream",
     "text": [
      "              precision    recall  f1-score   support\n",
      "\n",
      "         0.0       0.99      1.00      0.99      1940\n",
      "         1.0       1.00      0.63      0.78        60\n",
      "\n",
      "    accuracy                           0.99      2000\n",
      "   macro avg       0.99      0.82      0.88      2000\n",
      "weighted avg       0.99      0.99      0.99      2000\n",
      "\n"
     ]
    },
    {
     "data": {
      "image/png": "[encoded data removed]",
      "text/plain": [
       "<Figure size 432x288 with 1 Axes>"
      ]
     },
     "metadata": {
      "needs_background": "light"
     },
     "output_type": "display_data"
    }
   ],
   "source": [
    "y_pred_prob = base_model.predict(X_test)\n",
    "y_pred = np.where(y_pred_prob > 0.5, 1, 0)\n",
    "\n",
    "from sklearn.metrics import classification_report, roc_curve, roc_auc_score\n",
    "\n",
    "cr = classification_report(y_test, y_pred)\n",
    "print(cr)\n",
    "\n",
    "fpr, tpr, thresholds = roc_curve(y_test, y_pred_prob)\n",
    "rocauc = roc_auc_score(y_test, y_pred_prob)\n",
    "\n",
    "plt.figure()\n",
    "plt.plot(fpr, tpr, label=\"ROC-AUC curve\")\n",
    "plt.legend()\n",
    "plt.title(f\"ROC-AUC score {np.round(rocauc, 2)}\")\n",
    "sns.despine()\n",
    "plt.show()"
   ]
  },
  {
   "cell_type": "markdown",
   "metadata": {},
   "source": [
    "## Autoencoder pretraining "
   ]
  },
  {
   "cell_type": "code",
   "execution_count": 210,
   "metadata": {},
   "outputs": [],
   "source": [
    "encoder = keras.Sequential(\n",
    "    [layers.Input(27),\n",
    "    layers.Dense(16, activation=\"relu\"),]\n",
    ")\n",
    "\n",
    "decoder = keras.Sequential(\n",
    "    [layers.Dense(27, activation=\"linear\")]\n",
    ")\n",
    "\n",
    "ae_model = keras.Sequential(\n",
    "    [encoder, decoder]\n",
    ")"
   ]
  },
  {
   "cell_type": "code",
   "execution_count": 211,
   "metadata": {},
   "outputs": [
    {
     "name": "stdout",
     "output_type": "stream",
     "text": [
      "Epoch 1/10\n",
      "313/313 [==============================] - 1s 2ms/step - loss: 0.0079 - mse: 0.0079\n",
      "Epoch 2/10\n",
      "313/313 [==============================] - 1s 2ms/step - loss: 9.6349e-04 - mse: 9.6349e-04\n",
      "Epoch 3/10\n",
      "313/313 [==============================] - 1s 2ms/step - loss: 4.8645e-04 - mse: 4.8645e-04\n",
      "Epoch 4/10\n",
      "313/313 [==============================] - 1s 2ms/step - loss: 3.5015e-04 - mse: 3.5015e-04\n",
      "Epoch 5/10\n",
      "313/313 [==============================] - 1s 2ms/step - loss: 2.8862e-04 - mse: 2.8862e-04\n",
      "Epoch 6/10\n",
      "254/313 [=======================>......] - ETA: 0s - loss: 2.3274e-04 - mse: 2.3274e-04"
     ]
    },
    {
     "ename": "KeyboardInterrupt",
     "evalue": "",
     "output_type": "error",
     "traceback": [
      "\u001b[0;31m---------------------------------------------------------------------------\u001b[0m",
      "\u001b[0;31mKeyboardInterrupt\u001b[0m                         Traceback (most recent call last)",
      "\u001b[0;32m<ipython-input-211-3c49f5c61f3d>\u001b[0m in \u001b[0;36m<module>\u001b[0;34m\u001b[0m\n\u001b[1;32m      6\u001b[0m              \u001b[0my\u001b[0m\u001b[0;34m=\u001b[0m\u001b[0mX_train\u001b[0m\u001b[0;34m,\u001b[0m\u001b[0;34m\u001b[0m\u001b[0;34m\u001b[0m\u001b[0m\n\u001b[1;32m      7\u001b[0m              \u001b[0mepochs\u001b[0m\u001b[0;34m=\u001b[0m\u001b[0;36m10\u001b[0m\u001b[0;34m,\u001b[0m\u001b[0;34m\u001b[0m\u001b[0;34m\u001b[0m\u001b[0m\n\u001b[0;32m----> 8\u001b[0;31m              \u001b[0mbatch_size\u001b[0m\u001b[0;34m=\u001b[0m\u001b[0;36m128\u001b[0m\u001b[0;34m,\u001b[0m\u001b[0;34m\u001b[0m\u001b[0;34m\u001b[0m\u001b[0m\n\u001b[0m\u001b[1;32m      9\u001b[0m             \u001b[0;31m# validation_data=(X_val, X_val)\u001b[0m\u001b[0;34m\u001b[0m\u001b[0;34m\u001b[0m\u001b[0;34m\u001b[0m\u001b[0m\n\u001b[1;32m     10\u001b[0m           )\n",
      "\u001b[0;32m~/anaconda3/envs/deeplearning/lib/python3.7/site-packages/tensorflow/python/keras/engine/training.py\u001b[0m in \u001b[0;36m_method_wrapper\u001b[0;34m(self, *args, **kwargs)\u001b[0m\n\u001b[1;32m    106\u001b[0m   \u001b[0;32mdef\u001b[0m \u001b[0m_method_wrapper\u001b[0m\u001b[0;34m(\u001b[0m\u001b[0mself\u001b[0m\u001b[0;34m,\u001b[0m \u001b[0;34m*\u001b[0m\u001b[0margs\u001b[0m\u001b[0;34m,\u001b[0m \u001b[0;34m**\u001b[0m\u001b[0mkwargs\u001b[0m\u001b[0;34m)\u001b[0m\u001b[0;34m:\u001b[0m\u001b[0;34m\u001b[0m\u001b[0;34m\u001b[0m\u001b[0m\n\u001b[1;32m    107\u001b[0m     \u001b[0;32mif\u001b[0m \u001b[0;32mnot\u001b[0m \u001b[0mself\u001b[0m\u001b[0;34m.\u001b[0m\u001b[0m_in_multi_worker_mode\u001b[0m\u001b[0;34m(\u001b[0m\u001b[0;34m)\u001b[0m\u001b[0;34m:\u001b[0m  \u001b[0;31m# pylint: disable=protected-access\u001b[0m\u001b[0;34m\u001b[0m\u001b[0;34m\u001b[0m\u001b[0m\n\u001b[0;32m--> 108\u001b[0;31m       \u001b[0;32mreturn\u001b[0m \u001b[0mmethod\u001b[0m\u001b[0;34m(\u001b[0m\u001b[0mself\u001b[0m\u001b[0;34m,\u001b[0m \u001b[0;34m*\u001b[0m\u001b[0margs\u001b[0m\u001b[0;34m,\u001b[0m \u001b[0;34m**\u001b[0m\u001b[0mkwargs\u001b[0m\u001b[0;34m)\u001b[0m\u001b[0;34m\u001b[0m\u001b[0;34m\u001b[0m\u001b[0m\n\u001b[0m\u001b[1;32m    109\u001b[0m \u001b[0;34m\u001b[0m\u001b[0m\n\u001b[1;32m    110\u001b[0m     \u001b[0;31m# Running inside `run_distribute_coordinator` already.\u001b[0m\u001b[0;34m\u001b[0m\u001b[0;34m\u001b[0m\u001b[0;34m\u001b[0m\u001b[0m\n",
      "\u001b[0;32m~/anaconda3/envs/deeplearning/lib/python3.7/site-packages/tensorflow/python/keras/engine/training.py\u001b[0m in \u001b[0;36mfit\u001b[0;34m(self, x, y, batch_size, epochs, verbose, callbacks, validation_split, validation_data, shuffle, class_weight, sample_weight, initial_epoch, steps_per_epoch, validation_steps, validation_batch_size, validation_freq, max_queue_size, workers, use_multiprocessing)\u001b[0m\n\u001b[1;32m   1096\u001b[0m                 batch_size=batch_size):\n\u001b[1;32m   1097\u001b[0m               \u001b[0mcallbacks\u001b[0m\u001b[0;34m.\u001b[0m\u001b[0mon_train_batch_begin\u001b[0m\u001b[0;34m(\u001b[0m\u001b[0mstep\u001b[0m\u001b[0;34m)\u001b[0m\u001b[0;34m\u001b[0m\u001b[0;34m\u001b[0m\u001b[0m\n\u001b[0;32m-> 1098\u001b[0;31m               \u001b[0mtmp_logs\u001b[0m \u001b[0;34m=\u001b[0m \u001b[0mtrain_function\u001b[0m\u001b[0;34m(\u001b[0m\u001b[0miterator\u001b[0m\u001b[0;34m)\u001b[0m\u001b[0;34m\u001b[0m\u001b[0;34m\u001b[0m\u001b[0m\n\u001b[0m\u001b[1;32m   1099\u001b[0m               \u001b[0;32mif\u001b[0m \u001b[0mdata_handler\u001b[0m\u001b[0;34m.\u001b[0m\u001b[0mshould_sync\u001b[0m\u001b[0;34m:\u001b[0m\u001b[0;34m\u001b[0m\u001b[0;34m\u001b[0m\u001b[0m\n\u001b[1;32m   1100\u001b[0m                 \u001b[0mcontext\u001b[0m\u001b[0;34m.\u001b[0m\u001b[0masync_wait\u001b[0m\u001b[0;34m(\u001b[0m\u001b[0;34m)\u001b[0m\u001b[0;34m\u001b[0m\u001b[0;34m\u001b[0m\u001b[0m\n",
      "\u001b[0;32m~/anaconda3/envs/deeplearning/lib/python3.7/site-packages/tensorflow/python/eager/def_function.py\u001b[0m in \u001b[0;36m__call__\u001b[0;34m(self, *args, **kwds)\u001b[0m\n\u001b[1;32m    778\u001b[0m       \u001b[0;32melse\u001b[0m\u001b[0;34m:\u001b[0m\u001b[0;34m\u001b[0m\u001b[0;34m\u001b[0m\u001b[0m\n\u001b[1;32m    779\u001b[0m         \u001b[0mcompiler\u001b[0m \u001b[0;34m=\u001b[0m \u001b[0;34m\"nonXla\"\u001b[0m\u001b[0;34m\u001b[0m\u001b[0;34m\u001b[0m\u001b[0m\n\u001b[0;32m--> 780\u001b[0;31m         \u001b[0mresult\u001b[0m \u001b[0;34m=\u001b[0m \u001b[0mself\u001b[0m\u001b[0;34m.\u001b[0m\u001b[0m_call\u001b[0m\u001b[0;34m(\u001b[0m\u001b[0;34m*\u001b[0m\u001b[0margs\u001b[0m\u001b[0;34m,\u001b[0m \u001b[0;34m**\u001b[0m\u001b[0mkwds\u001b[0m\u001b[0;34m)\u001b[0m\u001b[0;34m\u001b[0m\u001b[0;34m\u001b[0m\u001b[0m\n\u001b[0m\u001b[1;32m    781\u001b[0m \u001b[0;34m\u001b[0m\u001b[0m\n\u001b[1;32m    782\u001b[0m       \u001b[0mnew_tracing_count\u001b[0m \u001b[0;34m=\u001b[0m \u001b[0mself\u001b[0m\u001b[0;34m.\u001b[0m\u001b[0m_get_tracing_count\u001b[0m\u001b[0;34m(\u001b[0m\u001b[0;34m)\u001b[0m\u001b[0;34m\u001b[0m\u001b[0;34m\u001b[0m\u001b[0m\n",
      "\u001b[0;32m~/anaconda3/envs/deeplearning/lib/python3.7/site-packages/tensorflow/python/eager/def_function.py\u001b[0m in \u001b[0;36m_call\u001b[0;34m(self, *args, **kwds)\u001b[0m\n\u001b[1;32m    805\u001b[0m       \u001b[0;31m# In this case we have created variables on the first call, so we run the\u001b[0m\u001b[0;34m\u001b[0m\u001b[0;34m\u001b[0m\u001b[0;34m\u001b[0m\u001b[0m\n\u001b[1;32m    806\u001b[0m       \u001b[0;31m# defunned version which is guaranteed to never create variables.\u001b[0m\u001b[0;34m\u001b[0m\u001b[0;34m\u001b[0m\u001b[0;34m\u001b[0m\u001b[0m\n\u001b[0;32m--> 807\u001b[0;31m       \u001b[0;32mreturn\u001b[0m \u001b[0mself\u001b[0m\u001b[0;34m.\u001b[0m\u001b[0m_stateless_fn\u001b[0m\u001b[0;34m(\u001b[0m\u001b[0;34m*\u001b[0m\u001b[0margs\u001b[0m\u001b[0;34m,\u001b[0m \u001b[0;34m**\u001b[0m\u001b[0mkwds\u001b[0m\u001b[0;34m)\u001b[0m  \u001b[0;31m# pylint: disable=not-callable\u001b[0m\u001b[0;34m\u001b[0m\u001b[0;34m\u001b[0m\u001b[0m\n\u001b[0m\u001b[1;32m    808\u001b[0m     \u001b[0;32melif\u001b[0m \u001b[0mself\u001b[0m\u001b[0;34m.\u001b[0m\u001b[0m_stateful_fn\u001b[0m \u001b[0;32mis\u001b[0m \u001b[0;32mnot\u001b[0m \u001b[0;32mNone\u001b[0m\u001b[0;34m:\u001b[0m\u001b[0;34m\u001b[0m\u001b[0;34m\u001b[0m\u001b[0m\n\u001b[1;32m    809\u001b[0m       \u001b[0;31m# Release the lock early so that multiple threads can perform the call\u001b[0m\u001b[0;34m\u001b[0m\u001b[0;34m\u001b[0m\u001b[0;34m\u001b[0m\u001b[0m\n",
      "\u001b[0;32m~/anaconda3/envs/deeplearning/lib/python3.7/site-packages/tensorflow/python/eager/function.py\u001b[0m in \u001b[0;36m__call__\u001b[0;34m(self, *args, **kwargs)\u001b[0m\n\u001b[1;32m   2827\u001b[0m     \u001b[0;32mwith\u001b[0m \u001b[0mself\u001b[0m\u001b[0;34m.\u001b[0m\u001b[0m_lock\u001b[0m\u001b[0;34m:\u001b[0m\u001b[0;34m\u001b[0m\u001b[0;34m\u001b[0m\u001b[0m\n\u001b[1;32m   2828\u001b[0m       \u001b[0mgraph_function\u001b[0m\u001b[0;34m,\u001b[0m \u001b[0margs\u001b[0m\u001b[0;34m,\u001b[0m \u001b[0mkwargs\u001b[0m \u001b[0;34m=\u001b[0m \u001b[0mself\u001b[0m\u001b[0;34m.\u001b[0m\u001b[0m_maybe_define_function\u001b[0m\u001b[0;34m(\u001b[0m\u001b[0margs\u001b[0m\u001b[0;34m,\u001b[0m \u001b[0mkwargs\u001b[0m\u001b[0;34m)\u001b[0m\u001b[0;34m\u001b[0m\u001b[0;34m\u001b[0m\u001b[0m\n\u001b[0;32m-> 2829\u001b[0;31m     \u001b[0;32mreturn\u001b[0m \u001b[0mgraph_function\u001b[0m\u001b[0;34m.\u001b[0m\u001b[0m_filtered_call\u001b[0m\u001b[0;34m(\u001b[0m\u001b[0margs\u001b[0m\u001b[0;34m,\u001b[0m \u001b[0mkwargs\u001b[0m\u001b[0;34m)\u001b[0m  \u001b[0;31m# pylint: disable=protected-access\u001b[0m\u001b[0;34m\u001b[0m\u001b[0;34m\u001b[0m\u001b[0m\n\u001b[0m\u001b[1;32m   2830\u001b[0m \u001b[0;34m\u001b[0m\u001b[0m\n\u001b[1;32m   2831\u001b[0m   \u001b[0;34m@\u001b[0m\u001b[0mproperty\u001b[0m\u001b[0;34m\u001b[0m\u001b[0;34m\u001b[0m\u001b[0m\n",
      "\u001b[0;32m~/anaconda3/envs/deeplearning/lib/python3.7/site-packages/tensorflow/python/eager/function.py\u001b[0m in \u001b[0;36m_filtered_call\u001b[0;34m(self, args, kwargs, cancellation_manager)\u001b[0m\n\u001b[1;32m   1846\u001b[0m                            resource_variable_ops.BaseResourceVariable))],\n\u001b[1;32m   1847\u001b[0m         \u001b[0mcaptured_inputs\u001b[0m\u001b[0;34m=\u001b[0m\u001b[0mself\u001b[0m\u001b[0;34m.\u001b[0m\u001b[0mcaptured_inputs\u001b[0m\u001b[0;34m,\u001b[0m\u001b[0;34m\u001b[0m\u001b[0;34m\u001b[0m\u001b[0m\n\u001b[0;32m-> 1848\u001b[0;31m         cancellation_manager=cancellation_manager)\n\u001b[0m\u001b[1;32m   1849\u001b[0m \u001b[0;34m\u001b[0m\u001b[0m\n\u001b[1;32m   1850\u001b[0m   \u001b[0;32mdef\u001b[0m \u001b[0m_call_flat\u001b[0m\u001b[0;34m(\u001b[0m\u001b[0mself\u001b[0m\u001b[0;34m,\u001b[0m \u001b[0margs\u001b[0m\u001b[0;34m,\u001b[0m \u001b[0mcaptured_inputs\u001b[0m\u001b[0;34m,\u001b[0m \u001b[0mcancellation_manager\u001b[0m\u001b[0;34m=\u001b[0m\u001b[0;32mNone\u001b[0m\u001b[0;34m)\u001b[0m\u001b[0;34m:\u001b[0m\u001b[0;34m\u001b[0m\u001b[0;34m\u001b[0m\u001b[0m\n",
      "\u001b[0;32m~/anaconda3/envs/deeplearning/lib/python3.7/site-packages/tensorflow/python/eager/function.py\u001b[0m in \u001b[0;36m_call_flat\u001b[0;34m(self, args, captured_inputs, cancellation_manager)\u001b[0m\n\u001b[1;32m   1922\u001b[0m       \u001b[0;31m# No tape is watching; skip to running the function.\u001b[0m\u001b[0;34m\u001b[0m\u001b[0;34m\u001b[0m\u001b[0;34m\u001b[0m\u001b[0m\n\u001b[1;32m   1923\u001b[0m       return self._build_call_outputs(self._inference_function.call(\n\u001b[0;32m-> 1924\u001b[0;31m           ctx, args, cancellation_manager=cancellation_manager))\n\u001b[0m\u001b[1;32m   1925\u001b[0m     forward_backward = self._select_forward_and_backward_functions(\n\u001b[1;32m   1926\u001b[0m         \u001b[0margs\u001b[0m\u001b[0;34m,\u001b[0m\u001b[0;34m\u001b[0m\u001b[0;34m\u001b[0m\u001b[0m\n",
      "\u001b[0;32m~/anaconda3/envs/deeplearning/lib/python3.7/site-packages/tensorflow/python/eager/function.py\u001b[0m in \u001b[0;36mcall\u001b[0;34m(self, ctx, args, cancellation_manager)\u001b[0m\n\u001b[1;32m    548\u001b[0m               \u001b[0minputs\u001b[0m\u001b[0;34m=\u001b[0m\u001b[0margs\u001b[0m\u001b[0;34m,\u001b[0m\u001b[0;34m\u001b[0m\u001b[0;34m\u001b[0m\u001b[0m\n\u001b[1;32m    549\u001b[0m               \u001b[0mattrs\u001b[0m\u001b[0;34m=\u001b[0m\u001b[0mattrs\u001b[0m\u001b[0;34m,\u001b[0m\u001b[0;34m\u001b[0m\u001b[0;34m\u001b[0m\u001b[0m\n\u001b[0;32m--> 550\u001b[0;31m               ctx=ctx)\n\u001b[0m\u001b[1;32m    551\u001b[0m         \u001b[0;32melse\u001b[0m\u001b[0;34m:\u001b[0m\u001b[0;34m\u001b[0m\u001b[0;34m\u001b[0m\u001b[0m\n\u001b[1;32m    552\u001b[0m           outputs = execute.execute_with_cancellation(\n",
      "\u001b[0;32m~/anaconda3/envs/deeplearning/lib/python3.7/site-packages/tensorflow/python/eager/execute.py\u001b[0m in \u001b[0;36mquick_execute\u001b[0;34m(op_name, num_outputs, inputs, attrs, ctx, name)\u001b[0m\n\u001b[1;32m     58\u001b[0m     \u001b[0mctx\u001b[0m\u001b[0;34m.\u001b[0m\u001b[0mensure_initialized\u001b[0m\u001b[0;34m(\u001b[0m\u001b[0;34m)\u001b[0m\u001b[0;34m\u001b[0m\u001b[0;34m\u001b[0m\u001b[0m\n\u001b[1;32m     59\u001b[0m     tensors = pywrap_tfe.TFE_Py_Execute(ctx._handle, device_name, op_name,\n\u001b[0;32m---> 60\u001b[0;31m                                         inputs, attrs, num_outputs)\n\u001b[0m\u001b[1;32m     61\u001b[0m   \u001b[0;32mexcept\u001b[0m \u001b[0mcore\u001b[0m\u001b[0;34m.\u001b[0m\u001b[0m_NotOkStatusException\u001b[0m \u001b[0;32mas\u001b[0m \u001b[0me\u001b[0m\u001b[0;34m:\u001b[0m\u001b[0;34m\u001b[0m\u001b[0;34m\u001b[0m\u001b[0m\n\u001b[1;32m     62\u001b[0m     \u001b[0;32mif\u001b[0m \u001b[0mname\u001b[0m \u001b[0;32mis\u001b[0m \u001b[0;32mnot\u001b[0m \u001b[0;32mNone\u001b[0m\u001b[0;34m:\u001b[0m\u001b[0;34m\u001b[0m\u001b[0;34m\u001b[0m\u001b[0m\n",
      "\u001b[0;31mKeyboardInterrupt\u001b[0m: "
     ]
    }
   ],
   "source": [
    "ae_model.compile(optimizer=\"adam\", loss=keras.losses.MeanSquaredError(),\n",
    "                  metrics=[\"mse\"]\n",
    "                  )\n",
    "\n",
    "ae_model.fit(x=X_train, \n",
    "             y=X_train,\n",
    "             epochs=10,\n",
    "             batch_size=128,\n",
    "            # validation_data=(X_val, X_val)\n",
    "          )"
   ]
  },
  {
   "cell_type": "code",
   "execution_count": null,
   "metadata": {},
   "outputs": [],
   "source": [
    "latent_data = encoder.predict(X_test[:10000])\n",
    "\n",
    "tsne = TSNE(n_components=2)\n",
    "tsne_data = tsne.fit_transform(latent_data)"
   ]
  },
  {
   "cell_type": "code",
   "execution_count": 134,
   "metadata": {},
   "outputs": [
    {
     "data": {
      "image/png": "[encoded data removed]",
      "text/plain": [
       "<Figure size 432x288 with 1 Axes>"
      ]
     },
     "metadata": {
      "needs_background": "light"
     },
     "output_type": "display_data"
    }
   ],
   "source": [
    "labels = y_test[:10000].reshape(-1)\n",
    "\n",
    "plt.figure()\n",
    "plt.scatter(tsne_data[labels == 0, 0], \n",
    "            tsne_data[labels == 0, 1], c=\"grey\", alpha=0.1, label=\"legit\")\n",
    "plt.scatter(tsne_data[labels == 1, 0], \n",
    "            tsne_data[labels == 1, 1], c=\"crimson\", alpha=1, label=\"fraud\")\n",
    "plt.legend()\n",
    "sns.despine()\n",
    "plt.title(\"Latent representation of fraudulent claims\")\n",
    "plt.show()"
   ]
  },
  {
   "cell_type": "markdown",
   "metadata": {},
   "source": [
    "## Using the pretrained model to boost preformance"
   ]
  },
  {
   "cell_type": "code",
   "execution_count": 110,
   "metadata": {},
   "outputs": [
    {
     "name": "stdout",
     "output_type": "stream",
     "text": [
      "Epoch 1/10\n",
      "1425/1425 [==============================] - 7s 5ms/step - loss: 0.0766 - precision_14: 0.0317 - recall_14: 0.2386 - auc_14: 0.6939 - val_loss: 0.0049 - val_precision_14: 0.8095 - val_recall_14: 0.6456 - val_auc_14: 0.9091\n",
      "Epoch 2/10\n",
      "1425/1425 [==============================] - 5s 4ms/step - loss: 0.0053 - precision_14: 0.8718 - recall_14: 0.5397 - auc_14: 0.8997 - val_loss: 0.0044 - val_precision_14: 0.8387 - val_recall_14: 0.6582 - val_auc_14: 0.9228\n",
      "Epoch 3/10\n",
      "1425/1425 [==============================] - 7s 5ms/step - loss: 0.0049 - precision_14: 0.8517 - recall_14: 0.5651 - auc_14: 0.8984 - val_loss: 0.0053 - val_precision_14: 0.7632 - val_recall_14: 0.7342 - val_auc_14: 0.9268\n",
      "Epoch 4/10\n",
      "1425/1425 [==============================] - 7s 5ms/step - loss: 0.0047 - precision_14: 0.8832 - recall_14: 0.6000 - auc_14: 0.8982 - val_loss: 0.0044 - val_precision_14: 0.8182 - val_recall_14: 0.6835 - val_auc_14: 0.9287\n",
      "Epoch 5/10\n",
      "1425/1425 [==============================] - 8s 5ms/step - loss: 0.0045 - precision_14: 0.8744 - recall_14: 0.6190 - auc_14: 0.9031 - val_loss: 0.0043 - val_precision_14: 0.8182 - val_recall_14: 0.6835 - val_auc_14: 0.9105\n",
      "Epoch 6/10\n",
      "1425/1425 [==============================] - 8s 5ms/step - loss: 0.0044 - precision_14: 0.8684 - recall_14: 0.6286 - auc_14: 0.9063 - val_loss: 0.0042 - val_precision_14: 0.8235 - val_recall_14: 0.7089 - val_auc_14: 0.9290\n",
      "Epoch 7/10\n",
      "1425/1425 [==============================] - 8s 5ms/step - loss: 0.0043 - precision_14: 0.8675 - recall_14: 0.6444 - auc_14: 0.9062 - val_loss: 0.0045 - val_precision_14: 0.7534 - val_recall_14: 0.6962 - val_auc_14: 0.9278\n",
      "Epoch 8/10\n",
      "1425/1425 [==============================] - 8s 5ms/step - loss: 0.0042 - precision_14: 0.8542 - recall_14: 0.6508 - auc_14: 0.9095 - val_loss: 0.0044 - val_precision_14: 0.8261 - val_recall_14: 0.7215 - val_auc_14: 0.9277\n",
      "Epoch 9/10\n",
      "1425/1425 [==============================] - 8s 5ms/step - loss: 0.0042 - precision_14: 0.8661 - recall_14: 0.6571 - auc_14: 0.9080 - val_loss: 0.0042 - val_precision_14: 0.7857 - val_recall_14: 0.6962 - val_auc_14: 0.9101\n",
      "Epoch 10/10\n",
      "1425/1425 [==============================] - 8s 5ms/step - loss: 0.0041 - precision_14: 0.8655 - recall_14: 0.6540 - auc_14: 0.9222 - val_loss: 0.0043 - val_precision_14: 0.8235 - val_recall_14: 0.7089 - val_auc_14: 0.9108\n"
     ]
    },
    {
     "data": {
      "text/plain": [
       "<tensorflow.python.keras.callbacks.History at 0x7f958b776f90>"
      ]
     },
     "execution_count": 110,
     "metadata": {},
     "output_type": "execute_result"
    }
   ],
   "source": [
    "# copy encoder\n",
    "pretrained_encoder = tf.keras.models.clone_model(encoder)\n",
    "\n",
    "# freeze encoder layers -> we use the latent representations only \n",
    "for layer in pretrained_encoder.layers:\n",
    "    layer.trainable = False\n",
    "\n",
    "# add the same type of model and match the number of trainable parameters\n",
    "pretrained_model = keras.Sequential(\n",
    "    [pretrained_encoder, \n",
    "     layers.Dense(32, activation=\"relu\"),\n",
    "     layers.Dense(16, activation=\"relu\"),\n",
    "     layers.Dense(8, activation=\"relu\"),\n",
    "     layers.Dense(1, activation=\"sigmoid\")]\n",
    ")\n",
    "\n",
    "pretrained_model.compile(optimizer=keras.optimizers.Adam(learning_rate=0.001),\n",
    "                   loss=\"binary_crossentropy\",\n",
    "                   metrics=[precision, recall, auc]\n",
    "                  )\n",
    "\n",
    "pretrained_model.fit(x=X_train, \n",
    "                     y=y_train,\n",
    "                     epochs=10,\n",
    "                     batch_size=128,\n",
    "                     validation_data=(X_val, y_val)\n",
    "          )"
   ]
  },
  {
   "cell_type": "code",
   "execution_count": 111,
   "metadata": {},
   "outputs": [
    {
     "name": "stdout",
     "output_type": "stream",
     "text": [
      "Model: \"sequential_23\"\n",
      "_________________________________________________________________\n",
      "Layer (type)                 Output Shape              Param #   \n",
      "=================================================================\n",
      "sequential_14 (Sequential)   (None, 8)                 1486      \n",
      "_________________________________________________________________\n",
      "dense_66 (Dense)             (None, 32)                288       \n",
      "_________________________________________________________________\n",
      "dense_67 (Dense)             (None, 16)                528       \n",
      "_________________________________________________________________\n",
      "dense_68 (Dense)             (None, 8)                 136       \n",
      "_________________________________________________________________\n",
      "dense_69 (Dense)             (None, 1)                 9         \n",
      "=================================================================\n",
      "Total params: 2,447\n",
      "Trainable params: 961\n",
      "Non-trainable params: 1,486\n",
      "_________________________________________________________________\n"
     ]
    }
   ],
   "source": [
    "pretrained_model.summary()"
   ]
  },
  {
   "cell_type": "code",
   "execution_count": 112,
   "metadata": {},
   "outputs": [
    {
     "name": "stdout",
     "output_type": "stream",
     "text": [
      "              precision    recall  f1-score   support\n",
      "\n",
      "           0       1.00      1.00      1.00     56864\n",
      "           1       0.82      0.60      0.69        98\n",
      "\n",
      "    accuracy                           1.00     56962\n",
      "   macro avg       0.91      0.80      0.85     56962\n",
      "weighted avg       1.00      1.00      1.00     56962\n",
      "\n"
     ]
    },
    {
     "data": {
      "image/png": "[encoded data removed]",
      "text/plain": [
       "<Figure size 432x288 with 1 Axes>"
      ]
     },
     "metadata": {
      "needs_background": "light"
     },
     "output_type": "display_data"
    }
   ],
   "source": [
    "y_pred_prob = pretrained_model.predict(X_test)\n",
    "y_pred = np.where(y_pred_prob > 0.5, 1, 0)\n",
    "\n",
    "cr = classification_report(y_test, y_pred)\n",
    "print(cr)\n",
    "\n",
    "fpr, tpr, thresholds = roc_curve(y_test, y_pred_prob)\n",
    "rocauc = roc_auc_score(y_test, y_pred_prob)\n",
    "\n",
    "plt.figure()\n",
    "plt.plot(fpr, tpr, label=\"ROC-AUC curve\")\n",
    "plt.legend()\n",
    "plt.title(f\"ROC-AUC score {np.round(rocauc, 2)}\")\n",
    "sns.despine()\n",
    "plt.show()"
   ]
  },
  {
   "cell_type": "markdown",
   "metadata": {},
   "source": [
    "## Setup with insufficient labeled data"
   ]
  },
  {
   "cell_type": "code",
   "execution_count": 2,
   "metadata": {},
   "outputs": [],
   "source": [
    "from sklearn.model_selection import train_test_split"
   ]
  },
  {
   "cell_type": "code",
   "execution_count": 8,
   "metadata": {},
   "outputs": [],
   "source": [
    "(x_train, y_train), (x_test, y_test) = keras.datasets.mnist.load_data()"
   ]
  },
  {
   "cell_type": "code",
   "execution_count": 9,
   "metadata": {},
   "outputs": [],
   "source": [
    "# data spec\n",
    "labeled_size = 1000\n",
    "unlabeled_size = 10_000 \n",
    "test_sample_size = 10_000\n",
    "\n",
    "x_labeled = x_train[:labeled_size]\n",
    "y_labeled = y_train[:labeled_size]\n",
    "\n",
    "x_unlabeled = x_train[labeled_size:labeled_size+unlabeled_size]\n",
    "\n",
    "x_test_sample = x_test[:test_sample_size]\n",
    "y_test_sample = y_test[:test_sample_size]\n",
    "\n",
    "x_labeled = np.expand_dims(x_labeled, -1).astype(\"float32\") / 255\n",
    "x_unlabeled = np.expand_dims(x_unlabeled, -1).astype(\"float32\") / 255\n",
    "x_test_sample = np.expand_dims(x_test_sample, -1).astype(\"float32\") / 255"
   ]
  },
  {
   "cell_type": "markdown",
   "metadata": {},
   "source": [
    "## Model construction "
   ]
  },
  {
   "cell_type": "code",
   "execution_count": 10,
   "metadata": {},
   "outputs": [
    {
     "name": "stdout",
     "output_type": "stream",
     "text": [
      "Model: \"encoder\"\n",
      "_________________________________________________________________\n",
      "Layer (type)                 Output Shape              Param #   \n",
      "=================================================================\n",
      "input_3 (InputLayer)         [(None, 28, 28, 1)]       0         \n",
      "_________________________________________________________________\n",
      "conv2d_2 (Conv2D)            (None, 14, 14, 32)        320       \n",
      "_________________________________________________________________\n",
      "conv2d_3 (Conv2D)            (None, 7, 7, 64)          18496     \n",
      "_________________________________________________________________\n",
      "flatten_1 (Flatten)          (None, 3136)              0         \n",
      "_________________________________________________________________\n",
      "dense_2 (Dense)              (None, 16)                50192     \n",
      "=================================================================\n",
      "Total params: 69,008\n",
      "Trainable params: 69,008\n",
      "Non-trainable params: 0\n",
      "_________________________________________________________________\n"
     ]
    }
   ],
   "source": [
    "latent_dim = 16\n",
    "\n",
    "encoder_inputs = keras.Input(shape=(28, 28, 1))\n",
    "\n",
    "x = layers.Conv2D(32, 3, activation=\"relu\", strides=2, padding=\"same\")(encoder_inputs)\n",
    "x = layers.Conv2D(64, 3, activation=\"relu\", strides=2, padding=\"same\")(x)\n",
    "x = layers.Flatten()(x)\n",
    "z = layers.Dense(latent_dim, activation=\"relu\")(x)\n",
    "\n",
    "encoder = keras.Model(encoder_inputs, z, name=\"encoder\")\n",
    "encoder.summary()"
   ]
  },
  {
   "cell_type": "code",
   "execution_count": 11,
   "metadata": {},
   "outputs": [
    {
     "name": "stdout",
     "output_type": "stream",
     "text": [
      "Model: \"decoder\"\n",
      "_________________________________________________________________\n",
      "Layer (type)                 Output Shape              Param #   \n",
      "=================================================================\n",
      "input_4 (InputLayer)         [(None, 16)]              0         \n",
      "_________________________________________________________________\n",
      "dense_3 (Dense)              (None, 3136)              53312     \n",
      "_________________________________________________________________\n",
      "reshape_1 (Reshape)          (None, 7, 7, 64)          0         \n",
      "_________________________________________________________________\n",
      "conv2d_transpose_3 (Conv2DTr (None, 14, 14, 64)        36928     \n",
      "_________________________________________________________________\n",
      "conv2d_transpose_4 (Conv2DTr (None, 28, 28, 32)        18464     \n",
      "_________________________________________________________________\n",
      "conv2d_transpose_5 (Conv2DTr (None, 28, 28, 1)         289       \n",
      "=================================================================\n",
      "Total params: 108,993\n",
      "Trainable params: 108,993\n",
      "Non-trainable params: 0\n",
      "_________________________________________________________________\n"
     ]
    }
   ],
   "source": [
    "latent_inputs = keras.Input(shape=(latent_dim,))\n",
    "\n",
    "x = layers.Dense(7 * 7 * 64, activation=\"relu\")(latent_inputs)\n",
    "x = layers.Reshape((7, 7, 64))(x)\n",
    "x = layers.Conv2DTranspose(64, 3, activation=\"relu\", strides=2, padding=\"same\")(x)\n",
    "x = layers.Conv2DTranspose(32, 3, activation=\"relu\", strides=2, padding=\"same\")(x)\n",
    "decoder_outputs = layers.Conv2DTranspose(1, 3, activation=\"sigmoid\", padding=\"same\")(x)\n",
    "\n",
    "decoder = keras.Model(latent_inputs, decoder_outputs, name=\"decoder\")\n",
    "\n",
    "decoder.summary()"
   ]
  },
  {
   "cell_type": "code",
   "execution_count": 12,
   "metadata": {},
   "outputs": [],
   "source": [
    "ae_model = keras.Sequential()\n",
    "ae_model.add(encoder)\n",
    "ae_model.add(decoder)"
   ]
  },
  {
   "cell_type": "code",
   "execution_count": 13,
   "metadata": {},
   "outputs": [
    {
     "data": {
      "text/plain": [
       "<tensorflow.python.keras.engine.sequential.Sequential at 0x7fac97d22310>"
      ]
     },
     "execution_count": 13,
     "metadata": {},
     "output_type": "execute_result"
    }
   ],
   "source": [
    "ae_model"
   ]
  },
  {
   "cell_type": "code",
   "execution_count": 14,
   "metadata": {},
   "outputs": [],
   "source": [
    "ae_model.compile(loss=\"mean_squared_error\", \n",
    "                 optimizer=\"adam\", \n",
    "                 metrics=[\"mean_squared_error\"])"
   ]
  },
  {
   "cell_type": "code",
   "execution_count": 15,
   "metadata": {},
   "outputs": [
    {
     "name": "stdout",
     "output_type": "stream",
     "text": [
      "Epoch 1/10\n",
      "86/86 [==============================] - 30s 354ms/step - loss: 0.1051 - mean_squared_error: 0.1051\n",
      "Epoch 2/10\n",
      "86/86 [==============================] - 32s 375ms/step - loss: 0.0520 - mean_squared_error: 0.0520\n",
      "Epoch 3/10\n",
      "86/86 [==============================] - 30s 355ms/step - loss: 0.0276 - mean_squared_error: 0.0276\n",
      "Epoch 4/10\n",
      "86/86 [==============================] - 35s 406ms/step - loss: 0.0208 - mean_squared_error: 0.0208\n",
      "Epoch 5/10\n",
      "86/86 [==============================] - 33s 381ms/step - loss: 0.0184 - mean_squared_error: 0.0184\n",
      "Epoch 6/10\n",
      "86/86 [==============================] - 29s 341ms/step - loss: 0.0168 - mean_squared_error: 0.0168\n",
      "Epoch 7/10\n",
      "86/86 [==============================] - 26s 302ms/step - loss: 0.0158 - mean_squared_error: 0.0158\n",
      "Epoch 8/10\n",
      "86/86 [==============================] - 24s 283ms/step - loss: 0.0150 - mean_squared_error: 0.0150\n",
      "Epoch 9/10\n",
      "86/86 [==============================] - 25s 287ms/step - loss: 0.0144 - mean_squared_error: 0.0144\n",
      "Epoch 10/10\n",
      "86/86 [==============================] - 24s 275ms/step - loss: 0.0139 - mean_squared_error: 0.0139\n"
     ]
    },
    {
     "data": {
      "text/plain": [
       "<tensorflow.python.keras.callbacks.History at 0x7fac91930350>"
      ]
     },
     "execution_count": 15,
     "metadata": {},
     "output_type": "execute_result"
    }
   ],
   "source": [
    "all_train = np.concatenate([x_labeled, x_unlabeled])\n",
    "\n",
    "ae_model.fit(all_train, all_train,\n",
    "             batch_size=128,\n",
    "             epochs = 10)"
   ]
  },
  {
   "cell_type": "markdown",
   "metadata": {},
   "source": [
    "## Freeze the embedding and supervised train"
   ]
  },
  {
   "cell_type": "code",
   "execution_count": 18,
   "metadata": {},
   "outputs": [],
   "source": [
    "for layer in encoder.layers:\n",
    "    layer.trainable = False"
   ]
  },
  {
   "cell_type": "code",
   "execution_count": 19,
   "metadata": {},
   "outputs": [],
   "source": [
    "classifier = keras.Sequential(\n",
    "    [encoder,\n",
    "    layers.Dense(16, activation=\"relu\"),\n",
    "    layers.Dense(16, activation=\"relu\"),\n",
    "    layers.Dense(10, activation=\"softmax\")]\n",
    ")"
   ]
  },
  {
   "cell_type": "code",
   "execution_count": 20,
   "metadata": {},
   "outputs": [
    {
     "name": "stdout",
     "output_type": "stream",
     "text": [
      "Model: \"sequential_3\"\n",
      "_________________________________________________________________\n",
      "Layer (type)                 Output Shape              Param #   \n",
      "=================================================================\n",
      "encoder (Functional)         (None, 16)                69008     \n",
      "_________________________________________________________________\n",
      "dense_7 (Dense)              (None, 16)                272       \n",
      "_________________________________________________________________\n",
      "dense_8 (Dense)              (None, 16)                272       \n",
      "_________________________________________________________________\n",
      "dense_9 (Dense)              (None, 10)                170       \n",
      "=================================================================\n",
      "Total params: 69,722\n",
      "Trainable params: 714\n",
      "Non-trainable params: 69,008\n",
      "_________________________________________________________________\n"
     ]
    }
   ],
   "source": [
    "classifier.summary()"
   ]
  },
  {
   "cell_type": "code",
   "execution_count": 21,
   "metadata": {},
   "outputs": [
    {
     "name": "stdout",
     "output_type": "stream",
     "text": [
      "Epoch 1/30\n",
      "32/32 [==============================] - 0s 7ms/step - loss: 3.7001 - accuracy: 0.1590\n",
      "Epoch 2/30\n",
      "32/32 [==============================] - 0s 7ms/step - loss: 2.5707 - accuracy: 0.2170\n",
      "Epoch 3/30\n",
      "32/32 [==============================] - 0s 8ms/step - loss: 2.1503 - accuracy: 0.2640\n",
      "Epoch 4/30\n",
      "32/32 [==============================] - 0s 7ms/step - loss: 1.9163 - accuracy: 0.3260\n",
      "Epoch 5/30\n",
      "32/32 [==============================] - 0s 7ms/step - loss: 1.7331 - accuracy: 0.3980\n",
      "Epoch 6/30\n",
      "32/32 [==============================] - 0s 7ms/step - loss: 1.5747 - accuracy: 0.4810\n",
      "Epoch 7/30\n",
      "32/32 [==============================] - 0s 9ms/step - loss: 1.4386 - accuracy: 0.5390\n",
      "Epoch 8/30\n",
      "32/32 [==============================] - 0s 9ms/step - loss: 1.3075 - accuracy: 0.5870\n",
      "Epoch 9/30\n",
      "32/32 [==============================] - 0s 9ms/step - loss: 1.1912 - accuracy: 0.6380\n",
      "Epoch 10/30\n",
      "32/32 [==============================] - 0s 8ms/step - loss: 1.0864 - accuracy: 0.6700\n",
      "Epoch 11/30\n",
      "32/32 [==============================] - 0s 9ms/step - loss: 0.9927 - accuracy: 0.6950\n",
      "Epoch 12/30\n",
      "32/32 [==============================] - 0s 8ms/step - loss: 0.9228 - accuracy: 0.7080\n",
      "Epoch 13/30\n",
      "32/32 [==============================] - 0s 8ms/step - loss: 0.8635 - accuracy: 0.7380\n",
      "Epoch 14/30\n",
      "32/32 [==============================] - 0s 8ms/step - loss: 0.8125 - accuracy: 0.7500\n",
      "Epoch 15/30\n",
      "32/32 [==============================] - 0s 8ms/step - loss: 0.7722 - accuracy: 0.7640\n",
      "Epoch 16/30\n",
      "32/32 [==============================] - 0s 8ms/step - loss: 0.7365 - accuracy: 0.7730\n",
      "Epoch 17/30\n",
      "32/32 [==============================] - 0s 8ms/step - loss: 0.7116 - accuracy: 0.7800\n",
      "Epoch 18/30\n",
      "32/32 [==============================] - 0s 8ms/step - loss: 0.6708 - accuracy: 0.8090\n",
      "Epoch 19/30\n",
      "32/32 [==============================] - 0s 8ms/step - loss: 0.6556 - accuracy: 0.7890\n",
      "Epoch 20/30\n",
      "32/32 [==============================] - 0s 8ms/step - loss: 0.6377 - accuracy: 0.7970\n",
      "Epoch 21/30\n",
      "32/32 [==============================] - 0s 8ms/step - loss: 0.6105 - accuracy: 0.8100\n",
      "Epoch 22/30\n",
      "32/32 [==============================] - 0s 8ms/step - loss: 0.5916 - accuracy: 0.8240\n",
      "Epoch 23/30\n",
      "32/32 [==============================] - 0s 8ms/step - loss: 0.5786 - accuracy: 0.8210\n",
      "Epoch 24/30\n",
      "32/32 [==============================] - 0s 8ms/step - loss: 0.5647 - accuracy: 0.8220\n",
      "Epoch 25/30\n",
      "32/32 [==============================] - 0s 8ms/step - loss: 0.5435 - accuracy: 0.8340\n",
      "Epoch 26/30\n",
      "32/32 [==============================] - 0s 8ms/step - loss: 0.5251 - accuracy: 0.8320\n",
      "Epoch 27/30\n",
      "32/32 [==============================] - 0s 8ms/step - loss: 0.5177 - accuracy: 0.8330\n",
      "Epoch 28/30\n",
      "32/32 [==============================] - 0s 8ms/step - loss: 0.5035 - accuracy: 0.8450\n",
      "Epoch 29/30\n",
      "32/32 [==============================] - 0s 9ms/step - loss: 0.4893 - accuracy: 0.8410\n",
      "Epoch 30/30\n",
      "32/32 [==============================] - 0s 9ms/step - loss: 0.4822 - accuracy: 0.8450\n"
     ]
    },
    {
     "data": {
      "text/plain": [
       "<tensorflow.python.keras.callbacks.History at 0x7fac90055a50>"
      ]
     },
     "execution_count": 21,
     "metadata": {},
     "output_type": "execute_result"
    }
   ],
   "source": [
    "classifier.compile(loss=\"sparse_categorical_crossentropy\", \n",
    "                 optimizer=\"adam\", \n",
    "                 metrics=[\"accuracy\"])\n",
    "\n",
    "classifier.fit(x_labeled, y_labeled, batch_size=32, epochs=30, verbose=1)"
   ]
  },
  {
   "cell_type": "code",
   "execution_count": 22,
   "metadata": {},
   "outputs": [],
   "source": [
    "y_pred = classifier.predict(x_test_sample)"
   ]
  },
  {
   "cell_type": "code",
   "execution_count": 23,
   "metadata": {},
   "outputs": [
    {
     "data": {
      "text/plain": [
       "(10000, 10)"
      ]
     },
     "execution_count": 23,
     "metadata": {},
     "output_type": "execute_result"
    }
   ],
   "source": [
    "y_pred.shape"
   ]
  },
  {
   "cell_type": "code",
   "execution_count": 24,
   "metadata": {},
   "outputs": [
    {
     "name": "stdout",
     "output_type": "stream",
     "text": [
      "              precision    recall  f1-score   support\n",
      "\n",
      "           0       0.90      0.93      0.92       980\n",
      "           1       0.93      0.97      0.95      1135\n",
      "           2       0.81      0.88      0.85      1032\n",
      "           3       0.82      0.74      0.78      1010\n",
      "           4       0.85      0.75      0.80       982\n",
      "           5       0.73      0.73      0.73       892\n",
      "           6       0.90      0.87      0.88       958\n",
      "           7       0.86      0.84      0.85      1028\n",
      "           8       0.84      0.75      0.79       974\n",
      "           9       0.70      0.84      0.76      1009\n",
      "\n",
      "    accuracy                           0.83     10000\n",
      "   macro avg       0.83      0.83      0.83     10000\n",
      "weighted avg       0.84      0.83      0.83     10000\n",
      "\n"
     ]
    }
   ],
   "source": [
    "from sklearn.metrics import classification_report\n",
    "\n",
    "report = classification_report(y_test_sample, np.argmax(y_pred, axis=1))\n",
    "print(report)"
   ]
  },
  {
   "cell_type": "markdown",
   "metadata": {},
   "source": [
    "## Comparison with only supervised training "
   ]
  },
  {
   "cell_type": "code",
   "execution_count": 25,
   "metadata": {},
   "outputs": [],
   "source": [
    "encoder_inputs = keras.Input(shape=(28, 28, 1))\n",
    "\n",
    "x = layers.Conv2D(32, 3, activation=\"relu\", strides=2, padding=\"same\")(encoder_inputs)\n",
    "x = layers.Conv2D(64, 3, activation=\"relu\", strides=2, padding=\"same\")(x)\n",
    "x = layers.Flatten()(x)\n",
    "z = layers.Dense(latent_dim, activation=\"relu\")(x)\n",
    "\n",
    "encoder = keras.Model(encoder_inputs, z, name=\"encoder\")\n",
    "\n",
    "base_classifier = keras.Sequential(\n",
    "    [encoder,\n",
    "    layers.Dense(16, activation=\"relu\"),\n",
    "    layers.Dense(16, activation=\"relu\"),\n",
    "    layers.Dense(10, activation=\"softmax\")]\n",
    ")"
   ]
  },
  {
   "cell_type": "code",
   "execution_count": 26,
   "metadata": {},
   "outputs": [
    {
     "name": "stdout",
     "output_type": "stream",
     "text": [
      "Epoch 1/30\n",
      "32/32 [==============================] - 1s 17ms/step - loss: 2.2036 - accuracy: 0.2060\n",
      "Epoch 2/30\n",
      "32/32 [==============================] - 1s 20ms/step - loss: 1.7128 - accuracy: 0.3770\n",
      "Epoch 3/30\n",
      "32/32 [==============================] - 1s 17ms/step - loss: 1.1058 - accuracy: 0.6340\n",
      "Epoch 4/30\n",
      "32/32 [==============================] - 1s 16ms/step - loss: 0.7696 - accuracy: 0.7310\n",
      "Epoch 5/30\n",
      "32/32 [==============================] - 1s 19ms/step - loss: 0.5729 - accuracy: 0.8210\n",
      "Epoch 6/30\n",
      "32/32 [==============================] - 0s 15ms/step - loss: 0.4356 - accuracy: 0.8800\n",
      "Epoch 7/30\n",
      "32/32 [==============================] - 0s 15ms/step - loss: 0.3331 - accuracy: 0.9090\n",
      "Epoch 8/30\n",
      "32/32 [==============================] - 0s 15ms/step - loss: 0.2705 - accuracy: 0.9290\n",
      "Epoch 9/30\n",
      "32/32 [==============================] - 1s 20ms/step - loss: 0.2526 - accuracy: 0.9280\n",
      "Epoch 10/30\n",
      "32/32 [==============================] - 1s 19ms/step - loss: 0.2211 - accuracy: 0.9450\n",
      "Epoch 11/30\n",
      "32/32 [==============================] - 0s 15ms/step - loss: 0.1765 - accuracy: 0.9530\n",
      "Epoch 12/30\n",
      "32/32 [==============================] - 1s 16ms/step - loss: 0.1675 - accuracy: 0.9560\n",
      "Epoch 13/30\n",
      "32/32 [==============================] - 1s 21ms/step - loss: 0.1380 - accuracy: 0.9600\n",
      "Epoch 14/30\n",
      "32/32 [==============================] - 1s 20ms/step - loss: 0.1047 - accuracy: 0.9700\n",
      "Epoch 15/30\n",
      "32/32 [==============================] - 1s 20ms/step - loss: 0.0969 - accuracy: 0.9720\n",
      "Epoch 16/30\n",
      "32/32 [==============================] - 1s 20ms/step - loss: 0.0692 - accuracy: 0.9850\n",
      "Epoch 17/30\n",
      "32/32 [==============================] - 1s 18ms/step - loss: 0.0664 - accuracy: 0.9800\n",
      "Epoch 18/30\n",
      "32/32 [==============================] - 1s 18ms/step - loss: 0.0585 - accuracy: 0.9840\n",
      "Epoch 19/30\n",
      "32/32 [==============================] - 1s 22ms/step - loss: 0.0508 - accuracy: 0.9860\n",
      "Epoch 20/30\n",
      "32/32 [==============================] - 1s 19ms/step - loss: 0.0282 - accuracy: 0.9970\n",
      "Epoch 21/30\n",
      "32/32 [==============================] - 1s 18ms/step - loss: 0.0227 - accuracy: 0.9970\n",
      "Epoch 22/30\n",
      "32/32 [==============================] - 1s 21ms/step - loss: 0.0167 - accuracy: 0.9970\n",
      "Epoch 23/30\n",
      "32/32 [==============================] - 1s 20ms/step - loss: 0.0141 - accuracy: 0.9990\n",
      "Epoch 24/30\n",
      "32/32 [==============================] - 1s 20ms/step - loss: 0.0127 - accuracy: 0.9990\n",
      "Epoch 25/30\n",
      "32/32 [==============================] - 1s 22ms/step - loss: 0.0109 - accuracy: 0.9990\n",
      "Epoch 26/30\n",
      "32/32 [==============================] - 1s 21ms/step - loss: 0.0095 - accuracy: 0.9990\n",
      "Epoch 27/30\n",
      "32/32 [==============================] - 1s 18ms/step - loss: 0.0087 - accuracy: 0.9990\n",
      "Epoch 28/30\n",
      "32/32 [==============================] - 1s 21ms/step - loss: 0.0084 - accuracy: 0.9990\n",
      "Epoch 29/30\n",
      "32/32 [==============================] - 1s 18ms/step - loss: 0.0074 - accuracy: 0.9990\n",
      "Epoch 30/30\n",
      "32/32 [==============================] - 1s 19ms/step - loss: 0.0082 - accuracy: 0.9990\n"
     ]
    },
    {
     "data": {
      "text/plain": [
       "<tensorflow.python.keras.callbacks.History at 0x7fac686ad9d0>"
      ]
     },
     "execution_count": 26,
     "metadata": {},
     "output_type": "execute_result"
    }
   ],
   "source": [
    "base_classifier.compile(loss=\"sparse_categorical_crossentropy\", \n",
    "                 optimizer=\"adam\", \n",
    "                 metrics=[\"accuracy\"])\n",
    "\n",
    "base_classifier.fit(x_labeled, y_labeled, batch_size=32, epochs=30, verbose=1)"
   ]
  },
  {
   "cell_type": "code",
   "execution_count": 27,
   "metadata": {},
   "outputs": [
    {
     "name": "stdout",
     "output_type": "stream",
     "text": [
      "              precision    recall  f1-score   support\n",
      "\n",
      "           0       0.95      0.95      0.95       980\n",
      "           1       0.95      0.97      0.96      1135\n",
      "           2       0.90      0.87      0.88      1032\n",
      "           3       0.86      0.83      0.84      1010\n",
      "           4       0.92      0.90      0.91       982\n",
      "           5       0.80      0.88      0.84       892\n",
      "           6       0.94      0.91      0.92       958\n",
      "           7       0.84      0.90      0.87      1028\n",
      "           8       0.88      0.78      0.83       974\n",
      "           9       0.83      0.87      0.85      1009\n",
      "\n",
      "    accuracy                           0.89     10000\n",
      "   macro avg       0.89      0.89      0.89     10000\n",
      "weighted avg       0.89      0.89      0.89     10000\n",
      "\n"
     ]
    }
   ],
   "source": [
    "y_pred = base_classifier.predict(x_test_sample)\n",
    "\n",
    "report = classification_report(y_test_sample, np.argmax(y_pred, axis=1))\n",
    "print(report)"
   ]
  },
  {
   "cell_type": "code",
   "execution_count": null,
   "metadata": {},
   "outputs": [],
   "source": []
  }
 ],
 "metadata": {
  "kernelspec": {
   "display_name": "Python [conda env:deeplearning]",
   "language": "python",
   "name": "conda-env-deeplearning-py"
  },
  "language_info": {
   "codemirror_mode": {
    "name": "ipython",
    "version": 3
   },
   "file_extension": ".py",
   "mimetype": "text/x-python",
   "name": "python",
   "nbconvert_exporter": "python",
   "pygments_lexer": "ipython3",
   "version": "3.8.5"
  }
 },
 "nbformat": 4,
 "nbformat_minor": 4
}
